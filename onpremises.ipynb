{
  "cells": [
    {
      "cell_type": "markdown",
      "metadata": {
<<<<<<< HEAD
=======
        "id": "view-in-github",
        "colab_type": "text"
      },
      "source": [
        "<a href=\"https://colab.research.google.com/github/eliasedwin7/DTS_Final_Flights/blob/main/onpremises.ipynb\" target=\"_parent\"><img src=\"https://colab.research.google.com/assets/colab-badge.svg\" alt=\"Open In Colab\"/></a>"
      ]
    },
    {
      "cell_type": "markdown",
      "metadata": {
>>>>>>> 0ee1ced983769f85ddaa9156bf3fcfa73eaae5ed
        "id": "BJalepKEGcd3"
      },
      "source": [
        "# Problem: Predicting Airplane Delays\n",
        "\n",
        "The goals of this notebook are:\n",
        "- Process and create a dataset from downloaded ZIP files\n",
        "- Exploratory data analysis (EDA)\n",
        "- Establish a baseline model and improve it\n",
        "\n",
        "## Introduction to business scenario\n",
        "You work for a travel booking website that is working to improve the customer experience for flights that were delayed. The company wants to create a feature to let customers know if the flight will be delayed due to weather when the customers are booking the flight to or from the busiest airports for domestic travel in the US.\n",
        "\n",
        "You are tasked with solving part of this problem by leveraging machine learning to identify whether the flight will be delayed due to weather. You have been given access to the a dataset of on-time performance of domestic flights operated by large air carriers. You can use this data to train a machine learning model to predict if the flight is going to be delayed for the busiest airports.\n",
        "\n",
        "### Dataset\n",
        "The provided dataset contains scheduled and actual departure and arrival times reported by certified US air carriers that account for at least 1 percent of domestic scheduled passenger revenues. The data was collected by the Office of Airline Information, Bureau of Transportation Statistics (BTS). The dataset contains date, time, origin, destination, airline, distance, and delay status of flights for flights between 2014 and 2018.\n",
        "The data are in 60 compressed files, where each file contains a CSV for the flight details in a month for the five years (from 2014 - 2018). The data can be downloaded from this link: [https://ucstaff-my.sharepoint.com/:f:/g/personal/ibrahim_radwan_canberra_edu_au/Er0nVreXmihEmtMz5qC5kVIB81-ugSusExPYdcyQTglfLg?e=bNO312]. Please download the data files and place them on a relative path. Dataset(s) used in this assignment were compiled by the Office of Airline Information, Bureau of Transportation Statistics (BTS), Airline On-Time Performance Data, available with the following link: [https://www.transtats.bts.gov/Fields.asp?gnoyr_VQ=FGJ]."
      ]
    },
    {
      "cell_type": "markdown",
      "metadata": {
        "id": "koMaWxsYGcd8"
      },
      "source": [
        "# Step 1: Problem formulation and data collection\n",
        "\n",
        "Start this project off by writing a few sentences below that summarize the business problem and the business goal you're trying to achieve in this scenario. Include a business metric you would like your team to aspire toward. With that information defined, clearly write out the machine learning problem statement. Finally, add a comment or two about the type of machine learning this represents.\n",
        "\n",
        "\n",
        "### 1. Determine if and why ML is an appropriate solution to deploy."
      ]
    },
    {
      "cell_type": "markdown",
      "source": [
        "Machine Learning (ML) is an appropriate solution for this problem for several reasons:\n",
        "\n",
        "- **Volume of Data:** Given the extensive amount of flight data available from 2014 to 2018, traditional analytical methods would be insufficient and time-consuming. ML can handle and learn from large datasets more effectively.\n",
        "- **Pattern Recognition:** Flight delays might be influenced by various factors, some of which might have complex interrelationships. ML can identify intricate patterns in data that might not be evident or even comprehensible to humans.\n",
        "- **Predictive Analysis:** The primary goal is to predict flight delays, which is inherently a forward-looking task. ML is suited for predictive tasks as it can generalize from past data to make future predictions.\n",
        "- **Improvement Over Time:** As more data becomes available, ML models can be retrained and improved, ensuring that the prediction remains relevant and accurate."
      ],
      "metadata": {
        "id": "fXGWDqJZGcd9"
      }
    },
    {
      "cell_type": "markdown",
      "metadata": {
        "id": "GMOTTTvfGcd_"
      },
      "source": [
        "### 2. Formulate the business problem, success metrics, and desired ML output."
      ]
    },
    {
      "cell_type": "markdown",
      "source": [
        "**Business Problem:**\n",
        "The travel booking website aims to enhance the customer experience by alerting them about potential flight delays due to weather conditions. This predictive insight will allow customers to make more informed decisions when booking flights.\n",
        "\n",
        "**Success Metrics:**\n",
        "- **Accuracy:** The percentage of flights for which the delay status (delayed or not delayed) is predicted correctly.\n",
        "- **False Positive Rate:** The percentage of flights that are predicted to be delayed but are not. This metric is crucial because falsely alerting a customer about a delay can lead to dissatisfaction.\n",
        "- **Customer Satisfaction:** A qualitative metric that can be gauged through feedback or surveys after implementing the prediction feature.\n",
        "\n",
        "**Desired ML Output:**\n",
        "The ML model should output the probability of a flight being delayed. Based on a chosen threshold this can be classified as \"Delayed\" or \"Not Delayed\".\n"
      ],
      "metadata": {
        "id": "Dii7wCF-Gcd_"
      }
    },
    {
      "cell_type": "markdown",
      "metadata": {
        "id": "Uc1v2i5qGceA"
      },
      "source": [
        "### 3. Identify the type of ML problem you’re dealing with."
      ]
    },
    {
      "cell_type": "markdown",
      "source": [
        "\n",
        "This is a **binary classification** problem. The objective is to classify flights into one of two categories: \"Delayed\" or \"Not Delayed\" based on various features, primarily focusing on weather conditions.\n"
      ],
      "metadata": {
        "id": "TFSToKtsGceA"
      }
    },
    {
      "cell_type": "markdown",
      "metadata": {
        "id": "LQdRycyQGceB"
      },
      "source": [
        "### Setup\n",
        "\n",
        "Now that we have decided where to focus our energy, let's set things up so you can start working on solving the problem."
      ]
    },
    {
      "cell_type": "code",
      "source": [
        "!pip install -r https://raw.githubusercontent.com/eliasedwin7/DTS_Final_Flights/main/requirement.txt"
      ],
      "metadata": {
<<<<<<< HEAD
        "colab": {
          "base_uri": "https://localhost:8080/"
        },
        "id": "xhgS4xquoVG4",
        "outputId": "8693d34d-cf00-49e6-a212-952d44a6ab0e"
      },
      "execution_count": 1,
      "outputs": [
        {
          "output_type": "stream",
          "name": "stdout",
          "text": [
            "Requirement already satisfied: pandas in /usr/local/lib/python3.10/dist-packages (from -r https://raw.githubusercontent.com/eliasedwin7/DTS_Final_Flights/main/requirement.txt (line 1)) (1.5.3)\n",
            "Requirement already satisfied: numpy in /usr/local/lib/python3.10/dist-packages (from -r https://raw.githubusercontent.com/eliasedwin7/DTS_Final_Flights/main/requirement.txt (line 2)) (1.23.5)\n",
            "Requirement already satisfied: matplotlib in /usr/local/lib/python3.10/dist-packages (from -r https://raw.githubusercontent.com/eliasedwin7/DTS_Final_Flights/main/requirement.txt (line 3)) (3.7.1)\n",
            "Requirement already satisfied: seaborn in /usr/local/lib/python3.10/dist-packages (from -r https://raw.githubusercontent.com/eliasedwin7/DTS_Final_Flights/main/requirement.txt (line 4)) (0.12.2)\n",
            "Requirement already satisfied: scikit-learn in /usr/local/lib/python3.10/dist-packages (from -r https://raw.githubusercontent.com/eliasedwin7/DTS_Final_Flights/main/requirement.txt (line 5)) (1.2.2)\n",
            "Requirement already satisfied: gdown in /usr/local/lib/python3.10/dist-packages (from -r https://raw.githubusercontent.com/eliasedwin7/DTS_Final_Flights/main/requirement.txt (line 6)) (4.6.6)\n",
            "Requirement already satisfied: xgboost in /usr/local/lib/python3.10/dist-packages (from -r https://raw.githubusercontent.com/eliasedwin7/DTS_Final_Flights/main/requirement.txt (line 7)) (2.0.1)\n",
            "Requirement already satisfied: tqdm in /usr/local/lib/python3.10/dist-packages (from -r https://raw.githubusercontent.com/eliasedwin7/DTS_Final_Flights/main/requirement.txt (line 8)) (4.66.1)\n",
            "Requirement already satisfied: python-dateutil>=2.8.1 in /usr/local/lib/python3.10/dist-packages (from pandas->-r https://raw.githubusercontent.com/eliasedwin7/DTS_Final_Flights/main/requirement.txt (line 1)) (2.8.2)\n",
            "Requirement already satisfied: pytz>=2020.1 in /usr/local/lib/python3.10/dist-packages (from pandas->-r https://raw.githubusercontent.com/eliasedwin7/DTS_Final_Flights/main/requirement.txt (line 1)) (2023.3.post1)\n",
            "Requirement already satisfied: contourpy>=1.0.1 in /usr/local/lib/python3.10/dist-packages (from matplotlib->-r https://raw.githubusercontent.com/eliasedwin7/DTS_Final_Flights/main/requirement.txt (line 3)) (1.1.1)\n",
            "Requirement already satisfied: cycler>=0.10 in /usr/local/lib/python3.10/dist-packages (from matplotlib->-r https://raw.githubusercontent.com/eliasedwin7/DTS_Final_Flights/main/requirement.txt (line 3)) (0.12.1)\n",
            "Requirement already satisfied: fonttools>=4.22.0 in /usr/local/lib/python3.10/dist-packages (from matplotlib->-r https://raw.githubusercontent.com/eliasedwin7/DTS_Final_Flights/main/requirement.txt (line 3)) (4.43.1)\n",
            "Requirement already satisfied: kiwisolver>=1.0.1 in /usr/local/lib/python3.10/dist-packages (from matplotlib->-r https://raw.githubusercontent.com/eliasedwin7/DTS_Final_Flights/main/requirement.txt (line 3)) (1.4.5)\n",
            "Requirement already satisfied: packaging>=20.0 in /usr/local/lib/python3.10/dist-packages (from matplotlib->-r https://raw.githubusercontent.com/eliasedwin7/DTS_Final_Flights/main/requirement.txt (line 3)) (23.2)\n",
            "Requirement already satisfied: pillow>=6.2.0 in /usr/local/lib/python3.10/dist-packages (from matplotlib->-r https://raw.githubusercontent.com/eliasedwin7/DTS_Final_Flights/main/requirement.txt (line 3)) (9.4.0)\n",
            "Requirement already satisfied: pyparsing>=2.3.1 in /usr/local/lib/python3.10/dist-packages (from matplotlib->-r https://raw.githubusercontent.com/eliasedwin7/DTS_Final_Flights/main/requirement.txt (line 3)) (3.1.1)\n",
            "Requirement already satisfied: scipy>=1.3.2 in /usr/local/lib/python3.10/dist-packages (from scikit-learn->-r https://raw.githubusercontent.com/eliasedwin7/DTS_Final_Flights/main/requirement.txt (line 5)) (1.11.3)\n",
            "Requirement already satisfied: joblib>=1.1.1 in /usr/local/lib/python3.10/dist-packages (from scikit-learn->-r https://raw.githubusercontent.com/eliasedwin7/DTS_Final_Flights/main/requirement.txt (line 5)) (1.3.2)\n",
            "Requirement already satisfied: threadpoolctl>=2.0.0 in /usr/local/lib/python3.10/dist-packages (from scikit-learn->-r https://raw.githubusercontent.com/eliasedwin7/DTS_Final_Flights/main/requirement.txt (line 5)) (3.2.0)\n",
            "Requirement already satisfied: filelock in /usr/local/lib/python3.10/dist-packages (from gdown->-r https://raw.githubusercontent.com/eliasedwin7/DTS_Final_Flights/main/requirement.txt (line 6)) (3.12.4)\n",
            "Requirement already satisfied: requests[socks] in /usr/local/lib/python3.10/dist-packages (from gdown->-r https://raw.githubusercontent.com/eliasedwin7/DTS_Final_Flights/main/requirement.txt (line 6)) (2.31.0)\n",
            "Requirement already satisfied: six in /usr/local/lib/python3.10/dist-packages (from gdown->-r https://raw.githubusercontent.com/eliasedwin7/DTS_Final_Flights/main/requirement.txt (line 6)) (1.16.0)\n",
            "Requirement already satisfied: beautifulsoup4 in /usr/local/lib/python3.10/dist-packages (from gdown->-r https://raw.githubusercontent.com/eliasedwin7/DTS_Final_Flights/main/requirement.txt (line 6)) (4.11.2)\n",
            "Requirement already satisfied: soupsieve>1.2 in /usr/local/lib/python3.10/dist-packages (from beautifulsoup4->gdown->-r https://raw.githubusercontent.com/eliasedwin7/DTS_Final_Flights/main/requirement.txt (line 6)) (2.5)\n",
            "Requirement already satisfied: charset-normalizer<4,>=2 in /usr/local/lib/python3.10/dist-packages (from requests[socks]->gdown->-r https://raw.githubusercontent.com/eliasedwin7/DTS_Final_Flights/main/requirement.txt (line 6)) (3.3.1)\n",
            "Requirement already satisfied: idna<4,>=2.5 in /usr/local/lib/python3.10/dist-packages (from requests[socks]->gdown->-r https://raw.githubusercontent.com/eliasedwin7/DTS_Final_Flights/main/requirement.txt (line 6)) (3.4)\n",
            "Requirement already satisfied: urllib3<3,>=1.21.1 in /usr/local/lib/python3.10/dist-packages (from requests[socks]->gdown->-r https://raw.githubusercontent.com/eliasedwin7/DTS_Final_Flights/main/requirement.txt (line 6)) (2.0.7)\n",
            "Requirement already satisfied: certifi>=2017.4.17 in /usr/local/lib/python3.10/dist-packages (from requests[socks]->gdown->-r https://raw.githubusercontent.com/eliasedwin7/DTS_Final_Flights/main/requirement.txt (line 6)) (2023.7.22)\n",
            "Requirement already satisfied: PySocks!=1.5.7,>=1.5.6 in /usr/local/lib/python3.10/dist-packages (from requests[socks]->gdown->-r https://raw.githubusercontent.com/eliasedwin7/DTS_Final_Flights/main/requirement.txt (line 6)) (1.7.1)\n"
          ]
        }
      ]
    },
    {
      "cell_type": "code",
      "execution_count": 2,
=======
        "id": "xhgS4xquoVG4"
      },
      "execution_count": null,
      "outputs": []
    },
    {
      "cell_type": "code",
      "execution_count": null,
>>>>>>> 0ee1ced983769f85ddaa9156bf3fcfa73eaae5ed
      "metadata": {
        "id": "0lS5_mSHGceB"
      },
      "outputs": [],
      "source": [
        "import os\n",
        "from pathlib import Path\n",
        "from zipfile import ZipFile\n",
        "import time\n",
        "\n",
        "import pandas as pd\n",
        "import numpy as np\n",
        "import subprocess\n",
        "\n",
        "import matplotlib.pyplot as plt\n",
        "import seaborn as sns\n",
        "\n",
        "sns.set()\n",
        "\n",
        "import warnings\n",
        "warnings.filterwarnings('ignore')\n",
        "\n",
        "%matplotlib inline\n",
        "\n",
        "# <please add any other library or function you are aiming to import here>\n"
      ]
    },
    {
      "cell_type": "markdown",
      "metadata": {
        "id": "7__trWS4GceC"
      },
      "source": [
        "# Step 2: Data preprocessing and visualization  \n",
        "In this data preprocessing phase, you should take the opportunity to explore and visualize your data to better understand it. First, import the necessary libraries and read the data into a Pandas dataframe. After that, explore your data. Look for the shape of the dataset and explore your columns and the types of columns you're working with (numerical, categorical). Consider performing basic statistics on the features to get a sense of feature means and ranges. Take a close look at your target column and determine its distribution.\n",
        "\n",
        "### Specific questions to consider\n",
        "1. What can you deduce from the basic statistics you ran on the features?\n",
        "\n",
        "2. What can you deduce from the distributions of the target classes?\n",
        "\n",
        "3. Is there anything else you deduced from exploring the data?"
      ]
    },
    {
      "cell_type": "markdown",
      "metadata": {
        "id": "3gwQGIuiGceC"
      },
      "source": [
        "Start by bringing in the dataset from an Amazon S3 public bucket to this notebook environment."
      ]
    },
    {
      "cell_type": "code",
      "source": [
        "#!pip install gdown\n",
        "import gdown\n",
        "\n",
        "url = 'https://drive.google.com/uc?id=1QIG122Pb-h1Z2AFt4M-QHzecIxtgfLEt'\n",
        "output = 'data.zip'\n",
        "gdown.download(url, output, quiet=False)\n",
        "!unzip data.zip\n"
      ],
      "metadata": {
        "colab": {
          "base_uri": "https://localhost:8080/"
        },
        "id": "j6wbR6sfI4mJ",
<<<<<<< HEAD
        "outputId": "2a3a3a46-bb41-482e-903a-c4e7aa5ef03c"
      },
      "execution_count": 3,
=======
        "outputId": "8d5dc4fa-c6bb-4785-e71e-c76b282701b8"
      },
      "execution_count": null,
>>>>>>> 0ee1ced983769f85ddaa9156bf3fcfa73eaae5ed
      "outputs": [
        {
          "output_type": "stream",
          "name": "stderr",
          "text": [
            "Downloading...\n",
            "From: https://drive.google.com/uc?id=1QIG122Pb-h1Z2AFt4M-QHzecIxtgfLEt\n",
            "To: /content/data.zip\n",
<<<<<<< HEAD
            "100%|██████████| 1.53G/1.53G [00:14<00:00, 108MB/s]\n"
=======
            "100%|██████████| 1.53G/1.53G [00:18<00:00, 80.9MB/s]\n"
>>>>>>> 0ee1ced983769f85ddaa9156bf3fcfa73eaae5ed
          ]
        },
        {
          "output_type": "stream",
          "name": "stdout",
          "text": [
            "Archive:  data.zip\n",
<<<<<<< HEAD
            "replace data_compressed/On_Time_Reporting_Carrier_On_Time_Performance_1987_present_2014_1.zip? [y]es, [n]o, [A]ll, [N]one, [r]ename: A\n",
=======
>>>>>>> 0ee1ced983769f85ddaa9156bf3fcfa73eaae5ed
            " extracting: data_compressed/On_Time_Reporting_Carrier_On_Time_Performance_1987_present_2014_1.zip  \n",
            " extracting: data_compressed/On_Time_Reporting_Carrier_On_Time_Performance_1987_present_2014_10.zip  \n",
            " extracting: data_compressed/On_Time_Reporting_Carrier_On_Time_Performance_1987_present_2014_11.zip  \n",
            " extracting: data_compressed/On_Time_Reporting_Carrier_On_Time_Performance_1987_present_2014_12.zip  \n",
            " extracting: data_compressed/On_Time_Reporting_Carrier_On_Time_Performance_1987_present_2014_2.zip  \n",
            " extracting: data_compressed/On_Time_Reporting_Carrier_On_Time_Performance_1987_present_2014_3.zip  \n",
            " extracting: data_compressed/On_Time_Reporting_Carrier_On_Time_Performance_1987_present_2014_4.zip  \n",
            " extracting: data_compressed/On_Time_Reporting_Carrier_On_Time_Performance_1987_present_2014_5.zip  \n",
            " extracting: data_compressed/On_Time_Reporting_Carrier_On_Time_Performance_1987_present_2014_6.zip  \n",
            " extracting: data_compressed/On_Time_Reporting_Carrier_On_Time_Performance_1987_present_2014_7.zip  \n",
            " extracting: data_compressed/On_Time_Reporting_Carrier_On_Time_Performance_1987_present_2014_8.zip  \n",
            " extracting: data_compressed/On_Time_Reporting_Carrier_On_Time_Performance_1987_present_2014_9.zip  \n",
            " extracting: data_compressed/On_Time_Reporting_Carrier_On_Time_Performance_1987_present_2015_1.zip  \n",
            " extracting: data_compressed/On_Time_Reporting_Carrier_On_Time_Performance_1987_present_2015_10.zip  \n",
            " extracting: data_compressed/On_Time_Reporting_Carrier_On_Time_Performance_1987_present_2015_11.zip  \n",
            " extracting: data_compressed/On_Time_Reporting_Carrier_On_Time_Performance_1987_present_2015_12.zip  \n",
            " extracting: data_compressed/On_Time_Reporting_Carrier_On_Time_Performance_1987_present_2015_2.zip  \n",
            " extracting: data_compressed/On_Time_Reporting_Carrier_On_Time_Performance_1987_present_2015_3.zip  \n",
            " extracting: data_compressed/On_Time_Reporting_Carrier_On_Time_Performance_1987_present_2015_4.zip  \n",
            " extracting: data_compressed/On_Time_Reporting_Carrier_On_Time_Performance_1987_present_2015_5.zip  \n",
            " extracting: data_compressed/On_Time_Reporting_Carrier_On_Time_Performance_1987_present_2015_6.zip  \n",
            " extracting: data_compressed/On_Time_Reporting_Carrier_On_Time_Performance_1987_present_2015_7.zip  \n",
            " extracting: data_compressed/On_Time_Reporting_Carrier_On_Time_Performance_1987_present_2015_8.zip  \n",
            " extracting: data_compressed/On_Time_Reporting_Carrier_On_Time_Performance_1987_present_2015_9.zip  \n",
            " extracting: data_compressed/On_Time_Reporting_Carrier_On_Time_Performance_1987_present_2016_1.zip  \n",
            " extracting: data_compressed/On_Time_Reporting_Carrier_On_Time_Performance_1987_present_2016_10.zip  \n",
            " extracting: data_compressed/On_Time_Reporting_Carrier_On_Time_Performance_1987_present_2016_11.zip  \n",
            " extracting: data_compressed/On_Time_Reporting_Carrier_On_Time_Performance_1987_present_2016_12.zip  \n",
            " extracting: data_compressed/On_Time_Reporting_Carrier_On_Time_Performance_1987_present_2016_2.zip  \n",
            " extracting: data_compressed/On_Time_Reporting_Carrier_On_Time_Performance_1987_present_2016_3.zip  \n",
            " extracting: data_compressed/On_Time_Reporting_Carrier_On_Time_Performance_1987_present_2016_4.zip  \n",
            " extracting: data_compressed/On_Time_Reporting_Carrier_On_Time_Performance_1987_present_2016_5.zip  \n",
            " extracting: data_compressed/On_Time_Reporting_Carrier_On_Time_Performance_1987_present_2016_6.zip  \n",
            " extracting: data_compressed/On_Time_Reporting_Carrier_On_Time_Performance_1987_present_2016_7.zip  \n",
            " extracting: data_compressed/On_Time_Reporting_Carrier_On_Time_Performance_1987_present_2016_8.zip  \n",
            " extracting: data_compressed/On_Time_Reporting_Carrier_On_Time_Performance_1987_present_2016_9.zip  \n",
            " extracting: data_compressed/On_Time_Reporting_Carrier_On_Time_Performance_1987_present_2017_1.zip  \n",
            " extracting: data_compressed/On_Time_Reporting_Carrier_On_Time_Performance_1987_present_2017_10.zip  \n",
            " extracting: data_compressed/On_Time_Reporting_Carrier_On_Time_Performance_1987_present_2017_11.zip  \n",
            " extracting: data_compressed/On_Time_Reporting_Carrier_On_Time_Performance_1987_present_2017_12.zip  \n",
            " extracting: data_compressed/On_Time_Reporting_Carrier_On_Time_Performance_1987_present_2017_2.zip  \n",
            " extracting: data_compressed/On_Time_Reporting_Carrier_On_Time_Performance_1987_present_2017_3.zip  \n",
            " extracting: data_compressed/On_Time_Reporting_Carrier_On_Time_Performance_1987_present_2017_4.zip  \n",
            " extracting: data_compressed/On_Time_Reporting_Carrier_On_Time_Performance_1987_present_2017_5.zip  \n",
            " extracting: data_compressed/On_Time_Reporting_Carrier_On_Time_Performance_1987_present_2017_6.zip  \n",
            " extracting: data_compressed/On_Time_Reporting_Carrier_On_Time_Performance_1987_present_2017_7.zip  \n",
            " extracting: data_compressed/On_Time_Reporting_Carrier_On_Time_Performance_1987_present_2017_8.zip  \n",
            " extracting: data_compressed/On_Time_Reporting_Carrier_On_Time_Performance_1987_present_2017_9.zip  \n",
            " extracting: data_compressed/On_Time_Reporting_Carrier_On_Time_Performance_1987_present_2018_1.zip  \n",
            " extracting: data_compressed/On_Time_Reporting_Carrier_On_Time_Performance_1987_present_2018_10.zip  \n",
            " extracting: data_compressed/On_Time_Reporting_Carrier_On_Time_Performance_1987_present_2018_11.zip  \n",
            " extracting: data_compressed/On_Time_Reporting_Carrier_On_Time_Performance_1987_present_2018_12.zip  \n",
            " extracting: data_compressed/On_Time_Reporting_Carrier_On_Time_Performance_1987_present_2018_2.zip  \n",
            " extracting: data_compressed/On_Time_Reporting_Carrier_On_Time_Performance_1987_present_2018_3.zip  \n",
            " extracting: data_compressed/On_Time_Reporting_Carrier_On_Time_Performance_1987_present_2018_4.zip  \n",
            " extracting: data_compressed/On_Time_Reporting_Carrier_On_Time_Performance_1987_present_2018_5.zip  \n",
            " extracting: data_compressed/On_Time_Reporting_Carrier_On_Time_Performance_1987_present_2018_6.zip  \n",
            " extracting: data_compressed/On_Time_Reporting_Carrier_On_Time_Performance_1987_present_2018_7.zip  \n",
            " extracting: data_compressed/On_Time_Reporting_Carrier_On_Time_Performance_1987_present_2018_8.zip  \n",
            " extracting: data_compressed/On_Time_Reporting_Carrier_On_Time_Performance_1987_present_2018_9.zip  \n"
          ]
        }
      ]
    },
    {
      "cell_type": "code",
<<<<<<< HEAD
      "execution_count": 10,
=======
      "execution_count": null,
>>>>>>> 0ee1ced983769f85ddaa9156bf3fcfa73eaae5ed
      "metadata": {
        "id": "R9_6Q0fQGceC"
      },
      "outputs": [],
      "source": [
        "# download the files\n",
        "\n",
        "# <note: make them all relative, absolute path is not accepted>\n",
        "zip_path = 'data_compressed'\n",
        "base_path = ''\n",
        "csv_base_path = 'csv_base_path'\n",
        "\n",
        "!mkdir -p {csv_base_path}"
      ]
    },
    {
      "cell_type": "code",
<<<<<<< HEAD
      "execution_count": 11,
=======
      "execution_count": null,
>>>>>>> 0ee1ced983769f85ddaa9156bf3fcfa73eaae5ed
      "metadata": {
        "colab": {
          "base_uri": "https://localhost:8080/"
        },
        "id": "G9LYnoH7GceD",
<<<<<<< HEAD
        "outputId": "6be00739-3419-4773-b588-2b2d9938aaa7"
=======
        "outputId": "572b258c-45e5-4e97-9732-d280bdd8d5b2"
>>>>>>> 0ee1ced983769f85ddaa9156bf3fcfa73eaae5ed
      },
      "outputs": [
        {
          "output_type": "execute_result",
          "data": {
            "text/plain": [
              "60"
            ]
          },
          "metadata": {},
<<<<<<< HEAD
          "execution_count": 11
=======
          "execution_count": 4
>>>>>>> 0ee1ced983769f85ddaa9156bf3fcfa73eaae5ed
        }
      ],
      "source": [
        "# How many zip files do we have? write a code to answer it.\n",
        "import os\n",
        "\n",
        "# List all files in the specified directory\n",
        "all_files = os.listdir(zip_path)\n",
        "\n",
        "# Filter the list to only include files with a .zip extension\n",
        "zip_files = [file for file in all_files if file.endswith('.zip')]\n",
        "\n",
        "# Count the number of ZIP files\n",
        "num_zip_files = len(zip_files)\n",
        "\n",
        "num_zip_files\n"
      ]
    },
    {
      "cell_type": "markdown",
      "metadata": {
        "id": "cXFe31L9GceD"
      },
      "source": [
        "#### Extract CSV files from ZIP files"
      ]
    },
    {
      "cell_type": "code",
<<<<<<< HEAD
      "execution_count": 12,
=======
      "execution_count": null,
>>>>>>> 0ee1ced983769f85ddaa9156bf3fcfa73eaae5ed
      "metadata": {
        "scrolled": true,
        "colab": {
          "base_uri": "https://localhost:8080/"
        },
        "id": "e5L8SufGGceD",
<<<<<<< HEAD
        "outputId": "2a387947-0be8-4a58-e7a4-04197a0b8a30"
=======
        "outputId": "ed0d1fc7-2e18-4427-9c36-de9bcd807470"
>>>>>>> 0ee1ced983769f85ddaa9156bf3fcfa73eaae5ed
      },
      "outputs": [
        {
          "output_type": "stream",
          "name": "stdout",
          "text": [
            "Extracting On_Time_Reporting_Carrier_On_Time_Performance_1987_present_2016_10.zip ...\n",
            "Extracting On_Time_Reporting_Carrier_On_Time_Performance_1987_present_2015_7.zip ...\n",
            "Extracting On_Time_Reporting_Carrier_On_Time_Performance_1987_present_2014_7.zip ...\n",
            "Extracting On_Time_Reporting_Carrier_On_Time_Performance_1987_present_2016_8.zip ...\n",
            "Extracting On_Time_Reporting_Carrier_On_Time_Performance_1987_present_2017_4.zip ...\n",
            "Extracting On_Time_Reporting_Carrier_On_Time_Performance_1987_present_2015_1.zip ...\n",
            "Extracting On_Time_Reporting_Carrier_On_Time_Performance_1987_present_2017_9.zip ...\n",
            "Extracting On_Time_Reporting_Carrier_On_Time_Performance_1987_present_2016_9.zip ...\n",
            "Extracting On_Time_Reporting_Carrier_On_Time_Performance_1987_present_2015_6.zip ...\n",
            "Extracting On_Time_Reporting_Carrier_On_Time_Performance_1987_present_2018_8.zip ...\n",
            "Extracting On_Time_Reporting_Carrier_On_Time_Performance_1987_present_2017_7.zip ...\n",
            "Extracting On_Time_Reporting_Carrier_On_Time_Performance_1987_present_2014_5.zip ...\n",
            "Extracting On_Time_Reporting_Carrier_On_Time_Performance_1987_present_2014_4.zip ...\n",
            "Extracting On_Time_Reporting_Carrier_On_Time_Performance_1987_present_2016_7.zip ...\n",
            "Extracting On_Time_Reporting_Carrier_On_Time_Performance_1987_present_2018_3.zip ...\n",
            "Extracting On_Time_Reporting_Carrier_On_Time_Performance_1987_present_2014_11.zip ...\n",
            "Extracting On_Time_Reporting_Carrier_On_Time_Performance_1987_present_2016_11.zip ...\n",
            "Extracting On_Time_Reporting_Carrier_On_Time_Performance_1987_present_2015_3.zip ...\n",
            "Extracting On_Time_Reporting_Carrier_On_Time_Performance_1987_present_2016_1.zip ...\n",
            "Extracting On_Time_Reporting_Carrier_On_Time_Performance_1987_present_2015_10.zip ...\n",
            "Extracting On_Time_Reporting_Carrier_On_Time_Performance_1987_present_2017_2.zip ...\n",
            "Extracting On_Time_Reporting_Carrier_On_Time_Performance_1987_present_2018_2.zip ...\n",
            "Extracting On_Time_Reporting_Carrier_On_Time_Performance_1987_present_2017_8.zip ...\n",
            "Extracting On_Time_Reporting_Carrier_On_Time_Performance_1987_present_2015_5.zip ...\n",
            "Extracting On_Time_Reporting_Carrier_On_Time_Performance_1987_present_2018_12.zip ...\n",
            "Extracting On_Time_Reporting_Carrier_On_Time_Performance_1987_present_2016_6.zip ...\n",
            "Extracting On_Time_Reporting_Carrier_On_Time_Performance_1987_present_2017_3.zip ...\n",
            "Extracting On_Time_Reporting_Carrier_On_Time_Performance_1987_present_2016_2.zip ...\n",
            "Extracting On_Time_Reporting_Carrier_On_Time_Performance_1987_present_2017_10.zip ...\n",
            "Extracting On_Time_Reporting_Carrier_On_Time_Performance_1987_present_2017_11.zip ...\n",
            "Extracting On_Time_Reporting_Carrier_On_Time_Performance_1987_present_2015_8.zip ...\n",
            "Extracting On_Time_Reporting_Carrier_On_Time_Performance_1987_present_2017_6.zip ...\n",
            "Extracting On_Time_Reporting_Carrier_On_Time_Performance_1987_present_2018_5.zip ...\n",
            "Extracting On_Time_Reporting_Carrier_On_Time_Performance_1987_present_2018_9.zip ...\n",
            "Extracting On_Time_Reporting_Carrier_On_Time_Performance_1987_present_2014_2.zip ...\n",
            "Extracting On_Time_Reporting_Carrier_On_Time_Performance_1987_present_2015_11.zip ...\n",
            "Extracting On_Time_Reporting_Carrier_On_Time_Performance_1987_present_2014_1.zip ...\n",
            "Extracting On_Time_Reporting_Carrier_On_Time_Performance_1987_present_2014_8.zip ...\n",
            "Extracting On_Time_Reporting_Carrier_On_Time_Performance_1987_present_2016_4.zip ...\n",
            "Extracting On_Time_Reporting_Carrier_On_Time_Performance_1987_present_2018_1.zip ...\n",
            "Extracting On_Time_Reporting_Carrier_On_Time_Performance_1987_present_2014_6.zip ...\n",
            "Extracting On_Time_Reporting_Carrier_On_Time_Performance_1987_present_2018_4.zip ...\n",
            "Extracting On_Time_Reporting_Carrier_On_Time_Performance_1987_present_2015_2.zip ...\n",
            "Extracting On_Time_Reporting_Carrier_On_Time_Performance_1987_present_2014_12.zip ...\n",
            "Extracting On_Time_Reporting_Carrier_On_Time_Performance_1987_present_2017_5.zip ...\n",
            "Extracting On_Time_Reporting_Carrier_On_Time_Performance_1987_present_2015_9.zip ...\n",
            "Extracting On_Time_Reporting_Carrier_On_Time_Performance_1987_present_2018_7.zip ...\n",
            "Extracting On_Time_Reporting_Carrier_On_Time_Performance_1987_present_2014_9.zip ...\n",
            "Extracting On_Time_Reporting_Carrier_On_Time_Performance_1987_present_2014_3.zip ...\n",
            "Extracting On_Time_Reporting_Carrier_On_Time_Performance_1987_present_2018_10.zip ...\n",
            "Extracting On_Time_Reporting_Carrier_On_Time_Performance_1987_present_2016_5.zip ...\n",
            "Extracting On_Time_Reporting_Carrier_On_Time_Performance_1987_present_2016_12.zip ...\n",
            "Extracting On_Time_Reporting_Carrier_On_Time_Performance_1987_present_2017_12.zip ...\n",
            "Extracting On_Time_Reporting_Carrier_On_Time_Performance_1987_present_2015_12.zip ...\n",
            "Extracting On_Time_Reporting_Carrier_On_Time_Performance_1987_present_2018_11.zip ...\n",
            "Extracting On_Time_Reporting_Carrier_On_Time_Performance_1987_present_2018_6.zip ...\n",
            "Extracting On_Time_Reporting_Carrier_On_Time_Performance_1987_present_2015_4.zip ...\n",
            "Extracting On_Time_Reporting_Carrier_On_Time_Performance_1987_present_2014_10.zip ...\n",
            "Extracting On_Time_Reporting_Carrier_On_Time_Performance_1987_present_2016_3.zip ...\n",
            "Extracting On_Time_Reporting_Carrier_On_Time_Performance_1987_present_2017_1.zip ...\n",
            "Files Extracted\n"
          ]
        }
      ],
      "source": [
        "from zipfile import ZipFile\n",
        "\n",
        "def zip2csv(zipFile_name, file_path, base_path):\n",
        "    \"\"\"\n",
        "    Extract csv from zip files\n",
        "    zipFile_name: name of the zip file\n",
        "    file_path : name of the folder to store csv\n",
        "    base_path : path where the zip files are stored\n",
        "    \"\"\"\n",
        "    full_zip_path = os.path.join(base_path, zipFile_name)\n",
        "\n",
        "    try:\n",
        "        with ZipFile(full_zip_path, 'r') as z:\n",
        "            print(f'Extracting {zipFile_name} ...')\n",
        "            z.extractall(path=file_path)\n",
        "    except:\n",
        "        print(f'zip2csv failed for {zipFile_name}')\n",
        "\n",
        "# Ensure the zip_files list is populated\n",
        "all_files = os.listdir(zip_path)\n",
        "zip_files = [file for file in all_files if file.endswith('.zip')]\n",
        "\n",
        "for file in zip_files:\n",
        "    zip2csv(file, csv_base_path, zip_path)\n",
        "\n",
        "print(\"Files Extracted\")\n",
        "\n"
      ]
    },
    {
      "cell_type": "code",
<<<<<<< HEAD
      "execution_count": 13,
=======
      "execution_count": null,
>>>>>>> 0ee1ced983769f85ddaa9156bf3fcfa73eaae5ed
      "metadata": {
        "colab": {
          "base_uri": "https://localhost:8080/"
        },
        "id": "Y7GLcVKbGceE",
<<<<<<< HEAD
        "outputId": "a066c148-0c3c-4e2e-c596-d4df70ec1fe4"
=======
        "outputId": "6f55630b-699b-434e-8754-d950cb82a101"
>>>>>>> 0ee1ced983769f85ddaa9156bf3fcfa73eaae5ed
      },
      "outputs": [
        {
          "output_type": "execute_result",
          "data": {
            "text/plain": [
              "60"
            ]
          },
          "metadata": {},
<<<<<<< HEAD
          "execution_count": 13
=======
          "execution_count": 6
>>>>>>> 0ee1ced983769f85ddaa9156bf3fcfa73eaae5ed
        }
      ],
      "source": [
        "# How many csv files have we extracted? write a code to answer it.\n",
        "# List all files in the specified directory\n",
        "all_csv_files = os.listdir(csv_base_path)\n",
        "\n",
        "# Filter the list to only include files with a .csv extension\n",
        "csv_files = [file for file in all_csv_files if file.endswith('.csv')]\n",
        "\n",
        "# Count the number of CSV files\n",
        "num_csv_files = len(csv_files)\n",
        "\n",
        "num_csv_files\n"
      ]
    },
    {
      "cell_type": "markdown",
      "metadata": {
        "id": "CvyYlF7yGceE"
      },
      "source": [
        "Before loading the CSV file, read the HTML file from the extracted folder. This HTML file includes the background and more information on the features included in the dataset."
      ]
    },
    {
      "cell_type": "code",
<<<<<<< HEAD
      "execution_count": 14,
=======
      "execution_count": null,
>>>>>>> 0ee1ced983769f85ddaa9156bf3fcfa73eaae5ed
      "metadata": {
        "colab": {
          "base_uri": "https://localhost:8080/",
          "height": 1000
        },
        "id": "4fBlQ0OaGceE",
<<<<<<< HEAD
        "outputId": "81b02756-705c-40b3-d25e-57da366c9703"
=======
        "outputId": "22c808d7-afc8-40a1-c604-30c363410e0a"
>>>>>>> 0ee1ced983769f85ddaa9156bf3fcfa73eaae5ed
      },
      "outputs": [
        {
          "output_type": "display_data",
          "data": {
            "text/plain": [
              "<IPython.core.display.HTML object>"
            ],
            "text/html": [
              "<HTML>\n",
              "<HEAD>\n",
              "\t<TITLE> readme.html </TITLE>\n",
              "</HEAD>\n",
              "<BODY>\n",
              "\t<TABLE><TR><TD COLSPAN=2><H4>BACKGROUND</H4></TD></TR>\n",
              "\t<TR><TD COLSPAN=2>The data contained in the compressed file has been extracted from the \n",
              "\tReporting Carrier On-Time Performance (1987-present) data table of the \"On-Time\" database from the TranStats data library. \n",
              "\tThe time period is indicated in the name of the compressed file; \n",
              "\tfor example, XXX_XXXXX_2001_1 contains data of the first month of the year 2001. </TD></TR>\n",
              "\t<TR><TD COLSPAN=2>&nbsp;</TD></TR>\n",
              "\t<TR><TD COLSPAN=2><H4>RECORD LAYOUT</H4></TD></TR>\n",
              "\t<TR><TD COLSPAN=2>Below are fields in the order that they appear on the records:</TD></TR>\n",
              "\t<TR><TD>Year</TD><TD>Year</TD></TR>\n",
              "\t<TR><TD>Quarter</TD><TD>Quarter (1-4)</TD></TR>\n",
              "\t<TR><TD>Month</TD><TD>Month</TD></TR>\n",
              "\t<TR><TD>DayofMonth</TD><TD>Day of Month</TD></TR>\n",
              "\t<TR><TD>DayOfWeek</TD><TD>Day of Week</TD></TR>\n",
              "\t<TR><TD>FlightDate</TD><TD>Flight Date (yyyymmdd)</TD></TR>\n",
              "\t<TR><TD>Reporting_Airline</TD><TD>Unique Carrier Code. When the same code has been used by multiple carriers, a numeric suffix is used for earlier users, for example, PA, PA(1), PA(2). Use this field for analysis across a range of years.</TD></TR>\n",
              "\t<TR><TD>DOT_ID_Reporting_Airline</TD><TD>An identification number assigned by US DOT to identify a unique airline (carrier). A unique airline (carrier) is defined as one holding and reporting under the same DOT certificate regardless of its Code, Name, or holding company/corporation.</TD></TR>\n",
              "\t<TR><TD>IATA_CODE_Reporting_Airline</TD><TD>Code assigned by IATA and commonly used to identify a carrier. As the same code may have been assigned to different carriers over time, the code is not always unique. For analysis, use the Unique Carrier Code.</TD></TR>\n",
              "\t<TR><TD>Tail_Number</TD><TD>Tail Number</TD></TR>\n",
              "\t<TR><TD>Flight_Number_Reporting_Airline</TD><TD>Flight Number</TD></TR>\n",
              "\t<TR><TD>OriginAirportID</TD><TD>Origin Airport, Airport ID. An identification number assigned by US DOT to identify a unique airport.  Use this field for airport analysis across a range of years because an airport can change its airport code and airport codes can be reused.</TD></TR>\n",
              "\t<TR><TD>OriginAirportSeqID</TD><TD>Origin Airport, Airport Sequence ID. An identification number assigned by US DOT to identify a unique airport at a given point of time.  Airport attributes, such as airport name or coordinates, may change over time.</TD></TR>\n",
              "\t<TR><TD>OriginCityMarketID</TD><TD>Origin Airport, City Market ID. City Market ID is an identification number assigned by US DOT to identify a city market.  Use this field to consolidate airports serving the same city market.</TD></TR>\n",
              "\t<TR><TD>Origin</TD><TD>Origin Airport</TD></TR>\n",
              "\t<TR><TD>OriginCityName</TD><TD>Origin Airport, City Name</TD></TR>\n",
              "\t<TR><TD>OriginState</TD><TD>Origin Airport, State Code</TD></TR>\n",
              "\t<TR><TD>OriginStateFips</TD><TD>Origin Airport, State Fips</TD></TR>\n",
              "\t<TR><TD>OriginStateName</TD><TD>Origin Airport, State Name</TD></TR>\n",
              "\t<TR><TD>OriginWac</TD><TD>Origin Airport, World Area Code</TD></TR>\n",
              "\t<TR><TD>DestAirportID</TD><TD>Destination Airport, Airport ID. An identification number assigned by US DOT to identify a unique airport.  Use this field for airport analysis across a range of years because an airport can change its airport code and airport codes can be reused.</TD></TR>\n",
              "\t<TR><TD>DestAirportSeqID</TD><TD>Destination Airport, Airport Sequence ID. An identification number assigned by US DOT to identify a unique airport at a given point of time.  Airport attributes, such as airport name or coordinates, may change over time.</TD></TR>\n",
              "\t<TR><TD>DestCityMarketID</TD><TD>Destination Airport, City Market ID. City Market ID is an identification number assigned by US DOT to identify a city market.  Use this field to consolidate airports serving the same city market.</TD></TR>\n",
              "\t<TR><TD>Dest</TD><TD>Destination Airport</TD></TR>\n",
              "\t<TR><TD>DestCityName</TD><TD>Destination Airport, City Name</TD></TR>\n",
              "\t<TR><TD>DestState</TD><TD>Destination Airport, State Code</TD></TR>\n",
              "\t<TR><TD>DestStateFips</TD><TD>Destination Airport, State Fips</TD></TR>\n",
              "\t<TR><TD>DestStateName</TD><TD>Destination Airport, State Name</TD></TR>\n",
              "\t<TR><TD>DestWac</TD><TD>Destination Airport, World Area Code</TD></TR>\n",
              "\t<TR><TD>CRSDepTime</TD><TD>CRS Departure Time (local time: hhmm)</TD></TR>\n",
              "\t<TR><TD>DepTime</TD><TD>Actual Departure Time (local time: hhmm)</TD></TR>\n",
              "\t<TR><TD>DepDelay</TD><TD>Difference in minutes between scheduled and actual departure time. Early departures show negative numbers.</TD></TR>\n",
              "\t<TR><TD>DepDelayMinutes</TD><TD>Difference in minutes between scheduled and actual departure time. Early departures set to 0.</TD></TR>\n",
              "\t<TR><TD>DepDel15</TD><TD>Departure Delay Indicator, 15 Minutes or More (1=Yes)</TD></TR>\n",
              "\t<TR><TD>DepartureDelayGroups</TD><TD>Departure Delay intervals, every (15 minutes from <-15 to >180)</TD></TR>\n",
              "\t<TR><TD>DepTimeBlk</TD><TD>CRS Departure Time Block, Hourly Intervals</TD></TR>\n",
              "\t<TR><TD>TaxiOut</TD><TD>Taxi Out Time, in Minutes</TD></TR>\n",
              "\t<TR><TD>WheelsOff</TD><TD>Wheels Off Time (local time: hhmm)</TD></TR>\n",
              "\t<TR><TD>WheelsOn</TD><TD>Wheels On Time (local time: hhmm)</TD></TR>\n",
              "\t<TR><TD>TaxiIn</TD><TD>Taxi In Time, in Minutes</TD></TR>\n",
              "\t<TR><TD>CRSArrTime</TD><TD>CRS Arrival Time (local time: hhmm)</TD></TR>\n",
              "\t<TR><TD>ArrTime</TD><TD>Actual Arrival Time (local time: hhmm)</TD></TR>\n",
              "\t<TR><TD>ArrDelay</TD><TD>Difference in minutes between scheduled and actual arrival time. Early arrivals show negative numbers.</TD></TR>\n",
              "\t<TR><TD>ArrDelayMinutes</TD><TD>Difference in minutes between scheduled and actual arrival time. Early arrivals set to 0.</TD></TR>\n",
              "\t<TR><TD>ArrDel15</TD><TD>Arrival Delay Indicator, 15 Minutes or More (1=Yes)</TD></TR>\n",
              "\t<TR><TD>ArrivalDelayGroups</TD><TD>Arrival Delay intervals, every (15-minutes from <-15 to >180)</TD></TR>\n",
              "\t<TR><TD>ArrTimeBlk</TD><TD>CRS Arrival Time Block, Hourly Intervals</TD></TR>\n",
              "\t<TR><TD>Cancelled</TD><TD>Cancelled Flight Indicator (1=Yes)</TD></TR>\n",
              "\t<TR><TD>CancellationCode</TD><TD>Specifies The Reason For Cancellation</TD></TR>\n",
              "\t<TR><TD>Diverted</TD><TD>Diverted Flight Indicator (1=Yes)</TD></TR>\n",
              "\t<TR><TD>CRSElapsedTime</TD><TD>CRS Elapsed Time of Flight, in Minutes</TD></TR>\n",
              "\t<TR><TD>ActualElapsedTime</TD><TD>Elapsed Time of Flight, in Minutes</TD></TR>\n",
              "\t<TR><TD>AirTime</TD><TD>Flight Time, in Minutes</TD></TR>\n",
              "\t<TR><TD>Flights</TD><TD>Number of Flights</TD></TR>\n",
              "\t<TR><TD>Distance</TD><TD>Distance between airports (miles)</TD></TR>\n",
              "\t<TR><TD>DistanceGroup</TD><TD>Distance Intervals, every 250 Miles, for Flight Segment</TD></TR>\n",
              "\t<TR><TD>CarrierDelay</TD><TD>Carrier Delay, in Minutes</TD></TR>\n",
              "\t<TR><TD>WeatherDelay</TD><TD>Weather Delay, in Minutes</TD></TR>\n",
              "\t<TR><TD>NASDelay</TD><TD>National Air System Delay, in Minutes</TD></TR>\n",
              "\t<TR><TD>SecurityDelay</TD><TD>Security Delay, in Minutes</TD></TR>\n",
              "\t<TR><TD>LateAircraftDelay</TD><TD>Late Aircraft Delay, in Minutes</TD></TR>\n",
              "\t<TR><TD>FirstDepTime</TD><TD>First Gate Departure Time at Origin Airport</TD></TR>\n",
              "\t<TR><TD>TotalAddGTime</TD><TD>Total Ground Time Away from Gate for Gate Return or Cancelled Flight</TD></TR>\n",
              "\t<TR><TD>LongestAddGTime</TD><TD>Longest Time Away from Gate for Gate Return or Cancelled Flight</TD></TR>\n",
              "\t<TR><TD>DivAirportLandings</TD><TD>Number of Diverted Airport Landings</TD></TR>\n",
              "\t<TR><TD>DivReachedDest</TD><TD>Diverted Flight Reaching Scheduled Destination Indicator (1=Yes)</TD></TR>\n",
              "\t<TR><TD>DivActualElapsedTime</TD><TD>Elapsed Time of Diverted Flight Reaching Scheduled Destination, in Minutes.  The ActualElapsedTime column remains NULL for all diverted flights.</TD></TR>\n",
              "\t<TR><TD>DivArrDelay</TD><TD>Difference in minutes between scheduled and actual arrival time for a diverted flight reaching scheduled destination.  The ArrDelay column remains NULL for all diverted flights.</TD></TR>\n",
              "\t<TR><TD>DivDistance</TD><TD>Distance between scheduled destination and final diverted airport (miles).  Value will be 0 for diverted flight reaching scheduled destination.</TD></TR>\n",
              "\t<TR><TD>Div1Airport</TD><TD>Diverted Airport Code1</TD></TR>\n",
              "\t<TR><TD>Div1AirportID</TD><TD>Airport ID of Diverted Airport 1. Airport ID is a Unique Key for an Airport</TD></TR>\n",
              "\t<TR><TD>Div1AirportSeqID</TD><TD>Airport Sequence ID of Diverted Airport 1. Unique Key for Time Specific Information for an Airport</TD></TR>\n",
              "\t<TR><TD>Div1WheelsOn</TD><TD>Wheels On Time (local time: hhmm) at Diverted Airport Code1</TD></TR>\n",
              "\t<TR><TD>Div1TotalGTime</TD><TD>Total Ground Time Away from Gate at Diverted Airport Code1</TD></TR>\n",
              "\t<TR><TD>Div1LongestGTime</TD><TD>Longest Ground Time Away from Gate at Diverted Airport Code1</TD></TR>\n",
              "\t<TR><TD>Div1WheelsOff</TD><TD>Wheels Off Time (local time: hhmm) at Diverted Airport Code1</TD></TR>\n",
              "\t<TR><TD>Div1TailNum</TD><TD>Aircraft Tail Number for Diverted Airport Code1</TD></TR>\n",
              "\t<TR><TD>Div2Airport</TD><TD>Diverted Airport Code2</TD></TR>\n",
              "\t<TR><TD>Div2AirportID</TD><TD>Airport ID of Diverted Airport 2. Airport ID is a Unique Key for an Airport</TD></TR>\n",
              "\t<TR><TD>Div2AirportSeqID</TD><TD>Airport Sequence ID of Diverted Airport 2. Unique Key for Time Specific Information for an Airport</TD></TR>\n",
              "\t<TR><TD>Div2WheelsOn</TD><TD>Wheels On Time (local time: hhmm) at Diverted Airport Code2</TD></TR>\n",
              "\t<TR><TD>Div2TotalGTime</TD><TD>Total Ground Time Away from Gate at Diverted Airport Code2</TD></TR>\n",
              "\t<TR><TD>Div2LongestGTime</TD><TD>Longest Ground Time Away from Gate at Diverted Airport Code2</TD></TR>\n",
              "\t<TR><TD>Div2WheelsOff</TD><TD>Wheels Off Time (local time: hhmm) at Diverted Airport Code2</TD></TR>\n",
              "\t<TR><TD>Div2TailNum</TD><TD>Aircraft Tail Number for Diverted Airport Code2</TD></TR>\n",
              "\t<TR><TD>Div3Airport</TD><TD>Diverted Airport Code3</TD></TR>\n",
              "\t<TR><TD>Div3AirportID</TD><TD>Airport ID of Diverted Airport 3. Airport ID is a Unique Key for an Airport</TD></TR>\n",
              "\t<TR><TD>Div3AirportSeqID</TD><TD>Airport Sequence ID of Diverted Airport 3. Unique Key for Time Specific Information for an Airport</TD></TR>\n",
              "\t<TR><TD>Div3WheelsOn</TD><TD>Wheels On Time (local time: hhmm) at Diverted Airport Code3</TD></TR>\n",
              "\t<TR><TD>Div3TotalGTime</TD><TD>Total Ground Time Away from Gate at Diverted Airport Code3</TD></TR>\n",
              "\t<TR><TD>Div3LongestGTime</TD><TD>Longest Ground Time Away from Gate at Diverted Airport Code3</TD></TR>\n",
              "\t<TR><TD>Div3WheelsOff</TD><TD>Wheels Off Time (local time: hhmm) at Diverted Airport Code3</TD></TR>\n",
              "\t<TR><TD>Div3TailNum</TD><TD>Aircraft Tail Number for Diverted Airport Code3</TD></TR>\n",
              "\t<TR><TD>Div4Airport</TD><TD>Diverted Airport Code4</TD></TR>\n",
              "\t<TR><TD>Div4AirportID</TD><TD>Airport ID of Diverted Airport 4. Airport ID is a Unique Key for an Airport</TD></TR>\n",
              "\t<TR><TD>Div4AirportSeqID</TD><TD>Airport Sequence ID of Diverted Airport 4. Unique Key for Time Specific Information for an Airport</TD></TR>\n",
              "\t<TR><TD>Div4WheelsOn</TD><TD>Wheels On Time (local time: hhmm) at Diverted Airport Code4</TD></TR>\n",
              "\t<TR><TD>Div4TotalGTime</TD><TD>Total Ground Time Away from Gate at Diverted Airport Code4</TD></TR>\n",
              "\t<TR><TD>Div4LongestGTime</TD><TD>Longest Ground Time Away from Gate at Diverted Airport Code4</TD></TR>\n",
              "\t<TR><TD>Div4WheelsOff</TD><TD>Wheels Off Time (local time: hhmm) at Diverted Airport Code4</TD></TR>\n",
              "\t<TR><TD>Div4TailNum</TD><TD>Aircraft Tail Number for Diverted Airport Code4</TD></TR>\n",
              "\t<TR><TD>Div5Airport</TD><TD>Diverted Airport Code5</TD></TR>\n",
              "\t<TR><TD>Div5AirportID</TD><TD>Airport ID of Diverted Airport 5. Airport ID is a Unique Key for an Airport</TD></TR>\n",
              "\t<TR><TD>Div5AirportSeqID</TD><TD>Airport Sequence ID of Diverted Airport 5. Unique Key for Time Specific Information for an Airport</TD></TR>\n",
              "\t<TR><TD>Div5WheelsOn</TD><TD>Wheels On Time (local time: hhmm) at Diverted Airport Code5</TD></TR>\n",
              "\t<TR><TD>Div5TotalGTime</TD><TD>Total Ground Time Away from Gate at Diverted Airport Code5</TD></TR>\n",
              "\t<TR><TD>Div5LongestGTime</TD><TD>Longest Ground Time Away from Gate at Diverted Airport Code5</TD></TR>\n",
              "\t<TR><TD>Div5WheelsOff</TD><TD>Wheels Off Time (local time: hhmm) at Diverted Airport Code5</TD></TR>\n",
              "\t<TR><TD>Div5TailNum</TD><TD>Aircraft Tail Number for Diverted Airport Code5</TD></TR>\n",
              "\t</TABLE>\n",
              "</BODY>\n",
              "</HTML>\n"
            ]
          },
          "metadata": {}
        }
      ],
      "source": [
        "#from IPython.display import IFrame\n",
        "#IFrame(src=os.path.relpath(f\"{csv_base_path}readme.html\"), width=1000, height=600)\n",
        "\n",
        "from IPython.core.display import display, HTML\n",
        "\n",
        "# Read the content of the HTML file\n",
        "with open(f\"{csv_base_path}/readme.html\", 'r') as file:\n",
        "    content = file.read()\n",
        "\n",
        "# Display the HTML content in the notebook\n",
        "display(HTML(content))\n"
      ]
    },
    {
      "cell_type": "markdown",
      "metadata": {
        "id": "RQjtKX97GceE"
      },
      "source": [
        "#### Load sample CSV\n",
        "\n",
        "Before combining all the CSV files, get a sense of the data from a single CSV file. Using Pandas, read the `On_Time_Reporting_Carrier_On_Time_Performance_(1987_present)_2018_9.csv` file first. You can use the Python built-in `read_csv` function ([documentation](https://pandas.pydata.org/pandas-docs/stable/reference/api/pandas.read_csv.html))."
      ]
    },
    {
      "cell_type": "code",
<<<<<<< HEAD
      "execution_count": 15,
=======
      "execution_count": null,
>>>>>>> 0ee1ced983769f85ddaa9156bf3fcfa73eaae5ed
      "metadata": {
        "colab": {
          "base_uri": "https://localhost:8080/",
          "height": 273
        },
        "id": "jTVeRh2PGceE",
<<<<<<< HEAD
        "outputId": "68de011c-7e32-4f0a-e0a3-584457ea7158"
=======
        "outputId": "fd8a5140-401c-4162-9169-e5e0b1c5c021"
>>>>>>> 0ee1ced983769f85ddaa9156bf3fcfa73eaae5ed
      },
      "outputs": [
        {
          "output_type": "execute_result",
          "data": {
            "text/plain": [
              "   Year  Quarter  Month  DayofMonth  DayOfWeek  FlightDate Reporting_Airline  \\\n",
              "0  2018        3      9           3          1  2018-09-03                9E   \n",
              "1  2018        3      9           9          7  2018-09-09                9E   \n",
              "2  2018        3      9          10          1  2018-09-10                9E   \n",
              "3  2018        3      9          13          4  2018-09-13                9E   \n",
              "4  2018        3      9          14          5  2018-09-14                9E   \n",
              "\n",
              "   DOT_ID_Reporting_Airline IATA_CODE_Reporting_Airline Tail_Number  ...  \\\n",
              "0                     20363                          9E      N908XJ  ...   \n",
              "1                     20363                          9E      N315PQ  ...   \n",
              "2                     20363                          9E      N582CA  ...   \n",
              "3                     20363                          9E      N292PQ  ...   \n",
              "4                     20363                          9E      N600LR  ...   \n",
              "\n",
              "   Div4TailNum  Div5Airport  Div5AirportID  Div5AirportSeqID Div5WheelsOn  \\\n",
              "0          NaN          NaN            NaN               NaN          NaN   \n",
              "1          NaN          NaN            NaN               NaN          NaN   \n",
              "2          NaN          NaN            NaN               NaN          NaN   \n",
              "3          NaN          NaN            NaN               NaN          NaN   \n",
              "4          NaN          NaN            NaN               NaN          NaN   \n",
              "\n",
              "  Div5TotalGTime Div5LongestGTime  Div5WheelsOff Div5TailNum  Unnamed: 109  \n",
              "0            NaN              NaN            NaN         NaN           NaN  \n",
              "1            NaN              NaN            NaN         NaN           NaN  \n",
              "2            NaN              NaN            NaN         NaN           NaN  \n",
              "3            NaN              NaN            NaN         NaN           NaN  \n",
              "4            NaN              NaN            NaN         NaN           NaN  \n",
              "\n",
              "[5 rows x 110 columns]"
            ],
            "text/html": [
              "\n",
<<<<<<< HEAD
              "  <div id=\"df-d0b95b66-e317-40f4-ba04-ea3c4de53138\" class=\"colab-df-container\">\n",
=======
              "  <div id=\"df-e874c7a6-2e10-4534-93fa-3344633b414f\" class=\"colab-df-container\">\n",
>>>>>>> 0ee1ced983769f85ddaa9156bf3fcfa73eaae5ed
              "    <div>\n",
              "<style scoped>\n",
              "    .dataframe tbody tr th:only-of-type {\n",
              "        vertical-align: middle;\n",
              "    }\n",
              "\n",
              "    .dataframe tbody tr th {\n",
              "        vertical-align: top;\n",
              "    }\n",
              "\n",
              "    .dataframe thead th {\n",
              "        text-align: right;\n",
              "    }\n",
              "</style>\n",
              "<table border=\"1\" class=\"dataframe\">\n",
              "  <thead>\n",
              "    <tr style=\"text-align: right;\">\n",
              "      <th></th>\n",
              "      <th>Year</th>\n",
              "      <th>Quarter</th>\n",
              "      <th>Month</th>\n",
              "      <th>DayofMonth</th>\n",
              "      <th>DayOfWeek</th>\n",
              "      <th>FlightDate</th>\n",
              "      <th>Reporting_Airline</th>\n",
              "      <th>DOT_ID_Reporting_Airline</th>\n",
              "      <th>IATA_CODE_Reporting_Airline</th>\n",
              "      <th>Tail_Number</th>\n",
              "      <th>...</th>\n",
              "      <th>Div4TailNum</th>\n",
              "      <th>Div5Airport</th>\n",
              "      <th>Div5AirportID</th>\n",
              "      <th>Div5AirportSeqID</th>\n",
              "      <th>Div5WheelsOn</th>\n",
              "      <th>Div5TotalGTime</th>\n",
              "      <th>Div5LongestGTime</th>\n",
              "      <th>Div5WheelsOff</th>\n",
              "      <th>Div5TailNum</th>\n",
              "      <th>Unnamed: 109</th>\n",
              "    </tr>\n",
              "  </thead>\n",
              "  <tbody>\n",
              "    <tr>\n",
              "      <th>0</th>\n",
              "      <td>2018</td>\n",
              "      <td>3</td>\n",
              "      <td>9</td>\n",
              "      <td>3</td>\n",
              "      <td>1</td>\n",
              "      <td>2018-09-03</td>\n",
              "      <td>9E</td>\n",
              "      <td>20363</td>\n",
              "      <td>9E</td>\n",
              "      <td>N908XJ</td>\n",
              "      <td>...</td>\n",
              "      <td>NaN</td>\n",
              "      <td>NaN</td>\n",
              "      <td>NaN</td>\n",
              "      <td>NaN</td>\n",
              "      <td>NaN</td>\n",
              "      <td>NaN</td>\n",
              "      <td>NaN</td>\n",
              "      <td>NaN</td>\n",
              "      <td>NaN</td>\n",
              "      <td>NaN</td>\n",
              "    </tr>\n",
              "    <tr>\n",
              "      <th>1</th>\n",
              "      <td>2018</td>\n",
              "      <td>3</td>\n",
              "      <td>9</td>\n",
              "      <td>9</td>\n",
              "      <td>7</td>\n",
              "      <td>2018-09-09</td>\n",
              "      <td>9E</td>\n",
              "      <td>20363</td>\n",
              "      <td>9E</td>\n",
              "      <td>N315PQ</td>\n",
              "      <td>...</td>\n",
              "      <td>NaN</td>\n",
              "      <td>NaN</td>\n",
              "      <td>NaN</td>\n",
              "      <td>NaN</td>\n",
              "      <td>NaN</td>\n",
              "      <td>NaN</td>\n",
              "      <td>NaN</td>\n",
              "      <td>NaN</td>\n",
              "      <td>NaN</td>\n",
              "      <td>NaN</td>\n",
              "    </tr>\n",
              "    <tr>\n",
              "      <th>2</th>\n",
              "      <td>2018</td>\n",
              "      <td>3</td>\n",
              "      <td>9</td>\n",
              "      <td>10</td>\n",
              "      <td>1</td>\n",
              "      <td>2018-09-10</td>\n",
              "      <td>9E</td>\n",
              "      <td>20363</td>\n",
              "      <td>9E</td>\n",
              "      <td>N582CA</td>\n",
              "      <td>...</td>\n",
              "      <td>NaN</td>\n",
              "      <td>NaN</td>\n",
              "      <td>NaN</td>\n",
              "      <td>NaN</td>\n",
              "      <td>NaN</td>\n",
              "      <td>NaN</td>\n",
              "      <td>NaN</td>\n",
              "      <td>NaN</td>\n",
              "      <td>NaN</td>\n",
              "      <td>NaN</td>\n",
              "    </tr>\n",
              "    <tr>\n",
              "      <th>3</th>\n",
              "      <td>2018</td>\n",
              "      <td>3</td>\n",
              "      <td>9</td>\n",
              "      <td>13</td>\n",
              "      <td>4</td>\n",
              "      <td>2018-09-13</td>\n",
              "      <td>9E</td>\n",
              "      <td>20363</td>\n",
              "      <td>9E</td>\n",
              "      <td>N292PQ</td>\n",
              "      <td>...</td>\n",
              "      <td>NaN</td>\n",
              "      <td>NaN</td>\n",
              "      <td>NaN</td>\n",
              "      <td>NaN</td>\n",
              "      <td>NaN</td>\n",
              "      <td>NaN</td>\n",
              "      <td>NaN</td>\n",
              "      <td>NaN</td>\n",
              "      <td>NaN</td>\n",
              "      <td>NaN</td>\n",
              "    </tr>\n",
              "    <tr>\n",
              "      <th>4</th>\n",
              "      <td>2018</td>\n",
              "      <td>3</td>\n",
              "      <td>9</td>\n",
              "      <td>14</td>\n",
              "      <td>5</td>\n",
              "      <td>2018-09-14</td>\n",
              "      <td>9E</td>\n",
              "      <td>20363</td>\n",
              "      <td>9E</td>\n",
              "      <td>N600LR</td>\n",
              "      <td>...</td>\n",
              "      <td>NaN</td>\n",
              "      <td>NaN</td>\n",
              "      <td>NaN</td>\n",
              "      <td>NaN</td>\n",
              "      <td>NaN</td>\n",
              "      <td>NaN</td>\n",
              "      <td>NaN</td>\n",
              "      <td>NaN</td>\n",
              "      <td>NaN</td>\n",
              "      <td>NaN</td>\n",
              "    </tr>\n",
              "  </tbody>\n",
              "</table>\n",
              "<p>5 rows × 110 columns</p>\n",
              "</div>\n",
              "    <div class=\"colab-df-buttons\">\n",
              "\n",
              "  <div class=\"colab-df-container\">\n",
<<<<<<< HEAD
              "    <button class=\"colab-df-convert\" onclick=\"convertToInteractive('df-d0b95b66-e317-40f4-ba04-ea3c4de53138')\"\n",
=======
              "    <button class=\"colab-df-convert\" onclick=\"convertToInteractive('df-e874c7a6-2e10-4534-93fa-3344633b414f')\"\n",
>>>>>>> 0ee1ced983769f85ddaa9156bf3fcfa73eaae5ed
              "            title=\"Convert this dataframe to an interactive table.\"\n",
              "            style=\"display:none;\">\n",
              "\n",
              "  <svg xmlns=\"http://www.w3.org/2000/svg\" height=\"24px\" viewBox=\"0 -960 960 960\">\n",
              "    <path d=\"M120-120v-720h720v720H120Zm60-500h600v-160H180v160Zm220 220h160v-160H400v160Zm0 220h160v-160H400v160ZM180-400h160v-160H180v160Zm440 0h160v-160H620v160ZM180-180h160v-160H180v160Zm440 0h160v-160H620v160Z\"/>\n",
              "  </svg>\n",
              "    </button>\n",
              "\n",
              "  <style>\n",
              "    .colab-df-container {\n",
              "      display:flex;\n",
              "      gap: 12px;\n",
              "    }\n",
              "\n",
              "    .colab-df-convert {\n",
              "      background-color: #E8F0FE;\n",
              "      border: none;\n",
              "      border-radius: 50%;\n",
              "      cursor: pointer;\n",
              "      display: none;\n",
              "      fill: #1967D2;\n",
              "      height: 32px;\n",
              "      padding: 0 0 0 0;\n",
              "      width: 32px;\n",
              "    }\n",
              "\n",
              "    .colab-df-convert:hover {\n",
              "      background-color: #E2EBFA;\n",
              "      box-shadow: 0px 1px 2px rgba(60, 64, 67, 0.3), 0px 1px 3px 1px rgba(60, 64, 67, 0.15);\n",
              "      fill: #174EA6;\n",
              "    }\n",
              "\n",
              "    .colab-df-buttons div {\n",
              "      margin-bottom: 4px;\n",
              "    }\n",
              "\n",
              "    [theme=dark] .colab-df-convert {\n",
              "      background-color: #3B4455;\n",
              "      fill: #D2E3FC;\n",
              "    }\n",
              "\n",
              "    [theme=dark] .colab-df-convert:hover {\n",
              "      background-color: #434B5C;\n",
              "      box-shadow: 0px 1px 3px 1px rgba(0, 0, 0, 0.15);\n",
              "      filter: drop-shadow(0px 1px 2px rgba(0, 0, 0, 0.3));\n",
              "      fill: #FFFFFF;\n",
              "    }\n",
              "  </style>\n",
              "\n",
              "    <script>\n",
              "      const buttonEl =\n",
<<<<<<< HEAD
              "        document.querySelector('#df-d0b95b66-e317-40f4-ba04-ea3c4de53138 button.colab-df-convert');\n",
=======
              "        document.querySelector('#df-e874c7a6-2e10-4534-93fa-3344633b414f button.colab-df-convert');\n",
>>>>>>> 0ee1ced983769f85ddaa9156bf3fcfa73eaae5ed
              "      buttonEl.style.display =\n",
              "        google.colab.kernel.accessAllowed ? 'block' : 'none';\n",
              "\n",
              "      async function convertToInteractive(key) {\n",
<<<<<<< HEAD
              "        const element = document.querySelector('#df-d0b95b66-e317-40f4-ba04-ea3c4de53138');\n",
=======
              "        const element = document.querySelector('#df-e874c7a6-2e10-4534-93fa-3344633b414f');\n",
>>>>>>> 0ee1ced983769f85ddaa9156bf3fcfa73eaae5ed
              "        const dataTable =\n",
              "          await google.colab.kernel.invokeFunction('convertToInteractive',\n",
              "                                                    [key], {});\n",
              "        if (!dataTable) return;\n",
              "\n",
              "        const docLinkHtml = 'Like what you see? Visit the ' +\n",
              "          '<a target=\"_blank\" href=https://colab.research.google.com/notebooks/data_table.ipynb>data table notebook</a>'\n",
              "          + ' to learn more about interactive tables.';\n",
              "        element.innerHTML = '';\n",
              "        dataTable['output_type'] = 'display_data';\n",
              "        await google.colab.output.renderOutput(dataTable, element);\n",
              "        const docLink = document.createElement('div');\n",
              "        docLink.innerHTML = docLinkHtml;\n",
              "        element.appendChild(docLink);\n",
              "      }\n",
              "    </script>\n",
              "  </div>\n",
              "\n",
              "\n",
<<<<<<< HEAD
              "<div id=\"df-89240a0b-8594-4e06-b203-8d838924fcdc\">\n",
              "  <button class=\"colab-df-quickchart\" onclick=\"quickchart('df-89240a0b-8594-4e06-b203-8d838924fcdc')\"\n",
=======
              "<div id=\"df-cf54897f-82e1-42db-b2ae-0f4f6a19cf5a\">\n",
              "  <button class=\"colab-df-quickchart\" onclick=\"quickchart('df-cf54897f-82e1-42db-b2ae-0f4f6a19cf5a')\"\n",
>>>>>>> 0ee1ced983769f85ddaa9156bf3fcfa73eaae5ed
              "            title=\"Suggest charts.\"\n",
              "            style=\"display:none;\">\n",
              "\n",
              "<svg xmlns=\"http://www.w3.org/2000/svg\" height=\"24px\"viewBox=\"0 0 24 24\"\n",
              "     width=\"24px\">\n",
              "    <g>\n",
              "        <path d=\"M19 3H5c-1.1 0-2 .9-2 2v14c0 1.1.9 2 2 2h14c1.1 0 2-.9 2-2V5c0-1.1-.9-2-2-2zM9 17H7v-7h2v7zm4 0h-2V7h2v10zm4 0h-2v-4h2v4z\"/>\n",
              "    </g>\n",
              "</svg>\n",
              "  </button>\n",
              "\n",
              "<style>\n",
              "  .colab-df-quickchart {\n",
              "      --bg-color: #E8F0FE;\n",
              "      --fill-color: #1967D2;\n",
              "      --hover-bg-color: #E2EBFA;\n",
              "      --hover-fill-color: #174EA6;\n",
              "      --disabled-fill-color: #AAA;\n",
              "      --disabled-bg-color: #DDD;\n",
              "  }\n",
              "\n",
              "  [theme=dark] .colab-df-quickchart {\n",
              "      --bg-color: #3B4455;\n",
              "      --fill-color: #D2E3FC;\n",
              "      --hover-bg-color: #434B5C;\n",
              "      --hover-fill-color: #FFFFFF;\n",
              "      --disabled-bg-color: #3B4455;\n",
              "      --disabled-fill-color: #666;\n",
              "  }\n",
              "\n",
              "  .colab-df-quickchart {\n",
              "    background-color: var(--bg-color);\n",
              "    border: none;\n",
              "    border-radius: 50%;\n",
              "    cursor: pointer;\n",
              "    display: none;\n",
              "    fill: var(--fill-color);\n",
              "    height: 32px;\n",
              "    padding: 0;\n",
              "    width: 32px;\n",
              "  }\n",
              "\n",
              "  .colab-df-quickchart:hover {\n",
              "    background-color: var(--hover-bg-color);\n",
              "    box-shadow: 0 1px 2px rgba(60, 64, 67, 0.3), 0 1px 3px 1px rgba(60, 64, 67, 0.15);\n",
              "    fill: var(--button-hover-fill-color);\n",
              "  }\n",
              "\n",
              "  .colab-df-quickchart-complete:disabled,\n",
              "  .colab-df-quickchart-complete:disabled:hover {\n",
              "    background-color: var(--disabled-bg-color);\n",
              "    fill: var(--disabled-fill-color);\n",
              "    box-shadow: none;\n",
              "  }\n",
              "\n",
              "  .colab-df-spinner {\n",
              "    border: 2px solid var(--fill-color);\n",
              "    border-color: transparent;\n",
              "    border-bottom-color: var(--fill-color);\n",
              "    animation:\n",
              "      spin 1s steps(1) infinite;\n",
              "  }\n",
              "\n",
              "  @keyframes spin {\n",
              "    0% {\n",
              "      border-color: transparent;\n",
              "      border-bottom-color: var(--fill-color);\n",
              "      border-left-color: var(--fill-color);\n",
              "    }\n",
              "    20% {\n",
              "      border-color: transparent;\n",
              "      border-left-color: var(--fill-color);\n",
              "      border-top-color: var(--fill-color);\n",
              "    }\n",
              "    30% {\n",
              "      border-color: transparent;\n",
              "      border-left-color: var(--fill-color);\n",
              "      border-top-color: var(--fill-color);\n",
              "      border-right-color: var(--fill-color);\n",
              "    }\n",
              "    40% {\n",
              "      border-color: transparent;\n",
              "      border-right-color: var(--fill-color);\n",
              "      border-top-color: var(--fill-color);\n",
              "    }\n",
              "    60% {\n",
              "      border-color: transparent;\n",
              "      border-right-color: var(--fill-color);\n",
              "    }\n",
              "    80% {\n",
              "      border-color: transparent;\n",
              "      border-right-color: var(--fill-color);\n",
              "      border-bottom-color: var(--fill-color);\n",
              "    }\n",
              "    90% {\n",
              "      border-color: transparent;\n",
              "      border-bottom-color: var(--fill-color);\n",
              "    }\n",
              "  }\n",
              "</style>\n",
              "\n",
              "  <script>\n",
              "    async function quickchart(key) {\n",
              "      const quickchartButtonEl =\n",
              "        document.querySelector('#' + key + ' button');\n",
              "      quickchartButtonEl.disabled = true;  // To prevent multiple clicks.\n",
              "      quickchartButtonEl.classList.add('colab-df-spinner');\n",
              "      try {\n",
              "        const charts = await google.colab.kernel.invokeFunction(\n",
              "            'suggestCharts', [key], {});\n",
              "      } catch (error) {\n",
              "        console.error('Error during call to suggestCharts:', error);\n",
              "      }\n",
              "      quickchartButtonEl.classList.remove('colab-df-spinner');\n",
              "      quickchartButtonEl.classList.add('colab-df-quickchart-complete');\n",
              "    }\n",
              "    (() => {\n",
              "      let quickchartButtonEl =\n",
<<<<<<< HEAD
              "        document.querySelector('#df-89240a0b-8594-4e06-b203-8d838924fcdc button');\n",
=======
              "        document.querySelector('#df-cf54897f-82e1-42db-b2ae-0f4f6a19cf5a button');\n",
>>>>>>> 0ee1ced983769f85ddaa9156bf3fcfa73eaae5ed
              "      quickchartButtonEl.style.display =\n",
              "        google.colab.kernel.accessAllowed ? 'block' : 'none';\n",
              "    })();\n",
              "  </script>\n",
              "</div>\n",
              "    </div>\n",
              "  </div>\n"
            ]
          },
          "metadata": {},
<<<<<<< HEAD
          "execution_count": 15
=======
          "execution_count": 8
>>>>>>> 0ee1ced983769f85ddaa9156bf3fcfa73eaae5ed
        }
      ],
      "source": [
        "import pandas as pd\n",
        "\n",
        "# Construct the full path to the sample CSV file\n",
        "sample_csv_path = os.path.join(csv_base_path, \"On_Time_Reporting_Carrier_On_Time_Performance_(1987_present)_2018_9.csv\")\n",
        "\n",
        "# Read the sample CSV file into a Pandas DataFrame\n",
        "df_temp = pd.read_csv(sample_csv_path)\n",
        "\n",
        "# Display the first few rows of the DataFrame to get a sense of the data\n",
        "df_temp.head()"
      ]
    },
    {
      "cell_type": "markdown",
      "metadata": {
        "id": "PDSSLbaAGceF"
      },
      "source": [
        "**Question**: Print the row and column length in the dataset, and print the column names."
      ]
    },
    {
      "cell_type": "code",
<<<<<<< HEAD
      "execution_count": 16,
=======
      "execution_count": null,
>>>>>>> 0ee1ced983769f85ddaa9156bf3fcfa73eaae5ed
      "metadata": {
        "colab": {
          "base_uri": "https://localhost:8080/"
        },
        "id": "Dgevufx6GceF",
<<<<<<< HEAD
        "outputId": "de9f711e-d692-418d-8ce0-4c89aeed1a66"
=======
        "outputId": "bab6645b-a4ad-42b7-9ce1-95791ab0c6dc"
>>>>>>> 0ee1ced983769f85ddaa9156bf3fcfa73eaae5ed
      },
      "outputs": [
        {
          "output_type": "stream",
          "name": "stdout",
          "text": [
            "Rows and columns in one csv file is (585749, 110)\n"
          ]
        }
      ],
      "source": [
        "df_shape = df_temp.shape\n",
        "print(f'Rows and columns in one csv file is {df_shape}')"
      ]
    },
    {
      "cell_type": "markdown",
      "metadata": {
        "id": "gLfH4pdbGceF"
      },
      "source": [
        "**Question**: Print the first 10 rows of the dataset.  "
      ]
    },
    {
      "cell_type": "code",
<<<<<<< HEAD
      "execution_count": 17,
=======
      "execution_count": null,
>>>>>>> 0ee1ced983769f85ddaa9156bf3fcfa73eaae5ed
      "metadata": {
        "colab": {
          "base_uri": "https://localhost:8080/",
          "height": 429
        },
        "id": "kol77PzBGceF",
<<<<<<< HEAD
        "outputId": "1fc3d16f-36b7-4112-dfce-4985beb26c19"
=======
        "outputId": "d9e2cb86-00a5-40a5-a8da-28a8f19aff6d"
>>>>>>> 0ee1ced983769f85ddaa9156bf3fcfa73eaae5ed
      },
      "outputs": [
        {
          "output_type": "execute_result",
          "data": {
            "text/plain": [
              "   Year  Quarter  Month  DayofMonth  DayOfWeek  FlightDate Reporting_Airline  \\\n",
              "0  2018        3      9           3          1  2018-09-03                9E   \n",
              "1  2018        3      9           9          7  2018-09-09                9E   \n",
              "2  2018        3      9          10          1  2018-09-10                9E   \n",
              "3  2018        3      9          13          4  2018-09-13                9E   \n",
              "4  2018        3      9          14          5  2018-09-14                9E   \n",
              "5  2018        3      9          16          7  2018-09-16                9E   \n",
              "6  2018        3      9          17          1  2018-09-17                9E   \n",
              "7  2018        3      9          20          4  2018-09-20                9E   \n",
              "8  2018        3      9          21          5  2018-09-21                9E   \n",
              "9  2018        3      9          23          7  2018-09-23                9E   \n",
              "\n",
              "   DOT_ID_Reporting_Airline IATA_CODE_Reporting_Airline Tail_Number  ...  \\\n",
              "0                     20363                          9E      N908XJ  ...   \n",
              "1                     20363                          9E      N315PQ  ...   \n",
              "2                     20363                          9E      N582CA  ...   \n",
              "3                     20363                          9E      N292PQ  ...   \n",
              "4                     20363                          9E      N600LR  ...   \n",
              "5                     20363                          9E      N316PQ  ...   \n",
              "6                     20363                          9E      N916XJ  ...   \n",
              "7                     20363                          9E      N371CA  ...   \n",
              "8                     20363                          9E      N601LR  ...   \n",
              "9                     20363                          9E      N906XJ  ...   \n",
              "\n",
              "   Div4TailNum  Div5Airport  Div5AirportID  Div5AirportSeqID Div5WheelsOn  \\\n",
              "0          NaN          NaN            NaN               NaN          NaN   \n",
              "1          NaN          NaN            NaN               NaN          NaN   \n",
              "2          NaN          NaN            NaN               NaN          NaN   \n",
              "3          NaN          NaN            NaN               NaN          NaN   \n",
              "4          NaN          NaN            NaN               NaN          NaN   \n",
              "5          NaN          NaN            NaN               NaN          NaN   \n",
              "6          NaN          NaN            NaN               NaN          NaN   \n",
              "7          NaN          NaN            NaN               NaN          NaN   \n",
              "8          NaN          NaN            NaN               NaN          NaN   \n",
              "9          NaN          NaN            NaN               NaN          NaN   \n",
              "\n",
              "  Div5TotalGTime Div5LongestGTime  Div5WheelsOff Div5TailNum  Unnamed: 109  \n",
              "0            NaN              NaN            NaN         NaN           NaN  \n",
              "1            NaN              NaN            NaN         NaN           NaN  \n",
              "2            NaN              NaN            NaN         NaN           NaN  \n",
              "3            NaN              NaN            NaN         NaN           NaN  \n",
              "4            NaN              NaN            NaN         NaN           NaN  \n",
              "5            NaN              NaN            NaN         NaN           NaN  \n",
              "6            NaN              NaN            NaN         NaN           NaN  \n",
              "7            NaN              NaN            NaN         NaN           NaN  \n",
              "8            NaN              NaN            NaN         NaN           NaN  \n",
              "9            NaN              NaN            NaN         NaN           NaN  \n",
              "\n",
              "[10 rows x 110 columns]"
            ],
            "text/html": [
              "\n",
<<<<<<< HEAD
              "  <div id=\"df-28e36f8b-00d2-44d5-bbbb-6ffbcc1e8579\" class=\"colab-df-container\">\n",
=======
              "  <div id=\"df-b553eb0a-4a22-4364-909e-f70b0fdc16b3\" class=\"colab-df-container\">\n",
>>>>>>> 0ee1ced983769f85ddaa9156bf3fcfa73eaae5ed
              "    <div>\n",
              "<style scoped>\n",
              "    .dataframe tbody tr th:only-of-type {\n",
              "        vertical-align: middle;\n",
              "    }\n",
              "\n",
              "    .dataframe tbody tr th {\n",
              "        vertical-align: top;\n",
              "    }\n",
              "\n",
              "    .dataframe thead th {\n",
              "        text-align: right;\n",
              "    }\n",
              "</style>\n",
              "<table border=\"1\" class=\"dataframe\">\n",
              "  <thead>\n",
              "    <tr style=\"text-align: right;\">\n",
              "      <th></th>\n",
              "      <th>Year</th>\n",
              "      <th>Quarter</th>\n",
              "      <th>Month</th>\n",
              "      <th>DayofMonth</th>\n",
              "      <th>DayOfWeek</th>\n",
              "      <th>FlightDate</th>\n",
              "      <th>Reporting_Airline</th>\n",
              "      <th>DOT_ID_Reporting_Airline</th>\n",
              "      <th>IATA_CODE_Reporting_Airline</th>\n",
              "      <th>Tail_Number</th>\n",
              "      <th>...</th>\n",
              "      <th>Div4TailNum</th>\n",
              "      <th>Div5Airport</th>\n",
              "      <th>Div5AirportID</th>\n",
              "      <th>Div5AirportSeqID</th>\n",
              "      <th>Div5WheelsOn</th>\n",
              "      <th>Div5TotalGTime</th>\n",
              "      <th>Div5LongestGTime</th>\n",
              "      <th>Div5WheelsOff</th>\n",
              "      <th>Div5TailNum</th>\n",
              "      <th>Unnamed: 109</th>\n",
              "    </tr>\n",
              "  </thead>\n",
              "  <tbody>\n",
              "    <tr>\n",
              "      <th>0</th>\n",
              "      <td>2018</td>\n",
              "      <td>3</td>\n",
              "      <td>9</td>\n",
              "      <td>3</td>\n",
              "      <td>1</td>\n",
              "      <td>2018-09-03</td>\n",
              "      <td>9E</td>\n",
              "      <td>20363</td>\n",
              "      <td>9E</td>\n",
              "      <td>N908XJ</td>\n",
              "      <td>...</td>\n",
              "      <td>NaN</td>\n",
              "      <td>NaN</td>\n",
              "      <td>NaN</td>\n",
              "      <td>NaN</td>\n",
              "      <td>NaN</td>\n",
              "      <td>NaN</td>\n",
              "      <td>NaN</td>\n",
              "      <td>NaN</td>\n",
              "      <td>NaN</td>\n",
              "      <td>NaN</td>\n",
              "    </tr>\n",
              "    <tr>\n",
              "      <th>1</th>\n",
              "      <td>2018</td>\n",
              "      <td>3</td>\n",
              "      <td>9</td>\n",
              "      <td>9</td>\n",
              "      <td>7</td>\n",
              "      <td>2018-09-09</td>\n",
              "      <td>9E</td>\n",
              "      <td>20363</td>\n",
              "      <td>9E</td>\n",
              "      <td>N315PQ</td>\n",
              "      <td>...</td>\n",
              "      <td>NaN</td>\n",
              "      <td>NaN</td>\n",
              "      <td>NaN</td>\n",
              "      <td>NaN</td>\n",
              "      <td>NaN</td>\n",
              "      <td>NaN</td>\n",
              "      <td>NaN</td>\n",
              "      <td>NaN</td>\n",
              "      <td>NaN</td>\n",
              "      <td>NaN</td>\n",
              "    </tr>\n",
              "    <tr>\n",
              "      <th>2</th>\n",
              "      <td>2018</td>\n",
              "      <td>3</td>\n",
              "      <td>9</td>\n",
              "      <td>10</td>\n",
              "      <td>1</td>\n",
              "      <td>2018-09-10</td>\n",
              "      <td>9E</td>\n",
              "      <td>20363</td>\n",
              "      <td>9E</td>\n",
              "      <td>N582CA</td>\n",
              "      <td>...</td>\n",
              "      <td>NaN</td>\n",
              "      <td>NaN</td>\n",
              "      <td>NaN</td>\n",
              "      <td>NaN</td>\n",
              "      <td>NaN</td>\n",
              "      <td>NaN</td>\n",
              "      <td>NaN</td>\n",
              "      <td>NaN</td>\n",
              "      <td>NaN</td>\n",
              "      <td>NaN</td>\n",
              "    </tr>\n",
              "    <tr>\n",
              "      <th>3</th>\n",
              "      <td>2018</td>\n",
              "      <td>3</td>\n",
              "      <td>9</td>\n",
              "      <td>13</td>\n",
              "      <td>4</td>\n",
              "      <td>2018-09-13</td>\n",
              "      <td>9E</td>\n",
              "      <td>20363</td>\n",
              "      <td>9E</td>\n",
              "      <td>N292PQ</td>\n",
              "      <td>...</td>\n",
              "      <td>NaN</td>\n",
              "      <td>NaN</td>\n",
              "      <td>NaN</td>\n",
              "      <td>NaN</td>\n",
              "      <td>NaN</td>\n",
              "      <td>NaN</td>\n",
              "      <td>NaN</td>\n",
              "      <td>NaN</td>\n",
              "      <td>NaN</td>\n",
              "      <td>NaN</td>\n",
              "    </tr>\n",
              "    <tr>\n",
              "      <th>4</th>\n",
              "      <td>2018</td>\n",
              "      <td>3</td>\n",
              "      <td>9</td>\n",
              "      <td>14</td>\n",
              "      <td>5</td>\n",
              "      <td>2018-09-14</td>\n",
              "      <td>9E</td>\n",
              "      <td>20363</td>\n",
              "      <td>9E</td>\n",
              "      <td>N600LR</td>\n",
              "      <td>...</td>\n",
              "      <td>NaN</td>\n",
              "      <td>NaN</td>\n",
              "      <td>NaN</td>\n",
              "      <td>NaN</td>\n",
              "      <td>NaN</td>\n",
              "      <td>NaN</td>\n",
              "      <td>NaN</td>\n",
              "      <td>NaN</td>\n",
              "      <td>NaN</td>\n",
              "      <td>NaN</td>\n",
              "    </tr>\n",
              "    <tr>\n",
              "      <th>5</th>\n",
              "      <td>2018</td>\n",
              "      <td>3</td>\n",
              "      <td>9</td>\n",
              "      <td>16</td>\n",
              "      <td>7</td>\n",
              "      <td>2018-09-16</td>\n",
              "      <td>9E</td>\n",
              "      <td>20363</td>\n",
              "      <td>9E</td>\n",
              "      <td>N316PQ</td>\n",
              "      <td>...</td>\n",
              "      <td>NaN</td>\n",
              "      <td>NaN</td>\n",
              "      <td>NaN</td>\n",
              "      <td>NaN</td>\n",
              "      <td>NaN</td>\n",
              "      <td>NaN</td>\n",
              "      <td>NaN</td>\n",
              "      <td>NaN</td>\n",
              "      <td>NaN</td>\n",
              "      <td>NaN</td>\n",
              "    </tr>\n",
              "    <tr>\n",
              "      <th>6</th>\n",
              "      <td>2018</td>\n",
              "      <td>3</td>\n",
              "      <td>9</td>\n",
              "      <td>17</td>\n",
              "      <td>1</td>\n",
              "      <td>2018-09-17</td>\n",
              "      <td>9E</td>\n",
              "      <td>20363</td>\n",
              "      <td>9E</td>\n",
              "      <td>N916XJ</td>\n",
              "      <td>...</td>\n",
              "      <td>NaN</td>\n",
              "      <td>NaN</td>\n",
              "      <td>NaN</td>\n",
              "      <td>NaN</td>\n",
              "      <td>NaN</td>\n",
              "      <td>NaN</td>\n",
              "      <td>NaN</td>\n",
              "      <td>NaN</td>\n",
              "      <td>NaN</td>\n",
              "      <td>NaN</td>\n",
              "    </tr>\n",
              "    <tr>\n",
              "      <th>7</th>\n",
              "      <td>2018</td>\n",
              "      <td>3</td>\n",
              "      <td>9</td>\n",
              "      <td>20</td>\n",
              "      <td>4</td>\n",
              "      <td>2018-09-20</td>\n",
              "      <td>9E</td>\n",
              "      <td>20363</td>\n",
              "      <td>9E</td>\n",
              "      <td>N371CA</td>\n",
              "      <td>...</td>\n",
              "      <td>NaN</td>\n",
              "      <td>NaN</td>\n",
              "      <td>NaN</td>\n",
              "      <td>NaN</td>\n",
              "      <td>NaN</td>\n",
              "      <td>NaN</td>\n",
              "      <td>NaN</td>\n",
              "      <td>NaN</td>\n",
              "      <td>NaN</td>\n",
              "      <td>NaN</td>\n",
              "    </tr>\n",
              "    <tr>\n",
              "      <th>8</th>\n",
              "      <td>2018</td>\n",
              "      <td>3</td>\n",
              "      <td>9</td>\n",
              "      <td>21</td>\n",
              "      <td>5</td>\n",
              "      <td>2018-09-21</td>\n",
              "      <td>9E</td>\n",
              "      <td>20363</td>\n",
              "      <td>9E</td>\n",
              "      <td>N601LR</td>\n",
              "      <td>...</td>\n",
              "      <td>NaN</td>\n",
              "      <td>NaN</td>\n",
              "      <td>NaN</td>\n",
              "      <td>NaN</td>\n",
              "      <td>NaN</td>\n",
              "      <td>NaN</td>\n",
              "      <td>NaN</td>\n",
              "      <td>NaN</td>\n",
              "      <td>NaN</td>\n",
              "      <td>NaN</td>\n",
              "    </tr>\n",
              "    <tr>\n",
              "      <th>9</th>\n",
              "      <td>2018</td>\n",
              "      <td>3</td>\n",
              "      <td>9</td>\n",
              "      <td>23</td>\n",
              "      <td>7</td>\n",
              "      <td>2018-09-23</td>\n",
              "      <td>9E</td>\n",
              "      <td>20363</td>\n",
              "      <td>9E</td>\n",
              "      <td>N906XJ</td>\n",
              "      <td>...</td>\n",
              "      <td>NaN</td>\n",
              "      <td>NaN</td>\n",
              "      <td>NaN</td>\n",
              "      <td>NaN</td>\n",
              "      <td>NaN</td>\n",
              "      <td>NaN</td>\n",
              "      <td>NaN</td>\n",
              "      <td>NaN</td>\n",
              "      <td>NaN</td>\n",
              "      <td>NaN</td>\n",
              "    </tr>\n",
              "  </tbody>\n",
              "</table>\n",
              "<p>10 rows × 110 columns</p>\n",
              "</div>\n",
              "    <div class=\"colab-df-buttons\">\n",
              "\n",
              "  <div class=\"colab-df-container\">\n",
<<<<<<< HEAD
              "    <button class=\"colab-df-convert\" onclick=\"convertToInteractive('df-28e36f8b-00d2-44d5-bbbb-6ffbcc1e8579')\"\n",
=======
              "    <button class=\"colab-df-convert\" onclick=\"convertToInteractive('df-b553eb0a-4a22-4364-909e-f70b0fdc16b3')\"\n",
>>>>>>> 0ee1ced983769f85ddaa9156bf3fcfa73eaae5ed
              "            title=\"Convert this dataframe to an interactive table.\"\n",
              "            style=\"display:none;\">\n",
              "\n",
              "  <svg xmlns=\"http://www.w3.org/2000/svg\" height=\"24px\" viewBox=\"0 -960 960 960\">\n",
              "    <path d=\"M120-120v-720h720v720H120Zm60-500h600v-160H180v160Zm220 220h160v-160H400v160Zm0 220h160v-160H400v160ZM180-400h160v-160H180v160Zm440 0h160v-160H620v160ZM180-180h160v-160H180v160Zm440 0h160v-160H620v160Z\"/>\n",
              "  </svg>\n",
              "    </button>\n",
              "\n",
              "  <style>\n",
              "    .colab-df-container {\n",
              "      display:flex;\n",
              "      gap: 12px;\n",
              "    }\n",
              "\n",
              "    .colab-df-convert {\n",
              "      background-color: #E8F0FE;\n",
              "      border: none;\n",
              "      border-radius: 50%;\n",
              "      cursor: pointer;\n",
              "      display: none;\n",
              "      fill: #1967D2;\n",
              "      height: 32px;\n",
              "      padding: 0 0 0 0;\n",
              "      width: 32px;\n",
              "    }\n",
              "\n",
              "    .colab-df-convert:hover {\n",
              "      background-color: #E2EBFA;\n",
              "      box-shadow: 0px 1px 2px rgba(60, 64, 67, 0.3), 0px 1px 3px 1px rgba(60, 64, 67, 0.15);\n",
              "      fill: #174EA6;\n",
              "    }\n",
              "\n",
              "    .colab-df-buttons div {\n",
              "      margin-bottom: 4px;\n",
              "    }\n",
              "\n",
              "    [theme=dark] .colab-df-convert {\n",
              "      background-color: #3B4455;\n",
              "      fill: #D2E3FC;\n",
              "    }\n",
              "\n",
              "    [theme=dark] .colab-df-convert:hover {\n",
              "      background-color: #434B5C;\n",
              "      box-shadow: 0px 1px 3px 1px rgba(0, 0, 0, 0.15);\n",
              "      filter: drop-shadow(0px 1px 2px rgba(0, 0, 0, 0.3));\n",
              "      fill: #FFFFFF;\n",
              "    }\n",
              "  </style>\n",
              "\n",
              "    <script>\n",
              "      const buttonEl =\n",
<<<<<<< HEAD
              "        document.querySelector('#df-28e36f8b-00d2-44d5-bbbb-6ffbcc1e8579 button.colab-df-convert');\n",
=======
              "        document.querySelector('#df-b553eb0a-4a22-4364-909e-f70b0fdc16b3 button.colab-df-convert');\n",
>>>>>>> 0ee1ced983769f85ddaa9156bf3fcfa73eaae5ed
              "      buttonEl.style.display =\n",
              "        google.colab.kernel.accessAllowed ? 'block' : 'none';\n",
              "\n",
              "      async function convertToInteractive(key) {\n",
<<<<<<< HEAD
              "        const element = document.querySelector('#df-28e36f8b-00d2-44d5-bbbb-6ffbcc1e8579');\n",
=======
              "        const element = document.querySelector('#df-b553eb0a-4a22-4364-909e-f70b0fdc16b3');\n",
>>>>>>> 0ee1ced983769f85ddaa9156bf3fcfa73eaae5ed
              "        const dataTable =\n",
              "          await google.colab.kernel.invokeFunction('convertToInteractive',\n",
              "                                                    [key], {});\n",
              "        if (!dataTable) return;\n",
              "\n",
              "        const docLinkHtml = 'Like what you see? Visit the ' +\n",
              "          '<a target=\"_blank\" href=https://colab.research.google.com/notebooks/data_table.ipynb>data table notebook</a>'\n",
              "          + ' to learn more about interactive tables.';\n",
              "        element.innerHTML = '';\n",
              "        dataTable['output_type'] = 'display_data';\n",
              "        await google.colab.output.renderOutput(dataTable, element);\n",
              "        const docLink = document.createElement('div');\n",
              "        docLink.innerHTML = docLinkHtml;\n",
              "        element.appendChild(docLink);\n",
              "      }\n",
              "    </script>\n",
              "  </div>\n",
              "\n",
              "\n",
<<<<<<< HEAD
              "<div id=\"df-4b48025c-e052-4aad-809f-0df898b7277e\">\n",
              "  <button class=\"colab-df-quickchart\" onclick=\"quickchart('df-4b48025c-e052-4aad-809f-0df898b7277e')\"\n",
=======
              "<div id=\"df-615f0392-3648-473c-a607-d441552a870c\">\n",
              "  <button class=\"colab-df-quickchart\" onclick=\"quickchart('df-615f0392-3648-473c-a607-d441552a870c')\"\n",
>>>>>>> 0ee1ced983769f85ddaa9156bf3fcfa73eaae5ed
              "            title=\"Suggest charts.\"\n",
              "            style=\"display:none;\">\n",
              "\n",
              "<svg xmlns=\"http://www.w3.org/2000/svg\" height=\"24px\"viewBox=\"0 0 24 24\"\n",
              "     width=\"24px\">\n",
              "    <g>\n",
              "        <path d=\"M19 3H5c-1.1 0-2 .9-2 2v14c0 1.1.9 2 2 2h14c1.1 0 2-.9 2-2V5c0-1.1-.9-2-2-2zM9 17H7v-7h2v7zm4 0h-2V7h2v10zm4 0h-2v-4h2v4z\"/>\n",
              "    </g>\n",
              "</svg>\n",
              "  </button>\n",
              "\n",
              "<style>\n",
              "  .colab-df-quickchart {\n",
              "      --bg-color: #E8F0FE;\n",
              "      --fill-color: #1967D2;\n",
              "      --hover-bg-color: #E2EBFA;\n",
              "      --hover-fill-color: #174EA6;\n",
              "      --disabled-fill-color: #AAA;\n",
              "      --disabled-bg-color: #DDD;\n",
              "  }\n",
              "\n",
              "  [theme=dark] .colab-df-quickchart {\n",
              "      --bg-color: #3B4455;\n",
              "      --fill-color: #D2E3FC;\n",
              "      --hover-bg-color: #434B5C;\n",
              "      --hover-fill-color: #FFFFFF;\n",
              "      --disabled-bg-color: #3B4455;\n",
              "      --disabled-fill-color: #666;\n",
              "  }\n",
              "\n",
              "  .colab-df-quickchart {\n",
              "    background-color: var(--bg-color);\n",
              "    border: none;\n",
              "    border-radius: 50%;\n",
              "    cursor: pointer;\n",
              "    display: none;\n",
              "    fill: var(--fill-color);\n",
              "    height: 32px;\n",
              "    padding: 0;\n",
              "    width: 32px;\n",
              "  }\n",
              "\n",
              "  .colab-df-quickchart:hover {\n",
              "    background-color: var(--hover-bg-color);\n",
              "    box-shadow: 0 1px 2px rgba(60, 64, 67, 0.3), 0 1px 3px 1px rgba(60, 64, 67, 0.15);\n",
              "    fill: var(--button-hover-fill-color);\n",
              "  }\n",
              "\n",
              "  .colab-df-quickchart-complete:disabled,\n",
              "  .colab-df-quickchart-complete:disabled:hover {\n",
              "    background-color: var(--disabled-bg-color);\n",
              "    fill: var(--disabled-fill-color);\n",
              "    box-shadow: none;\n",
              "  }\n",
              "\n",
              "  .colab-df-spinner {\n",
              "    border: 2px solid var(--fill-color);\n",
              "    border-color: transparent;\n",
              "    border-bottom-color: var(--fill-color);\n",
              "    animation:\n",
              "      spin 1s steps(1) infinite;\n",
              "  }\n",
              "\n",
              "  @keyframes spin {\n",
              "    0% {\n",
              "      border-color: transparent;\n",
              "      border-bottom-color: var(--fill-color);\n",
              "      border-left-color: var(--fill-color);\n",
              "    }\n",
              "    20% {\n",
              "      border-color: transparent;\n",
              "      border-left-color: var(--fill-color);\n",
              "      border-top-color: var(--fill-color);\n",
              "    }\n",
              "    30% {\n",
              "      border-color: transparent;\n",
              "      border-left-color: var(--fill-color);\n",
              "      border-top-color: var(--fill-color);\n",
              "      border-right-color: var(--fill-color);\n",
              "    }\n",
              "    40% {\n",
              "      border-color: transparent;\n",
              "      border-right-color: var(--fill-color);\n",
              "      border-top-color: var(--fill-color);\n",
              "    }\n",
              "    60% {\n",
              "      border-color: transparent;\n",
              "      border-right-color: var(--fill-color);\n",
              "    }\n",
              "    80% {\n",
              "      border-color: transparent;\n",
              "      border-right-color: var(--fill-color);\n",
              "      border-bottom-color: var(--fill-color);\n",
              "    }\n",
              "    90% {\n",
              "      border-color: transparent;\n",
              "      border-bottom-color: var(--fill-color);\n",
              "    }\n",
              "  }\n",
              "</style>\n",
              "\n",
              "  <script>\n",
              "    async function quickchart(key) {\n",
              "      const quickchartButtonEl =\n",
              "        document.querySelector('#' + key + ' button');\n",
              "      quickchartButtonEl.disabled = true;  // To prevent multiple clicks.\n",
              "      quickchartButtonEl.classList.add('colab-df-spinner');\n",
              "      try {\n",
              "        const charts = await google.colab.kernel.invokeFunction(\n",
              "            'suggestCharts', [key], {});\n",
              "      } catch (error) {\n",
              "        console.error('Error during call to suggestCharts:', error);\n",
              "      }\n",
              "      quickchartButtonEl.classList.remove('colab-df-spinner');\n",
              "      quickchartButtonEl.classList.add('colab-df-quickchart-complete');\n",
              "    }\n",
              "    (() => {\n",
              "      let quickchartButtonEl =\n",
<<<<<<< HEAD
              "        document.querySelector('#df-4b48025c-e052-4aad-809f-0df898b7277e button');\n",
=======
              "        document.querySelector('#df-615f0392-3648-473c-a607-d441552a870c button');\n",
>>>>>>> 0ee1ced983769f85ddaa9156bf3fcfa73eaae5ed
              "      quickchartButtonEl.style.display =\n",
              "        google.colab.kernel.accessAllowed ? 'block' : 'none';\n",
              "    })();\n",
              "  </script>\n",
              "</div>\n",
              "    </div>\n",
              "  </div>\n"
            ]
          },
          "metadata": {},
<<<<<<< HEAD
          "execution_count": 17
=======
          "execution_count": 10
>>>>>>> 0ee1ced983769f85ddaa9156bf3fcfa73eaae5ed
        }
      ],
      "source": [
        "df_temp.head(10)"
      ]
    },
    {
      "cell_type": "markdown",
      "metadata": {
        "id": "gXM_A_yiGceG"
      },
      "source": [
        "**Question**: Print all the columns in the dataset. Use `<dataframe>.columns` to view the column names."
      ]
    },
    {
      "cell_type": "code",
<<<<<<< HEAD
      "execution_count": 18,
=======
      "execution_count": null,
>>>>>>> 0ee1ced983769f85ddaa9156bf3fcfa73eaae5ed
      "metadata": {
        "colab": {
          "base_uri": "https://localhost:8080/"
        },
        "id": "0PYoX0cvGceG",
<<<<<<< HEAD
        "outputId": "97755b6c-a1a3-4797-ea03-cd064f846c92"
=======
        "outputId": "0417a318-b9ab-4856-e418-28418581f7be"
>>>>>>> 0ee1ced983769f85ddaa9156bf3fcfa73eaae5ed
      },
      "outputs": [
        {
          "output_type": "stream",
          "name": "stdout",
          "text": [
            "The column names are :\n",
            "#########\n",
            "Year\n",
            "Quarter\n",
            "Month\n",
            "DayofMonth\n",
            "DayOfWeek\n",
            "FlightDate\n",
            "Reporting_Airline\n",
            "DOT_ID_Reporting_Airline\n",
            "IATA_CODE_Reporting_Airline\n",
            "Tail_Number\n",
            "Flight_Number_Reporting_Airline\n",
            "OriginAirportID\n",
            "OriginAirportSeqID\n",
            "OriginCityMarketID\n",
            "Origin\n",
            "OriginCityName\n",
            "OriginState\n",
            "OriginStateFips\n",
            "OriginStateName\n",
            "OriginWac\n",
            "DestAirportID\n",
            "DestAirportSeqID\n",
            "DestCityMarketID\n",
            "Dest\n",
            "DestCityName\n",
            "DestState\n",
            "DestStateFips\n",
            "DestStateName\n",
            "DestWac\n",
            "CRSDepTime\n",
            "DepTime\n",
            "DepDelay\n",
            "DepDelayMinutes\n",
            "DepDel15\n",
            "DepartureDelayGroups\n",
            "DepTimeBlk\n",
            "TaxiOut\n",
            "WheelsOff\n",
            "WheelsOn\n",
            "TaxiIn\n",
            "CRSArrTime\n",
            "ArrTime\n",
            "ArrDelay\n",
            "ArrDelayMinutes\n",
            "ArrDel15\n",
            "ArrivalDelayGroups\n",
            "ArrTimeBlk\n",
            "Cancelled\n",
            "CancellationCode\n",
            "Diverted\n",
            "CRSElapsedTime\n",
            "ActualElapsedTime\n",
            "AirTime\n",
            "Flights\n",
            "Distance\n",
            "DistanceGroup\n",
            "CarrierDelay\n",
            "WeatherDelay\n",
            "NASDelay\n",
            "SecurityDelay\n",
            "LateAircraftDelay\n",
            "FirstDepTime\n",
            "TotalAddGTime\n",
            "LongestAddGTime\n",
            "DivAirportLandings\n",
            "DivReachedDest\n",
            "DivActualElapsedTime\n",
            "DivArrDelay\n",
            "DivDistance\n",
            "Div1Airport\n",
            "Div1AirportID\n",
            "Div1AirportSeqID\n",
            "Div1WheelsOn\n",
            "Div1TotalGTime\n",
            "Div1LongestGTime\n",
            "Div1WheelsOff\n",
            "Div1TailNum\n",
            "Div2Airport\n",
            "Div2AirportID\n",
            "Div2AirportSeqID\n",
            "Div2WheelsOn\n",
            "Div2TotalGTime\n",
            "Div2LongestGTime\n",
            "Div2WheelsOff\n",
            "Div2TailNum\n",
            "Div3Airport\n",
            "Div3AirportID\n",
            "Div3AirportSeqID\n",
            "Div3WheelsOn\n",
            "Div3TotalGTime\n",
            "Div3LongestGTime\n",
            "Div3WheelsOff\n",
            "Div3TailNum\n",
            "Div4Airport\n",
            "Div4AirportID\n",
            "Div4AirportSeqID\n",
            "Div4WheelsOn\n",
            "Div4TotalGTime\n",
            "Div4LongestGTime\n",
            "Div4WheelsOff\n",
            "Div4TailNum\n",
            "Div5Airport\n",
            "Div5AirportID\n",
            "Div5AirportSeqID\n",
            "Div5WheelsOn\n",
            "Div5TotalGTime\n",
            "Div5LongestGTime\n",
            "Div5WheelsOff\n",
            "Div5TailNum\n",
            "Unnamed: 109\n"
          ]
        }
      ],
      "source": [
        "print(f'The column names are :')\n",
        "print('#########')\n",
        "for col in df_temp.columns:# **ENTER YOUR CODE HERE**\n",
        "    print(col)"
      ]
    },
    {
      "cell_type": "markdown",
      "metadata": {
        "id": "3sjFhMgWGceG"
      },
      "source": [
        "**Question**: Print all the columns in the dataset that contain the word 'Del'. This will help you see how many columns have delay data in them.\n",
        "\n",
        "**Hint**: You can use a Python list comprehension to include values that pass certain `if` statement criteria.\n",
        "\n",
        "For example: `[x for x in [1,2,3,4,5] if x > 2]`  \n",
        "\n",
        "**Hint**: You can use the `in` keyword ([documentation](https://www.w3schools.com/python/ref_keyword_in.asp)) to check if the value is in a list or not.\n",
        "\n",
        "For example: `5 in [1,2,3,4,5]`"
      ]
    },
    {
      "cell_type": "code",
<<<<<<< HEAD
      "execution_count": 19,
=======
      "execution_count": null,
>>>>>>> 0ee1ced983769f85ddaa9156bf3fcfa73eaae5ed
      "metadata": {
        "colab": {
          "base_uri": "https://localhost:8080/"
        },
        "id": "yZTB1iamGceG",
<<<<<<< HEAD
        "outputId": "be5149b0-b909-48e8-a694-57c296af8584"
=======
        "outputId": "de57ba8b-0bee-44b2-c067-af8e03d8584b"
>>>>>>> 0ee1ced983769f85ddaa9156bf3fcfa73eaae5ed
      },
      "outputs": [
        {
          "output_type": "stream",
          "name": "stdout",
          "text": [
            "['DepDelay', 'DepDelayMinutes', 'DepDel15', 'DepartureDelayGroups', 'ArrDelay', 'ArrDelayMinutes', 'ArrDel15', 'ArrivalDelayGroups', 'CarrierDelay', 'WeatherDelay', 'NASDelay', 'SecurityDelay', 'LateAircraftDelay', 'DivArrDelay']\n"
          ]
        }
      ],
      "source": [
        "# Extract columns that contain the word 'Del'\n",
        "delay_columns = [col for col in df_temp.columns if 'Del' in col]\n",
        "\n",
        "print(delay_columns)\n"
      ]
    },
    {
      "cell_type": "markdown",
      "metadata": {
        "id": "1dxag-XGGceG"
      },
      "source": [
        "Here are some more questions to help you find out more about your dataset.\n",
        "\n",
        "**Questions**   \n",
        "1. How many rows and columns does the dataset have?   \n",
        "2. How many years are included in the dataset?   \n",
        "3. What is the date range for the dataset?   \n",
        "4. Which airlines are included in the dataset?   \n",
        "5. Which origin and destination airports are covered?"
      ]
    },
    {
      "cell_type": "code",
<<<<<<< HEAD
      "execution_count": 20,
=======
      "execution_count": null,
>>>>>>> 0ee1ced983769f85ddaa9156bf3fcfa73eaae5ed
      "metadata": {
        "colab": {
          "base_uri": "https://localhost:8080/"
        },
        "id": "hwh0XgVEGceG",
<<<<<<< HEAD
        "outputId": "2406df42-e696-4892-eb21-3b9e0907ba37"
=======
        "outputId": "ec4e5bfc-18b1-43ed-db33-a67aa99afdf5"
>>>>>>> 0ee1ced983769f85ddaa9156bf3fcfa73eaae5ed
      },
      "outputs": [
        {
          "output_type": "stream",
          "name": "stdout",
          "text": [
            "The #rows and #columns are  585749  and  110\n",
            "The years in this dataset are:  [2018]\n",
            "The months covered in this dataset are:  [9]\n",
            "The date range for data is : 2018-09-01  to  2018-09-30\n",
            "The airlines covered in this dataset are:  ['9E', 'B6', 'WN', 'YV', 'YX', 'EV', 'AA', 'AS', 'DL', 'HA', 'UA', 'F9', 'G4', 'MQ', 'NK', 'OH', 'OO']\n",
            "The Origin airports covered are:  ['DFW', 'LGA', 'MSN', 'MSP', 'ATL', 'BDL', 'VLD', 'JFK', 'RDU', 'CHS', 'DTW', 'GRB', 'PVD', 'SHV', 'FNT', 'PIT', 'RIC', 'RST', 'RSW', 'CVG', 'LIT', 'ORD', 'JAX', 'TRI', 'BOS', 'CWA', 'DCA', 'CHO', 'AVP', 'IND', 'GRR', 'BTR', 'MEM', 'TUL', 'CLE', 'STL', 'BTV', 'OMA', 'MGM', 'TVC', 'SAV', 'GSP', 'EWR', 'OAJ', 'BNA', 'MCI', 'TLH', 'ROC', 'LEX', 'PWM', 'BUF', 'AGS', 'CLT', 'GSO', 'BWI', 'SAT', 'PHL', 'TYS', 'ACK', 'DSM', 'GNV', 'AVL', 'BGR', 'MHT', 'ILM', 'MOT', 'IAH', 'SBN', 'SYR', 'ORF', 'MKE', 'XNA', 'MSY', 'PBI', 'ABE', 'HPN', 'EVV', 'ALB', 'LNK', 'AUS', 'PHF', 'CHA', 'GTR', 'BMI', 'BQK', 'CID', 'CAK', 'ATW', 'ABY', 'CAE', 'SRQ', 'MLI', 'BHM', 'IAD', 'CSG', 'CMH', 'MCO', 'MBS', 'FLL', 'SDF', 'TPA', 'MVY', 'LAS', 'LGB', 'SFO', 'SAN', 'LAX', 'RNO', 'PDX', 'ANC', 'ABQ', 'SLC', 'DEN', 'PHX', 'OAK', 'SMF', 'SJU', 'SEA', 'HOU', 'STX', 'BUR', 'SWF', 'SJC', 'DAB', 'BQN', 'PSE', 'ORH', 'HYA', 'STT', 'ONT', 'HRL', 'ICT', 'ISP', 'LBB', 'MAF', 'MDW', 'OKC', 'PNS', 'SNA', 'TUS', 'AMA', 'BOI', 'CRP', 'DAL', 'ECP', 'ELP', 'GEG', 'LFT', 'MFE', 'MDT', 'JAN', 'COS', 'MOB', 'VPS', 'MTJ', 'DRO', 'GPT', 'BFL', 'MRY', 'SBA', 'PSP', 'FSD', 'BRO', 'RAP', 'COU', 'STS', 'PIA', 'FAT', 'SBP', 'FSM', 'HSV', 'BIS', 'DAY', 'BZN', 'MIA', 'EYW', 'MYR', 'HHH', 'GJT', 'FAR', 'SGF', 'HOB', 'CLL', 'LRD', 'AEX', 'ERI', 'MLU', 'LCH', 'ROA', 'LAW', 'MHK', 'GRK', 'SAF', 'GRI', 'JLN', 'ROW', 'FWA', 'CRW', 'LAN', 'OGG', 'HNL', 'KOA', 'EGE', 'LIH', 'MLB', 'JAC', 'FAI', 'RDM', 'ADQ', 'BET', 'BRW', 'SCC', 'KTN', 'YAK', 'CDV', 'JNU', 'SIT', 'PSG', 'WRG', 'OME', 'OTZ', 'ADK', 'FCA', 'FAY', 'PSC', 'BIL', 'MSO', 'ITO', 'PPG', 'MFR', 'EUG', 'GUM', 'SPN', 'DLH', 'TTN', 'BKG', 'SFB', 'PIE', 'PGD', 'AZA', 'SMX', 'RFD', 'SCK', 'OWB', 'HTS', 'BLV', 'IAG', 'USA', 'GFK', 'BLI', 'ELM', 'PBG', 'LCK', 'GTF', 'OGD', 'IDA', 'PVU', 'TOL', 'PSM', 'CKB', 'HGR', 'SPI', 'STC', 'ACT', 'TYR', 'ABI', 'AZO', 'CMI', 'BPT', 'GCK', 'MQT', 'ALO', 'TXK', 'SPS', 'SWO', 'DBQ', 'SUX', 'SJT', 'GGG', 'LSE', 'LBE', 'ACY', 'LYH', 'PGV', 'HVN', 'EWN', 'DHN', 'PIH', 'IMT', 'WYS', 'CPR', 'SCE', 'HLN', 'SUN', 'ISN', 'CMX', 'EAU', 'LWB', 'SHD', 'LBF', 'HYS', 'SLN', 'EAR', 'VEL', 'CNY', 'GCC', 'RKS', 'PUB', 'LBL', 'MKG', 'PAH', 'CGI', 'UIN', 'BFF', 'DVL', 'JMS', 'LAR', 'SGU', 'PRC', 'ASE', 'RDD', 'ACV', 'OTH', 'COD', 'LWS', 'ABR', 'APN', 'ESC', 'PLN', 'BJI', 'BRD', 'BTM', 'CDC', 'CIU', 'EKO', 'TWF', 'HIB', 'BGM', 'RHI', 'ITH', 'INL', 'FLG', 'YUM', 'MEI', 'PIB', 'HDN']\n",
            "The Destination airports covered are:  ['CVG', 'PWM', 'RDU', 'MSP', 'MSN', 'SHV', 'CLT', 'PIT', 'RIC', 'IAH', 'ATL', 'JFK', 'DCA', 'DTW', 'LGA', 'TYS', 'PVD', 'FNT', 'LIT', 'BUF', 'ORD', 'TRI', 'IND', 'BGR', 'AVP', 'BWI', 'LEX', 'BDL', 'GRR', 'CWA', 'TUL', 'MEM', 'AGS', 'EWR', 'MGM', 'PHL', 'SYR', 'OMA', 'STL', 'TVC', 'ORF', 'CLE', 'ABY', 'BOS', 'OAJ', 'TLH', 'BTR', 'SAT', 'JAX', 'BNA', 'CHO', 'VLD', 'ROC', 'DFW', 'GNV', 'ACK', 'PBI', 'CHS', 'GRB', 'MOT', 'MKE', 'DSM', 'ILM', 'GSO', 'MCI', 'SBN', 'BTV', 'MVY', 'XNA', 'RST', 'EVV', 'HPN', 'RSW', 'MDT', 'ROA', 'GSP', 'MCO', 'CSG', 'SAV', 'PHF', 'ALB', 'CHA', 'ABE', 'BMI', 'MSY', 'IAD', 'GTR', 'CID', 'CAK', 'ATW', 'AUS', 'BQK', 'MLI', 'CAE', 'CMH', 'AVL', 'MBS', 'FLL', 'SDF', 'TPA', 'LNK', 'SRQ', 'MHT', 'BHM', 'LAS', 'SFO', 'SAN', 'RNO', 'LGB', 'ANC', 'PDX', 'SJU', 'ABQ', 'SLC', 'DEN', 'LAX', 'PHX', 'OAK', 'SMF', 'SEA', 'STX', 'BUR', 'DAB', 'SJC', 'SWF', 'HOU', 'BQN', 'PSE', 'ORH', 'HYA', 'STT', 'ONT', 'DAL', 'ECP', 'ELP', 'HRL', 'MAF', 'MDW', 'OKC', 'PNS', 'SNA', 'AMA', 'BOI', 'GEG', 'ICT', 'LBB', 'TUS', 'ISP', 'CRP', 'MFE', 'LFT', 'VPS', 'JAN', 'COS', 'MOB', 'DRO', 'GPT', 'BFL', 'COU', 'SBP', 'MTJ', 'SBA', 'PSP', 'FSD', 'FSM', 'BRO', 'PIA', 'STS', 'FAT', 'RAP', 'MRY', 'HSV', 'BIS', 'DAY', 'BZN', 'MIA', 'EYW', 'MYR', 'HHH', 'GJT', 'FAR', 'MLU', 'LRD', 'CLL', 'LCH', 'FWA', 'GRK', 'SGF', 'HOB', 'LAW', 'MHK', 'SAF', 'JLN', 'ROW', 'GRI', 'AEX', 'CRW', 'LAN', 'ERI', 'HNL', 'KOA', 'OGG', 'EGE', 'LIH', 'JAC', 'MLB', 'RDM', 'BET', 'ADQ', 'BRW', 'SCC', 'FAI', 'JNU', 'CDV', 'YAK', 'SIT', 'KTN', 'WRG', 'PSG', 'OME', 'OTZ', 'ADK', 'FCA', 'BIL', 'PSC', 'FAY', 'MSO', 'ITO', 'PPG', 'MFR', 'DLH', 'EUG', 'GUM', 'SPN', 'TTN', 'BKG', 'AZA', 'SFB', 'LCK', 'BLI', 'SCK', 'PIE', 'RFD', 'PVU', 'PBG', 'BLV', 'PGD', 'SPI', 'USA', 'TOL', 'IDA', 'ELM', 'HTS', 'HGR', 'SMX', 'OGD', 'GFK', 'STC', 'GTF', 'IAG', 'CKB', 'OWB', 'PSM', 'ABI', 'TYR', 'ALO', 'SUX', 'AZO', 'ACT', 'CMI', 'BPT', 'TXK', 'SWO', 'SPS', 'DBQ', 'SJT', 'GGG', 'LSE', 'MQT', 'GCK', 'LBE', 'ACY', 'LYH', 'PGV', 'HVN', 'EWN', 'DHN', 'PIH', 'WYS', 'SCE', 'IMT', 'HLN', 'ASE', 'SUN', 'ISN', 'EAR', 'SGU', 'VEL', 'SHD', 'LWB', 'MKG', 'SLN', 'HYS', 'BFF', 'PUB', 'LBL', 'CMX', 'EAU', 'PAH', 'UIN', 'RKS', 'CGI', 'CNY', 'JMS', 'DVL', 'LAR', 'GCC', 'LBF', 'PRC', 'RDD', 'ACV', 'OTH', 'COD', 'LWS', 'ABR', 'APN', 'PLN', 'BJI', 'CPR', 'BRD', 'BTM', 'CDC', 'CIU', 'ESC', 'EKO', 'ITH', 'HIB', 'BGM', 'TWF', 'RHI', 'INL', 'FLG', 'YUM', 'MEI', 'PIB', 'HDN']\n"
          ]
        }
      ],
      "source": [
        "# to answer above questions, complete the following code\n",
        "print(\"The #rows and #columns are \", df_temp.shape[0], \" and \", df_temp.shape[1])\n",
        "print(\"The years in this dataset are: \", df_temp['Year'].unique())\n",
        "print(\"The months covered in this dataset are: \", df_temp['Month'].unique())\n",
        "print(\"The date range for data is :\" , df_temp['FlightDate'].min(), \" to \", df_temp['FlightDate'].max())\n",
        "print(\"The airlines covered in this dataset are: \", df_temp['Reporting_Airline'].unique().tolist())\n",
        "print(\"The Origin airports covered are: \", df_temp['Origin'].unique().tolist())\n",
        "print(\"The Destination airports covered are: \", df_temp['Dest'].unique().tolist())\n"
      ]
    },
    {
      "cell_type": "markdown",
      "metadata": {
        "id": "5Ym3rF8PGceH"
      },
      "source": [
        "**Question**: What is the count of all the origin and destination airports?\n",
        "\n",
        "**Hint**: You can use the Pandas `values_count` function ([documentation](https://pandas.pydata.org/pandas-docs/stable/reference/api/pandas.Series.value_counts.html)) to find out the values for each airport using the columns `Origin` and `Dest`."
      ]
    },
    {
      "cell_type": "code",
<<<<<<< HEAD
      "execution_count": 21,
=======
      "execution_count": null,
>>>>>>> 0ee1ced983769f85ddaa9156bf3fcfa73eaae5ed
      "metadata": {
        "colab": {
          "base_uri": "https://localhost:8080/",
          "height": 423
        },
        "id": "xILUxZzIGceH",
<<<<<<< HEAD
        "outputId": "97f46ab1-5fef-4d12-afaa-d5680c55a8f2"
=======
        "outputId": "498cfdc9-40ea-4660-93c1-c9304cd3f6c9"
>>>>>>> 0ee1ced983769f85ddaa9156bf3fcfa73eaae5ed
      },
      "outputs": [
        {
          "output_type": "execute_result",
          "data": {
            "text/plain": [
              "     Origin  Destination\n",
              "ABE     303          303\n",
              "ABI     169          169\n",
              "ABQ    2077         2076\n",
              "ABR      60           60\n",
              "ABY      79           79\n",
              "..      ...          ...\n",
              "WRG      60           60\n",
              "WYS      52           52\n",
              "XNA    1004         1004\n",
              "YAK      60           60\n",
              "YUM      96           96\n",
              "\n",
              "[346 rows x 2 columns]"
            ],
            "text/html": [
              "\n",
<<<<<<< HEAD
              "  <div id=\"df-3b36063b-f423-4ae1-b829-c66c0725a546\" class=\"colab-df-container\">\n",
=======
              "  <div id=\"df-9ab32deb-b965-4d66-b277-11aa9caccbba\" class=\"colab-df-container\">\n",
>>>>>>> 0ee1ced983769f85ddaa9156bf3fcfa73eaae5ed
              "    <div>\n",
              "<style scoped>\n",
              "    .dataframe tbody tr th:only-of-type {\n",
              "        vertical-align: middle;\n",
              "    }\n",
              "\n",
              "    .dataframe tbody tr th {\n",
              "        vertical-align: top;\n",
              "    }\n",
              "\n",
              "    .dataframe thead th {\n",
              "        text-align: right;\n",
              "    }\n",
              "</style>\n",
              "<table border=\"1\" class=\"dataframe\">\n",
              "  <thead>\n",
              "    <tr style=\"text-align: right;\">\n",
              "      <th></th>\n",
              "      <th>Origin</th>\n",
              "      <th>Destination</th>\n",
              "    </tr>\n",
              "  </thead>\n",
              "  <tbody>\n",
              "    <tr>\n",
              "      <th>ABE</th>\n",
              "      <td>303</td>\n",
              "      <td>303</td>\n",
              "    </tr>\n",
              "    <tr>\n",
              "      <th>ABI</th>\n",
              "      <td>169</td>\n",
              "      <td>169</td>\n",
              "    </tr>\n",
              "    <tr>\n",
              "      <th>ABQ</th>\n",
              "      <td>2077</td>\n",
              "      <td>2076</td>\n",
              "    </tr>\n",
              "    <tr>\n",
              "      <th>ABR</th>\n",
              "      <td>60</td>\n",
              "      <td>60</td>\n",
              "    </tr>\n",
              "    <tr>\n",
              "      <th>ABY</th>\n",
              "      <td>79</td>\n",
              "      <td>79</td>\n",
              "    </tr>\n",
              "    <tr>\n",
              "      <th>...</th>\n",
              "      <td>...</td>\n",
              "      <td>...</td>\n",
              "    </tr>\n",
              "    <tr>\n",
              "      <th>WRG</th>\n",
              "      <td>60</td>\n",
              "      <td>60</td>\n",
              "    </tr>\n",
              "    <tr>\n",
              "      <th>WYS</th>\n",
              "      <td>52</td>\n",
              "      <td>52</td>\n",
              "    </tr>\n",
              "    <tr>\n",
              "      <th>XNA</th>\n",
              "      <td>1004</td>\n",
              "      <td>1004</td>\n",
              "    </tr>\n",
              "    <tr>\n",
              "      <th>YAK</th>\n",
              "      <td>60</td>\n",
              "      <td>60</td>\n",
              "    </tr>\n",
              "    <tr>\n",
              "      <th>YUM</th>\n",
              "      <td>96</td>\n",
              "      <td>96</td>\n",
              "    </tr>\n",
              "  </tbody>\n",
              "</table>\n",
              "<p>346 rows × 2 columns</p>\n",
              "</div>\n",
              "    <div class=\"colab-df-buttons\">\n",
              "\n",
              "  <div class=\"colab-df-container\">\n",
<<<<<<< HEAD
              "    <button class=\"colab-df-convert\" onclick=\"convertToInteractive('df-3b36063b-f423-4ae1-b829-c66c0725a546')\"\n",
=======
              "    <button class=\"colab-df-convert\" onclick=\"convertToInteractive('df-9ab32deb-b965-4d66-b277-11aa9caccbba')\"\n",
>>>>>>> 0ee1ced983769f85ddaa9156bf3fcfa73eaae5ed
              "            title=\"Convert this dataframe to an interactive table.\"\n",
              "            style=\"display:none;\">\n",
              "\n",
              "  <svg xmlns=\"http://www.w3.org/2000/svg\" height=\"24px\" viewBox=\"0 -960 960 960\">\n",
              "    <path d=\"M120-120v-720h720v720H120Zm60-500h600v-160H180v160Zm220 220h160v-160H400v160Zm0 220h160v-160H400v160ZM180-400h160v-160H180v160Zm440 0h160v-160H620v160ZM180-180h160v-160H180v160Zm440 0h160v-160H620v160Z\"/>\n",
              "  </svg>\n",
              "    </button>\n",
              "\n",
              "  <style>\n",
              "    .colab-df-container {\n",
              "      display:flex;\n",
              "      gap: 12px;\n",
              "    }\n",
              "\n",
              "    .colab-df-convert {\n",
              "      background-color: #E8F0FE;\n",
              "      border: none;\n",
              "      border-radius: 50%;\n",
              "      cursor: pointer;\n",
              "      display: none;\n",
              "      fill: #1967D2;\n",
              "      height: 32px;\n",
              "      padding: 0 0 0 0;\n",
              "      width: 32px;\n",
              "    }\n",
              "\n",
              "    .colab-df-convert:hover {\n",
              "      background-color: #E2EBFA;\n",
              "      box-shadow: 0px 1px 2px rgba(60, 64, 67, 0.3), 0px 1px 3px 1px rgba(60, 64, 67, 0.15);\n",
              "      fill: #174EA6;\n",
              "    }\n",
              "\n",
              "    .colab-df-buttons div {\n",
              "      margin-bottom: 4px;\n",
              "    }\n",
              "\n",
              "    [theme=dark] .colab-df-convert {\n",
              "      background-color: #3B4455;\n",
              "      fill: #D2E3FC;\n",
              "    }\n",
              "\n",
              "    [theme=dark] .colab-df-convert:hover {\n",
              "      background-color: #434B5C;\n",
              "      box-shadow: 0px 1px 3px 1px rgba(0, 0, 0, 0.15);\n",
              "      filter: drop-shadow(0px 1px 2px rgba(0, 0, 0, 0.3));\n",
              "      fill: #FFFFFF;\n",
              "    }\n",
              "  </style>\n",
              "\n",
              "    <script>\n",
              "      const buttonEl =\n",
<<<<<<< HEAD
              "        document.querySelector('#df-3b36063b-f423-4ae1-b829-c66c0725a546 button.colab-df-convert');\n",
=======
              "        document.querySelector('#df-9ab32deb-b965-4d66-b277-11aa9caccbba button.colab-df-convert');\n",
>>>>>>> 0ee1ced983769f85ddaa9156bf3fcfa73eaae5ed
              "      buttonEl.style.display =\n",
              "        google.colab.kernel.accessAllowed ? 'block' : 'none';\n",
              "\n",
              "      async function convertToInteractive(key) {\n",
<<<<<<< HEAD
              "        const element = document.querySelector('#df-3b36063b-f423-4ae1-b829-c66c0725a546');\n",
=======
              "        const element = document.querySelector('#df-9ab32deb-b965-4d66-b277-11aa9caccbba');\n",
>>>>>>> 0ee1ced983769f85ddaa9156bf3fcfa73eaae5ed
              "        const dataTable =\n",
              "          await google.colab.kernel.invokeFunction('convertToInteractive',\n",
              "                                                    [key], {});\n",
              "        if (!dataTable) return;\n",
              "\n",
              "        const docLinkHtml = 'Like what you see? Visit the ' +\n",
              "          '<a target=\"_blank\" href=https://colab.research.google.com/notebooks/data_table.ipynb>data table notebook</a>'\n",
              "          + ' to learn more about interactive tables.';\n",
              "        element.innerHTML = '';\n",
              "        dataTable['output_type'] = 'display_data';\n",
              "        await google.colab.output.renderOutput(dataTable, element);\n",
              "        const docLink = document.createElement('div');\n",
              "        docLink.innerHTML = docLinkHtml;\n",
              "        element.appendChild(docLink);\n",
              "      }\n",
              "    </script>\n",
              "  </div>\n",
              "\n",
              "\n",
<<<<<<< HEAD
              "<div id=\"df-2e3cb4dd-b00d-4f00-968d-313db611f99f\">\n",
              "  <button class=\"colab-df-quickchart\" onclick=\"quickchart('df-2e3cb4dd-b00d-4f00-968d-313db611f99f')\"\n",
=======
              "<div id=\"df-65af2935-085a-4e0e-b8e2-e9da4e6f6680\">\n",
              "  <button class=\"colab-df-quickchart\" onclick=\"quickchart('df-65af2935-085a-4e0e-b8e2-e9da4e6f6680')\"\n",
>>>>>>> 0ee1ced983769f85ddaa9156bf3fcfa73eaae5ed
              "            title=\"Suggest charts.\"\n",
              "            style=\"display:none;\">\n",
              "\n",
              "<svg xmlns=\"http://www.w3.org/2000/svg\" height=\"24px\"viewBox=\"0 0 24 24\"\n",
              "     width=\"24px\">\n",
              "    <g>\n",
              "        <path d=\"M19 3H5c-1.1 0-2 .9-2 2v14c0 1.1.9 2 2 2h14c1.1 0 2-.9 2-2V5c0-1.1-.9-2-2-2zM9 17H7v-7h2v7zm4 0h-2V7h2v10zm4 0h-2v-4h2v4z\"/>\n",
              "    </g>\n",
              "</svg>\n",
              "  </button>\n",
              "\n",
              "<style>\n",
              "  .colab-df-quickchart {\n",
              "      --bg-color: #E8F0FE;\n",
              "      --fill-color: #1967D2;\n",
              "      --hover-bg-color: #E2EBFA;\n",
              "      --hover-fill-color: #174EA6;\n",
              "      --disabled-fill-color: #AAA;\n",
              "      --disabled-bg-color: #DDD;\n",
              "  }\n",
              "\n",
              "  [theme=dark] .colab-df-quickchart {\n",
              "      --bg-color: #3B4455;\n",
              "      --fill-color: #D2E3FC;\n",
              "      --hover-bg-color: #434B5C;\n",
              "      --hover-fill-color: #FFFFFF;\n",
              "      --disabled-bg-color: #3B4455;\n",
              "      --disabled-fill-color: #666;\n",
              "  }\n",
              "\n",
              "  .colab-df-quickchart {\n",
              "    background-color: var(--bg-color);\n",
              "    border: none;\n",
              "    border-radius: 50%;\n",
              "    cursor: pointer;\n",
              "    display: none;\n",
              "    fill: var(--fill-color);\n",
              "    height: 32px;\n",
              "    padding: 0;\n",
              "    width: 32px;\n",
              "  }\n",
              "\n",
              "  .colab-df-quickchart:hover {\n",
              "    background-color: var(--hover-bg-color);\n",
              "    box-shadow: 0 1px 2px rgba(60, 64, 67, 0.3), 0 1px 3px 1px rgba(60, 64, 67, 0.15);\n",
              "    fill: var(--button-hover-fill-color);\n",
              "  }\n",
              "\n",
              "  .colab-df-quickchart-complete:disabled,\n",
              "  .colab-df-quickchart-complete:disabled:hover {\n",
              "    background-color: var(--disabled-bg-color);\n",
              "    fill: var(--disabled-fill-color);\n",
              "    box-shadow: none;\n",
              "  }\n",
              "\n",
              "  .colab-df-spinner {\n",
              "    border: 2px solid var(--fill-color);\n",
              "    border-color: transparent;\n",
              "    border-bottom-color: var(--fill-color);\n",
              "    animation:\n",
              "      spin 1s steps(1) infinite;\n",
              "  }\n",
              "\n",
              "  @keyframes spin {\n",
              "    0% {\n",
              "      border-color: transparent;\n",
              "      border-bottom-color: var(--fill-color);\n",
              "      border-left-color: var(--fill-color);\n",
              "    }\n",
              "    20% {\n",
              "      border-color: transparent;\n",
              "      border-left-color: var(--fill-color);\n",
              "      border-top-color: var(--fill-color);\n",
              "    }\n",
              "    30% {\n",
              "      border-color: transparent;\n",
              "      border-left-color: var(--fill-color);\n",
              "      border-top-color: var(--fill-color);\n",
              "      border-right-color: var(--fill-color);\n",
              "    }\n",
              "    40% {\n",
              "      border-color: transparent;\n",
              "      border-right-color: var(--fill-color);\n",
              "      border-top-color: var(--fill-color);\n",
              "    }\n",
              "    60% {\n",
              "      border-color: transparent;\n",
              "      border-right-color: var(--fill-color);\n",
              "    }\n",
              "    80% {\n",
              "      border-color: transparent;\n",
              "      border-right-color: var(--fill-color);\n",
              "      border-bottom-color: var(--fill-color);\n",
              "    }\n",
              "    90% {\n",
              "      border-color: transparent;\n",
              "      border-bottom-color: var(--fill-color);\n",
              "    }\n",
              "  }\n",
              "</style>\n",
              "\n",
              "  <script>\n",
              "    async function quickchart(key) {\n",
              "      const quickchartButtonEl =\n",
              "        document.querySelector('#' + key + ' button');\n",
              "      quickchartButtonEl.disabled = true;  // To prevent multiple clicks.\n",
              "      quickchartButtonEl.classList.add('colab-df-spinner');\n",
              "      try {\n",
              "        const charts = await google.colab.kernel.invokeFunction(\n",
              "            'suggestCharts', [key], {});\n",
              "      } catch (error) {\n",
              "        console.error('Error during call to suggestCharts:', error);\n",
              "      }\n",
              "      quickchartButtonEl.classList.remove('colab-df-spinner');\n",
              "      quickchartButtonEl.classList.add('colab-df-quickchart-complete');\n",
              "    }\n",
              "    (() => {\n",
              "      let quickchartButtonEl =\n",
<<<<<<< HEAD
              "        document.querySelector('#df-2e3cb4dd-b00d-4f00-968d-313db611f99f button');\n",
=======
              "        document.querySelector('#df-65af2935-085a-4e0e-b8e2-e9da4e6f6680 button');\n",
>>>>>>> 0ee1ced983769f85ddaa9156bf3fcfa73eaae5ed
              "      quickchartButtonEl.style.display =\n",
              "        google.colab.kernel.accessAllowed ? 'block' : 'none';\n",
              "    })();\n",
              "  </script>\n",
              "</div>\n",
              "    </div>\n",
              "  </div>\n"
            ]
          },
          "metadata": {},
<<<<<<< HEAD
          "execution_count": 21
=======
          "execution_count": 14
>>>>>>> 0ee1ced983769f85ddaa9156bf3fcfa73eaae5ed
        }
      ],
      "source": [
        "# Get counts for each origin and destination airport\n",
        "origin_counts = df_temp['Origin'].value_counts()\n",
        "dest_counts = df_temp['Dest'].value_counts()\n",
        "\n",
        "# Store the counts in a DataFrame\n",
        "counts = pd.DataFrame({'Origin': origin_counts, 'Destination': dest_counts})\n",
        "\n",
        "counts\n"
      ]
    },
    {
      "cell_type": "markdown",
      "metadata": {
        "id": "y-C28DTYGceH"
      },
      "source": [
        "**Question**: Print the top 15 origin and destination airports based on number of flights in the dataset.\n",
        "\n",
        "**Hint**: You can use the Pandas `sort_values` function ([documentation](https://pandas.pydata.org/pandas-docs/stable/reference/api/pandas.DataFrame.sort_values.html))."
      ]
    },
    {
      "cell_type": "code",
<<<<<<< HEAD
      "execution_count": 22,
=======
      "execution_count": null,
>>>>>>> 0ee1ced983769f85ddaa9156bf3fcfa73eaae5ed
      "metadata": {
        "colab": {
          "base_uri": "https://localhost:8080/"
        },
        "id": "MK_2EYQUGceH",
<<<<<<< HEAD
        "outputId": "fa014ff6-c5d5-46c9-9106-bb3799173804"
=======
        "outputId": "f5cad58c-c153-4a12-d5f6-f0da52a6b946"
>>>>>>> 0ee1ced983769f85ddaa9156bf3fcfa73eaae5ed
      },
      "outputs": [
        {
          "output_type": "stream",
          "name": "stdout",
          "text": [
            " top 15 origin airports:\n",
            "      Origin  Destination\n",
            "ATL   31525        31521\n",
            "ORD   28257        28250\n",
            "DFW   22802        22795\n",
            "DEN   19807        19807\n",
            "CLT   19655        19654\n",
            "LAX   17875        17873\n",
            "SFO   14332        14348\n",
            "IAH   14210        14203\n",
            "LGA   13850        13850\n",
            "MSP   13349        13347\n",
            "LAS   13318        13322\n",
            "PHX   13126        13128\n",
            "DTW   12725        12724\n",
            "BOS   12223        12227\n",
            "SEA   11872        11877\n",
            "\n",
            "top 15 destination airports :\n",
            "      Origin  Destination\n",
            "ATL   31525        31521\n",
            "ORD   28257        28250\n",
            "DFW   22802        22795\n",
            "DEN   19807        19807\n",
            "CLT   19655        19654\n",
            "LAX   17875        17873\n",
            "SFO   14332        14348\n",
            "IAH   14210        14203\n",
            "LGA   13850        13850\n",
            "MSP   13349        13347\n",
            "LAS   13318        13322\n",
            "PHX   13126        13128\n",
            "DTW   12725        12724\n",
            "BOS   12223        12227\n",
            "SEA   11872        11877\n"
          ]
        }
      ],
      "source": [
        "# top 15 origin airports\n",
        "print(\" top 15 origin airports:\\n\",counts.sort_values(by='Origin', ascending=False).head(15))\n",
        "# top 15 destinaton airports\n",
        "print(\"\\ntop 15 destination airports :\\n\",counts.sort_values(by='Destination', ascending=False).head(15))\n"
      ]
    },
    {
      "cell_type": "markdown",
      "metadata": {
        "id": "vYJ3i6PuGceI"
      },
      "source": [
        "**Question**: Given all the information about a flight trip, can you predict if it would be delayed?"
      ]
    },
    {
      "cell_type": "markdown",
      "source": [
        "Yes, given the right features and a sufficiently large dataset, you can predict if a flight would be delayed using machine learning models. Flight delays can be influenced by a number of factors, including but not limited to weather conditions, air traffic, technical issues with the aircraft, and issues at either the departure or arrival airports. By training a model on historical data that includes these factors, the model can learn patterns and correlations that lead to delays, allowing it to make predictions on future flights.\n"
      ],
      "metadata": {
        "id": "IQ-QxIzmGceI"
      }
    },
    {
      "cell_type": "markdown",
      "metadata": {
        "id": "ptCLFy8zGceI"
      },
      "source": [
        "Now, assume you are traveling from San Francisco to Los Angeles on a work trip. You want to have an ideas if your flight will be delayed, given a set of features, so that you can manage your reservations in Los Angeles better. How many features from this dataset would you know before your flight?\n",
        "\n",
        "Columns such as `DepDelay`, `ArrDelay`, `CarrierDelay`, `WeatherDelay`, `NASDelay`, `SecurityDelay`, `LateAircraftDelay`, and `DivArrDelay` contain information about a delay. But this delay could have occured at the origin or destination. If there were a sudden weather delay 10 minutes before landing, this data would not be helpful in managing your Los Angeles reservations.\n",
        "\n",
        "So to simplify the problem statement, consider the following columns to predict an arrival delay:<br>\n",
        "\n",
        "`Year`, `Quarter`, `Month`, `DayofMonth`, `DayOfWeek`, `FlightDate`, `Reporting_Airline`, `Origin`, `OriginState`, `Dest`, `DestState`, `CRSDepTime`, `DepDelayMinutes`, `DepartureDelayGroups`, `Cancelled`, `Diverted`, `Distance`, `DistanceGroup`, `ArrDelay`, `ArrDelayMinutes`, `ArrDel15`, `AirTime`\n",
        "\n",
        "You will also filter the source and destination airports to be:\n",
        "- Top airports: ATL, ORD, DFW, DEN, CLT, LAX, IAH, PHX, SFO\n",
        "- Top 5 airlines: UA, OO, WN, AA, DL\n",
        "\n",
        "This should help in reducing the size of data across the CSV files to be combined."
      ]
    },
    {
      "cell_type": "markdown",
      "metadata": {
        "id": "7-qq-XmwGceI"
      },
      "source": [
        "#### Combine all CSV files\n",
        "\n",
        "**Hint**:  \n",
        "First, create an empy dataframe that you will use to copy your individual dataframes from each file. Then, for each file in the `csv_files` list:\n",
        "\n",
        "1. Read the CSV file into a dataframe  \n",
        "2. Filter the columns based on the `filter_cols` variable\n",
        "\n",
        "```\n",
        "        columns = ['col1', 'col2']\n",
        "        df_filter = df[columns]\n",
        "```\n",
        "\n",
        "3. Keep only the subset_vals in each of the subset_cols. Use the `isin` Pandas function ([documentation](https://pandas.pydata.org/pandas-docs/stable/reference/api/pandas.DataFrame.isin.html)) to check if the `val` is in the dataframe column and then choose the rows that include it.\n",
        "\n",
        "```\n",
        "        df_eg[df_eg['col1'].isin('5')]\n",
        "```\n",
        "\n",
        "4. Concatenate the dataframe with the empty dataframe"
      ]
    },
    {
      "cell_type": "code",
      "source": [
        "from tqdm import tqdm\n",
        "import pandas as pd\n",
        "\n",
        "def combine_csv(csv_files, filter_cols, subset_cols, subset_vals, file_name):\n",
        "    \"\"\"\n",
        "    Combine csv files into one Data Frame\n",
        "    csv_files: list of csv file paths\n",
        "    filter_cols: list of columns to filter\n",
        "    subset_cols: list of columns to subset rows\n",
        "    subset_vals: list of list of values to subset rows\n",
        "    \"\"\"\n",
        "    # Create an empty list to store DataFrames\n",
        "    dfs = []\n",
        "\n",
        "    # Iterate over each CSV file using tqdm for progress bar\n",
        "    for file in tqdm(csv_files, desc=\"Processing CSVs\", unit=\"file\"):\n",
        "        # Read the CSV file into a dataframe\n",
        "        df_temp = pd.read_csv(f\"{csv_base_path}/{file}\", usecols=filter_cols)\n",
        "\n",
        "        # Filter rows based on subset_vals and subset_cols\n",
        "        for col, vals in zip(subset_cols, subset_vals):\n",
        "            df_temp = df_temp[df_temp[col].isin(vals)]\n",
        "\n",
        "        # Append the DataFrame to the list\n",
        "        dfs.append(df_temp)\n",
        "\n",
        "    # Concatenate all DataFrames in the list\n",
        "    df_combined = pd.concat(dfs, axis=0, ignore_index=True)\n",
        "\n",
        "    # Optionally save the combined dataframe to a new CSV file\n",
        "    #df_combined.to_csv(file_name, index=False)\n",
        "\n",
        "    return df_combined\n"
      ],
      "metadata": {
        "id": "F-ku7h3wrEDg"
      },
<<<<<<< HEAD
      "execution_count": 23,
=======
      "execution_count": null,
>>>>>>> 0ee1ced983769f85ddaa9156bf3fcfa73eaae5ed
      "outputs": []
    },
    {
      "cell_type": "code",
<<<<<<< HEAD
      "execution_count": 24,
=======
      "execution_count": null,
>>>>>>> 0ee1ced983769f85ddaa9156bf3fcfa73eaae5ed
      "metadata": {
        "id": "pnPnOV1nGceX"
      },
      "outputs": [],
      "source": [
        "#cols is the list of columns to predict Arrival Delay\n",
        "cols = ['Year','Quarter','Month','DayofMonth','DayOfWeek','FlightDate',\n",
        "        'Reporting_Airline','Origin','OriginState','Dest','DestState',\n",
        "        'CRSDepTime','Cancelled','Diverted','Distance','DistanceGroup',\n",
        "        'ArrDelay','ArrDelayMinutes','ArrDel15','AirTime']\n",
        "\n",
        "subset_cols = ['Origin', 'Dest', 'Reporting_Airline']\n",
        "\n",
        "# subset_vals is a list collection of the top origin and destination airports and top 5 airlines\n",
        "subset_vals = [['ATL', 'ORD', 'DFW', 'DEN', 'CLT', 'LAX', 'IAH', 'PHX', 'SFO'],\n",
        "               ['ATL', 'ORD', 'DFW', 'DEN', 'CLT', 'LAX', 'IAH', 'PHX', 'SFO'],\n",
        "               ['UA', 'OO', 'WN', 'AA', 'DL']]"
      ]
    },
    {
      "cell_type": "markdown",
      "metadata": {
        "id": "Sqit0Pl6GceX"
      },
      "source": [
        "Use the function above to merge all the different files into a single file that you can read easily.\n",
        "\n",
        "**Note**: This will take 5-7 minutes to complete."
      ]
    },
    {
      "cell_type": "code",
<<<<<<< HEAD
      "execution_count": 25,
=======
      "execution_count": null,
>>>>>>> 0ee1ced983769f85ddaa9156bf3fcfa73eaae5ed
      "metadata": {
        "id": "ZN1GJQZfGceY",
        "colab": {
          "base_uri": "https://localhost:8080/"
        },
<<<<<<< HEAD
        "outputId": "362a9d1c-362c-4aca-8960-8ef47660cc78"
=======
        "outputId": "a16283ff-ee13-46f3-fd41-812b3e11c05b"
>>>>>>> 0ee1ced983769f85ddaa9156bf3fcfa73eaae5ed
      },
      "outputs": [
        {
          "output_type": "stream",
          "name": "stderr",
          "text": [
<<<<<<< HEAD
            "Processing CSVs: 100%|██████████| 60/60 [03:41<00:00,  3.69s/file]\n"
=======
            "Processing CSVs: 100%|██████████| 60/60 [03:00<00:00,  3.00s/file]\n"
>>>>>>> 0ee1ced983769f85ddaa9156bf3fcfa73eaae5ed
          ]
        },
        {
          "output_type": "stream",
          "name": "stdout",
          "text": [
<<<<<<< HEAD
            "csv's merged in 3.7 minutes\n"
=======
            "csv's merged in 3.01 minutes\n"
>>>>>>> 0ee1ced983769f85ddaa9156bf3fcfa73eaae5ed
          ]
        }
      ],
      "source": [
        "start = time.time()\n",
        "\n",
        "# Define the file name for the combined CSV\n",
        "combined_csv_filename = f\"{base_path}/combined_files.csv\"\n",
        "\n",
        "# Call the combine_csv function\n",
        "combined_df = combine_csv(csv_files, cols, subset_cols, subset_vals, combined_csv_filename)\n",
        "\n",
        "\n",
        "print(f'csv\\'s merged in {round((time.time() - start)/60,2)} minutes')"
      ]
    },
    {
      "cell_type": "markdown",
      "metadata": {
        "id": "o7vqu2IMGceY"
      },
      "source": [
        "#### Load dataset\n",
        "\n",
        "Load the combined dataset."
      ]
    },
    {
      "cell_type": "code",
<<<<<<< HEAD
      "execution_count": 26,
=======
      "execution_count": null,
>>>>>>> 0ee1ced983769f85ddaa9156bf3fcfa73eaae5ed
      "metadata": {
        "id": "3UFEbduKGceY"
      },
      "outputs": [],
      "source": [
        "data = combined_df# Enter your code here to read the combined csv file."
      ]
    },
    {
      "cell_type": "markdown",
      "metadata": {
        "id": "oDoMCYu_GceY"
      },
      "source": [
        "Print the first 5 records."
      ]
    },
    {
      "cell_type": "code",
<<<<<<< HEAD
      "execution_count": 27,
=======
      "execution_count": null,
>>>>>>> 0ee1ced983769f85ddaa9156bf3fcfa73eaae5ed
      "metadata": {
        "id": "PY0GVqNBGceY",
        "colab": {
          "base_uri": "https://localhost:8080/",
          "height": 226
        },
<<<<<<< HEAD
        "outputId": "ee4ec11a-e257-44a9-fb33-d9b412ee07c7"
=======
        "outputId": "5c449f06-99cc-4e2f-fa81-e7582d6b7725"
>>>>>>> 0ee1ced983769f85ddaa9156bf3fcfa73eaae5ed
      },
      "outputs": [
        {
          "output_type": "execute_result",
          "data": {
            "text/plain": [
              "   Year  Quarter  Month  DayofMonth  DayOfWeek  FlightDate Reporting_Airline  \\\n",
              "0  2015        4     10           1          4  2015-10-01                AA   \n",
              "1  2015        4     10           2          5  2015-10-02                AA   \n",
              "2  2015        4     10           3          6  2015-10-03                AA   \n",
              "3  2015        4     10           4          7  2015-10-04                AA   \n",
              "4  2015        4     10           5          1  2015-10-05                AA   \n",
              "\n",
              "  Origin OriginState Dest DestState  CRSDepTime  ArrDelay  ArrDelayMinutes  \\\n",
              "0    ORD          IL  CLT        NC        2149      -8.0              0.0   \n",
              "1    ORD          IL  CLT        NC        2149      -6.0              0.0   \n",
              "2    ORD          IL  CLT        NC        2149     -18.0              0.0   \n",
              "3    ORD          IL  CLT        NC        2149     -15.0              0.0   \n",
              "4    ORD          IL  CLT        NC        2145     -36.0              0.0   \n",
              "\n",
              "   ArrDel15  Cancelled  Diverted  AirTime  Distance  DistanceGroup  \n",
              "0       0.0        0.0       0.0     89.0     599.0              3  \n",
              "1       0.0        0.0       0.0     98.0     599.0              3  \n",
              "2       0.0        0.0       0.0     93.0     599.0              3  \n",
              "3       0.0        0.0       0.0     88.0     599.0              3  \n",
              "4       0.0        0.0       0.0     76.0     599.0              3  "
            ],
            "text/html": [
              "\n",
<<<<<<< HEAD
              "  <div id=\"df-25b9bcf2-f7f7-4646-90d5-23a1e9931c2f\" class=\"colab-df-container\">\n",
=======
              "  <div id=\"df-e06e75f7-9cbf-4f16-9a54-a9dd835a9b75\" class=\"colab-df-container\">\n",
>>>>>>> 0ee1ced983769f85ddaa9156bf3fcfa73eaae5ed
              "    <div>\n",
              "<style scoped>\n",
              "    .dataframe tbody tr th:only-of-type {\n",
              "        vertical-align: middle;\n",
              "    }\n",
              "\n",
              "    .dataframe tbody tr th {\n",
              "        vertical-align: top;\n",
              "    }\n",
              "\n",
              "    .dataframe thead th {\n",
              "        text-align: right;\n",
              "    }\n",
              "</style>\n",
              "<table border=\"1\" class=\"dataframe\">\n",
              "  <thead>\n",
              "    <tr style=\"text-align: right;\">\n",
              "      <th></th>\n",
              "      <th>Year</th>\n",
              "      <th>Quarter</th>\n",
              "      <th>Month</th>\n",
              "      <th>DayofMonth</th>\n",
              "      <th>DayOfWeek</th>\n",
              "      <th>FlightDate</th>\n",
              "      <th>Reporting_Airline</th>\n",
              "      <th>Origin</th>\n",
              "      <th>OriginState</th>\n",
              "      <th>Dest</th>\n",
              "      <th>DestState</th>\n",
              "      <th>CRSDepTime</th>\n",
              "      <th>ArrDelay</th>\n",
              "      <th>ArrDelayMinutes</th>\n",
              "      <th>ArrDel15</th>\n",
              "      <th>Cancelled</th>\n",
              "      <th>Diverted</th>\n",
              "      <th>AirTime</th>\n",
              "      <th>Distance</th>\n",
              "      <th>DistanceGroup</th>\n",
              "    </tr>\n",
              "  </thead>\n",
              "  <tbody>\n",
              "    <tr>\n",
              "      <th>0</th>\n",
              "      <td>2015</td>\n",
              "      <td>4</td>\n",
              "      <td>10</td>\n",
              "      <td>1</td>\n",
              "      <td>4</td>\n",
              "      <td>2015-10-01</td>\n",
              "      <td>AA</td>\n",
              "      <td>ORD</td>\n",
              "      <td>IL</td>\n",
              "      <td>CLT</td>\n",
              "      <td>NC</td>\n",
              "      <td>2149</td>\n",
              "      <td>-8.0</td>\n",
              "      <td>0.0</td>\n",
              "      <td>0.0</td>\n",
              "      <td>0.0</td>\n",
              "      <td>0.0</td>\n",
              "      <td>89.0</td>\n",
              "      <td>599.0</td>\n",
              "      <td>3</td>\n",
              "    </tr>\n",
              "    <tr>\n",
              "      <th>1</th>\n",
              "      <td>2015</td>\n",
              "      <td>4</td>\n",
              "      <td>10</td>\n",
              "      <td>2</td>\n",
              "      <td>5</td>\n",
              "      <td>2015-10-02</td>\n",
              "      <td>AA</td>\n",
              "      <td>ORD</td>\n",
              "      <td>IL</td>\n",
              "      <td>CLT</td>\n",
              "      <td>NC</td>\n",
              "      <td>2149</td>\n",
              "      <td>-6.0</td>\n",
              "      <td>0.0</td>\n",
              "      <td>0.0</td>\n",
              "      <td>0.0</td>\n",
              "      <td>0.0</td>\n",
              "      <td>98.0</td>\n",
              "      <td>599.0</td>\n",
              "      <td>3</td>\n",
              "    </tr>\n",
              "    <tr>\n",
              "      <th>2</th>\n",
              "      <td>2015</td>\n",
              "      <td>4</td>\n",
              "      <td>10</td>\n",
              "      <td>3</td>\n",
              "      <td>6</td>\n",
              "      <td>2015-10-03</td>\n",
              "      <td>AA</td>\n",
              "      <td>ORD</td>\n",
              "      <td>IL</td>\n",
              "      <td>CLT</td>\n",
              "      <td>NC</td>\n",
              "      <td>2149</td>\n",
              "      <td>-18.0</td>\n",
              "      <td>0.0</td>\n",
              "      <td>0.0</td>\n",
              "      <td>0.0</td>\n",
              "      <td>0.0</td>\n",
              "      <td>93.0</td>\n",
              "      <td>599.0</td>\n",
              "      <td>3</td>\n",
              "    </tr>\n",
              "    <tr>\n",
              "      <th>3</th>\n",
              "      <td>2015</td>\n",
              "      <td>4</td>\n",
              "      <td>10</td>\n",
              "      <td>4</td>\n",
              "      <td>7</td>\n",
              "      <td>2015-10-04</td>\n",
              "      <td>AA</td>\n",
              "      <td>ORD</td>\n",
              "      <td>IL</td>\n",
              "      <td>CLT</td>\n",
              "      <td>NC</td>\n",
              "      <td>2149</td>\n",
              "      <td>-15.0</td>\n",
              "      <td>0.0</td>\n",
              "      <td>0.0</td>\n",
              "      <td>0.0</td>\n",
              "      <td>0.0</td>\n",
              "      <td>88.0</td>\n",
              "      <td>599.0</td>\n",
              "      <td>3</td>\n",
              "    </tr>\n",
              "    <tr>\n",
              "      <th>4</th>\n",
              "      <td>2015</td>\n",
              "      <td>4</td>\n",
              "      <td>10</td>\n",
              "      <td>5</td>\n",
              "      <td>1</td>\n",
              "      <td>2015-10-05</td>\n",
              "      <td>AA</td>\n",
              "      <td>ORD</td>\n",
              "      <td>IL</td>\n",
              "      <td>CLT</td>\n",
              "      <td>NC</td>\n",
              "      <td>2145</td>\n",
              "      <td>-36.0</td>\n",
              "      <td>0.0</td>\n",
              "      <td>0.0</td>\n",
              "      <td>0.0</td>\n",
              "      <td>0.0</td>\n",
              "      <td>76.0</td>\n",
              "      <td>599.0</td>\n",
              "      <td>3</td>\n",
              "    </tr>\n",
              "  </tbody>\n",
              "</table>\n",
              "</div>\n",
              "    <div class=\"colab-df-buttons\">\n",
              "\n",
              "  <div class=\"colab-df-container\">\n",
<<<<<<< HEAD
              "    <button class=\"colab-df-convert\" onclick=\"convertToInteractive('df-25b9bcf2-f7f7-4646-90d5-23a1e9931c2f')\"\n",
=======
              "    <button class=\"colab-df-convert\" onclick=\"convertToInteractive('df-e06e75f7-9cbf-4f16-9a54-a9dd835a9b75')\"\n",
>>>>>>> 0ee1ced983769f85ddaa9156bf3fcfa73eaae5ed
              "            title=\"Convert this dataframe to an interactive table.\"\n",
              "            style=\"display:none;\">\n",
              "\n",
              "  <svg xmlns=\"http://www.w3.org/2000/svg\" height=\"24px\" viewBox=\"0 -960 960 960\">\n",
              "    <path d=\"M120-120v-720h720v720H120Zm60-500h600v-160H180v160Zm220 220h160v-160H400v160Zm0 220h160v-160H400v160ZM180-400h160v-160H180v160Zm440 0h160v-160H620v160ZM180-180h160v-160H180v160Zm440 0h160v-160H620v160Z\"/>\n",
              "  </svg>\n",
              "    </button>\n",
              "\n",
              "  <style>\n",
              "    .colab-df-container {\n",
              "      display:flex;\n",
              "      gap: 12px;\n",
              "    }\n",
              "\n",
              "    .colab-df-convert {\n",
              "      background-color: #E8F0FE;\n",
              "      border: none;\n",
              "      border-radius: 50%;\n",
              "      cursor: pointer;\n",
              "      display: none;\n",
              "      fill: #1967D2;\n",
              "      height: 32px;\n",
              "      padding: 0 0 0 0;\n",
              "      width: 32px;\n",
              "    }\n",
              "\n",
              "    .colab-df-convert:hover {\n",
              "      background-color: #E2EBFA;\n",
              "      box-shadow: 0px 1px 2px rgba(60, 64, 67, 0.3), 0px 1px 3px 1px rgba(60, 64, 67, 0.15);\n",
              "      fill: #174EA6;\n",
              "    }\n",
              "\n",
              "    .colab-df-buttons div {\n",
              "      margin-bottom: 4px;\n",
              "    }\n",
              "\n",
              "    [theme=dark] .colab-df-convert {\n",
              "      background-color: #3B4455;\n",
              "      fill: #D2E3FC;\n",
              "    }\n",
              "\n",
              "    [theme=dark] .colab-df-convert:hover {\n",
              "      background-color: #434B5C;\n",
              "      box-shadow: 0px 1px 3px 1px rgba(0, 0, 0, 0.15);\n",
              "      filter: drop-shadow(0px 1px 2px rgba(0, 0, 0, 0.3));\n",
              "      fill: #FFFFFF;\n",
              "    }\n",
              "  </style>\n",
              "\n",
              "    <script>\n",
              "      const buttonEl =\n",
<<<<<<< HEAD
              "        document.querySelector('#df-25b9bcf2-f7f7-4646-90d5-23a1e9931c2f button.colab-df-convert');\n",
=======
              "        document.querySelector('#df-e06e75f7-9cbf-4f16-9a54-a9dd835a9b75 button.colab-df-convert');\n",
>>>>>>> 0ee1ced983769f85ddaa9156bf3fcfa73eaae5ed
              "      buttonEl.style.display =\n",
              "        google.colab.kernel.accessAllowed ? 'block' : 'none';\n",
              "\n",
              "      async function convertToInteractive(key) {\n",
<<<<<<< HEAD
              "        const element = document.querySelector('#df-25b9bcf2-f7f7-4646-90d5-23a1e9931c2f');\n",
=======
              "        const element = document.querySelector('#df-e06e75f7-9cbf-4f16-9a54-a9dd835a9b75');\n",
>>>>>>> 0ee1ced983769f85ddaa9156bf3fcfa73eaae5ed
              "        const dataTable =\n",
              "          await google.colab.kernel.invokeFunction('convertToInteractive',\n",
              "                                                    [key], {});\n",
              "        if (!dataTable) return;\n",
              "\n",
              "        const docLinkHtml = 'Like what you see? Visit the ' +\n",
              "          '<a target=\"_blank\" href=https://colab.research.google.com/notebooks/data_table.ipynb>data table notebook</a>'\n",
              "          + ' to learn more about interactive tables.';\n",
              "        element.innerHTML = '';\n",
              "        dataTable['output_type'] = 'display_data';\n",
              "        await google.colab.output.renderOutput(dataTable, element);\n",
              "        const docLink = document.createElement('div');\n",
              "        docLink.innerHTML = docLinkHtml;\n",
              "        element.appendChild(docLink);\n",
              "      }\n",
              "    </script>\n",
              "  </div>\n",
              "\n",
              "\n",
<<<<<<< HEAD
              "<div id=\"df-23ae1d11-7916-4d00-9d16-f906b5b953ad\">\n",
              "  <button class=\"colab-df-quickchart\" onclick=\"quickchart('df-23ae1d11-7916-4d00-9d16-f906b5b953ad')\"\n",
=======
              "<div id=\"df-c0d86683-1ed4-42eb-8875-62fdd346f1a4\">\n",
              "  <button class=\"colab-df-quickchart\" onclick=\"quickchart('df-c0d86683-1ed4-42eb-8875-62fdd346f1a4')\"\n",
>>>>>>> 0ee1ced983769f85ddaa9156bf3fcfa73eaae5ed
              "            title=\"Suggest charts.\"\n",
              "            style=\"display:none;\">\n",
              "\n",
              "<svg xmlns=\"http://www.w3.org/2000/svg\" height=\"24px\"viewBox=\"0 0 24 24\"\n",
              "     width=\"24px\">\n",
              "    <g>\n",
              "        <path d=\"M19 3H5c-1.1 0-2 .9-2 2v14c0 1.1.9 2 2 2h14c1.1 0 2-.9 2-2V5c0-1.1-.9-2-2-2zM9 17H7v-7h2v7zm4 0h-2V7h2v10zm4 0h-2v-4h2v4z\"/>\n",
              "    </g>\n",
              "</svg>\n",
              "  </button>\n",
              "\n",
              "<style>\n",
              "  .colab-df-quickchart {\n",
              "      --bg-color: #E8F0FE;\n",
              "      --fill-color: #1967D2;\n",
              "      --hover-bg-color: #E2EBFA;\n",
              "      --hover-fill-color: #174EA6;\n",
              "      --disabled-fill-color: #AAA;\n",
              "      --disabled-bg-color: #DDD;\n",
              "  }\n",
              "\n",
              "  [theme=dark] .colab-df-quickchart {\n",
              "      --bg-color: #3B4455;\n",
              "      --fill-color: #D2E3FC;\n",
              "      --hover-bg-color: #434B5C;\n",
              "      --hover-fill-color: #FFFFFF;\n",
              "      --disabled-bg-color: #3B4455;\n",
              "      --disabled-fill-color: #666;\n",
              "  }\n",
              "\n",
              "  .colab-df-quickchart {\n",
              "    background-color: var(--bg-color);\n",
              "    border: none;\n",
              "    border-radius: 50%;\n",
              "    cursor: pointer;\n",
              "    display: none;\n",
              "    fill: var(--fill-color);\n",
              "    height: 32px;\n",
              "    padding: 0;\n",
              "    width: 32px;\n",
              "  }\n",
              "\n",
              "  .colab-df-quickchart:hover {\n",
              "    background-color: var(--hover-bg-color);\n",
              "    box-shadow: 0 1px 2px rgba(60, 64, 67, 0.3), 0 1px 3px 1px rgba(60, 64, 67, 0.15);\n",
              "    fill: var(--button-hover-fill-color);\n",
              "  }\n",
              "\n",
              "  .colab-df-quickchart-complete:disabled,\n",
              "  .colab-df-quickchart-complete:disabled:hover {\n",
              "    background-color: var(--disabled-bg-color);\n",
              "    fill: var(--disabled-fill-color);\n",
              "    box-shadow: none;\n",
              "  }\n",
              "\n",
              "  .colab-df-spinner {\n",
              "    border: 2px solid var(--fill-color);\n",
              "    border-color: transparent;\n",
              "    border-bottom-color: var(--fill-color);\n",
              "    animation:\n",
              "      spin 1s steps(1) infinite;\n",
              "  }\n",
              "\n",
              "  @keyframes spin {\n",
              "    0% {\n",
              "      border-color: transparent;\n",
              "      border-bottom-color: var(--fill-color);\n",
              "      border-left-color: var(--fill-color);\n",
              "    }\n",
              "    20% {\n",
              "      border-color: transparent;\n",
              "      border-left-color: var(--fill-color);\n",
              "      border-top-color: var(--fill-color);\n",
              "    }\n",
              "    30% {\n",
              "      border-color: transparent;\n",
              "      border-left-color: var(--fill-color);\n",
              "      border-top-color: var(--fill-color);\n",
              "      border-right-color: var(--fill-color);\n",
              "    }\n",
              "    40% {\n",
              "      border-color: transparent;\n",
              "      border-right-color: var(--fill-color);\n",
              "      border-top-color: var(--fill-color);\n",
              "    }\n",
              "    60% {\n",
              "      border-color: transparent;\n",
              "      border-right-color: var(--fill-color);\n",
              "    }\n",
              "    80% {\n",
              "      border-color: transparent;\n",
              "      border-right-color: var(--fill-color);\n",
              "      border-bottom-color: var(--fill-color);\n",
              "    }\n",
              "    90% {\n",
              "      border-color: transparent;\n",
              "      border-bottom-color: var(--fill-color);\n",
              "    }\n",
              "  }\n",
              "</style>\n",
              "\n",
              "  <script>\n",
              "    async function quickchart(key) {\n",
              "      const quickchartButtonEl =\n",
              "        document.querySelector('#' + key + ' button');\n",
              "      quickchartButtonEl.disabled = true;  // To prevent multiple clicks.\n",
              "      quickchartButtonEl.classList.add('colab-df-spinner');\n",
              "      try {\n",
              "        const charts = await google.colab.kernel.invokeFunction(\n",
              "            'suggestCharts', [key], {});\n",
              "      } catch (error) {\n",
              "        console.error('Error during call to suggestCharts:', error);\n",
              "      }\n",
              "      quickchartButtonEl.classList.remove('colab-df-spinner');\n",
              "      quickchartButtonEl.classList.add('colab-df-quickchart-complete');\n",
              "    }\n",
              "    (() => {\n",
              "      let quickchartButtonEl =\n",
<<<<<<< HEAD
              "        document.querySelector('#df-23ae1d11-7916-4d00-9d16-f906b5b953ad button');\n",
=======
              "        document.querySelector('#df-c0d86683-1ed4-42eb-8875-62fdd346f1a4 button');\n",
>>>>>>> 0ee1ced983769f85ddaa9156bf3fcfa73eaae5ed
              "      quickchartButtonEl.style.display =\n",
              "        google.colab.kernel.accessAllowed ? 'block' : 'none';\n",
              "    })();\n",
              "  </script>\n",
              "</div>\n",
              "    </div>\n",
              "  </div>\n"
            ]
          },
          "metadata": {},
<<<<<<< HEAD
          "execution_count": 27
=======
          "execution_count": 21
>>>>>>> 0ee1ced983769f85ddaa9156bf3fcfa73eaae5ed
        }
      ],
      "source": [
        "# Enter your code here\n",
        "data.head(5)"
      ]
    },
    {
      "cell_type": "markdown",
      "metadata": {
        "id": "rd9C6GmwGceZ"
      },
      "source": [
        "Here are some more questions to help you find out more about your dataset.\n",
        "\n",
        "**Questions**   \n",
        "1. How many rows and columns does the dataset have?   \n",
        "2. How many years are included in the dataset?   \n",
        "3. What is the date range for the dataset?   \n",
        "4. Which airlines are included in the dataset?   \n",
        "5. Which origin and destination airports are covered?"
      ]
    },
    {
      "cell_type": "code",
<<<<<<< HEAD
      "execution_count": 28,
=======
      "execution_count": null,
>>>>>>> 0ee1ced983769f85ddaa9156bf3fcfa73eaae5ed
      "metadata": {
        "id": "InlY5PZdGceZ",
        "colab": {
          "base_uri": "https://localhost:8080/"
        },
<<<<<<< HEAD
        "outputId": "dbbb158f-986a-41b8-d29d-adf37db49365"
=======
        "outputId": "dccab23f-01d3-46de-d3ab-6783550be8a8"
>>>>>>> 0ee1ced983769f85ddaa9156bf3fcfa73eaae5ed
      },
      "outputs": [
        {
          "output_type": "stream",
          "name": "stdout",
          "text": [
            "The #rows and #columns are  1658130  and  20\n",
            "The years in this dataset are:  [2015 2017 2016 2014 2018]\n",
            "The months covered in this dataset are:  [10  7  6  5  3  4 12  2  9  8 11  1]\n",
            "The date range for data is : 2014-01-01  to  2018-12-31\n",
            "The airlines covered in this dataset are:  ['AA', 'DL', 'UA', 'OO', 'WN']\n",
            "The Origin airports covered are:  ['ORD', 'SFO', 'DFW', 'LAX', 'PHX', 'IAH', 'DEN', 'ATL', 'CLT']\n",
            "The Destination airports covered are:  ['CLT', 'DFW', 'SFO', 'ORD', 'PHX', 'LAX', 'ATL', 'DEN', 'IAH']\n"
          ]
        }
      ],
      "source": [
        "# to answer above questions, complete the following code\n",
        "print(\"The #rows and #columns are \", data.shape[0], \" and \", data.shape[1])\n",
        "print(\"The years in this dataset are: \", data['Year'].unique())\n",
        "print(\"The months covered in this dataset are: \", data['Month'].unique())\n",
        "print(\"The date range for data is :\" , data['FlightDate'].min(), \" to \", data['FlightDate'].max())\n",
        "print(\"The airlines covered in this dataset are: \", data['Reporting_Airline'].unique().tolist())\n",
        "print(\"The Origin airports covered are: \", data['Origin'].unique().tolist())\n",
        "print(\"The Destination airports covered are: \", data['Dest'].unique().tolist())\n"
      ]
    },
    {
      "cell_type": "markdown",
      "metadata": {
        "id": "LacG5BQZGceZ"
      },
      "source": [
        "Let's define our **target column : is_delay** (1 - if arrival time delayed more than 15 minutes, 0 - otherwise). Use the `rename` method to rename the column from `ArrDel15` to `is_delay`.\n",
        "\n",
        "**Hint**: You can use the Pandas `rename` function ([documentation](https://pandas.pydata.org/pandas-docs/stable/reference/api/pandas.DataFrame.rename.html)).\n",
        "\n",
        "For example:\n",
        "```\n",
        "df.rename(columns={'col1':'column1'}, inplace=True)\n",
        "```"
      ]
    },
    {
      "cell_type": "code",
<<<<<<< HEAD
      "execution_count": 29,
=======
      "execution_count": null,
>>>>>>> 0ee1ced983769f85ddaa9156bf3fcfa73eaae5ed
      "metadata": {
        "id": "DGKs9A0rGceZ"
      },
      "outputs": [],
      "source": [
        "# Rename the 'ArrDel15' column to 'is_delay'\n",
        "data.rename(columns={'ArrDel15': 'is_delay'}, inplace=True)"
      ]
    },
    {
      "cell_type": "markdown",
      "metadata": {
        "id": "d_p9L9CzGcea"
      },
      "source": [
        "Look for nulls across columns. You can use the `isnull()` function ([documentation](https://pandas.pydata.org/pandas-docs/version/0.17.0/generated/pandas.isnull.html)).\n",
        "\n",
        "**Hint**: `isnull()` detects whether the particular value is null or not and gives you a boolean (True or False) in its place. Use the `sum(axis=0)` function to sum up the number of columns."
      ]
    },
    {
      "cell_type": "code",
<<<<<<< HEAD
      "execution_count": 75,
=======
      "execution_count": null,
>>>>>>> 0ee1ced983769f85ddaa9156bf3fcfa73eaae5ed
      "metadata": {
        "id": "HbsShxa4Gcea",
        "colab": {
          "base_uri": "https://localhost:8080/"
        },
<<<<<<< HEAD
        "outputId": "ac9b1b42-c701-41b3-bcc3-9088f080aca9"
=======
        "outputId": "ab6f07a5-365a-4541-edab-2c66a1f8d011"
>>>>>>> 0ee1ced983769f85ddaa9156bf3fcfa73eaae5ed
      },
      "outputs": [
        {
          "output_type": "stream",
          "name": "stdout",
          "text": [
<<<<<<< HEAD
            "target             0\n",
            "Distance           0\n",
            "AWND_O             0\n",
            "PRCP_O             0\n",
            "TAVG_O             0\n",
            "                  ..\n",
            "DepHourofDay_19    0\n",
            "DepHourofDay_20    0\n",
            "DepHourofDay_21    0\n",
            "DepHourofDay_22    0\n",
            "DepHourofDay_23    0\n",
            "Length: 107, dtype: int64\n"
=======
            "Year                     0\n",
            "Quarter                  0\n",
            "Month                    0\n",
            "DayofMonth               0\n",
            "DayOfWeek                0\n",
            "FlightDate               0\n",
            "Reporting_Airline        0\n",
            "Origin                   0\n",
            "OriginState              0\n",
            "Dest                     0\n",
            "DestState                0\n",
            "CRSDepTime               0\n",
            "ArrDelay             22540\n",
            "ArrDelayMinutes      22540\n",
            "is_delay             22540\n",
            "Cancelled                0\n",
            "Diverted                 0\n",
            "AirTime              22540\n",
            "Distance                 0\n",
            "DistanceGroup            0\n",
            "dtype: int64\n"
>>>>>>> 0ee1ced983769f85ddaa9156bf3fcfa73eaae5ed
          ]
        }
      ],
      "source": [
        "# Enter your code here\n",
        "# Check for null values in each column\n",
        "null_counts = data.isnull().sum(axis=0)\n",
        "\n",
        "# Print the number of null values in each column\n",
        "print(null_counts)\n"
      ]
    },
    {
      "cell_type": "markdown",
      "metadata": {
        "id": "1J_AluMzGcea"
      },
      "source": [
        "The arrival delay details and airtime are missing for 22540 out of 1658130 rows, which is 1.3%. You can either remove or impute these rows. The documentation does not mention anything about missing rows.\n",
        "\n",
        "**Hint**: Use the `~` operator to choose the values that aren't null from the `isnull()` output.\n",
        "\n",
        "For example:\n",
        "```\n",
        "null_eg = df_eg[~df_eg['column_name'].isnull()]\n",
        "```"
      ]
    },
    {
      "cell_type": "code",
<<<<<<< HEAD
      "execution_count": 31,
=======
      "execution_count": null,
>>>>>>> 0ee1ced983769f85ddaa9156bf3fcfa73eaae5ed
      "metadata": {
        "id": "ZgVM0zJbGceb"
      },
      "outputs": [],
      "source": [
        "### Remove null columns\n",
        "# Remove rows with missing 'ArrDelay' and 'AirTime'\n",
        "data = data.dropna(subset=['ArrDelay', 'AirTime'])\n",
        "\n",
        "# Reset the index after removing rows\n",
        "data.reset_index(drop=True, inplace=True)\n"
      ]
    },
    {
      "cell_type": "markdown",
      "metadata": {
        "id": "p6J7LoGMGceb"
      },
      "source": [
        "Get the hour of the day in 24-hour time format from CRSDepTime."
      ]
    },
    {
      "cell_type": "code",
<<<<<<< HEAD
      "execution_count": 32,
=======
      "execution_count": null,
>>>>>>> 0ee1ced983769f85ddaa9156bf3fcfa73eaae5ed
      "metadata": {
        "id": "wVeIrcYkGceb"
      },
      "outputs": [],
      "source": [
        "# Convert 'CRSDepTime' to a string and slice the first 2 characters to get the hour\n",
<<<<<<< HEAD
        "data['DepHourofDay'] = data['CRSDepTime']//100"
=======
        "data['DepHourofDay'] = data['CRSDepTime'].astype(str).str.zfill(4).str[:2].astype(int)"
>>>>>>> 0ee1ced983769f85ddaa9156bf3fcfa73eaae5ed
      ]
    },
    {
      "cell_type": "markdown",
      "metadata": {
        "id": "if60N27iGceb"
      },
      "source": [
        "## **The ML problem statement**\n",
        "- Given a set of features, can you predict if a flight is going to be delayed more than 15 minutes?\n",
        "- Because the target variable takes only 0/1 value, you could use a classification algorithm."
      ]
    },
    {
      "cell_type": "markdown",
      "metadata": {
        "id": "jquWQa1gGcec"
      },
      "source": [
        "### Data exploration\n",
        "\n",
        "#### Check class delay vs. no delay\n",
        "\n",
        "**Hint**: Use a `groupby` plot ([documentation](https://pandas.pydata.org/pandas-docs/stable/reference/api/pandas.DataFrame.groupby.html)) with a `bar` plot ([documentation](https://matplotlib.org/tutorials/introductory/pyplot.html)) to plot the frequency vs. distribution of the class."
      ]
    },
    {
      "cell_type": "code",
<<<<<<< HEAD
      "execution_count": 33,
=======
      "execution_count": null,
>>>>>>> 0ee1ced983769f85ddaa9156bf3fcfa73eaae5ed
      "metadata": {
        "id": "E5LIdrw2Gcec",
        "colab": {
          "base_uri": "https://localhost:8080/",
          "height": 490
        },
<<<<<<< HEAD
        "outputId": "cae9074e-efe1-42e4-bea3-965c0460b13a"
=======
        "outputId": "f9c572c4-5147-4ad8-a41d-a54037aa9107"
>>>>>>> 0ee1ced983769f85ddaa9156bf3fcfa73eaae5ed
      },
      "outputs": [
        {
          "output_type": "display_data",
          "data": {
            "text/plain": [
              "<Figure size 640x480 with 1 Axes>"
            ],
            "image/png": "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\n"
          },
          "metadata": {}
        }
      ],
      "source": [
        "# Group the data by the 'is_delay' column and calculate the frequency\n",
        "delay_distribution = (data.groupby('is_delay').size() / len(data)).plot(kind='bar')\n",
        "\n",
        "# Add labels and title\n",
        "plt.ylabel('Frequency')\n",
        "plt.title('Distribution of classes')\n",
        "\n",
        "# Show the plot\n",
        "plt.show()"
      ]
    },
    {
      "cell_type": "markdown",
      "metadata": {
        "id": "mMvWfstdGcec"
      },
      "source": [
        "**Question**: What can you deduce from the bar plot about the ratio of delay vs. no delay?"
      ]
    },
    {
      "cell_type": "markdown",
      "source": [
        " From the bar plot about the ratio of delay vs. no delay it is understood that the frequency of flight being delayed is less. We can deduce that in the given dataset there is around 20% records with delayed flight records and almost 80% on time flight reords."
      ],
      "metadata": {
        "id": "7fCenjVHGcec"
      }
    },
    {
      "cell_type": "markdown",
      "metadata": {
        "id": "OndMF-xUGced"
      },
      "source": [
        "**Questions**:\n",
        "\n",
        "- Which months have the most delays?\n",
        "- What time of the day has the most delays?\n",
        "- What day of the week has the most delays?\n",
        "- Which airline has the most delays?\n",
        "- Which origin and destination airports have the most delays?\n",
        "- Is flight distance a factor in the delays?"
      ]
    },
    {
      "cell_type": "code",
<<<<<<< HEAD
      "execution_count": 34,
=======
      "execution_count": null,
>>>>>>> 0ee1ced983769f85ddaa9156bf3fcfa73eaae5ed
      "metadata": {
        "id": "Q0Kdx9LrGced",
        "colab": {
          "base_uri": "https://localhost:8080/",
          "height": 1000
        },
<<<<<<< HEAD
        "outputId": "eaf63812-5d3b-45b7-8ae3-16b1c1795ab0"
=======
        "outputId": "9ce5db5d-dea2-45bf-da8f-2b190f47bf15"
>>>>>>> 0ee1ced983769f85ddaa9156bf3fcfa73eaae5ed
      },
      "outputs": [
        {
          "output_type": "display_data",
          "data": {
            "text/plain": [
              "<Figure size 2000x2000 with 6 Axes>"
            ],
            "image/png": "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\n"
          },
          "metadata": {}
        }
      ],
      "source": [
        "viz_columns = ['Month', 'DepHourofDay', 'DayOfWeek', 'Reporting_Airline', 'Origin', 'Dest']\n",
        "fig, axes = plt.subplots(3, 2, figsize=(20,20), squeeze=False)\n",
        "# fig.autofmt_xdate(rotation=90)\n",
        "\n",
        "for idx, column in enumerate(viz_columns):\n",
        "    ax = axes[idx//2, idx%2]\n",
        "    temp = data.groupby(column)['is_delay'].value_counts(normalize=True).rename('percentage').\\\n",
        "    mul(100).reset_index().sort_values(column)\n",
        "    sns.barplot(x=column, y=\"percentage\", hue=\"is_delay\", data=temp, ax=ax)\n",
        "    plt.ylabel('% delay/no-delay')\n",
        "\n",
        "\n",
        "plt.show()"
      ]
    },
    {
      "cell_type": "code",
<<<<<<< HEAD
      "execution_count": 35,
=======
      "execution_count": null,
>>>>>>> 0ee1ced983769f85ddaa9156bf3fcfa73eaae5ed
      "metadata": {
        "id": "kupkRQNKGced",
        "colab": {
          "base_uri": "https://localhost:8080/",
          "height": 501
        },
<<<<<<< HEAD
        "outputId": "c2cd3a6c-8563-485f-d6ce-68a7710c9775"
=======
        "outputId": "3686bcdb-6b57-4521-be91-72d0f967eaf4"
>>>>>>> 0ee1ced983769f85ddaa9156bf3fcfa73eaae5ed
      },
      "outputs": [
        {
          "output_type": "display_data",
          "data": {
            "text/plain": [
              "<Figure size 500x500 with 1 Axes>"
            ],
            "image/png": "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\n"
          },
          "metadata": {}
        }
      ],
      "source": [
        "sns.lmplot( x=\"is_delay\", y=\"Distance\", data=data, fit_reg=False, hue='is_delay', legend=False)\n",
        "plt.legend(loc='center')\n",
        "plt.xlabel('is_delay')\n",
        "plt.ylabel('Distance')\n",
        "plt.show()"
      ]
    },
    {
      "cell_type": "markdown",
      "source": [
        "- Which months have the most delays?\n",
        "  \n",
        "  From the graph it is understood that the 6th month ,ie June has the most delays\n",
        "\n",
        "- What time of the day has the most delays?\n",
        "\n",
        "  From the graph we can deduct  that the 20th hour has the most delays\n",
        "\n",
        "- What day of the week has the most delays?\n",
        "\n",
        "  4th Day has the most delays\n",
        "\n",
        "- Which airline has the most delays?\n",
        "\n",
        "  The airline with code OO faced most delays\n",
        "\n",
        "\n",
        "- Which origin and destination airports have the most delays?\n",
        "  Origin : ORD\n",
        "  Destination:SFO\n",
        "\n",
        "- Is flight distance a factor in the delays?\n",
        "There is a small negative trend ie , when flight distance decrease probabilty of getting a flight delay is more."
      ],
      "metadata": {
        "id": "-9aJe1-XGced"
      }
    },
    {
      "cell_type": "markdown",
      "metadata": {
        "id": "oZOhMMO3Gcee"
      },
      "source": [
        "### Features\n",
        "\n",
        "Look at all the columns and what their specific types are."
      ]
    },
    {
      "cell_type": "code",
<<<<<<< HEAD
      "execution_count": 36,
=======
      "execution_count": null,
>>>>>>> 0ee1ced983769f85ddaa9156bf3fcfa73eaae5ed
      "metadata": {
        "id": "8YAU7bjSGcee",
        "colab": {
          "base_uri": "https://localhost:8080/"
        },
<<<<<<< HEAD
        "outputId": "026aadad-0eb1-44b5-cdff-67856231ed2e"
=======
        "outputId": "cb554e8a-cf27-4df9-b819-072b1fe6728a"
>>>>>>> 0ee1ced983769f85ddaa9156bf3fcfa73eaae5ed
      },
      "outputs": [
        {
          "output_type": "execute_result",
          "data": {
            "text/plain": [
              "Index(['Year', 'Quarter', 'Month', 'DayofMonth', 'DayOfWeek', 'FlightDate',\n",
              "       'Reporting_Airline', 'Origin', 'OriginState', 'Dest', 'DestState',\n",
              "       'CRSDepTime', 'ArrDelay', 'ArrDelayMinutes', 'is_delay', 'Cancelled',\n",
              "       'Diverted', 'AirTime', 'Distance', 'DistanceGroup', 'DepHourofDay'],\n",
              "      dtype='object')"
            ]
          },
          "metadata": {},
<<<<<<< HEAD
          "execution_count": 36
=======
          "execution_count": 30
>>>>>>> 0ee1ced983769f85ddaa9156bf3fcfa73eaae5ed
        }
      ],
      "source": [
        "data.columns"
      ]
    },
    {
      "cell_type": "code",
<<<<<<< HEAD
      "execution_count": 37,
=======
      "execution_count": null,
>>>>>>> 0ee1ced983769f85ddaa9156bf3fcfa73eaae5ed
      "metadata": {
        "id": "PIGS99F4Gcee",
        "colab": {
          "base_uri": "https://localhost:8080/"
        },
<<<<<<< HEAD
        "outputId": "dd7e5574-9214-4216-cc54-aed0e6fa1caf"
=======
        "outputId": "00f7ed2d-8eca-4cb1-c4c5-f3091bd8da65"
>>>>>>> 0ee1ced983769f85ddaa9156bf3fcfa73eaae5ed
      },
      "outputs": [
        {
          "output_type": "execute_result",
          "data": {
            "text/plain": [
              "Year                   int64\n",
              "Quarter                int64\n",
              "Month                  int64\n",
              "DayofMonth             int64\n",
              "DayOfWeek              int64\n",
              "FlightDate            object\n",
              "Reporting_Airline     object\n",
              "Origin                object\n",
              "OriginState           object\n",
              "Dest                  object\n",
              "DestState             object\n",
              "CRSDepTime             int64\n",
              "ArrDelay             float64\n",
              "ArrDelayMinutes      float64\n",
              "is_delay             float64\n",
              "Cancelled            float64\n",
              "Diverted             float64\n",
              "AirTime              float64\n",
              "Distance             float64\n",
              "DistanceGroup          int64\n",
              "DepHourofDay           int64\n",
              "dtype: object"
            ]
          },
          "metadata": {},
<<<<<<< HEAD
          "execution_count": 37
=======
          "execution_count": 31
>>>>>>> 0ee1ced983769f85ddaa9156bf3fcfa73eaae5ed
        }
      ],
      "source": [
        "data.dtypes"
      ]
    },
    {
      "cell_type": "markdown",
      "metadata": {
        "id": "-18nVQ_ZGcee"
      },
      "source": [
        "Filtering the required columns:\n",
        "- Date is redundant, because you have Year, Quarter, Month, DayofMonth, and DayOfWeek to describe the date.\n",
        "- Use Origin and Dest codes instead of OriginState and DestState.\n",
        "- Because you are just classifying whether the flight is delayed or not, you don't need TotalDelayMinutes, DepDelayMinutes, and ArrDelayMinutes.\n",
        "\n",
        "Treat DepHourofDay as a categorical variable because it doesn't have any quantitative relation with the target.\n",
        "- If you had to do a one-hot encoding of it, it would result in 23 more columns.\n",
        "- Other alternatives to handling categorical variables include hash encoding, regularized mean encoding, and bucketizing the values, among others.\n",
        "- Just split into buckets here.\n",
        "\n",
        "**Hint**: To change a column type to category, use the `astype` function ([documentation](https://pandas.pydata.org/pandas-docs/stable/reference/api/pandas.DataFrame.astype.html))."
      ]
    },
    {
      "cell_type": "code",
<<<<<<< HEAD
      "execution_count": 38,
=======
      "execution_count": null,
>>>>>>> 0ee1ced983769f85ddaa9156bf3fcfa73eaae5ed
      "metadata": {
        "id": "Zb4lFhcqGcee"
      },
      "outputs": [],
      "source": [
        "data_orig = data.copy()\n",
        "data = data[[ 'is_delay', 'Quarter', 'Month', 'DayofMonth', 'DayOfWeek',\n",
        "       'Reporting_Airline', 'Origin', 'Dest','Distance','DepHourofDay']]\n",
        "categorical_columns  = ['Quarter', 'Month', 'DayofMonth', 'DayOfWeek',\n",
<<<<<<< HEAD
        "       'Reporting_Airline', 'Origin', 'Dest','DepHourofDay']\n",
=======
        "       'Reporting_Airline', 'Origin', 'Dest'] #'DepHourofDay'\n",
>>>>>>> 0ee1ced983769f85ddaa9156bf3fcfa73eaae5ed
        "for c in categorical_columns:\n",
        "    data[c] = data[c].astype('category')# Enter your code here"
      ]
    },
    {
      "cell_type": "markdown",
      "metadata": {
        "id": "A07CLz-HGcef"
      },
      "source": [
        "To use one-hot encoding, use the Pandas `get_dummies` function for the categorical columns that you selected above. Then, you can concatenate those generated features to your original dataset using the Pandas `concat` function. For encoding categorical variables, you can also use *dummy encoding* by using a keyword `drop_first=True`. For more information on dummy encoding, see https://en.wikiversity.org/wiki/Dummy_variable_(statistics).\n",
        "\n",
        "For example:\n",
        "```\n",
        "pd.get_dummies(df[['column1','columns2']], drop_first=True)\n",
        "```"
      ]
    },
    {
      "cell_type": "code",
<<<<<<< HEAD
      "execution_count": 39,
=======
      "execution_count": null,
>>>>>>> 0ee1ced983769f85ddaa9156bf3fcfa73eaae5ed
      "metadata": {
        "id": "rR1n9NO3Gcef"
      },
      "outputs": [],
      "source": [
        "# Perform one-hot encoding on categorical columns\n",
        "data_dummies = pd.get_dummies(data[categorical_columns], drop_first=True)\n",
        "\n",
        "# Concatenate the one-hot encoded features to the original dataset\n",
        "data = pd.concat([data, data_dummies], axis=1)\n",
        "# Drop the original categorical columns\n",
<<<<<<< HEAD
        "data.drop(categorical_columns , axis=1, inplace=True) #+ ['DepHourofDay']\n"
=======
        "data.drop(categorical_columns + ['DepHourofDay'], axis=1, inplace=True)\n"
>>>>>>> 0ee1ced983769f85ddaa9156bf3fcfa73eaae5ed
      ]
    },
    {
      "cell_type": "markdown",
      "metadata": {
        "id": "RNLP0_WiGcef"
      },
      "source": [
        "Check the length of the dataset and the new columnms."
      ]
    },
    {
      "cell_type": "code",
<<<<<<< HEAD
      "execution_count": 40,
=======
      "execution_count": null,
>>>>>>> 0ee1ced983769f85ddaa9156bf3fcfa73eaae5ed
      "metadata": {
        "id": "mJzVOnIyGceg",
        "colab": {
          "base_uri": "https://localhost:8080/"
        },
<<<<<<< HEAD
        "outputId": "702bbd97-bf0c-4631-88f1-55317f863f0d"
=======
        "outputId": "dc9c6f9a-6b8b-4039-9d62-4a8414578fe7"
>>>>>>> 0ee1ced983769f85ddaa9156bf3fcfa73eaae5ed
      },
      "outputs": [
        {
          "output_type": "execute_result",
          "data": {
            "text/plain": [
              "1635590"
            ]
          },
          "metadata": {},
<<<<<<< HEAD
          "execution_count": 40
=======
          "execution_count": 34
>>>>>>> 0ee1ced983769f85ddaa9156bf3fcfa73eaae5ed
        }
      ],
      "source": [
        "# Check the length of the dataset\n",
        "data_length = len(data)\n",
        "data_length"
      ]
    },
    {
      "cell_type": "code",
<<<<<<< HEAD
      "execution_count": 41,
=======
      "execution_count": null,
>>>>>>> 0ee1ced983769f85ddaa9156bf3fcfa73eaae5ed
      "metadata": {
        "id": "afHakSl4Gceg",
        "colab": {
          "base_uri": "https://localhost:8080/"
        },
<<<<<<< HEAD
        "outputId": "5b3c6eef-134a-445d-e791-65f9e1dbfd1c"
=======
        "outputId": "f85bdd56-3db2-4731-97db-b5643eaff6cf"
>>>>>>> 0ee1ced983769f85ddaa9156bf3fcfa73eaae5ed
      },
      "outputs": [
        {
          "output_type": "execute_result",
          "data": {
            "text/plain": [
              "Index(['is_delay', 'Distance', 'Quarter_2', 'Quarter_3', 'Quarter_4',\n",
              "       'Month_2', 'Month_3', 'Month_4', 'Month_5', 'Month_6', 'Month_7',\n",
              "       'Month_8', 'Month_9', 'Month_10', 'Month_11', 'Month_12',\n",
              "       'DayofMonth_2', 'DayofMonth_3', 'DayofMonth_4', 'DayofMonth_5',\n",
              "       'DayofMonth_6', 'DayofMonth_7', 'DayofMonth_8', 'DayofMonth_9',\n",
              "       'DayofMonth_10', 'DayofMonth_11', 'DayofMonth_12', 'DayofMonth_13',\n",
              "       'DayofMonth_14', 'DayofMonth_15', 'DayofMonth_16', 'DayofMonth_17',\n",
              "       'DayofMonth_18', 'DayofMonth_19', 'DayofMonth_20', 'DayofMonth_21',\n",
              "       'DayofMonth_22', 'DayofMonth_23', 'DayofMonth_24', 'DayofMonth_25',\n",
              "       'DayofMonth_26', 'DayofMonth_27', 'DayofMonth_28', 'DayofMonth_29',\n",
              "       'DayofMonth_30', 'DayofMonth_31', 'DayOfWeek_2', 'DayOfWeek_3',\n",
              "       'DayOfWeek_4', 'DayOfWeek_5', 'DayOfWeek_6', 'DayOfWeek_7',\n",
              "       'Reporting_Airline_DL', 'Reporting_Airline_OO', 'Reporting_Airline_UA',\n",
              "       'Reporting_Airline_WN', 'Origin_CLT', 'Origin_DEN', 'Origin_DFW',\n",
              "       'Origin_IAH', 'Origin_LAX', 'Origin_ORD', 'Origin_PHX', 'Origin_SFO',\n",
              "       'Dest_CLT', 'Dest_DEN', 'Dest_DFW', 'Dest_IAH', 'Dest_LAX', 'Dest_ORD',\n",
<<<<<<< HEAD
              "       'Dest_PHX', 'Dest_SFO', 'DepHourofDay_1', 'DepHourofDay_2',\n",
              "       'DepHourofDay_4', 'DepHourofDay_5', 'DepHourofDay_6', 'DepHourofDay_7',\n",
              "       'DepHourofDay_8', 'DepHourofDay_9', 'DepHourofDay_10',\n",
              "       'DepHourofDay_11', 'DepHourofDay_12', 'DepHourofDay_13',\n",
              "       'DepHourofDay_14', 'DepHourofDay_15', 'DepHourofDay_16',\n",
              "       'DepHourofDay_17', 'DepHourofDay_18', 'DepHourofDay_19',\n",
              "       'DepHourofDay_20', 'DepHourofDay_21', 'DepHourofDay_22',\n",
              "       'DepHourofDay_23'],\n",
=======
              "       'Dest_PHX', 'Dest_SFO'],\n",
>>>>>>> 0ee1ced983769f85ddaa9156bf3fcfa73eaae5ed
              "      dtype='object')"
            ]
          },
          "metadata": {},
<<<<<<< HEAD
          "execution_count": 41
=======
          "execution_count": 35
>>>>>>> 0ee1ced983769f85ddaa9156bf3fcfa73eaae5ed
        }
      ],
      "source": [
        "# Set the display option to show all columns\n",
        "#pd.set_option('display.max_columns', None)\n",
        "\n",
        "# Check the number of columns\n",
        "columns = data.columns\n",
        "columns"
      ]
    },
    {
      "cell_type": "markdown",
      "metadata": {
        "id": "IlFnuMAWGceg"
      },
      "source": [
        "**Sample Answer:**\n",
        "```\n",
        "Index(['Distance', 'is_delay', 'Quarter_2', 'Quarter_3', 'Quarter_4',\n",
        "       'Month_2', 'Month_3', 'Month_4', 'Month_5', 'Month_6', 'Month_7',\n",
        "       'Month_8', 'Month_9', 'Month_10', 'Month_11', 'Month_12',\n",
        "       'DayofMonth_2', 'DayofMonth_3', 'DayofMonth_4', 'DayofMonth_5',\n",
        "       'DayofMonth_6', 'DayofMonth_7', 'DayofMonth_8', 'DayofMonth_9',\n",
        "       'DayofMonth_10', 'DayofMonth_11', 'DayofMonth_12', 'DayofMonth_13',\n",
        "       'DayofMonth_14', 'DayofMonth_15', 'DayofMonth_16', 'DayofMonth_17',\n",
        "       'DayofMonth_18', 'DayofMonth_19', 'DayofMonth_20', 'DayofMonth_21',\n",
        "       'DayofMonth_22', 'DayofMonth_23', 'DayofMonth_24', 'DayofMonth_25',\n",
        "       'DayofMonth_26', 'DayofMonth_27', 'DayofMonth_28', 'DayofMonth_29',\n",
        "       'DayofMonth_30', 'DayofMonth_31', 'DayOfWeek_2', 'DayOfWeek_3',\n",
        "       'DayOfWeek_4', 'DayOfWeek_5', 'DayOfWeek_6', 'DayOfWeek_7',\n",
        "       'Reporting_Airline_DL', 'Reporting_Airline_OO', 'Reporting_Airline_UA',\n",
        "       'Reporting_Airline_WN', 'Origin_CLT', 'Origin_DEN', 'Origin_DFW',\n",
        "       'Origin_IAH', 'Origin_LAX', 'Origin_ORD', 'Origin_PHX', 'Origin_SFO',\n",
        "       'Dest_CLT', 'Dest_DEN', 'Dest_DFW', 'Dest_IAH', 'Dest_LAX', 'Dest_ORD',\n",
        "       'Dest_PHX', 'Dest_SFO'],\n",
        "      dtype='object')\n",
        "```"
      ]
    },
    {
      "cell_type": "markdown",
      "metadata": {
        "id": "7_KXBS37Gceg"
      },
      "source": [
        "Now you are ready to do model training. Before splitting the data, rename the column `is_delay` to `target`.\n",
        "\n",
        "**Hint**: You can use the Pandas `rename` function ([documentation](https://pandas.pydata.org/pandas-docs/stable/reference/api/pandas.DataFrame.rename.html))."
      ]
    },
    {
      "cell_type": "code",
<<<<<<< HEAD
      "execution_count": 42,
=======
      "execution_count": null,
>>>>>>> 0ee1ced983769f85ddaa9156bf3fcfa73eaae5ed
      "metadata": {
        "id": "NgB8DrBpGceh",
        "colab": {
          "base_uri": "https://localhost:8080/"
        },
<<<<<<< HEAD
        "outputId": "0c3790a1-e2cc-454c-b2c3-fa0fcee2d913"
=======
        "outputId": "25ee3b06-188d-4fb5-b532-ff2e12e9e8ef"
>>>>>>> 0ee1ced983769f85ddaa9156bf3fcfa73eaae5ed
      },
      "outputs": [
        {
          "output_type": "execute_result",
          "data": {
            "text/plain": [
              "Index(['target', 'Distance', 'Quarter_2', 'Quarter_3', 'Quarter_4', 'Month_2',\n",
              "       'Month_3', 'Month_4', 'Month_5', 'Month_6', 'Month_7', 'Month_8',\n",
              "       'Month_9', 'Month_10', 'Month_11', 'Month_12', 'DayofMonth_2',\n",
              "       'DayofMonth_3', 'DayofMonth_4', 'DayofMonth_5', 'DayofMonth_6',\n",
              "       'DayofMonth_7', 'DayofMonth_8', 'DayofMonth_9', 'DayofMonth_10',\n",
              "       'DayofMonth_11', 'DayofMonth_12', 'DayofMonth_13', 'DayofMonth_14',\n",
              "       'DayofMonth_15', 'DayofMonth_16', 'DayofMonth_17', 'DayofMonth_18',\n",
              "       'DayofMonth_19', 'DayofMonth_20', 'DayofMonth_21', 'DayofMonth_22',\n",
              "       'DayofMonth_23', 'DayofMonth_24', 'DayofMonth_25', 'DayofMonth_26',\n",
              "       'DayofMonth_27', 'DayofMonth_28', 'DayofMonth_29', 'DayofMonth_30',\n",
              "       'DayofMonth_31', 'DayOfWeek_2', 'DayOfWeek_3', 'DayOfWeek_4',\n",
              "       'DayOfWeek_5', 'DayOfWeek_6', 'DayOfWeek_7', 'Reporting_Airline_DL',\n",
              "       'Reporting_Airline_OO', 'Reporting_Airline_UA', 'Reporting_Airline_WN',\n",
              "       'Origin_CLT', 'Origin_DEN', 'Origin_DFW', 'Origin_IAH', 'Origin_LAX',\n",
              "       'Origin_ORD', 'Origin_PHX', 'Origin_SFO', 'Dest_CLT', 'Dest_DEN',\n",
<<<<<<< HEAD
              "       'Dest_DFW', 'Dest_IAH', 'Dest_LAX', 'Dest_ORD', 'Dest_PHX', 'Dest_SFO',\n",
              "       'DepHourofDay_1', 'DepHourofDay_2', 'DepHourofDay_4', 'DepHourofDay_5',\n",
              "       'DepHourofDay_6', 'DepHourofDay_7', 'DepHourofDay_8', 'DepHourofDay_9',\n",
              "       'DepHourofDay_10', 'DepHourofDay_11', 'DepHourofDay_12',\n",
              "       'DepHourofDay_13', 'DepHourofDay_14', 'DepHourofDay_15',\n",
              "       'DepHourofDay_16', 'DepHourofDay_17', 'DepHourofDay_18',\n",
              "       'DepHourofDay_19', 'DepHourofDay_20', 'DepHourofDay_21',\n",
              "       'DepHourofDay_22', 'DepHourofDay_23'],\n",
=======
              "       'Dest_DFW', 'Dest_IAH', 'Dest_LAX', 'Dest_ORD', 'Dest_PHX', 'Dest_SFO'],\n",
>>>>>>> 0ee1ced983769f85ddaa9156bf3fcfa73eaae5ed
              "      dtype='object')"
            ]
          },
          "metadata": {},
<<<<<<< HEAD
          "execution_count": 42
=======
          "execution_count": 36
>>>>>>> 0ee1ced983769f85ddaa9156bf3fcfa73eaae5ed
        }
      ],
      "source": [
        "# Rename the column \"is_delay\" to \"target\"\n",
        "data.rename(columns={'is_delay': 'target'}, inplace=True)\n",
        "data.columns"
      ]
    },
    {
      "cell_type": "code",
<<<<<<< HEAD
      "execution_count": 43,
=======
      "execution_count": null,
>>>>>>> 0ee1ced983769f85ddaa9156bf3fcfa73eaae5ed
      "metadata": {
        "id": "zfOhb2P6Gceh"
      },
      "outputs": [],
      "source": [
        "# write code to Save the combined csv file (combined_csv_v1.csv) to your local computer\n",
        "# note this combined file will be used in part B\n",
        "\n",
        "# Save the combined CSV file to your local computer\n",
        "combined_csv_filename_v1 = 'combined_csv_v1.csv'\n",
        "data.to_csv(combined_csv_filename_v1, index=False)"
      ]
    },
    {
      "cell_type": "markdown",
      "metadata": {
        "id": "0ZdIDUd-Gceh"
      },
      "source": [
        "# Step 3: Model training and evaluation\n",
        "\n",
        "1. Split the data into `train_data`, and `test_data` using `sklearn.model_selection.train_test_split`.  \n",
        "2. Build a logistic regression model for the data, where training data is 80%, and test data is 20%.\n",
        "\n",
        "Use the following cells to complete these steps. Insert and delete cells where needed.\n"
      ]
    },
    {
      "cell_type": "markdown",
      "metadata": {
        "id": "euXp-zwzGceh"
      },
      "source": [
        "### Train test split"
      ]
    },
    {
      "cell_type": "code",
<<<<<<< HEAD
      "execution_count": 44,
=======
      "execution_count": null,
>>>>>>> 0ee1ced983769f85ddaa9156bf3fcfa73eaae5ed
      "metadata": {
        "id": "ZR9yRth3Gceh",
        "colab": {
          "base_uri": "https://localhost:8080/"
        },
<<<<<<< HEAD
        "outputId": "bb16cc8f-feab-46f6-897c-bebc26e2cb6d"
=======
        "outputId": "390523d8-a754-49a6-c9d9-cd3328f7498d"
>>>>>>> 0ee1ced983769f85ddaa9156bf3fcfa73eaae5ed
      },
      "outputs": [
        {
          "output_type": "stream",
          "name": "stdout",
          "text": [
<<<<<<< HEAD
            "Training data shape: (1308472, 93) (1308472,)\n",
            "Testing data shape: (327118, 93) (327118,)\n"
=======
            "Training data shape: (1308472, 85) (1308472,)\n",
            "Testing data shape: (327118, 85) (327118,)\n"
>>>>>>> 0ee1ced983769f85ddaa9156bf3fcfa73eaae5ed
          ]
        }
      ],
      "source": [
        "from sklearn.model_selection import train_test_split\n",
        "\n",
        "# Define the feature columns (X) and target column (y)\n",
        "X = data.drop(columns=['target'])\n",
        "y = data['target']\n",
        "\n",
        "# Splitting the data with a different random state\n",
<<<<<<< HEAD
        "X_train, X_test, y_train, y_test = train_test_split(X, y, test_size=0.2, random_state=42)\n",
=======
        "X_train, X_test, y_train, y_test = train_test_split(X, y, test_size=0.2, random_state=100)\n",
>>>>>>> 0ee1ced983769f85ddaa9156bf3fcfa73eaae5ed
        "\n",
        "\n",
        "# Check the shapes of the resulting sets\n",
        "print(\"Training data shape:\", X_train.shape, y_train.shape)\n",
        "print(\"Testing data shape:\", X_test.shape, y_test.shape)\n"
      ]
    },
    {
      "cell_type": "markdown",
      "metadata": {
        "id": "osP_glXUGcei"
      },
      "source": [
        "### Baseline classification model"
      ]
    },
    {
      "cell_type": "code",
<<<<<<< HEAD
      "execution_count": 45,
=======
      "execution_count": null,
>>>>>>> 0ee1ced983769f85ddaa9156bf3fcfa73eaae5ed
      "metadata": {
        "id": "O_nV60vPGcei",
        "colab": {
          "base_uri": "https://localhost:8080/"
        },
<<<<<<< HEAD
        "outputId": "d7e9ff43-f380-4c27-a2ee-03d9c6525f71"
=======
        "outputId": "8af9b018-fd8c-4ec4-f948-ff8c89122854"
>>>>>>> 0ee1ced983769f85ddaa9156bf3fcfa73eaae5ed
      },
      "outputs": [
        {
          "output_type": "stream",
          "name": "stdout",
          "text": [
            "Accuracy: 0.79\n",
            "Confusion Matrix:\n",
<<<<<<< HEAD
            " [[258201    216]\n",
            " [ 68445    256]]\n",
            "Classification Report:\n",
            "               precision    recall  f1-score   support\n",
            "\n",
            "         0.0       0.79      1.00      0.88    258417\n",
            "         1.0       0.54      0.00      0.01     68701\n",
            "\n",
            "    accuracy                           0.79    327118\n",
            "   macro avg       0.67      0.50      0.45    327118\n",
            "weighted avg       0.74      0.79      0.70    327118\n",
=======
            " [[255941   2689]\n",
            " [ 66215   2273]]\n",
            "Classification Report:\n",
            "               precision    recall  f1-score   support\n",
            "\n",
            "         0.0       0.79      0.99      0.88    258630\n",
            "         1.0       0.46      0.03      0.06     68488\n",
            "\n",
            "    accuracy                           0.79    327118\n",
            "   macro avg       0.63      0.51      0.47    327118\n",
            "weighted avg       0.72      0.79      0.71    327118\n",
>>>>>>> 0ee1ced983769f85ddaa9156bf3fcfa73eaae5ed
            "\n"
          ]
        }
      ],
      "source": [
        "from sklearn.linear_model import LogisticRegression\n",
        "from sklearn.metrics import accuracy_score, classification_report, confusion_matrix\n",
        "\n",
        "# Initialize and train the logistic regression model\n",
        "model = LogisticRegression()\n",
        "model.fit(X_train, y_train)\n",
        "\n",
        "# Make predictions on the test set\n",
        "y_pred = model.predict(X_test)\n",
        "\n",
        "# Evaluate the model\n",
        "accuracy = accuracy_score(y_test, y_pred)\n",
        "conf_matrix = confusion_matrix(y_test, y_pred)\n",
        "class_report = classification_report(y_test, y_pred)\n",
        "\n",
        "# Print the results\n",
        "print(f\"Accuracy: {accuracy:.2f}\")\n",
        "print(\"Confusion Matrix:\\n\", conf_matrix)\n",
        "print(\"Classification Report:\\n\", class_report)\n"
      ]
    },
    {
      "cell_type": "markdown",
      "metadata": {
        "id": "-mZwrt5RGcei"
      },
      "source": [
        "## Model evaluation\n",
        "In this section, you'll evaluate your trained model on test data and report on the following metrics:\n",
        "* Confusion Matrix plot\n",
        "* Plot the ROC\n",
        "* Report statistics such as Accuracy, Percision, Recall, Sensitivity and Specificity"
      ]
    },
    {
      "cell_type": "markdown",
      "metadata": {
        "id": "kOvPS6E6Gcei"
      },
      "source": [
        "To view a plot of the confusion matrix, and various scoring metrics, create a couple of functions:"
      ]
    },
    {
      "cell_type": "code",
<<<<<<< HEAD
      "execution_count": 46,
=======
      "execution_count": null,
>>>>>>> 0ee1ced983769f85ddaa9156bf3fcfa73eaae5ed
      "metadata": {
        "id": "HcXgykQyGcej"
      },
      "outputs": [],
      "source": [
        "from sklearn.metrics import confusion_matrix\n",
        "\n",
        "def plot_confusion_matrix(test_labels, target_predicted):\n",
        "    cm = confusion_matrix(test_labels, target_predicted)\n",
        "    plt.figure(figsize=(8, 6))\n",
        "    sns.heatmap(cm, annot=True, fmt=\"d\", cmap=\"Blues\", xticklabels=['Not Delayed', 'Delayed'], yticklabels=['Not Delayed', 'Delayed'])\n",
        "    plt.xlabel('Predicted')\n",
        "    plt.ylabel('True')\n",
        "    plt.title('Confusion Matrix')\n",
        "    plt.show()\n"
      ]
    },
    {
      "cell_type": "code",
<<<<<<< HEAD
      "execution_count": 47,
=======
      "execution_count": null,
>>>>>>> 0ee1ced983769f85ddaa9156bf3fcfa73eaae5ed
      "metadata": {
        "id": "jqQMPDK2Gcej"
      },
      "outputs": [],
      "source": [
        "from sklearn.metrics import roc_curve, roc_auc_score\n",
        "\n",
        "def plot_roc(test_labels, target_predicted):\n",
        "    fpr, tpr, thresholds = roc_curve(test_labels, target_predicted)\n",
        "    auc = roc_auc_score(test_labels, target_predicted)\n",
        "\n",
        "    plt.figure(figsize=(8, 6))\n",
        "    plt.plot(fpr, tpr, color='darkorange', lw=2, label=f'ROC Curve (AUC = {auc:.2f})')\n",
        "    plt.plot([0, 1], [0, 1], color='navy', lw=2, linestyle='--')\n",
        "    plt.xlim([0.0, 1.0])\n",
        "    plt.ylim([0.0, 1.05])\n",
        "    plt.xlabel('False Positive Rate')\n",
        "    plt.ylabel('True Positive Rate')\n",
        "    plt.title('Receiver Operating Characteristic (ROC)')\n",
        "    plt.legend(loc='lower right')\n",
        "    plt.show()\n"
      ]
    },
    {
      "cell_type": "markdown",
      "metadata": {
        "id": "0Uff7ZHtGcej"
      },
      "source": [
        "To plot the confusion matrix, call the `plot_confusion_matrix` function on the `test_labels` and `target_predicted` data from your batch job:"
      ]
    },
    {
      "cell_type": "code",
<<<<<<< HEAD
      "execution_count": 48,
=======
      "execution_count": null,
>>>>>>> 0ee1ced983769f85ddaa9156bf3fcfa73eaae5ed
      "metadata": {
        "id": "uG8Qfvf1Gcej",
        "colab": {
          "base_uri": "https://localhost:8080/",
          "height": 573
        },
<<<<<<< HEAD
        "outputId": "6dc716c3-99ed-4e16-f969-1218707ed65b"
=======
        "outputId": "9f9cb553-9c41-47da-9d2c-4e64966e226d"
>>>>>>> 0ee1ced983769f85ddaa9156bf3fcfa73eaae5ed
      },
      "outputs": [
        {
          "output_type": "display_data",
          "data": {
            "text/plain": [
              "<Figure size 800x600 with 2 Axes>"
            ],
<<<<<<< HEAD
            "image/png": "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\n"
=======
            "image/png": "iVBORw0KGgoAAAANSUhEUgAAArQAAAIsCAYAAAADCzr0AAAAOXRFWHRTb2Z0d2FyZQBNYXRwbG90bGliIHZlcnNpb24zLjcuMSwgaHR0cHM6Ly9tYXRwbG90bGliLm9yZy/bCgiHAAAACXBIWXMAAA9hAAAPYQGoP6dpAABxtElEQVR4nO3dd1yV9fvH8fdBBVyAGO4BOBBNFPfALankKCutnInmSM2ZaFY2HZmae5GZO0dDJbUsNWeWmpZbcOReLNl6fn/w43w9gXYcyH309ezBA7nvz/25r/uQcnGd6/7cJrPZbBYAAABgpxyyOgAAAADgQZDQAgAAwK6R0AIAAMCukdACAADArpHQAgAAwK6R0AIAAMCukdACAADArpHQAgAAwK6R0AIAAMCukdACeGAnT55Ut27dVLVqVfn4+Oinn356qPP/888/8vHx0apVqx7qvPasU6dO6tSpU1aHAQCGQEILPCZOnz6td999V02aNFHFihVVpUoVvfzyy5o/f74SEhIy9dwhISE6evSoBg4cqHHjxunpp5/O1PM9SiEhIfLx8VGVKlUyfB1PnjwpHx8f+fj4KDQ09J7nv3jxoqZMmaJDhw49jHAB4ImUPasDAPDgNm3apDfffFOOjo5q06aNypYtq+TkZP3xxx/69NNPdfz4cX344YeZcu6EhATt3btXvXr1UseOHTPlHEWLFtX+/fuVPXvW/JOVPXt2JSQk6Oeff1ZQUJDVvtWrV8vJyUmJiYn3NfelS5c0depUFS1aVL6+vjYfdz/JMwA8rkhoATt35swZDRw4UEWKFNH8+fNVoEABy74OHTro1KlT2rRpU6ad/9q1a5IkFxeXTDuHyWSSk5NTps3/XxwdHVWlShWtXbs2XUK7Zs0aNWzYUOvXr38kscTHxytnzpxydHR8JOcDAHtAywFg5+bOnau4uDh9/PHHVslsmpIlS6pLly6Wr1NSUjRt2jQ1bdpUTz/9tBo3bqwJEyYoKSnJ6rjGjRurZ8+e+v333/Xiiy+qYsWKatKkib799lvLmClTpqhRo0aSpHHjxsnHx0eNGzeWlPpWfdqfbzdlyhT5+PhYbdu2bZteeeUVVatWTf7+/mrWrJkmTJhg2X+nHtodO3bo1VdfVeXKlVWtWjX17t1bJ06cyPB8p06dUkhIiKpVq6aqVatq+PDhio+Pv9tLa6Vly5basmWLoqOjLdv279+vkydPqmXLlunGR0ZGauzYsWrVqpX8/f1VpUoVde/eXYcPH7aM2bVrl1588UVJ0vDhwy2tC2nX2alTJ7Vs2VJ//fWXOnTooEqVKllel3/30A4bNkwVK1ZMd/3BwcGqXr26Ll68aPO1AoC9IaEF7Nwvv/yi4sWLq0qVKjaNHzlypCZPnqzy5ctr+PDhql69umbNmqWBAwemG3vq1Cm9+eabqlu3rkJCQuTq6qqQkBAdO3ZMkhQYGKjhw4dLSk34xo0bpxEjRtxT/MeOHVPPnj2VlJSk/v37a9iwYWrcuLH27Nlz1+O2b9+u7t276+rVq+rbt6+6du2qvXv36pVXXtE///yTbvyAAQN048YNDRo0SC1atNCqVas0depUm+MMDAyUyWTShg0bLNvWrFkjb29vlS9fPt34M2fO6KefflLDhg0VEhKi4OBgHT16VB07drQkl6VKlVL//v0lSe3bt9e4ceM0btw4Va9e3TJPZGSkevToIV9fX40YMUI1a9bMML63335b7u7uGjZsmG7evClJWrp0qbZu3aqRI0eqYMGCNl8rANgbWg4AOxYbG6uLFy+qSZMmNo0/fPiwvvnmG7300kv66KOPJKW2Jbi7u+uLL77Qzp07VatWLcv4iIgILVq0SNWqVZMktWjRQg0aNNCqVas0bNgwlStXTnny5NHo0aNVvnx5tWnT5p6vYdu2bUpOTtacOXPk7u5u83Hjxo2Tq6urli1bJjc3N0lS06ZN9fzzz2vKlCkaO3as1XhfX1998sknlq8jIyO1YsUKDR061Kbz5cmTRw0bNtSaNWv04osv6tatWwoLC9PLL7+c4XgfHx+tX79eDg7/qxu0adNGLVq00IoVK/TGG2/oqaeeUv369TV58mRVrlw5w9fv8uXLev/99+94njQuLi76+OOPFRwcrNmzZ6tly5YaO3asmjZtel/fFwCwJ1RoATsWGxsrScqdO7dN4zdv3ixJeu2116y2d+vWzWp/mtKlS1uSWUlyd3eXl5eXzpw5c98x/1ta7+3GjRt169Ytm465dOmSDh06pOeff96SzEpSuXLlVKdOnXTXISldQlitWjVFRkZaXkNbtGrVSr/99psuX76snTt36vLly2rVqlWGYx0dHS3J7M2bN3X9+nXlypVLXl5eOnjwoM3ndHR0VNu2bW0aGxAQoPbt22vatGnq16+fnJyc9MEHH9h8LgCwVyS0gB3LkyePJOnGjRs2jT979qwcHBxUokQJq+0eHh5ycXHR2bNnrbYXLlw43Ryurq6Kioq6z4jTCwoKUpUqVTRy5EjVqVNHAwcOVFhY2F2T23PnzkmSvLy80u0rVaqUrl+/rri4OKvtRYoUsfo6LZG+l2tp0KCBcufOrbCwMK1evVoVK1ZUyZIlMxx769Ytffnll3rmmWdUsWJF1apVS7Vr19aRI0cUExNj8zkLFix4TzeADRs2TG5ubjp06JBGjhyp/Pnz23wsANgrWg4AO5YnTx4VKFDA0tNqK5PJZNO4bNmy3U9Ydz1HWn9nGmdnZy1atEi7du3Spk2b9OuvvyosLEzLli3TF1988UAx3O72t/5vZzabbZ7D0dFRgYGB+vbbb3XmzBn17dv3jmNnzpypzz//XC+88ILefPNNubq6ysHBQZ988sk9ndPZ2dnmsZJ06NAhXb16VZJ09OjRezoWAOwVFVrAzjVq1EinT5/W3r17/3Ns0aJFdevWLZ06dcpq+5UrVxQdHa2iRYs+tLhcXFysVgRIk1ZdvZ2Dg4Nq166t4cOHKywsTAMHDtTOnTu1a9euDOdOq7ZGRESk2xceHq58+fIpV65cD3gFGWvVqpUOHjyoGzdu6Nlnn73juPXr16tmzZr65JNP9OyzzyogIEB16tRJ95rY+suFLeLi4jR8+HCVLl1a7du319y5c7V///6HNj8AGBUJLWDnunfvrly5cmnkyJG6cuVKuv2nT5/W/PnzJaW+ZS7J8nWaefPmWe1/GEqUKKGYmBirZaouXbqkH3/80WpcZGRkumPTHjDw76XE0hQoUEC+vr769ttvrRLEo0ePatu2bQ/1Ov6tZs2aevPNN/XOO+/Iw8PjjuOyZcuWrhL7ww8/pFs+K2fOnJKUYfJ/r8aPH6/z589rzJgxCgkJUdGiRRUSEnLH1xEAHhe0HAB2rkSJEho/frwGDhyooKAgy5PCkpKStHfvXq1bt85yU1G5cuX0/PPPa9myZYqOjlb16tV14MABffPNN2ratKnVCgcPKigoSOPHj1ffvn3VqVMnJSQkaMmSJfLy8tLff/9tGTdt2jT9/vvvatCggYoWLaqrV69q8eLFKlSokKpWrXrH+d966y316NFD7du314svvqiEhAQtXLhQefPmvWsrwINycHBQnz59/nNcw4YNNW3aNA0fPlz+/v46evSoVq9ereLFi1uNK1GihFxcXLR06VLlzp1buXLlkp+fX7px/2XHjh1avHix+vbtqwoVKkiSRo8erU6dOmnSpEl666237mk+ALAnJLTAY6BJkyb6/vvvFRoaqo0bN2rJkiVydHSUj4+PQkJC1K5dO8vYjz76SMWKFdM333yjn376SU899ZR69uz50JPAfPnyaerUqRozZow+/fRTFStWTIMGDdKpU6esEtrGjRvr7NmzWrlypa5fv658+fKpRo0a6tevn/LmzXvH+evUqaO5c+dq8uTJmjx5srJnz67q1atr6NCh95wMZoZevXopPj5eq1evVlhYmMqXL69Zs2bps88+sxqXI0cOjRkzRhMmTNCoUaOUkpKi0aNH39M1xMbG6u2331b58uXVq1cvy/Zq1aqpc+fOmjdvnp555hlVrlz5YV0eABiKyXwvdycAAAAABkMPLQAAAOwaCS0AAADsGgktAAAA7BoJLQAAAOwaCS0AAADsGgktAAAA7BoJLQAAAOzaE/tghZz+mfckIQBZ6/ruqVkdAoBM4pyFmUtm5g7xe/l360FQoQUAAIBde2IrtAAAAPfERB3QqPjOAAAAwK5RoQUAALCFyZTVEeAOqNACAADYqR9++EG9e/dW/fr1VblyZbVp00YrVqyQ2Wy2jOnUqZN8fHzSfZw4ccJqrpiYGI0YMUI1atSQv7+/+vfvr0uXLqU75549e9S+fXv5+fmpUaNGmj17ttX5JMlsNmv27Nlq2LCh/Pz81L59e+3bty/dXBcvXlS/fv3k7++vGjVq6O2331ZsbOw9vw5UaAEAAGxhwB7aL7/8UkWLFlVISIjy5cun7du365133tGFCxfUt+//VmWoUqWKhg0bZnVssWLFrL4eMGCAjh8/rlGjRsnJyUmTJk1Sjx49tHLlSmXPnpoynjp1SsHBwapbt64GDBigI0eOaPz48cqWLZuCg4Mtc82ZM0eTJ0/WkCFD5OPjo0WLFqlbt2767rvvVLx4cUlScnKyunfvLkn67LPPlJCQoLFjx2rw4MGaNWvWPb0OJLQAAAC2MGDLwYwZM+Tu7m75unbt2oqMjNS8efPUp08fOTikJuEuLi6qXLnyHefZu3evtm7dqtDQUAUEBEiSvLy8FBQUpA0bNigoKEiSFBoaqnz58mnChAlydHRU7dq1de3aNc2cOVOdOnWSo6OjEhMTNWvWLHXr1k1du3aVJFWtWlXNmzdXaGioRo0aJUlav369jh07prCwMHl7e1viDA4O1v79++Xn52fz62C8XzUAAABgk9uT2TS+vr6KjY1VXFyczfNs2bJFLi4uqlu3rmWbt7e3fH19tWXLFqtxTZo0kaOjo2VbUFCQoqOjtXfvXkmpLQmxsbFq0aKFZYyjo6MCAwPTzeXj42NJZiWpbt26cnNz0+bNm22OXSKhBQAAsI3JIfM+HqI//vhDBQsWVJ48eSzbfvvtN1WuXFkVK1ZUx44dtXv3bqtjwsPD5eXlJdO/qtDe3t4KDw+XJMXFxen8+fNWCWjaGJPJZBmX9vnf40qVKqVz584pISHBMu7fY0wmk7y8vCxz2IqWAwAAgCzWpEmTu+7fuHGjTfP8/vvvCgsLs+qXrV69utq0aSNPT09dunRJoaGheu2117RgwQL5+/tLkqKjo5U3b95087m6uuqvv/6SlHrTmJTaFnA7R0dH5cyZU1FRUZa5HB0d5eTkZDXOxcVFZrNZUVFRcnZ2vus50+ayFQktAACALQzYQ3u7CxcuaODAgapZs6Y6d+5s2d6/f3+rcQ0bNlTLli01ffp0zZkz51GHmSlIaAEAALKYrRXYO4mOjlaPHj3k5uamKVOmWG4Gy0iuXLnUoEEDrV+/3rLNxcVFFy5cSDc2KipKrq6ukmSppqZVatMkJSUpPj7eMs7FxUVJSUlKTEy0qtJGR0fLZDJZjctoia6oqCgVLlzY1kuXRA8tAACAbQzaQ5uQkKCePXsqJiZGc+fOzfBt/P/i7e2tiIiIdOvJRkREWPpcc+XKpcKFC6frb007Lm1c2ueIiAirceHh4SpSpIicnZ0t4/49l9lstjqnrUhoAQAA7FRKSooGDBig8PBwzZ07VwULFvzPY+Li4rRp0yZVrFjRsq1+/fqKiorSjh07LNsiIiJ08OBB1a9f32rcxo0blZycbNkWFhYmFxcXSz9ulSpVlCdPHv3www+WMcnJydqwYUO6uQ4fPqyTJ09atu3YsUORkZFq0KDBPb0OtBwAAADYwoA9tO+//75++eUXhYSEKDY21uppXOXLl9f+/fs1d+5cBQYGqmjRorp06ZLmzZuny5cv6/PPP7eM9ff3V0BAgEaMGKFhw4bJyclJEydOlI+Pj5555hnLuODgYK1evVqDBw/WK6+8oqNHjyo0NFQDBw60LOXl5OSknj17asqUKXJ3d1fZsmW1ZMkSRUZGWj18oVmzZpo1a5b69eunQYMGKT4+XuPGjbM8XexemMz/ri0/IXL69/3vQQDs0vXdU7M6BACZxDkLS3E564zItLnjt39yX8c1btxYZ8+ezXDfxo0bdfPmTX3wwQc6cuSIIiMjlTNnTvn7+6tv377pksaYmBiNHj1aP/74o1JSUhQQEKCRI0emq/ru2bNHY8aM0aFDh+Tu7q4OHTqoR48eVkt+pT36dvHixbp27Zp8fX01fPhwSxU3zcWLF/XRRx9p69atyp49uwIDAzVixAirJcdsQUIL4LFDQgs8vkhokRFaDgAAAGxhwJYDpOKmMAAAANg1KrQAAAC2eMiPqMXDw3cGAAAAdo0KLQAAgC3ooTUsKrQAAACwa1RoAQAAbEEPrWHxnQEAAIBdo0ILAABgCyq0hkVCCwAAYAsHbgozKn7VAAAAgF2jQgsAAGALWg4Mi+8MAAAA7BoVWgAAAFvwYAXDokILAAAAu0aFFgAAwBb00BoW3xkAAADYNSq0AAAAtqCH1rBIaAEAAGxBy4Fh8Z0BAACAXaNCCwAAYAtaDgyLCi0AAADsGhVaAAAAW9BDa1h8ZwAAAGDXqNACAADYgh5aw6JCCwAAALtGhRYAAMAW9NAaFgktAACALWg5MCx+1QAAAIBdo0ILAABgC1oODIvvDAAAAOwaFVoAAABbUKE1LL4zAAAAsGtUaAEAAGzBKgeGRYUWAAAAdo0KLQAAgC3ooTUsEloAAABb0HJgWPyqAQAAALtGhRYAAMAWtBwYFt8ZAAAA2DUqtAAAALagh9awqNACAADArlGhBQAAsIGJCq1hUaEFAACAXaNCCwAAYAMqtMZFQgsAAGAL8lnDouUAAAAAdo0KLQAAgA1oOTAuKrQAAACwa1RoAQAAbECF1rio0AIAAMCuUaEFAACwARVa4zJEQvvtt9/e0/jnnnsuU+IAAACA/TFEQhsSEmL1ddpvQGazOd02iYQWAAA8elRojcsQCe3u3bstfz516pTefPNNtWnTRs2aNdNTTz2lK1euaN26dfr+++81adKkrAsUAAA8uchnDcsQCW3evHktf/7ss8/Uvn17vf7665Zt+fPnl4+Pj5ydnTV+/HjNnz8/K8IEAACAARlulYO9e/eqQoUKGe6rUKGC/vzzz0ccEQAAQGrLQWZ94MEYLqF1d3dXWFhYhvvWrl0rd3f3RxwRAAAAjMwQLQe369Wrl959912dPn1aTZs2Vf78+XX16lX99NNP2r17tz744IOsDhEAADyBqKQal+ES2nbt2snDw0MzZ87Up59+qpSUFGXPnl3ly5fX9OnT1bhx46wOEQAAAAZiuIRWkho1aqRGjRrp1q1bunbtmtzd3eXgYLjuCAAA8AShQmtchs4STSaTbt68qVu3bmV1KAAAADAoQya0v/76q9q1a6eKFSuqUaNGOnLkiCTpnXfe0ffff5/F0QEAgCcRqxwYl+ES2jVr1uj1119XsWLF9N5771lVZ4sXL65Vq1ZlYXQAAOCJZcrEDzwQwyW006dPV5cuXTRhwgS1bdvWal+ZMmV07NixLIoMAAAARmS4m8LOnDmjBg0aZLgvZ86ciomJecQRAQAAcFOYkRmuQuvh4aHw8PAM9x05ckRFihR5xBEBAADAyAyX0LZs2VJTpkzRjh07LNtMJpOOHj2quXPnqnXr1lkYHQAAeFJxU5hxGa7loG/fvjp27Jhee+01ubm5SZJ69Oiha9euqWHDhnr99dezNkAAAAAYiuESWkdHR82YMUM7d+7U9u3bdf36dbm6uqpOnTqqU6dOVocHAACeUFRSjctwCa3ZbJbJZFKtWrVUq1atrA4HAAAABme4HtoGDRpo4sSJOn36dFaHAgAA8D+sQ2tYhktoW7VqpVWrVqlZs2bq1KmTvv32WyUkJGR1WAAA4AnHTWHGZbiEdujQodq8ebOmTZsmNzc3jRw5UgEBAXr33Xe1f//+rA4PAAAABmO4HlpJcnBwUOPGjdW4cWNdu3ZN33//vVasWKHly5erdOnSeuGFF9S2bVu5uLhkdagAAOAJQSXVuAxXof23K1eu6Pz587p69apy5MihAgUKaPLkyWrcuLE2btyY1eEBAAAgixmyQhsbG6s1a9Zo5cqV+uuvv1S6dGn17t1bbdq0kaurq2JjY/Xhhx/q448/VpMmTbI6XAAA8ASgQmtchktohw4dqp9++kmS1KJFC7399tuqXLmy1Zg8efLo1Vdf1XfffZcFEQIAAMBIDNdycOLECQ0bNky//vqrPvnkk3TJbJrSpUvrq6++erTBAQCAJ5YRVzn44Ycf1Lt3b9WvX1+VK1dWmzZttGLFCpnNZqtxy5cvV7NmzVSxYkW1bt1av/zyS7q5YmJiNGLECNWoUUP+/v7q37+/Ll26lG7cnj171L59e/n5+alRo0aaPXt2uvOZzWbNnj1bDRs2lJ+fn9q3b699+/alm+vixYvq16+f/P39VaNGDb399tuKjY2959fBZP53BE+InP59szoEAJnk+u6pWR0CgEzinIXvLRfpuSrT5j43q+19Hde+fXsVLVpUTZs2Vb58+bR9+3bNnTtXb7zxhvr2Tc111q5dq8GDB6tXr16qVauWwsLCtHLlSi1atMiqcBgcHKzjx49r2LBhcnJy0qRJk+Tg4KCVK1cqe/bUF/7UqVN67rnnVLduXXXo0EFHjhzR+PHjNXDgQAUHB1vmmj17tiZPnqwhQ4bIx8dHixYt0vbt2/Xdd9+pePHikqTk5GS1bZt63QMHDlRCQoLGjh2rcuXKadasWff0Ohiu5eB28fHxSkxMTLfdzc3t0QcDAACebAZsoZ0xY4bc3d0tX9euXVuRkZGaN2+e+vTpIwcHB02ePFnPPvusBgwYIEmqVauWjh49qmnTpmnOnDmSpL1792rr1q0KDQ1VQECAJMnLy0tBQUHasGGDgoKCJEmhoaHKly+fJkyYIEdHR9WuXVvXrl3TzJkz1alTJzk6OioxMVGzZs1St27d1LVrV0lS1apV1bx5c4WGhmrUqFGSpPXr1+vYsWMKCwuTt7e3JMnFxUXBwcHav3+//Pz8bH4dDNdyYDabNW3aNNWvX19VqlRR7dq1030AAABAVslsGl9fX8XGxiouLk5nzpzRyZMn1aJFC6sxQUFB2rFjh5KSkiRJW7ZskYuLi+rWrWsZ4+3tLV9fX23ZssWybcuWLWrSpIkcHR2t5oqOjtbevXslpbYkxMbGWp3T0dFRgYGB6eby8fGxJLOSVLduXbm5uWnz5s339DoYLqH98ssv9eWXX6pDhw4ym83q1auX3njjDXl6eqpo0aL68MMPszpEAADwBDJiD21G/vjjDxUsWFB58uRReHi4pNRq6+1KlSql5ORknTlzRpIUHh4uLy+vdLF4e3tb5oiLi9P58+etEtC0MSaTyTIu7fO/x5UqVUrnzp2zPAE2PDw83RiTySQvLy/LHLYyXMvBihUr1K9fP3Xo0EETJ05U06ZNVaFCBfXp00e9e/fW6dOnszpEAADwBMrMZbv+axlSW9fe//333xUWFqZhw4ZJkqKioiQp3cOo0r5O2x8dHa28efOmm8/V1VV//fWXpNSbxjKay9HRUTlz5rSay9HRUU5OTunOaTabFRUVJWdn57ueM20uWxmuQnv27Fn5+voqW7Zsyp49u6KjoyWlPj3s1Vdf1apVmdeQDQAAYK8uXLiggQMHqmbNmurcuXNWh/NIGa5C6+bmpri4OElSkSJFdPDgQUvf7PXr1y1lagAAgEcpMyu0D/r00+joaPXo0UNubm6aMmWKHBxSa5aurq6SUqurHh4eVuNv3+/i4qILFy6kmzcqKsoyJq2amlapTZOUlKT4+HiruZKSkpSYmGhVpY2OjpbJZLIal9ESXVFRUSpcuPA9Xb/hEtoqVarowIEDatCggVq2bKmpU6fqypUryp49u77++mtuCgMAALhNQkKCevbsqZiYGC1btszqbfy0HtV/96uGh4crR44cliW0vL29tWPHDpnNZqvEPSIiQmXLlpUk5cqVS4ULF07X3xoRESGz2WyZP+1zRESEypUrZ3XOIkWKyNnZ2TLu6NGjVnOZzWZFRERY3ZxmC8O1HPTt21dVq1aVJPXq1UsvvPCC1qxZo2XLlql27dqWpR4AAAAeKVMmftynlJQUDRgwQOHh4Zo7d64KFixotb948eLy9PTUunXrrLaHhYWpdu3altUK6tevr6ioKO3YscMyJiIiQgcPHlT9+vUt2+rXr6+NGzcqOTnZai4XFxf5+/tLSi1O5smTRz/88INlTHJysjZs2JBursOHD+vkyZOWbTt27FBkZKQaNGhwT68DD1YA8NjhwQrA4ysrH6xQvO93mTb3malt7uu4d955R19//bVCQkIsCWWa8uXLy9HRUWvWrNGQIUPUp08f1axZU2FhYVqxYoUWLlxodUxwcLDlia1OTk6aOHHiHR+sUK9ePb3yyis6evSoPv300wwfrDBlyhQNGTJEZcuW1ZIlS7R169Y7Plhh0KBBio+P17hx4+Tj43PPD1YgoQXw2CGhBR5fWZnQluj3fabNfXpK6/s6rnHjxjp79myG+zZu3KhixYpJSn307Zw5c3Tu3Dl5eXlp0KBBatSokdX4mJgYjR49Wj/++KNSUlIUEBCgkSNHpqv67tmzR2PGjNGhQ4fk7u6uDh06qEePHlatCmmPvl28eLGuXbsmX19fDR8+PF3SffHiRX300UfaunWrsmfPrsDAQI0YMUJ58uS5p9fBEAltr169bB5rMpk0Y8aMBz4nCe2jV7V8CXVsVVP1q5dVySLuuhZ5Q78dOKlR09bo+On/PSt69vsd1al1rXTHH4m4oMptP7J8XaKwu46EfZDhuTqHzNPy9X9YbevVvr56tqsvr2L5dTXyhlZs2KP3p61RXELSHWN+uUU1zfukq2LjEuVRd7DVvmoVSqpj65qq/rSnKpYpqhw5svH/lUGQ0BrbXwf26/vvvtXu33bp3LmzcnN1k1+lSnqj/wB5elqvlXnr1i2t+HqpVny9TCdPRsjZOafK+vho6LAR8rmtN+/y5UuaMXWKduzYpqtXrsijQAE1bNREPXr2kptbPqs5lyxaqGVLF+mfM2fkli+fmjUP0hv93lSuXLkeyfXjwZDQIiOGuCnsxo0bWR0CHoHBrwWqViVvffPTXh04dlYF87uoV/sG2rFkmBp0Hq+DJ85bxiYkJqv3B4utjo+Ojc9w3mU//K51W/+22rZrv3XD+kf922jwa4Fa9eMeTVuySb7ehdS7fQP5ehdW6zemZThv7pyO+njAc4qNS//4ZUlqFlBBrz1fRweOnVPE2Ssq61kww3EArM0Lnat9e/cosFlzlS3roytXLmvp4kV6+cW2WrBkmcqUKWsZ+97IEQpbu1otW7fRy692VHx8nA4fOqRr165axsTduKHOr76s+Pg4tXv5VRUqVFhHjhzW0sWLtPu3XVq6fJXlju+Jn32qL7+Yq8BnmunVjp0VfuKEli5eqBPHj2vmnNBH/lrAvmTmKgd4MIZIaBcsWJDVIeARmLzwZ3UZ/qWSU25atq3YsEe/fz1CQ14LVLeRX1m2p9y8paVhu22ad9+hM3cdW+gpF/Xv2FiL1uxS93f+9//asVOXNDGknYLqP62wLX+lOy6kR3PF3EjQ5t1H1apRpXT75yz/VZ99+aMSEpM1cdhLJLSAjTp16aox48Yrx22PzmzWIkgvPtdKX8ydrdFjx0uS1q8L0/fffaMJn09Vk6aBd5xv0y8/69y5s5oyfZbqN2ho2e7q6qpZM6bpyJHD8vUtr8uXL2nhV1+qZes2+nj0OMu4kiU9NeaTD7Xpl5/VsFHjh3/BeGyQ0BqX4VY5wONr558RVsmsJJ04fVkHT5yXj1ehdOMdHEzKm9vZprlzOTsqR/ZsGe6r6eelHDmypWtBSPv6pWZV0x1TqoSH+nVopGETVinl5q0M5710LUYJickZ7gNwZ5X9q1gls1JqUlmqdBlF3LYc0IL5X+rpin5q0jRQt27dsqxR/m+xN1LXscyfP7/V9qf+f81N5/9fB/PPffuUkpKi5i2etRrXPChIkrT+h7UPcFUAspIhE9pjx45p4MCBatq0qZ5++mn9/Xfq28kTJ07U5s2bszg6PGwF8+fV1UjrtpNczjl0aet4Xdo6Xmc3jdXEkHbKndMxw+NH9GyhqzsmKHLXRG1dOFRNapWz2u/kmPpGRHyCdfKZ1jvr71s83ZyfDnlBm3cf0/qtB+/7ugDYzmw26+rVK5Z+19jYWP11YL8qPF1RkydNUN2aVVW7ur+CmjXR+nVhVsdWrVpdDg4OGjf6Y+3/c58uXrigX7ds1tzZM9WoSVN5eZeSJCUnpf6d//fjOJ2dc0qSDh60bl0C/s1kMmXaBx6M4RLabdu26fnnn9e5c+fUqlUrpaSkWPZlz55dS5YsycLo8LC9HFRdRQvm04oN/6ueXrgSrQnzf1LP9xaqc8g8rd18QL3a19f3095Qtmz/+1/WbDbrx+2HNGLSt3rhzZl6a/wqebjn1XdT+6h5QAXLuKMnL0qSalf+34LSklTXv7QkqUgBN6vtzQMqqGktXw2bwGOWgUdl7ZrvdeniRTVr0UKSdObMaZnNZq3/Ya2+XbVSAwcP1eix45Uvn7uGDRmkbb9usRxbqnRpvTPqA50IP6FOr7bXM00aqG/v11WzZm2Nn/C5ZZynV+oNZ/v27rE6954/fpckXbp4MbMvE0AmMUQP7e0+++wzBQUFady4cUpJSbFa0cDX11fLly/PwujwMJX1LKhJIe20889wLVy9y7L93SnWd5EuX/+Hjp26pA/6tVbbpv6WVoEzF66nu6Fr8drftGflSI0Z9LzlRrF9h//Rb/sjNLhroM5ditLm3UdVzruQJo9or6TkFOV0ymE5Pkf2bBo35AXNXblVh8PTPwIQwMMXEX5Coz/6QJUq+6t1m+clSfH/314QGRmpBUu+lp9fah97w0aNFdSsiWbPmqG69f63QHvBAgX19NN+qle/vgoXKao9f/yuJYsWyC1fPg0eOkyS5Fu+gir6VdK80DkqULCgqteoqYjwE/r4g/eVPXsOJSZmfAMoYEEh1bAMV6E9duyY2rRJXVz43yV4FxcXXb9+PSvCwkNWMH9efTO5l6Jj4/Xq0FDdunX31eOmLPpFN2/eUqOaPncddz06Tgu+3ykfr0Iqelvl9ZUhc3Xg6FnNfr+jjoR9oJWTemrlhj368/A/io3/3w+x/h0bKb9bbn04g1464FG4cvmy+vbpqTx58mr8xM+VLVtqL3xaW0DRYsUsyawk5cqdW/UbNtJfBw5Y3sHbu+cP9Xujl/q9OUAdOnVR4yZNNeStEPXo2VsL5s/TiePHLcd/NmmKyvqU03sjRyjomSbq/0ZvPdOsucr5+rJsF2DHDFehdXV11aVLlzLcd/LkSXn8f5M/7JdLHmd9O7WPXPPmUtPgiTp/Oeo/j0lITNbVqBtyd/nvHzj/XEj9pSefay6dvRQpSTp3OUpNuk1UqRIeKpTfRcdPX9LFqzEK3/Cxjp+6ZIlrWPfmmv31r8qb29lyQ1qeXE4ymVLXvY1PSNLl67H3eeUAbhcTE6M+vXooJjpG875apAIF/rdSiEeBApKk/PmfSnecu3t+paQkKz4+Xnnz5tWK5cvknj+/Kjxd0Wpcg0aNNWPaFP25b69KlU5tMSpYsKDmL1yiU6dO6uqVKypRoqSe8vBQ04YBKlHSM/MuFo8Fel2Ny3AJbdOmTTVlyhRVqlRJJUuWlJT6P9Dly5cVGhqqZs2aZXGEeBBOjtm18vNeKlOygJ7tNdXmt/Xz5HLSU265bUomvYql/gC8ksHYE6cv68Tpy5Kkct6FVNjDVQu+3ylJcsubS3lzO2vwa4Ea/Fr6JYKOhH2g1b/8qXaD5tgUM4A7S0xMVP83eunUqZOaPXeeJeFMU6BAQT31lEeGfa2XL1+Sk5OTcufOLUm6euWqbmWwGklKcmoFN+VmSrp9JUt6quT/J7Anjh/X5cuX1fq5tg96WQCyiOES2sGDB+vAgQNq3bq1ypZNXVx7xIgROnPmjLy8vNS3L09islcODiYtGNtNNSt66aVBs7Rrf0S6MU6O2ZUje7Z0DzMY3qO5HBwc9OP2/6068FS+POmS1iIerurcppb2H/1HF65E3zEWk8mkj998TjfiEzV3xVZJ0uXrMWo3cHa6sX1eaaCafl7qMvxLXbjy39VkAHd38+ZNvTV4gPb/uU+TpkxXpcr+GY5r1ryFFi38Sju2b1PtOnUlSdevX9OmnzeqRs1alocllPT01I7tW7X7t12qXqOm5fh1YWskSeV8y98xllu3bmnihE/lnDOnXmr38sO6RDymqNAal+ES2rx582rp0qX6/vvvtX37drm5ucnV1VUdOnRQmzZt5OiY8dJNML6xg9qqVUM/rdl8QPlccuvloOpW+5eG7VbB/C7auTREX6/73bI6QdPavmpR72mt3/a3Vm86YBn/8ZvPybv4U/pl1xGdvxylkkXyK/iFusqd01FDxq20mnv80Bfk5JhD+4/+oxzZs6l982qq9nRJdX93gc78f4tCfEKyVm/any7uVo38VO1pz3T7ShTOp1eerSFJqlK+hCRpWPfUdxBOn7+mJWttezAE8KT5bNwYbfrlZzVo2EhRUZFas/o7q/0tW6XeRxHco6c2rP9Bgwf0U6curylPnrxa/vUSpaSkqN+bgyzjX3m1g777ZpX6v9FLr3TopMJFiuiP3bv1Q9ga1apT16oHd+zoj5SYmKRy5copOSVFP6xdo78O7NeHn4xR4SJFHs0LALtFPmtcJrPZfPe7cR5TOf2p9D5q6+e8qfrVytxxf07/vnLNk1MThr2kGn6eKuzhqmwODjpx5rKW/vC7Jn31k1JS/ve2YrvmVdX9xQD5eBVSvry5FBkbp+17TmjM3HXad/gfq7k7tqqpvh0aqVRxD926dUu//31KY+eu15bfj/1n3LPf76jnm/rLo+5gq+31qpbRhrlvZnjMlt+PqVmPzzPch8x3fffUrA4BdxHctZN+3/3bHff/+fcRy5//OXNGn40fq9927lBKSor8KlXWmwMH6+mKflbHnIwI19TJk3Rg/35duXJFBQoUUGCzZur9Rn/lzJnTMu67b1Zp0YL5On36tBwcTHq6op+6v95LNWrWevgXikzhnIWluNJDfsi0uY+Pb5Fpcz8JDJfQnjx5Uvv27dOVK1dkMpnk4eGhypUrq0SJEg/1PCS0wOOLhBZ4fGVlQltm6LpMm/vYp80zbe4ngWFaDi5evKgRI0Zo+/bt+neObTKZVK9ePX388cescgAAAAArhkho4+Pj1blzZ126dEndunVTQECAChUqJLPZrIsXL2rLli1aunSpunbtqpUrV8rZ2TmrQwYAAE8YemiNyxAJ7ddff61Lly5pyZIlKleunNU+b29v1a5dW61bt9arr76qFStWqGPHjlkUKQAAAIzGEE8K27hxo1588cV0yeztfH199eKLL2rDhg2PMDIAAIBUJpMp0z7wYAyR0B4/flw1a9b8z3G1atXS8dseYQgAAAAYouUgOjpa+fPn/89x7u7uio6+82L5AAAAmYVCqnEZIqFNSUlRtmzZ/nOcg4ODbt68+QgiAgAAsObgQEZrVIZIaCXpiy++0FNPPXXXMVeuXHlE0QAAAMBeGCKhLVKkiPbvT//I0YwULlw4k6MBAABIj5YD4zJEQvvzzz9ndQgAAACwU4ZIaAEAAIyO5bWMyxDLdgEAAAD3iwotAACADSjQGhcVWgAAANg1KrQAAAA2oIfWuAxXof322291/fr1DPdFRkbq22+/fbQBAQAAKDWhzawPPBjDJbTDhw/XmTNnMtz3zz//aPjw4Y84IgAAABiZ4VoOzGbzHfdFR0crd+7cjzAaAACAVBRSjcsQCe3mzZv166+/Wr7O6DG4iYmJ2rlzp3x9fR91eAAAADAwQyS0J0+etDwtzGQy6ffff5ejo6PVmBw5cqhMmTIaNGhQVoQIAACecPS6GpchEtouXbqoS5cukqTGjRtr+vTpKleuXBZHBQAAAHtgiIT2dmmVWgAAACOhQGtchktoJenixYv68ssvtWfPHkVGRsrNzU1Vq1ZVly5dVLBgwawODwAAAAZiuGW7jh49qlatWmnp0qXy8PBQrVq15OHhoaVLl6p169Y6duxYVocIAACeQKxDa1yGq9COHTtWxYsX1xdffCFXV1fL9qioKHXr1k1jx47V3LlzszBCAADwJCLvNC7DVWj37Nmj3r17WyWzkuTq6qrevXvrjz/+yKLIAAAAYESGq9Bmy5ZNSUlJGe5LSkpStmzZHnFEAAAALNtlZIar0NapU0eTJk1SRESE1faTJ0/q888/V506dbIoMgAAABiR4Sq0ISEh6tixo5599lmVKVNGTz31lK5evaqjR4+qcOHCGj58eFaHCAAAnkAUaI3LcAltkSJFtHr1aq1cuVJ//PGHoqOj5enpqRdeeEFt27ZV7ty5szpEAAAAGIjhElpJyp07tzp37qzOnTtndSgAAACS6KE1MsP10AIAAAD3whAV2saNG9v8W4/JZNJPP/2UyREBAABYo0BrXIZIaJs0afKfCe2RI0e0a9cuyv0AACBLkIMYlyES2rfffvuO+w4dOqRp06bpt99+U4kSJfT6668/wsgAAABgdIZIaDNy4MABTZs2TZs3b5anp6fGjBmjVq1aycGBtl8AAPDoUaA1LsMltPv27dPUqVO1bds2lS5dWp999platGhBmR8AAAAZMkxCu3v3bk2fPl07duxQ+fLlNXnyZAUGBmZ1WAAAAJLooTUyQyS0nTp10u+//y4/Pz/NmjVLDRo0yOqQAAAAYCcMkdDu3r1bknT06FENHDjwrmNNJpP++OOPRxEWAACABQVa4zJEQtu3b9+sDgEAAAB2ioQWAADABvTQGpchEloAAACjI6E1LhZ1BQAAgF2jQgsAAGADCrTGRYUWAAAAdo0KLQAAgA3ooTUuKrQAAACwa1RoAQAAbECB1rio0AIAAMCuUaEFAACwAT20xkWFFgAAAHaNCi0AAIANKNAaFwktAACADRzIaA2LlgMAAADYNSq0AAAANqBAa1xUaAEAAGDXqNACAADYgGW7jIsKLQAAAOwaFVoAAAAbOFCgNSwqtAAAALBrVGgBAABsQA+tcZHQAgAA2IB81rhoOQAAAIBdo0ILAABgA5Mo0RoVFVoAAAA7durUKb377rtq06aNypcvr5YtW6Yb06lTJ/n4+KT7OHHihNW4mJgYjRgxQjVq1JC/v7/69++vS5cupZtvz549at++vfz8/NSoUSPNnj1bZrPZaozZbNbs2bPVsGFD+fn5qX379tq3b1+6uS5evKh+/frJ399fNWrU0Ntvv63Y2Nh7eg2o0AIAANjAqMt2HTt2TJs3b1alSpV069atdIllmipVqmjYsGFW24oVK2b19YABA3T8+HGNGjVKTk5OmjRpknr06KGVK1cqe/bUtPHUqVMKDg5W3bp1NWDAAB05ckTjx49XtmzZFBwcbJlrzpw5mjx5soYMGSIfHx8tWrRI3bp103fffafixYtLkpKTk9W9e3dJ0meffaaEhASNHTtWgwcP1qxZs2x+DUhoAQAA7Fjjxo3VtGlTSVJISIj++uuvDMe5uLiocuXKd5xn79692rp1q0JDQxUQECBJ8vLyUlBQkDZs2KCgoCBJUmhoqPLly6cJEybI0dFRtWvX1rVr1zRz5kx16tRJjo6OSkxM1KxZs9StWzd17dpVklS1alU1b95coaGhGjVqlCRp/fr1OnbsmMLCwuTt7W2JMzg4WPv375efn59NrwEtBwAAADYwmUyZ9vEgHBweTjq3ZcsWubi4qG7dupZt3t7e8vX11ZYtW6zGNWnSRI6OjpZtQUFBio6O1t69eyWltiTExsaqRYsWljGOjo4KDAxMN5ePj48lmZWkunXrys3NTZs3b7Y5dhJaAACAJ8Bvv/2mypUrq2LFiurYsaN2795ttT88PFxeXl7pEmxvb2+Fh4dLkuLi4nT+/HmrBDRtjMlksoxL+/zvcaVKldK5c+eUkJBgGffvMSaTSV5eXpY5bEHLAQAAgA0ycx3aJk2a3HX/xo0bH2j+6tWrq02bNvL09NSlS5cUGhqq1157TQsWLJC/v78kKTo6Wnnz5k13rKurq6WNISYmRlJqW8DtHB0dlTNnTkVFRVnmcnR0lJOTk9U4FxcXmc1mRUVFydnZ+a7nTJvLFiS0AAAANnCw4ycr9O/f3+rrhg0bqmXLlpo+fbrmzJmTRVE9PCS0AAAAWexBK7D3KleuXGrQoIHWr19v2ebi4qILFy6kGxsVFSVXV1dJslRT0yq1aZKSkhQfH28Z5+LioqSkJCUmJlpVaaOjo2UymazGZbREV1RUlAoXLmzz9dBDCwAAYAOTKfM+jMDb21sRERHplv2KiIiw9LnmypVLhQsXTtffmnZc2ri0zxEREVbjwsPDVaRIETk7O1vG/Xsus9lsdU5bkNACAAA8YeLi4rRp0yZVrFjRsq1+/fqKiorSjh07LNsiIiJ08OBB1a9f32rcxo0blZycbNkWFhYmFxcXSz9ulSpVlCdPHv3www+WMcnJydqwYUO6uQ4fPqyTJ09atu3YsUORkZFq0KCBzddDywEAAIANHnR5rcwSHx9vWeLq7Nmzio2N1bp16yRJNWrUUHh4uObOnavAwEAVLVpUly5d0rx583T58mV9/vnnlnn8/f0VEBCgESNGaNiwYXJyctLEiRPl4+OjZ555xjIuODhYq1ev1uDBg/XKK6/o6NGjCg0N1cCBAy1LeTk5Oalnz56aMmWK3N3dVbZsWS1ZskSRkZFWD19o1qyZZs2apX79+mnQoEGKj4/XuHHjLE8Xs5XJfKfHSTzmcvr3zeoQAGSS67unZnUIADKJcxaW4l6ctyfT5l7xWpX7Pvaff/654yoJX331lQoVKqQPPvhAR44cUWRkpHLmzCl/f3/17ds3XdIYExOj0aNH68cff1RKSooCAgI0cuRIFSxY0Grcnj17NGbMGB06dEju7u7q0KGDevToYZX0pz36dvHixbp27Zp8fX01fPhwSxU3zcWLF/XRRx9p69atyp49uwIDAzVixAjlyZPH5teAhBbAY4eEFnh8ZWVC+9KXmZfQLu96/wkt6KEFAACAnaOHFgAAwAb2vA7t446EFgAAwAaks8ZFywEAAADsGhVaAAAAGxh12S5QoQUAAICdo0ILAABgAwcKtIZFhRYAAAB2jQotAACADeihNS4qtAAAALBrVGgBAABsQIHWuEhoAQAAbEDLgXHRcgAAAAC7RoUWAADABizbZVxUaAEAAGDXHqhCe/HiRe3evVtXr15Vs2bNVKhQId28eVMxMTHKmzevsmXL9rDiBAAAyFL00BrXfSW0ZrNZY8aM0aJFi5SSkiKTyaSyZcuqUKFCiouLU+PGjdW/f3917dr1IYcLAAAAWLuvloO5c+fqq6++Urdu3TRv3jyZzWbLvrx58+qZZ57Rhg0bHlqQAAAAWc2UiR94MPeV0C5fvlzPPfecBg0apHLlyqXb7+Pjo5MnTz5obAAAAMB/uq+Wg/Pnz8vf3/+O+3PmzKnY2Nj7DgoAAMBoHOihNaz7Smjz58+v8+fP33H/33//rcKFC993UAAAAEZDPmtc99VyEBgYqKVLl+rMmTOWbWl3/m3dulXffPONmjdv/nAiBAAAAO7iviq0/fv3165du9SmTRtVq1ZNJpNJc+bM0eeff659+/bJ19dXvXr1etixAgAAZBmW7TKu+6rQ5s2bV19//bW6d++uixcvysnJSbt371ZMTIzeeOMNLV68WDlz5nzYsQIAAADp3PeDFZydndWnTx/16dPnYcYDAABgSBRojYtH3wIAAMCu3VeFdvjw4f85xmQy6ZNPPrmf6QEAAAyHZbuM674S2l27dqXbduvWLV2+fFk3b96Uu7s7PbQAAAB4JO4rof35558z3J6cnKxly5Zp/vz5+uKLLx4oMAAAACOhQGtcD7WHNkeOHOrYsaPq1q2rDz/88GFODQAAkKVMJlOmfeDBZMpNYeXKldPu3bszY2oAAADAyn0v23U327dvN3wP7c/LP8rqEAAAgB1haSjjuq+EdurUqRluj4mJ0e7du3Xw4EG9/vrrDxQYAAAAYIuHmtC6urqqePHiev/999WuXbsHCgwAAMBI6HU1rvtKaA8fPvyw4wAAAADuyz23gyQkJGj06NF3XLoLAADgceRgyrwPPJh7TmidnZ21bNkyXb16NTPiAQAAAO7JfbUcVKhQQUePHn3YsQAAABgWlVTjuq8VKEaMGKGwsDAtX75cKSkpDzsmAAAAw+HBCsZlMpvNZlsG7t69W6VKlZK7u7tatWql69ev6+rVq3J0dFTBggXl5ORkPbHJpO+//z5Tgn4YdhyPzOoQAGQSf0+3rA4BQCZxzpQV9G0zePWRTJv7s1Y+mTb3k8Dm/y06d+6sTz/9VC1btpSbm5vc3Nzk5eWVmbEBAAAYBi0HxmVzQms2m5VWzF2wYEGmBQQAAADciyws3AMAANgPWl2N655uCqNpGQAAAEZzTxXaoUOHaujQoTaNNZlMOnjw4H0FBQAAYDQOFPYM654S2jp16sjT0zOTQgEAAADu3T0ltM8995xatWqVWbEAAAAY1n0t3o9HgpvCAAAAbEDHgXHxywYAAADsGhVaAAAAG3BTmHHZnNAePnw4M+MAAAAA7gsVWgAAABtQoDUuemgBAABg16jQAgAA2MCBCq1hUaEFAACAXaNCCwAAYANWOTAuKrQAAACwa1RoAQAAbECB1rhIaAEAAGzATWHGRcsBAAAA7BoVWgAAABuYRInWqKjQAgAAwK5RoQUAALABPbTGRYUWAAAAdo0KLQAAgA2o0BoXFVoAAADYNSq0AAAANjDxZAXDIqEFAACwAS0HxkXLAQAAAOwaFVoAAAAb0HFgXFRoAQAAYNeo0AIAANjAgRKtYVGhBQAAgF2jQgsAAGADVjkwLiq0AAAAsGtUaAEAAGxAC61xkdACAADYwEFktEZFywEAAADsGgktAACADUymzPt4EKdOndK7776rNm3aqHz58mrZsmWG45YvX65mzZqpYsWKat26tX755Zd0Y2JiYjRixAjVqFFD/v7+6t+/vy5dupRu3J49e9S+fXv5+fmpUaNGmj17tsxms9UYs9ms2bNnq2HDhvLz81P79u21b9++dHNdvHhR/fr1k7+/v2rUqKG3335bsbGx9/QakNACAADYsWPHjmnz5s0qWbKkSpUqleGYtWvX6p133lGLFi00Z84cVa5cWX379k2XYA4YMEDbtm3TqFGjNH78eEVERKhHjx5KSUmxjDl16pSCg4Pl4eGhWbNmqUuXLpo8ebK++OILq7nmzJmjyZMnq2vXrpo1a5Y8PDzUrVs3nTlzxjImOTlZ3bt318mTJ/XZZ59p1KhR2rp1qwYPHnxPrwE9tAAAADYw6rJdjRs3VtOmTSVJISEh+uuvv9KNmTx5sp599lkNGDBAklSrVi0dPXpU06ZN05w5cyRJe/fu1datWxUaGqqAgABJkpeXl4KCgrRhwwYFBQVJkkJDQ5UvXz5NmDBBjo6Oql27tq5du6aZM2eqU6dOcnR0VGJiombNmqVu3bqpa9eukqSqVauqefPmCg0N1ahRoyRJ69ev17FjxxQWFiZvb29JkouLi4KDg7V//375+fnZ9BpQoQUAALBjDg53T+fOnDmjkydPqkWLFlbbg4KCtGPHDiUlJUmStmzZIhcXF9WtW9cyxtvbW76+vtqyZYtl25YtW9SkSRM5OjpazRUdHa29e/dKSm1JiI2NtTqno6OjAgMD083l4+NjSWYlqW7dunJzc9PmzZttfw1sHgkAAPAEczCZMu0jM4WHh0tKrbberlSpUkpOTra0AISHh8vLy0umf8Xj7e1tmSMuLk7nz5+3SkDTxphMJsu4tM//HleqVCmdO3dOCQkJlnH/HmMymeTl5WWZwxa0HAAAAGSxJk2a3HX/xo0b73vuqKgoSalv5d8u7eu0/dHR0cqbN2+6411dXS1tDDExMRnO5ejoqJw5c1rN5ejoKCcnp3TnNJvNioqKkrOz813PmTaXLUhoAQAAbMCDFYyLhBYAAMAGmdka8CAV2P/i6uoqKbW66uHhYdkeHR1ttd/FxUUXLlxId3xUVJRlTFo1Na1SmyYpKUnx8fFWcyUlJSkxMdGqShsdHS2TyWQ1LqMluqKiolS4cGGbr5EeWgAAgMdYWo/qv3tSw8PDlSNHDhUvXtwyLiIiIt16shEREZY5cuXKpcKFC6ebK+24tHFpnyMiItKds0iRInJ2draM+/dcZrPZ6py2IKEFAACwgVEfrPBfihcvLk9PT61bt85qe1hYmGrXrm1ZraB+/fqKiorSjh07LGMiIiJ08OBB1a9f37Ktfv362rhxo5KTk63mcnFxkb+/vySpSpUqypMnj3744QfLmOTkZG3YsCHdXIcPH9bJkyct23bs2KHIyEg1aNDA5muk5QAAAMCOxcfHW5a4Onv2rGJjYy3Ja40aNeTu7q5+/fppyJAhKlGihGrWrKmwsDDt379fCxcutMzj7++vgIAAjRgxQsOGDZOTk5MmTpwoHx8fPfPMM5ZxwcHBWr16tQYPHqxXXnlFR48eVWhoqAYOHGhJjp2cnNSzZ09NmTJF7u7uKlu2rJYsWaLIyEgFBwdb5mrWrJlmzZqlfv36adCgQYqPj9e4ceMsTxezlcn877ryE2LH8cisDgFAJvH3dMvqEABkEucsLMV9uft0ps3dtXqJ+z72n3/+ueMqCV999ZVq1qwpKfXRt3PmzNG5c+fk5eWlQYMGqVGjRlbjY2JiNHr0aP34449KSUlRQECARo4cqYIFC1qN27Nnj8aMGaNDhw7J3d1dHTp0UI8ePayW/Ep79O3ixYt17do1+fr6avjw4ZYqbpqLFy/qo48+0tatW5U9e3YFBgZqxIgRypMnj82vAQktgMcOCS3w+CKhRUZoOQAAALDBvx84AOPgpjAAAADYNSq0AAAANqA+a1wktAAAADbIzAcr4MHQcgAAAAC7RoUWAADABtRnjYsKLQAAAOwaFVoAAAAb0EJrXFRoAQAAYNeo0AIAANiABysYFxVaAAAA2DUqtAAAADagCmhcJLQAAAA2oOXAuPhlAwAAAHaNCi0AAIANqM8aFxVaAAAA2DUqtAAAADagh9a4qNACAADArlGhBQAAsAFVQOPiewMAAAC7RoUWAADABvTQGhcJLQAAgA1IZ42LlgMAAADYNSq0AAAANqDjwLio0AIAAMCuUaEFAACwgQNdtIZFhRYAAAB2jQotAACADeihNS7DJLSdO3e+p/FfffVVJkUCAAAAe2KYhDZPnjxWCxYfOHBAV65cUbly5ZQ/f35dvXpVhw8floeHhypWrJiFkQIAgCeRiR5awzJMQjt9+nTLn7/99ltFRERo4cKFKlGihGX7qVOn1Lt3bzVp0iQrQgQAAE8wWg6My5A3hU2fPl1vvvmmVTIrSSVLllS/fv2skl8AAAA82QxTob3dhQsX7vi8ZJPJpIsXLz7iiAAAwJOOZbuMy5AVWj8/P02aNElnzpyx2n7mzBl9/vnnqlSpUhZFBgAAAKMxZIX2/fffV7du3dS8eXOVKVPGclPYsWPHlD9/fk2dOjWrQwQAAE8YemiNy5AJbalSpfTjjz9q5cqV2r9/vy5fvixfX1+1b99ebdu2lZOTU1aHCAAAAIMwmc1mc1YHkRV2HI/M6hAAZBJ/T7esDgFAJnHOwlLchkOXM23uZ3w9Mm3uJ4EhK7RpTpw4oQMHDujChQt64YUX5OHhoVOnTil//vzKkydPVocHAAAAAzBkQhsfH6+RI0cqLCxMDg4OunXrlurVqycPDw999tlnKlasmN56662sDhMAADxBeLCCcRlylYOxY8dq586dmjNnjv744w/d3hXRoEED/frrr1kYHQAAAIzEkBXa9evX66233lJAQIBu3rxpta9o0aI6e/ZsFkUGAACeVA4UaA3LkAltXFycPDwybo6Oj49/xNEAAADQcmBkhmw58PHx0YYNGzLct2nTJj399NOPOCIAAAAYlSErtH369FGfPn0UHx+v5s2by2Qyaf/+/VqzZo1WrlypOXPmZHWIAADgCcODFYzLsOvQrlu3TuPGjdO5c+cs2woVKqSQkBA1b978gednHVrg8cU6tMDjKyvXof3lyNVMm7uRT/5Mm/tJYMgKrSQ1b95czZs3V0REhK5fvy5XV1eVKlUqq8MCAABPKHpojcuQPbRbtmyxLNXl5eWlKlWqkMwCAAAgQ4as0L7++usqVKiQnn/+ebVt21bFixfP6pAAAMATjmW7jMuQCe3atWu1YsUKLV++XLNmzVK1atX00ksvqVmzZnJ0dMzq8JBJTh4/rG8XzdWxg38qOTlRHoWKqmHz5xTYur1lTEpysn5YtUjbfg7TlYvnlSt3bnmW9lXXfiFyf6qgJCn86EFt27hWh/b/oSsXzyuPi6tK+TytFzr3UqGiJazOGX7kb239aa1OHPlL/5w8rps3b+rLtbsyjK/rszUz3P5ilz5q2a7LQ3oVgMffXwf26/vvvtXu33bp3LmzcnN1k1+lSnqj/wB5enpJkm7duqXV332rjT9t0OHDhxQVFaWiRYupeYsgdXktWE5OTpb5vvtmld4dOfyO5/tk7Kd6tmVrSdLGn37U8mVLdfzYEUVGRiqfu7v8/Cqr1xt9VaZM2cy9cACZxrA3hUnSzZs3tWnTJq1cuVJbtmxRzpw51bJlS73wwgsPvHQXN4UZy197dmrS+0NUolRZ1awXKKecOXXp/FmZzbfUvls/SVJKSoomvjdQxw7tV4PmbVTcs7RuxMYo/Mjfeu7V7ipa0luSNPWTEB07uF/VA5qouFdpRV2/qp9WL1diQrze+SxUxTz/177yzaI5WvP1lyruWVoJ8XG6cPb0XRPaCv41VLdxkNX2kqV8LOeGMXBTmLENHtBf+/buUWCz5ipb1kdXrlzW0sWLFBcXpwVLlqlMmbKKu3FDtWtUkV+lyqrfoKHc3fPrzz/3avV336pK1WqaO+8rmf7/lvN/zpzRvn170p1n4VfzdfTIYW3YuFlP/f/a5jOnT1V4+AmVK+crt3z5dPXKFX37zUpduXxZXy1aJp9y5R7pa4F7l5U3hf169HqmzV2vbL5Mm/tJYOiE9nYXL17UkCFDtHv3bplMJpUpU0ZdunTRCy+8cF/zkdAaR3xcrIb1eEllfP30xojRcnDIuLU7bMUCrVwwU2+Pmy1vnwp3nO/Ywf3yKuOr7DlyWLZdOHtaI9/ooOp1G6vn0Pct26OuX1XOXLnl6OSsBTM+1cY1K+6a0DZp+aI69R56n1eKR4WE1tj27d2jChWeVo7b3nE7deqkXnyulZo+00yjx45XclKS/v77L1X2r2J17MzpUzVj2hTNmjtPtWrXueM5EhIS1Lh+HVWsVFmz5nxx13iuXrmiZ5o00HNtX9A7733wYBeHTJeVCe3WY5mX0AaUIaF9EIa8Kex2J06c0NixY9W2bVvt27dPzZs31/jx41WuXDm99957evfdd7M6RDygHZs2KDryml7o3EsODg5KTIjXrVu3rMbcunVLG75fpqq1G8rbp4Ju3kxRYkJChvOVKe9nlcxKUqGiJVS0hJfOnYmw2u6aL78cnZzvKd6kxAQlJSXe0zEA/qeyfxWrZFaSSpb0VKnSZRQRHi5JyuHomC6ZlaQmTQMlSeHhJ+56js2bftaNGzf07LOt/jMe9/z55ezsrJiYGFsvAYDBGLKH9saNG1q7dq1Wrlyp/fv3y9PTU8HBwXruuefk7u4uSXr22WdVp04dvf/++/rgA36jtmcH9/2mnLly6/rVy5r80Vu6cPa0nJxzqk7jFnqlxwA5Ojrp3OkIRV69rGKepTVv8ifatjFMKSnJKuZZWh1eHyjfStXueg6z2azoyGsP3Bqw9ae1+nntSpnNZhUp7qlWL3dT7YbNHmhOAKl/R69evaJSpcrcddyVK1ckSfnc7l7NCluzWs7OzmoSGJjh/ujoaKWkpOjqlctauGC+YmNjVbNm7fsLHk8M7gkzLkMmtHXr1pUkPfPMMxo6dKiqVcs4WSlfvrzy5aNEb+8unjujmzdv6vMPh6r+M631Ypc+Onxgj35a/bXiYmPUe9hHunjujCRpw3dLlDuPi7r0DZEkrfn6S3327gC9N2meinvd+Qfhjl/W6frVy3q+4+v3HWdpXz/VqNdEHgWL6Pq1K/p5zQrN+vRdxd+IVeNn76/1BUCqtWu+16WLF9Wnb/+7jvvyi7nKkyeP6tarf8cxUZGR2rb1VzVq0lS5c+fJcEynV9vpZETqOza5cuVSj5699fwLL97/BQDIUoZMaIcMGaLWrVvLxcXlruPKli2rn3/++RFFhcySEB+vpMQENQpqq469BkuSqtVtpJSUZG364Rs93/F1JSTEpY6Ni9P7kxcov0fqigblK1XTWz1eUNiKhVa9sbc7d+akFsz4VKXLVVRAk2fvO86R460fuVw/sJVGvdlFK+bPUEDTZ++5dQFAqojwExr90QeqVNlfrds8f8dxc2fP1M4d2/X2O+/d9efDjxvWKzk5+a7tBh98NFqxsbE6+88ZffvNKiUmJurmzZt37OEHJMmBZ98aliH/5nbs2PE/k1k8Phz/f/mdWg2esdqe9lb+icN/ydExdUyZ8n6WZFaS8hcopLLlK+n4of0Zzh157aomjhqknLnzpN5wli3bQ4s7e44catLqRcXdiNHJ44cf2rzAk+TK5cvq26en8uTJq/ETP1e2O/wdXfdDmKZOnqTnX3hR7V5+9a5zhq1dLVdXt7tWcStV9lfdgHpq9/Krmjk7VGtXf6/JkyY80LUAyDqGrNBKqTcB7dy5UxEREUpKSrLaZzKZ1LVr16wJDA+dm/tTOnsqXC5u7lbb87qmtpPciI1WgcLlJSndGEnK65ZPp04cTbc97kasJrw3QHE3YjRi3Czly+/x0GNPW/v2Rkz0Q58beNzFxMSoT68eiomO0byvFqlAgYIZjtuxfZtGDn9L9eo31Mh3M34nJs35c+e054/f9cJL7ZTjXzeH3omLq6tq1KylsDWrNXjosHu+Djw5qM8alyET2suXL6tTp046efKkTCaT5TG4pttK/SS0jw/P0uX0997fdP3qZRUuVtKyPfJa6s0feV3zqZhnKWXLnl3Xr15Od3zk1SvK6+pmtS0pKVGT3h+sC2dP662Pp6poicxZJ/byhXOWGAHYLjExUf3f6KVTp05q9tx5KlW6dIbj9u//UwP791WFCk/r0wmTlD373X9s/RC2Rmaz2fIgBVslJCYoNpZVDgB7ZciWgzFjxsjNzU2bN2+W2WzW119/rZ9//llvvvmmSpYsqfXr12d1iHiIatRrKknasuF7q+1b1n+nbNmyqVzFKsqZK7f8qtXR8UMHdO7MScuYc6cjdPzQAVXwr2HZduvmTc0Y87ZOHD6gN4Z/otK+FR84xuio9GsPxsfd0Ibvliqvi5s8S7MYO2Crmzdv6q3BA7T/z30aP+FzVarsn+G48BMn1K/36ypStKimTJ8lZ+f/7lP/Ye0aFS5cRP5Vqma4/+rVq+m2nT37j37buUPlKzzYA3vwBDBl4gceiCErtLt379bIkSPl4fG/t4iLFCmiXr16yWw264MPPtDcuXOzMEI8TCVL+aheYCv9+uNq3bp5Uz5P++vwgT3avXWjWrbrYmkVeLFLbx3683eNG/GGmrZqJ0n6afXXyp3XRa3adbXMtyT0c+3d9asq16inGzHR2v7zD1bnq9O4heXPVy6dt+yPOHZIkvT90tRF2PMXKGR5KtjGNSu0Z8dmVa4ZoPwehRR17Yq2/LhG1y5fUI/Bo9Ktewvgzj4bN0abfvlZDRo2UlRUpNas/s5qf8tWbXTjRqx6vx6s6OhodXktWFu2bLIaU7x4iXSJ8LFjR3X06BF16/661Tt6t3vx+VaqWbO2fMqVk4uLq06fOqlvVq1USkqK3hw4+KFeJx4/JjJPwzJkQhsTEyN3d3c5ODgoT548Vr9RV65cWbNnz87C6JAZuvQNUf4ChfTrj2v0x45NeqpAIb3SY4CaPfeKZUzREt4KGTNDy+dN0+pl82QymeRbqZrad+unfE8VsIw7HX5MkrTvt1+177df053r9oT28oVzWrVgltX+tK99KlaxJLRlyvvp+KH92rL+e8XGRMnJKae8fcoreMBIlf+PNXABWDtyJPUmys2bftHmTb+k29+yVRtFRkbqwoXzkqTPJ36WbkzrNs+nS2jD1qyWJAU92/KO527X/hX9unmTtm39VXFxN5TP3V2169RV99d7qkxZn/u+JgBZy5CPvm3VqpV69+6toKAgvfzyyypUqJAmTZokSfrwww/1888/65df0v8jeC949C3w+OLRt8DjKysffftbeFSmzV3D2zXT5n4SGLKHtmHDhtq2bZskqXfv3vrpp59Uu3Zt1atXT4sXL1bHjh2zOEIAAAAYhSErtP924MAB/fTTT0pISFCdOnXUoEGDB56TCi3w+KJCCzy+srJCuzsTK7TVqdA+EEP20P5bxYoVVbHig9+pDgAAgMePYRLayMjIexrv5uaWKXEAAABkiEUODMswCW2tWrXuuMxKRg4dOpSJ0QAAAMBeGCah/eSTT+4poQUAAHiUWIfWuAyT0LZt2zarQwAAALgj6m7GZchlu9JERUXp999/1+rVqxUVlXpnYWJiom7dupXFkQEAAMAoDFOhvd2tW7c0adIkLViwQPHx8TKZTFqxYoVcXV3Vt29fVapUSX379s3qMAEAwBOEAq1xGbJC+/nnn2vhwoUaNmyY1q9fr9uXym3cuLF+/vnnLIwOAAAARmLICu0333yjQYMG6eWXX9bNmzet9pUoUUJnzpzJosgAAMATixKtYRmyQhsZGalSpUpluO/mzZtKSUl5xBEBAADAqAyZ0Hp6emrbtm0Z7vvtt99UpkyZRxwRAAB40pky8T88GEO2HHTt2lXvvPOOsmfPrubNm0uSLly4oH379mnBggUaPXp0FkcIAAAAozCZb7/jykDmzZunKVOmKD4+3nJTWM6cOdW/f3+99tprDzz/juORDzwHAGPy93TL6hAAZBLnLCzF7Tsdk2lzVy6RN9PmfhIYNqGVpBs3bmjv3r26fv26XF1d5e/vr7x5H843nIQWeHyR0AKPr6xMaP/MxIS2EgntAzFcD+0///yjiRMnqkuXLmrXrp3GjBmjlStXat++fYqNjc3q8AAAAAxj1apV8vHxSfcxfvx4q3HLly9Xs2bNVLFiRbVu3Vq//PJLurliYmI0YsQI1ahRQ/7+/urfv78uXbqUbtyePXvUvn17+fn5qVGjRpo9e7b+XR81m82aPXu2GjZsKD8/P7Vv31779u17qNd+O0P10K5evVpvv/22kpKSVLBgQRUuXFhms1kRERHauXOnQkNDNXr0aAUFBWV1qAAA4Elj4Hu35s6da/UudsGCBS1/Xrt2rd555x316tVLtWrVUlhYmPr27atFixapcuXKlnEDBgzQ8ePHNWrUKDk5OWnSpEnq0aOHVq5cqezZU1PGU6dOKTg4WHXr1tWAAQN05MgRjR8/XtmyZVNwcLBlrjlz5mjy5MkaMmSIfHx8tGjRInXr1k3fffedihcv/tCv3zAJ7YkTJzRixAhVrVpV77zzTrplu44dO6YPP/xQISEh8vX1lZeXVxZFCgAAYCwVKlSQu7t7hvsmT56sZ599VgMGDJAk1apVS0ePHtW0adM0Z84cSdLevXu1detWhYaGKiAgQJLk5eWloKAgbdiwwVJMDA0NVb58+TRhwgQ5Ojqqdu3aunbtmmbOnKlOnTrJ0dFRiYmJmjVrlrp166auXbtKkqpWrarmzZsrNDRUo0aNeujXb5iWg8WLF6t48eKaPXt2hmvQlilTRnPnzlWxYsW0aNGiLIgQAAA8yexx2a4zZ87o5MmTatGihdX2oKAg7dixQ0lJSZKkLVu2yMXFRXXr1rWM8fb2lq+vr7Zs2WLZtmXLFjVp0kSOjo5Wc0VHR2vv3r2SUlsSYmNjrc7p6OiowMBAq7keJsMktL/99pvatWtn9QL9m6Ojo9q1a6fffvvtEUYGAABgbC1btpSvr6+aNGmiWbNmWZ60Gh4eLknp3tkuVaqUkpOTLU9fDQ8Pl5eXl0wm6+Ta29vbMkdcXJzOnz8vb2/vdGNMJpNlXNrnf48rVaqUzp07p4SEhIdxyVYM03Jw/vx5+fj4/Oc4Hx8fnT179hFEBAAA8D+mTOyhbdKkyV33b9y4McPtHh4e6tevnypVqiSTyaSff/5ZkyZN0sWLF/Xuu+8qKipKkuTi4mJ1XNrXafujo6MzXEnK1dVVf/31l6TUm8YymsvR0VE5c+a0msvR0VFOTk7pzmk2mxUVFSVnZ+e7Xu+9MkxCe+PGDeXOnfs/x+XKlUtxcXGPICIAAABjq1evnurVq2f5OiAgQE5OTpo/f7569eqVhZE9WoZJaA28HC4AAECmLnJwpwrs/WjRooW++OILHTp0SK6urpJSq6seHh6WMdHR0ZJk2e/i4qILFy6kmysqKsoyJq2Cm1apTZOUlKT4+HiruZKSkpSYmGhVpY2OjpbJZLKMe5gMk9BKUpcuXdL1bvwbiS8AAMgSBl62607S+ljDw8OtelrDw8OVI0cOyxJa3t7e2rFjh8xms1UuFhERobJly0pKfZe8cOHClh7Z28eYzWbL/GmfIyIiVK5cOatzFilS5KG3G0gGSmj79u2b1SEAAADYvbCwMGXLlk3ly5eXh4eHPD09tW7dOjVt2tRqTO3atS0349evX1/Tp0/Xjh07VKdOHUmpCenBgwfVvXt3y3H169fXxo0bNXToUOXIkcMyl4uLi/z9/SVJVapUUZ48efTDDz9YEtrk5GRt2LBB9evXz5RrJqEFAACwQWYur3W/goODVbNmTcuN9Rs3btTXX3+tzp07W1oM+vXrpyFDhqhEiRKqWbOmwsLCtH//fi1cuNAyj7+/vwICAjRixAgNGzZMTk5Omjhxonx8fPTMM89YnW/16tUaPHiwXnnlFR09elShoaEaOHCgJTl2cnJSz549NWXKFLm7u6ts2bJasmSJIiMjrR6+8DCZzE/oe/g7jkdmdQgAMom/p1tWhwAgkzhnYSnu77M3Mm3uCkX/+8b4jHz00Uf69ddfdeHCBd26dUuenp566aWX1KlTJ6vWgeXLl2vOnDk6d+6cvLy8NGjQIDVq1MhqrpiYGI0ePVo//vijUlJSFBAQoJEjR1o9dUxKXWd2zJgxOnTokNzd3dWhQwf16NHD6nxpj75dvHixrl27Jl9fXw0fPtxSxX3YSGgBPHZIaIHHV1YmtAfPZV5CW77I/SW0SGWYBysAAAAA98MwPbQAAABGZrwOWqShQgsAAAC7RoUWAADAFpRoDYuEFgAAwAZGXLYLqWg5AAAAgF2jQgsAAGADEwVaw6JCCwAAALtGhRYAAMAGFGiNiwotAAAA7BoVWgAAAFtQojUsKrQAAACwa1RoAQAAbMA6tMZFQgsAAGADlu0yLloOAAAAYNeo0AIAANiAAq1xUaEFAACAXaNCCwAAYAtKtIZFhRYAAAB2jQotAACADVi2y7io0AIAAMCuUaEFAACwAevQGhcVWgAAANg1KrQAAAA2oEBrXCS0AAAAtiCjNSxaDgAAAGDXqNACAADYgGW7jIsKLQAAAOwaFVoAAAAbsGyXcVGhBQAAgF2jQgsAAGADCrTGRYUWAAAAdo0KLQAAgA3ooTUuEloAAACbkNEaFS0HAAAAsGtUaAEAAGxAy4FxUaEFAACAXaNCCwAAYAMKtMZFhRYAAAB2jQotAACADeihNS4qtAAAALBrVGgBAABsYKKL1rBIaAEAAGxBPmtYtBwAAADArlGhBQAAsAEFWuOiQgsAAAC7RoUWAADABizbZVxUaAEAAGDXqNACAADYgGW7jIsKLQAAAOwaFVoAAABbUKA1LBJaAAAAG5DPGhctBwAAALBrVGgBAABswLJdxkWFFgAAAHaNCi0AAIANWLbLuKjQAgAAwK5RoQUAALABPbTGRYUWAAAAdo2EFgAAAHaNlgMAAAAb0HJgXFRoAQAAYNeo0AIAANiAZbuMiwotAAAA7BoVWgAAABvQQ2tcVGgBAABg16jQAgAA2IACrXFRoQUAAIBdo0ILAABgC0q0hkVCCwAAYAOW7TIuWg4AAABg16jQAgAA2IBlu4yLCi0AAADsGhVaAAAAG1CgNS4qtAAAALBrVGgBAABsQYnWsKjQAgAAwK5RoQUAALAB69AaFwktAACADVi2y7hoOQAAAIBdM5nNZnNWBwEAAADcLyq0AAAAsGsktAAAALBrJLQAAACwayS0AAAAsGsktAAAALBrJLQAAACwayS0AAAAsGsktAAAALBrJLQAAACwayS0AAAAsGsktAAAALBrJLQAAACwayS0AAAAsGsktLDZlClT5OPjow4dOqTb9/HHH6tx48b3POeXX36pzZs32zS2cePG8vHxkY+PjypUqKDatWurU6dO+vLLLxUXF3fP55akTp06qWfPnvd1bGaJjo6Wj4+PVq1aldWhAPck7d8IHx8flStXTlWrVlWrVq30wQcf6MSJE/c836pVq+Tj46Nr165lQrT3r0+fPurUqVNWhwHgNtmzOgDYn99//127du1SzZo1H3iur776Sg0bNlSDBg1sGt+sWTN169ZNN2/e1LVr17Rr1y5NmjRJS5Ys0fz581WoUKEHjgnA/XN2dtb8+fMlSTdu3NDRo0e1bNkyff311/r444/Vpk2bLI4QwOOIhBb3JFeuXCpdurSmT5/+UBLae/XUU0+pcuXKlq8DAwPVtm1bvfrqqxo+fLjmzZv3yGMC8D8ODg5Wf0fr1q2rV199Va+//rrefvttValSRcWLF8+6AAE8lmg5wD3r06ePdu7cqT179tx13NmzZ9W/f39VrVpVlStXVnBwsI4cOWLZ37hxY509e1aLFi2yvE15P2+zly9fXq+++qq2b9+u8PBwy/bo6GiNGjVKAQEBevrpp9W2bVtt3br1rnOdOHFCAwcOVIMGDVSpUiUFBQXpiy++0K1btyxj2rZtq8GDB6c79tNPP1VAQIBu3rwpSUpKStKECRPUqFEjPf3002rRooVWr16d7rivv/5ajRs3VqVKldSlSxedOnXqnl8DwMicnJz0zjvvKDk5WcuXL7dsX7VqlVq1aqWKFSuqXr16mjhxouXvz52MHz9erVq1kr+/v+rVq6dBgwbp0qVLlv0LFixQpUqVFBsba3XciRMn5OPjY9XitGnTJr300kvy8/NTrVq19N5776VrXzpx4oQ6duyoihUrqmnTpvrmm28e5KUAkElIaHHPGjVqpPLly2vatGl3HBMbG6tOnTrp4MGDev/99/Xpp5/q+vXr6tixo86fPy9Jmjp1qjw8PNSsWTMtW7ZMy5YtU8OGDe8rpoCAAEnSn3/+KSk1mXzttde0adMmDRgwQDNmzFCpUqXUs2dPq6T63y5duiQvLy+99957mj17ttq1a6dp06Zp+vTpljEvvfSSfvrpJ8XExFi23bx5U999952ef/55ZcuWTZL05ptvatmyZXrttdc0a9Ys1atXT0OHDrX6gfrLL7/onXfeUc2aNTV16lTVrl1bb7755n29BoCRlS5dWgULFtTevXslSfPmzdPIkSMVEBCgmTNnqkePHvrqq680ceLEu85z9epV9ezZU7NmzdLbb7+ts2fPqlOnTkpJSZEktW7dWmazWWvWrLE6bsWKFSpYsKDl34p169apd+/eKlu2rKZOnaqhQ4fqxx9/1Ntvv205JjExUd26ddOVK1c0btw4DR48WLNnz9aBAwce5ksD4CGg5QD3pXfv3urXr5/2798vPz+/dPtXrVqlc+fOae3atSpVqpQkqXr16mrUqJHmz5+vkJAQlS9fXo6OjunaCO5HWu/s5cuXJUmrV6/W4cOH9d1336l06dKSpHr16unUqVOaPn26Pv/88wznqV27tmrXri1JMpvNqlq1qhISErRw4UL17dtXktSqVSuNHTtWq1ev1quvvipJ2rx5sy5fvqwXXnhBkrRz5079/PPPCg0NtfwArVu3ri5fvqwpU6ZYeoZnzJihatWqafTo0ZYYExMTrRJo4HFRuHBhXblyRbGxsZo8ebK6d++uQYMGSUr9+5EjRw6NGTNGwcHBypcvX4ZzpP1dkVJ/kfT391f9+vW1c+dOBQQEyNXVVc2aNdPKlSv18ssvS5JSUlL0/fff68UXX1S2bNlkNps1btw4BQUF6eOPP7bM5+Hhoddff119+vRRmTJltGrVKl26dEk//PCDPD09JaW+I9S8eXPL1wCMgQot7ktgYKDKli17xyrt77//rjJlyliSWUlyc3NTnTp19Mcffzz0eMxmsyTJZDJJkrZt26ayZcvK09NTKSkplo86derctbqSmJioyZMnKzAwUBUrVlSFChU0ceJEXb58WTdu3JAk5cmTRy1atNDKlSstx61atUrVqlWz/JDbtm2b3NzcVKtWrXTnP3TokG7evKmbN2/q77//VmBgoFUMzZo1e5gvDWAYZrNZJpNJe/fuVVxcnJo3b57u70dCQoKOHTt2xzk2b96sl19+WVWrVlX58uVVv359SdLJkyctY9q1a6f9+/db5tm8ebOuXr1q+YUzIiJCZ8+eVYsWLazOX6NGDTk4OOivv/6SJO3fv19lypSxSl5LliypcuXKPeRXBsCDokKL+2IymdSrVy8NGjRIf//9d7r90dHReuqpp9Jtz58//11/WN2vixcvSkqtsEjS9evXdfDgQVWoUCHd2LSWgIx8+umnWr58ud544w09/fTTyps3rzZu3KgZM2YoMTFRuXPnlpT6A/Pll1/W4cOHVaBAAW3atEkffPCBZZ7r168rMjIyw/NLqZXkbNmyKSUlRe7u7lb7MnrdgMfBhQsX5OnpqevXr0uSnn/++QzHpbUl/dv+/fvVp08fNWnSRD169FD+/PllMpnUrl07JSYmWsZVr15dXl5eWrFihYYPH66VK1eqevXqKlGihCRZzv/GG2/c9fyXLl1S/vz50+3Pnz+/1fkAZD0SWty3Fi1aaMqUKZo+fbqKFClitc/V1VURERHpjrl69apcXV0feiy//vqrJFlaF1xdXeXj42P1dqIt1q1bp/bt2+v111+3bMtonVx/f3+VKVNGK1euVJEiReTo6KjmzZtb9ru6usrd3V2zZ8/O8Dzu7u7Kli2bsmfPnm6NzStXrtxTzIA9OHbsmC5evKjnn3/e8m/A1KlTM1xqr1ixYhnO8dNPPylPnjyaNGmSHBxS32A8e/ZshmNfeuklzZ07V6+99po2b95s9W+Bm5ubJOndd9/NsGWqQIECls8Z/cJ+9epV5cmT5y5XC+BRI6HFfXNwcFCvXr0UEhKiGjVqWO2rWrWq1q9fr/DwcHl7e0uSoqKitH37drVv394yLkeOHA9c6Th06JCWLFmigIAAy1uDderU0ebNm1WgQAEVLFjQ5rkSExOVI0cOy9c3b97U2rVrMxz70ksvacaMGcqfP7+CgoKUK1cuy746depo7ty5ypEjx13fnixfvrx+/PFHde3a1bJt/fr1NscL2IPExER9+OGHcnR01EsvvSQXFxflzJlTFy5cSNdyczcJCQnKkSOHpbVIUoYrh0ip1d+JEydqyJAhcnZ2tvqF09vbW4UKFdKZM2cyfFBMmooVK+rbb7/VqVOnVLJkSUnSqVOndPjwYVWrVs3muAFkPhJaPJBWrVpp2rRp2rVrl4oWLWrZ3rZtW3355Zfq2bOnBgwYICcnJ82YMUPZs2dXly5dLOO8vb21c+dObdu2TS4uLipWrNgdbwaRUquX+/bt061bt3Tt2jXt3LlTK1asUKFChfTJJ59Yxj333HNaunSpOnfurG7dusnT01MxMTE6ePCgkpOTM1x2S0pNRJcvX67SpUsrX758Wrx4sZKSkjIc26ZNG40fP17Xr19PVwmuW7euGjVqpO7du6t79+7y8fFRfHy8jh8/rlOnTlnG9+rVS3369NHw4cMVFBSkv//+W999991/v/CAQd26dUv79u2TJMXFxVkerHDmzBmNGTPGUn3t37+/Pv30U124cEE1atRQtmzZdObMGW3cuFFTpkxRzpw5081dt25dzZ8/Xx9++KECAwO1d+/eO/59cXd3V5MmTSzvujg7O1v2mUwmhYSEaMiQIYqLi1PDhg2VM2dOnTt3Tps3b9bAgQPl5eWltm3basaMGerZs6dl9ZHJkyfTFgQYEAktHki2bNn0+uuva+TIkVbb8+TJowULFmjMmDF65513dOvWLVWpUkULFy5U4cKFLeMGDRqkUaNGqV+/frpx44ZGjx6ttm3b3vF869ev1/r165U9e3blzZtXZcqU0cCBA/XSSy9ZVUgdHR311VdfacqUKZo5c6YuX74sNzc3y5q1d/LOO+/ovffe04cffqicOXPq+eefV2BgYLrrk1LftqxRo4YuXLiQ4SoNkydP1uzZs7VkyRKdPXvWEu/t19ekSRO9//77mjlzptauXatKlSpp0qRJeumll+4YI2BkCQkJlndhcuXKpWLFiql27dqaOnWq1U2i3bp1U8GCBTVv3jwtXLhQ2bNnV4kSJdSwYUOrd0lu16BBAw0ZMkQLFy7UqlWrVKVKFc2aNeuON1IGBgZq3bp1evHFF9Pta9GihVxcXDRz5kxLlbdo0aKqV6+eJWF1dnbWF198oVGjRmno0KEqWLCg+vTpo40bN1ot2wcg65nMabeHA7gnsbGxqlevnvr166du3bpldTgA/uWtt97SoUOH7tiWAODxQYUWuEexsbE6ceKEFi9eLJPJdNeKMoBH78iRIzp06JDCwsL03nvvZXU4AB4BElrgHv3999/q3LmzChcurLFjx1rumAZgDL1799a1a9f03HPPWdaeBfB4o+UAAAAAdo0nhQEAAMCukdACAADArpHQAgAAwK6R0AIAAMCukdACsFuNGzdWSEiI5etdu3bJx8dHu3btysKorP07RgDAw0dCC+C+rVq1Sj4+PpaPihUrqlmzZvrggw905cqVrA7PZps3b9aUKVOyOgwAwH1iHVoAD6x///4qVqyYkpKS9Mcff2jJkiXavHmz1qxZo5w5cz6yOKpXr679+/ff8dGpd7J582YtWrRI/fr1y6TIAACZiYQWwAOrX7++KlasKEl66aWX5Obmpnnz5mnjxo1q2bJluvFxcXHKlSvXQ4/DwcFBTk5OD31eAICx0XIA4KGrVauWJOmff/5RSEiI/P39dfr0afXo0UP+/v4aMmSIJOnWrVv68ssv9eyzz6pixYqqU6eO3n33XUVFRVnNZzabNX36dNWvX1+VKlVSp06ddOzYsXTnvVMP7Z9//qkePXqoevXqqly5slq1aqX58+dLkkJCQrRo0SJJsmqfSPOwYwQAPHxUaAE8dKdPn5Yky2OBU1JSFBwcrKpVq2rYsGFydnaWJL377rv65ptv1LZtW3Xq1En//POPFi1apIMHD2rJkiWW1oHPP/9cM2bMUIMGDdSgQQP9/fff6tatm5KTk/8zlm3btqlnz54qUKCAOnfurKeeekonTpzQpk2b1KVLF7Vv316XLl3Stm3bNG7cuHTHP4oYAQAPhoQWwAOLjY3VtWvXlJSUpD179mjatGlydnZWo0aNtG/fPiUlJal58+YaPHiw5Zjff/9dy5cv1/jx49WqVSvL9po1a6p79+5at26dWrVqpWvXrmnu3Llq2LChZs6cKZPJJEmaOHGiZs6cede4bt68qXfffVcFChTQt99+KxcXF8u+tKd++/v7y9PTU9u2bVObNm2sjn8UMQIAHhwtBwAeWNeuXVW7dm01aNBAAwcOVO7cuTV16lQVLFjQMuaVV16xOmbdunXKmzev6tatq2vXrlk+KlSooFy5clnaBrZv367k5GR17NjRkihKUpcuXf4zroMHD+qff/5R586drZJZSVZz3cmjiBEA8OCo0AJ4YO+++668vLyULVs2PfXUU/Ly8pKDw/9+X86ePbsKFSpkdcypU6cUExOj2rVrZzjn1atXJUnnzp2TJHl6elrtd3d3l6ur613jOnPmjCSpbNmy93Q9jzJGAMCDI6EF8MD8/PwsqxxkxNHR0SrBlVJvtsqfP7/Gjx+f4THu7u4PNcb7YQ8xAgBIaAFkkRIlSmjHjh2qUqWK5SaxjBQpUkSSdPLkSRUvXtyy/dq1a+lWGvi3tPFHjx5VnTp17jjuTu0HjyJGAMCDo4cWQJZo0aKFbt68qenTp6fbl5KSoujoaElSnTp1lCNHDi1cuNByI5cky7Jbd1OhQgUVK1ZMX331lWW+NLfPlfbwh3+PeRQxAgAeHBVaAFmiRo0aat++vWbNmqVDhw6pbt26ypEjh06ePKl169bp7bffVvPmzeXu7q5u3bpp1qxZ6tmzpxo0aKCDBw9qy5Ytypcv313P4eDgoFGjRql379567rnn1LZtW3l4eCg8PFzHjx9XaGiopNTEV5I++ugjBQQEKFu2bHr22WcfSYwAgAdHQgsgy3zwwQd6+umntXTpUk2cOFHZsmVT0aJF1bp1a1WpUsUybsCAAXJ0dNTSpUu1a9cu+fn56YsvvlDPnj3/8xz16tXT/PnzNW3aNH3xxRcym80qXry42rVrZxnzzDPPqFOnTlq7dq2+//57mc1mPfvss48sRgDAgzGZb39/DAAAALAz9NACAADArpHQAgAAwK6R0AIAAMCukdACAADArpHQAgAAwK6R0AIAAMCukdACAADArpHQAgAAwK6R0AIAAMCukdACAADArpHQAgAAwK6R0AIAAMCukdACAADArv0f97h4r2Q0bjUAAAAASUVORK5CYII=\n"
>>>>>>> 0ee1ced983769f85ddaa9156bf3fcfa73eaae5ed
          },
          "metadata": {}
        }
      ],
      "source": [
        "# Enter you code here\n",
        "plot_confusion_matrix(y_test, y_pred)\n",
        "\n",
        "\n",
        "\n"
      ]
    },
    {
      "cell_type": "markdown",
      "metadata": {
        "id": "e1whs4wHGcej"
      },
      "source": [
        "To print statistics and plot an ROC curve, call the `plot_roc` function on the `test_labels` and `target_predicted` data from your batch job:"
      ]
    },
    {
      "cell_type": "code",
<<<<<<< HEAD
      "execution_count": 49,
=======
      "execution_count": null,
>>>>>>> 0ee1ced983769f85ddaa9156bf3fcfa73eaae5ed
      "metadata": {
        "id": "eW-KfTeTGcek",
        "colab": {
          "base_uri": "https://localhost:8080/",
          "height": 573
        },
<<<<<<< HEAD
        "outputId": "276a83e0-4683-49af-e97e-92b3ea64daef"
=======
        "outputId": "995fa08e-a451-4223-a38d-3c43cb2329a6"
>>>>>>> 0ee1ced983769f85ddaa9156bf3fcfa73eaae5ed
      },
      "outputs": [
        {
          "output_type": "display_data",
          "data": {
            "text/plain": [
              "<Figure size 800x600 with 1 Axes>"
            ],
<<<<<<< HEAD
            "image/png": "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\n"
=======
            "image/png": "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\n"
>>>>>>> 0ee1ced983769f85ddaa9156bf3fcfa73eaae5ed
          },
          "metadata": {}
        }
      ],
      "source": [
        "# Enter you code here\n",
        "plot_roc(y_test, y_pred)"
      ]
    },
    {
      "cell_type": "markdown",
      "metadata": {
        "id": "VXrcYb6xGcek"
      },
      "source": [
        "### Key questions to consider:\n",
        "1. How does your model's performance on the test set compare to the training set? What can you deduce from this comparison?\n",
        "\n",
        "2. Are there obvious differences between the outcomes of metrics like accuracy, precision, and recall? If so, why might you be seeing those differences?\n",
        "\n",
        "3. Is the outcome for the metric(s) you consider most important sufficient for what you need from a business standpoint? If not, what are some things you might change in your next iteration (in the feature engineering section, which is coming up next)?\n",
        "\n",
        "Use the cells below to answer these and other questions. Insert and delete cells where needed."
      ]
    },
    {
      "cell_type": "markdown",
      "metadata": {
        "id": "BUN6qIuPGcek"
      },
      "source": [
        "\n",
        "**Question**: What can you summarize from the confusion matrix?\n"
      ]
    },
    {
      "cell_type": "markdown",
      "source": [
        "From the confusion matrix:\n",
        "\n",
        "- The model excels at correctly identifying class 0, with very few false positives (2,689).\n",
        "- However, it struggles with class 1, often misclassifying them as class 0, leading to a high number of false negatives (66,215).\n",
        "- Actual positive instances (class 1) are rarely predicted correctly, with only 2,273 true positives.\n",
        "\n",
        "In essence, the model is heavily biased towards predicting class 0 and struggles to recognize class 1."
      ],
      "metadata": {
        "id": "fNr8yORWGcek"
      }
    },
    {
      "cell_type": "markdown",
      "metadata": {
        "id": "L9ImI1vyGcek"
      },
      "source": [
        "# Step 4: Deployment\n",
        "\n",
        "1. In this step you are required to push your source code and requirements file to a GitLab repository without the data files. Please use the Git commands to complete this task\n",
        "2- Create a “readme.md” markdown file that describes the code of this repository and how to run it and what the user would expect if got the code running.\n",
        "\n",
        "In the cell below provide the link of the pushed repository on your GitLab account.\n"
      ]
    },
    {
      "cell_type": "code",
<<<<<<< HEAD
      "execution_count": 50,
=======
      "execution_count": null,
>>>>>>> 0ee1ced983769f85ddaa9156bf3fcfa73eaae5ed
      "metadata": {
        "id": "NqZhm_GMGcel"
      },
      "outputs": [],
      "source": [
        "### Provide a link for your Gitlab repository here"
      ]
    },
    {
      "cell_type": "markdown",
      "metadata": {
        "id": "rR-RmYolGcel"
      },
      "source": [
        "# Iteration II"
      ]
    },
    {
      "cell_type": "markdown",
      "metadata": {
        "id": "8-b95dxRGcel"
      },
      "source": [
        "# Step 5: Feature engineering\n",
        "\n",
        "You've now gone through one iteration of training and evaluating your model. Given that the outcome you reached for your model the first time probably wasn't sufficient for solving your business problem, what are some things you could change about your data to possibly improve model performance?\n",
        "\n",
        "### Key questions to consider:\n",
        "1. How might the balance of your two main classes (delay and no delay) impact model performance?\n",
        "2. Do you have any features that are correlated?\n",
        "3. Are there feature reduction techniques you could perform at this stage that might have a positive impact on model performance?\n",
        "4. Can you think of adding some more data/datasets?\n",
        "4. After performing some feature engineering, how does your model performance compare to the first iteration?\n",
        "\n",
        "Use the cells below to perform specific feature engineering techniques (per the questions above) that you think could improve your model performance. Insert and delete cells where needed.\n",
        "\n",
        "\n",
        "Before you start, think about why the precision and recall are around 80% while the accuracy is 99%."
      ]
    },
    {
      "cell_type": "markdown",
      "metadata": {
        "id": "gl19iWVNGcem"
      },
      "source": [
        "#### Add more features\n",
        "\n",
        "1. Holidays\n",
        "2. Weather"
      ]
    },
    {
      "cell_type": "markdown",
      "metadata": {
        "id": "e-ios6ouGcem"
      },
      "source": [
        "Because the list of holidays from 2014 to 2018 is known, you can create an indicator variable **is_holiday** to mark these.\n",
        "The hypothesis is that airplane delays could be higher during holidays compared to the rest of the days. Add a boolean variable `is_holiday` that includes the holidays for the years 2014-2018."
      ]
    },
    {
      "cell_type": "code",
<<<<<<< HEAD
      "execution_count": 51,
=======
      "execution_count": null,
>>>>>>> 0ee1ced983769f85ddaa9156bf3fcfa73eaae5ed
      "metadata": {
        "id": "-25VbGe8Gcem"
      },
      "outputs": [],
      "source": [
        "# Source: http://www.calendarpedia.com/holidays/federal-holidays-2014.html\n",
        "\n",
        "holidays_14 = ['2014-01-01',  '2014-01-20', '2014-02-17', '2014-05-26', '2014-07-04', '2014-09-01', '2014-10-13', '2014-11-11', '2014-11-27', '2014-12-25' ]\n",
        "holidays_15 = ['2015-01-01',  '2015-01-19', '2015-02-16', '2015-05-25', '2015-06-03', '2015-07-04', '2015-09-07', '2015-10-12', '2015-11-11', '2015-11-26', '2015-12-25']\n",
        "holidays_16 = ['2016-01-01',  '2016-01-18', '2016-02-15', '2016-05-30', '2016-07-04', '2016-09-05', '2016-10-10', '2016-11-11', '2016-11-24', '2016-12-25', '2016-12-26']\n",
        "holidays_17 = ['2017-01-02', '2017-01-16', '2017-02-20', '2017-05-29' , '2017-07-04', '2017-09-04' ,'2017-10-09', '2017-11-10', '2017-11-23', '2017-12-25']\n",
        "holidays_18 = ['2018-01-01', '2018-01-15', '2018-02-19', '2018-05-28' , '2018-07-04', '2018-09-03' ,'2018-10-08', '2018-11-12','2018-11-22', '2018-12-25']\n",
        "holidays = holidays_14+ holidays_15+ holidays_16 + holidays_17+ holidays_18\n",
        "\n",
        "### Add indicator variable for holidays\n",
        "data_orig['is_holiday'] = data_orig['FlightDate'].isin(holidays).astype(int)\n"
      ]
    },
    {
      "cell_type": "markdown",
      "metadata": {
        "id": "1duXSAitGcem"
      },
      "source": [
        "Weather data was fetched from https://www.ncei.noaa.gov/access/services/data/v1?dataset=daily-summaries&stations=USW00023174,USW00012960,USW00003017,USW00094846,USW00013874,USW00023234,USW00003927,USW00023183,USW00013881&dataTypes=AWND,PRCP,SNOW,SNWD,TAVG,TMIN,TMAX&startDate=2014-01-01&endDate=2018-12-31.\n",
        "<br>\n",
        "\n",
        "This dataset has information on wind speed, precipitation, snow, and temperature for cities by their airport codes.\n",
        "\n",
        "**Question**: Could bad weather due to rains, heavy winds, or snow lead to airplane delay? Let's check!"
      ]
    },
    {
      "cell_type": "code",
<<<<<<< HEAD
      "execution_count": 52,
=======
      "execution_count": null,
>>>>>>> 0ee1ced983769f85ddaa9156bf3fcfa73eaae5ed
      "metadata": {
        "scrolled": true,
        "id": "kbyTOmqaGcen",
        "colab": {
          "base_uri": "https://localhost:8080/"
        },
<<<<<<< HEAD
        "outputId": "2a9b3df0-0f4d-4250-8a18-23adaa003587"
=======
        "outputId": "10ac21bf-99b8-49c1-8828-c6be7d8a8d5c"
>>>>>>> 0ee1ced983769f85ddaa9156bf3fcfa73eaae5ed
      },
      "outputs": [
        {
          "output_type": "stream",
          "name": "stdout",
          "text": [
            "Weather data downloaded and saved as weather_data.csv.\n"
          ]
        }
      ],
      "source": [
        "# download data from the link above and place it into the data folder\n",
        "import requests\n",
        "\n",
        "# Define the URL to download the weather data\n",
        "url = \"https://www.ncei.noaa.gov/access/services/data/v1?dataset=daily-summaries&stations=USW00023174,USW00012960,USW00003017,USW00094846,USW00013874,USW00023234,USW00003927,USW00023183,USW00013881&dataTypes=AWND,PRCP,SNOW,SNWD,TAVG,TMIN,TMAX&startDate=2014-01-01&endDate=2018-12-31\"\n",
        "\n",
        "# Send an HTTP GET request to the URL\n",
        "response = requests.get(url)\n",
        "\n",
        "# Check if the request was successful\n",
        "if response.status_code == 200:\n",
        "    # Get the content (data) from the response\n",
        "    weather_data = response.text\n",
        "\n",
        "    # Save the weather data to a file in the Colab environment\n",
        "    with open(\"daily-summaries.csv\", \"w\") as file:\n",
        "        file.write(weather_data)\n",
        "\n",
        "    print(\"Weather data downloaded and saved as weather_data.csv.\")\n",
        "else:\n",
        "    print(\"Failed to download weather data. Check the URL and try again.\")\n"
      ]
    },
    {
      "cell_type": "markdown",
      "metadata": {
        "id": "ya-9Bue_Gcen"
      },
      "source": [
        "Import weather data prepared for the airport codes in our dataset. Use the stations and airports below for the analysis, and create a new column called `airport` that maps the weather station to the airport name."
      ]
    },
    {
      "cell_type": "code",
<<<<<<< HEAD
      "execution_count": 53,
=======
      "execution_count": null,
>>>>>>> 0ee1ced983769f85ddaa9156bf3fcfa73eaae5ed
      "metadata": {
        "id": "bcN5eLZgGcen",
        "colab": {
          "base_uri": "https://localhost:8080/",
          "height": 206
        },
<<<<<<< HEAD
        "outputId": "a1d0cfc2-cd2b-4335-ae1c-34b94d744e60"
=======
        "outputId": "24154d3b-137b-4a44-869a-59d5bbdde801"
>>>>>>> 0ee1ced983769f85ddaa9156bf3fcfa73eaae5ed
      },
      "outputs": [
        {
          "output_type": "execute_result",
          "data": {
            "text/plain": [
              "       STATION        DATE  AWND  PRCP  SNOW  SNWD   TAVG   TMAX   TMIN  \\\n",
              "0  USW00023174  2014-01-01    16     0   NaN   NaN  131.0  178.0   78.0   \n",
              "1  USW00023174  2014-01-02    22     0   NaN   NaN  159.0  256.0  100.0   \n",
              "2  USW00023174  2014-01-03    17     0   NaN   NaN  140.0  178.0   83.0   \n",
              "3  USW00023174  2014-01-04    18     0   NaN   NaN  136.0  183.0  100.0   \n",
              "4  USW00023174  2014-01-05    18     0   NaN   NaN  151.0  244.0   83.0   \n",
              "\n",
              "  airport  \n",
              "0     LAX  \n",
              "1     LAX  \n",
              "2     LAX  \n",
              "3     LAX  \n",
              "4     LAX  "
            ],
            "text/html": [
              "\n",
<<<<<<< HEAD
              "  <div id=\"df-96b9bc5e-017e-4ce1-a613-6d8bbe2416d0\" class=\"colab-df-container\">\n",
=======
              "  <div id=\"df-24110b22-47fe-4363-a211-1c143839385e\" class=\"colab-df-container\">\n",
>>>>>>> 0ee1ced983769f85ddaa9156bf3fcfa73eaae5ed
              "    <div>\n",
              "<style scoped>\n",
              "    .dataframe tbody tr th:only-of-type {\n",
              "        vertical-align: middle;\n",
              "    }\n",
              "\n",
              "    .dataframe tbody tr th {\n",
              "        vertical-align: top;\n",
              "    }\n",
              "\n",
              "    .dataframe thead th {\n",
              "        text-align: right;\n",
              "    }\n",
              "</style>\n",
              "<table border=\"1\" class=\"dataframe\">\n",
              "  <thead>\n",
              "    <tr style=\"text-align: right;\">\n",
              "      <th></th>\n",
              "      <th>STATION</th>\n",
              "      <th>DATE</th>\n",
              "      <th>AWND</th>\n",
              "      <th>PRCP</th>\n",
              "      <th>SNOW</th>\n",
              "      <th>SNWD</th>\n",
              "      <th>TAVG</th>\n",
              "      <th>TMAX</th>\n",
              "      <th>TMIN</th>\n",
              "      <th>airport</th>\n",
              "    </tr>\n",
              "  </thead>\n",
              "  <tbody>\n",
              "    <tr>\n",
              "      <th>0</th>\n",
              "      <td>USW00023174</td>\n",
              "      <td>2014-01-01</td>\n",
              "      <td>16</td>\n",
              "      <td>0</td>\n",
              "      <td>NaN</td>\n",
              "      <td>NaN</td>\n",
              "      <td>131.0</td>\n",
              "      <td>178.0</td>\n",
              "      <td>78.0</td>\n",
              "      <td>LAX</td>\n",
              "    </tr>\n",
              "    <tr>\n",
              "      <th>1</th>\n",
              "      <td>USW00023174</td>\n",
              "      <td>2014-01-02</td>\n",
              "      <td>22</td>\n",
              "      <td>0</td>\n",
              "      <td>NaN</td>\n",
              "      <td>NaN</td>\n",
              "      <td>159.0</td>\n",
              "      <td>256.0</td>\n",
              "      <td>100.0</td>\n",
              "      <td>LAX</td>\n",
              "    </tr>\n",
              "    <tr>\n",
              "      <th>2</th>\n",
              "      <td>USW00023174</td>\n",
              "      <td>2014-01-03</td>\n",
              "      <td>17</td>\n",
              "      <td>0</td>\n",
              "      <td>NaN</td>\n",
              "      <td>NaN</td>\n",
              "      <td>140.0</td>\n",
              "      <td>178.0</td>\n",
              "      <td>83.0</td>\n",
              "      <td>LAX</td>\n",
              "    </tr>\n",
              "    <tr>\n",
              "      <th>3</th>\n",
              "      <td>USW00023174</td>\n",
              "      <td>2014-01-04</td>\n",
              "      <td>18</td>\n",
              "      <td>0</td>\n",
              "      <td>NaN</td>\n",
              "      <td>NaN</td>\n",
              "      <td>136.0</td>\n",
              "      <td>183.0</td>\n",
              "      <td>100.0</td>\n",
              "      <td>LAX</td>\n",
              "    </tr>\n",
              "    <tr>\n",
              "      <th>4</th>\n",
              "      <td>USW00023174</td>\n",
              "      <td>2014-01-05</td>\n",
              "      <td>18</td>\n",
              "      <td>0</td>\n",
              "      <td>NaN</td>\n",
              "      <td>NaN</td>\n",
              "      <td>151.0</td>\n",
              "      <td>244.0</td>\n",
              "      <td>83.0</td>\n",
              "      <td>LAX</td>\n",
              "    </tr>\n",
              "  </tbody>\n",
              "</table>\n",
              "</div>\n",
              "    <div class=\"colab-df-buttons\">\n",
              "\n",
              "  <div class=\"colab-df-container\">\n",
<<<<<<< HEAD
              "    <button class=\"colab-df-convert\" onclick=\"convertToInteractive('df-96b9bc5e-017e-4ce1-a613-6d8bbe2416d0')\"\n",
=======
              "    <button class=\"colab-df-convert\" onclick=\"convertToInteractive('df-24110b22-47fe-4363-a211-1c143839385e')\"\n",
>>>>>>> 0ee1ced983769f85ddaa9156bf3fcfa73eaae5ed
              "            title=\"Convert this dataframe to an interactive table.\"\n",
              "            style=\"display:none;\">\n",
              "\n",
              "  <svg xmlns=\"http://www.w3.org/2000/svg\" height=\"24px\" viewBox=\"0 -960 960 960\">\n",
              "    <path d=\"M120-120v-720h720v720H120Zm60-500h600v-160H180v160Zm220 220h160v-160H400v160Zm0 220h160v-160H400v160ZM180-400h160v-160H180v160Zm440 0h160v-160H620v160ZM180-180h160v-160H180v160Zm440 0h160v-160H620v160Z\"/>\n",
              "  </svg>\n",
              "    </button>\n",
              "\n",
              "  <style>\n",
              "    .colab-df-container {\n",
              "      display:flex;\n",
              "      gap: 12px;\n",
              "    }\n",
              "\n",
              "    .colab-df-convert {\n",
              "      background-color: #E8F0FE;\n",
              "      border: none;\n",
              "      border-radius: 50%;\n",
              "      cursor: pointer;\n",
              "      display: none;\n",
              "      fill: #1967D2;\n",
              "      height: 32px;\n",
              "      padding: 0 0 0 0;\n",
              "      width: 32px;\n",
              "    }\n",
              "\n",
              "    .colab-df-convert:hover {\n",
              "      background-color: #E2EBFA;\n",
              "      box-shadow: 0px 1px 2px rgba(60, 64, 67, 0.3), 0px 1px 3px 1px rgba(60, 64, 67, 0.15);\n",
              "      fill: #174EA6;\n",
              "    }\n",
              "\n",
              "    .colab-df-buttons div {\n",
              "      margin-bottom: 4px;\n",
              "    }\n",
              "\n",
              "    [theme=dark] .colab-df-convert {\n",
              "      background-color: #3B4455;\n",
              "      fill: #D2E3FC;\n",
              "    }\n",
              "\n",
              "    [theme=dark] .colab-df-convert:hover {\n",
              "      background-color: #434B5C;\n",
              "      box-shadow: 0px 1px 3px 1px rgba(0, 0, 0, 0.15);\n",
              "      filter: drop-shadow(0px 1px 2px rgba(0, 0, 0, 0.3));\n",
              "      fill: #FFFFFF;\n",
              "    }\n",
              "  </style>\n",
              "\n",
              "    <script>\n",
              "      const buttonEl =\n",
<<<<<<< HEAD
              "        document.querySelector('#df-96b9bc5e-017e-4ce1-a613-6d8bbe2416d0 button.colab-df-convert');\n",
=======
              "        document.querySelector('#df-24110b22-47fe-4363-a211-1c143839385e button.colab-df-convert');\n",
>>>>>>> 0ee1ced983769f85ddaa9156bf3fcfa73eaae5ed
              "      buttonEl.style.display =\n",
              "        google.colab.kernel.accessAllowed ? 'block' : 'none';\n",
              "\n",
              "      async function convertToInteractive(key) {\n",
<<<<<<< HEAD
              "        const element = document.querySelector('#df-96b9bc5e-017e-4ce1-a613-6d8bbe2416d0');\n",
=======
              "        const element = document.querySelector('#df-24110b22-47fe-4363-a211-1c143839385e');\n",
>>>>>>> 0ee1ced983769f85ddaa9156bf3fcfa73eaae5ed
              "        const dataTable =\n",
              "          await google.colab.kernel.invokeFunction('convertToInteractive',\n",
              "                                                    [key], {});\n",
              "        if (!dataTable) return;\n",
              "\n",
              "        const docLinkHtml = 'Like what you see? Visit the ' +\n",
              "          '<a target=\"_blank\" href=https://colab.research.google.com/notebooks/data_table.ipynb>data table notebook</a>'\n",
              "          + ' to learn more about interactive tables.';\n",
              "        element.innerHTML = '';\n",
              "        dataTable['output_type'] = 'display_data';\n",
              "        await google.colab.output.renderOutput(dataTable, element);\n",
              "        const docLink = document.createElement('div');\n",
              "        docLink.innerHTML = docLinkHtml;\n",
              "        element.appendChild(docLink);\n",
              "      }\n",
              "    </script>\n",
              "  </div>\n",
              "\n",
              "\n",
<<<<<<< HEAD
              "<div id=\"df-f5e6c718-ad31-4d95-a863-56ce6c79897e\">\n",
              "  <button class=\"colab-df-quickchart\" onclick=\"quickchart('df-f5e6c718-ad31-4d95-a863-56ce6c79897e')\"\n",
=======
              "<div id=\"df-3dcab9ac-cb07-4313-9445-7b84e75e90b7\">\n",
              "  <button class=\"colab-df-quickchart\" onclick=\"quickchart('df-3dcab9ac-cb07-4313-9445-7b84e75e90b7')\"\n",
>>>>>>> 0ee1ced983769f85ddaa9156bf3fcfa73eaae5ed
              "            title=\"Suggest charts.\"\n",
              "            style=\"display:none;\">\n",
              "\n",
              "<svg xmlns=\"http://www.w3.org/2000/svg\" height=\"24px\"viewBox=\"0 0 24 24\"\n",
              "     width=\"24px\">\n",
              "    <g>\n",
              "        <path d=\"M19 3H5c-1.1 0-2 .9-2 2v14c0 1.1.9 2 2 2h14c1.1 0 2-.9 2-2V5c0-1.1-.9-2-2-2zM9 17H7v-7h2v7zm4 0h-2V7h2v10zm4 0h-2v-4h2v4z\"/>\n",
              "    </g>\n",
              "</svg>\n",
              "  </button>\n",
              "\n",
              "<style>\n",
              "  .colab-df-quickchart {\n",
              "      --bg-color: #E8F0FE;\n",
              "      --fill-color: #1967D2;\n",
              "      --hover-bg-color: #E2EBFA;\n",
              "      --hover-fill-color: #174EA6;\n",
              "      --disabled-fill-color: #AAA;\n",
              "      --disabled-bg-color: #DDD;\n",
              "  }\n",
              "\n",
              "  [theme=dark] .colab-df-quickchart {\n",
              "      --bg-color: #3B4455;\n",
              "      --fill-color: #D2E3FC;\n",
              "      --hover-bg-color: #434B5C;\n",
              "      --hover-fill-color: #FFFFFF;\n",
              "      --disabled-bg-color: #3B4455;\n",
              "      --disabled-fill-color: #666;\n",
              "  }\n",
              "\n",
              "  .colab-df-quickchart {\n",
              "    background-color: var(--bg-color);\n",
              "    border: none;\n",
              "    border-radius: 50%;\n",
              "    cursor: pointer;\n",
              "    display: none;\n",
              "    fill: var(--fill-color);\n",
              "    height: 32px;\n",
              "    padding: 0;\n",
              "    width: 32px;\n",
              "  }\n",
              "\n",
              "  .colab-df-quickchart:hover {\n",
              "    background-color: var(--hover-bg-color);\n",
              "    box-shadow: 0 1px 2px rgba(60, 64, 67, 0.3), 0 1px 3px 1px rgba(60, 64, 67, 0.15);\n",
              "    fill: var(--button-hover-fill-color);\n",
              "  }\n",
              "\n",
              "  .colab-df-quickchart-complete:disabled,\n",
              "  .colab-df-quickchart-complete:disabled:hover {\n",
              "    background-color: var(--disabled-bg-color);\n",
              "    fill: var(--disabled-fill-color);\n",
              "    box-shadow: none;\n",
              "  }\n",
              "\n",
              "  .colab-df-spinner {\n",
              "    border: 2px solid var(--fill-color);\n",
              "    border-color: transparent;\n",
              "    border-bottom-color: var(--fill-color);\n",
              "    animation:\n",
              "      spin 1s steps(1) infinite;\n",
              "  }\n",
              "\n",
              "  @keyframes spin {\n",
              "    0% {\n",
              "      border-color: transparent;\n",
              "      border-bottom-color: var(--fill-color);\n",
              "      border-left-color: var(--fill-color);\n",
              "    }\n",
              "    20% {\n",
              "      border-color: transparent;\n",
              "      border-left-color: var(--fill-color);\n",
              "      border-top-color: var(--fill-color);\n",
              "    }\n",
              "    30% {\n",
              "      border-color: transparent;\n",
              "      border-left-color: var(--fill-color);\n",
              "      border-top-color: var(--fill-color);\n",
              "      border-right-color: var(--fill-color);\n",
              "    }\n",
              "    40% {\n",
              "      border-color: transparent;\n",
              "      border-right-color: var(--fill-color);\n",
              "      border-top-color: var(--fill-color);\n",
              "    }\n",
              "    60% {\n",
              "      border-color: transparent;\n",
              "      border-right-color: var(--fill-color);\n",
              "    }\n",
              "    80% {\n",
              "      border-color: transparent;\n",
              "      border-right-color: var(--fill-color);\n",
              "      border-bottom-color: var(--fill-color);\n",
              "    }\n",
              "    90% {\n",
              "      border-color: transparent;\n",
              "      border-bottom-color: var(--fill-color);\n",
              "    }\n",
              "  }\n",
              "</style>\n",
              "\n",
              "  <script>\n",
              "    async function quickchart(key) {\n",
              "      const quickchartButtonEl =\n",
              "        document.querySelector('#' + key + ' button');\n",
              "      quickchartButtonEl.disabled = true;  // To prevent multiple clicks.\n",
              "      quickchartButtonEl.classList.add('colab-df-spinner');\n",
              "      try {\n",
              "        const charts = await google.colab.kernel.invokeFunction(\n",
              "            'suggestCharts', [key], {});\n",
              "      } catch (error) {\n",
              "        console.error('Error during call to suggestCharts:', error);\n",
              "      }\n",
              "      quickchartButtonEl.classList.remove('colab-df-spinner');\n",
              "      quickchartButtonEl.classList.add('colab-df-quickchart-complete');\n",
              "    }\n",
              "    (() => {\n",
              "      let quickchartButtonEl =\n",
<<<<<<< HEAD
              "        document.querySelector('#df-f5e6c718-ad31-4d95-a863-56ce6c79897e button');\n",
=======
              "        document.querySelector('#df-3dcab9ac-cb07-4313-9445-7b84e75e90b7 button');\n",
>>>>>>> 0ee1ced983769f85ddaa9156bf3fcfa73eaae5ed
              "      quickchartButtonEl.style.display =\n",
              "        google.colab.kernel.accessAllowed ? 'block' : 'none';\n",
              "    })();\n",
              "  </script>\n",
              "</div>\n",
              "    </div>\n",
              "  </div>\n"
            ]
          },
          "metadata": {},
<<<<<<< HEAD
          "execution_count": 53
=======
          "execution_count": 48
>>>>>>> 0ee1ced983769f85ddaa9156bf3fcfa73eaae5ed
        }
      ],
      "source": [
        "# Read the 'daily-summaries.csv' file\n",
        "weather = pd.read_csv('daily-summaries.csv')\n",
        "\n",
        "# Define the station and airport mappings\n",
        "station = ['USW00023174', 'USW00012960', 'USW00003017', 'USW00094846', 'USW00013874', 'USW00023234', 'USW00003927', 'USW00023183', 'USW00013881']\n",
        "airports = ['LAX', 'IAH', 'DEN', 'ORD', 'ATL', 'SFO', 'DFW', 'PHX', 'CLT']\n",
        "\n",
        "# Create a dictionary to map weather stations to airports\n",
        "station_map = dict(zip(station, airports))\n",
        "\n",
        "# Map weather stations to airport codes\n",
        "weather['airport'] = weather['STATION'].map(station_map)\n",
        "\n",
        "# Display the first few rows of the weather data\n",
        "weather.head()"
      ]
    },
    {
      "cell_type": "markdown",
      "metadata": {
        "id": "-OpvTK68Gcen"
      },
      "source": [
        "Create another column called `MONTH` from the `DATE` column."
      ]
    },
    {
      "cell_type": "code",
<<<<<<< HEAD
      "execution_count": 54,
=======
      "execution_count": null,
>>>>>>> 0ee1ced983769f85ddaa9156bf3fcfa73eaae5ed
      "metadata": {
        "scrolled": true,
        "id": "EDoZAekOGceo",
        "colab": {
          "base_uri": "https://localhost:8080/",
          "height": 206
        },
<<<<<<< HEAD
        "outputId": "5e06e690-f1f3-4187-c4b5-0adb69bd8339"
=======
        "outputId": "27877a47-c906-422c-d0b8-853298b51a15"
>>>>>>> 0ee1ced983769f85ddaa9156bf3fcfa73eaae5ed
      },
      "outputs": [
        {
          "output_type": "execute_result",
          "data": {
            "text/plain": [
              "       STATION        DATE  AWND  PRCP  SNOW  SNWD   TAVG   TMAX   TMIN  \\\n",
              "0  USW00023174  2014-01-01    16     0   NaN   NaN  131.0  178.0   78.0   \n",
              "1  USW00023174  2014-01-02    22     0   NaN   NaN  159.0  256.0  100.0   \n",
              "2  USW00023174  2014-01-03    17     0   NaN   NaN  140.0  178.0   83.0   \n",
              "3  USW00023174  2014-01-04    18     0   NaN   NaN  136.0  183.0  100.0   \n",
              "4  USW00023174  2014-01-05    18     0   NaN   NaN  151.0  244.0   83.0   \n",
              "\n",
              "  airport MONTH  \n",
              "0     LAX    01  \n",
              "1     LAX    01  \n",
              "2     LAX    01  \n",
              "3     LAX    01  \n",
              "4     LAX    01  "
            ],
            "text/html": [
              "\n",
<<<<<<< HEAD
              "  <div id=\"df-f75255cb-6167-4fbc-af4f-d07e514d4de4\" class=\"colab-df-container\">\n",
=======
              "  <div id=\"df-35b83608-a692-4516-a2ad-12b289fa3d18\" class=\"colab-df-container\">\n",
>>>>>>> 0ee1ced983769f85ddaa9156bf3fcfa73eaae5ed
              "    <div>\n",
              "<style scoped>\n",
              "    .dataframe tbody tr th:only-of-type {\n",
              "        vertical-align: middle;\n",
              "    }\n",
              "\n",
              "    .dataframe tbody tr th {\n",
              "        vertical-align: top;\n",
              "    }\n",
              "\n",
              "    .dataframe thead th {\n",
              "        text-align: right;\n",
              "    }\n",
              "</style>\n",
              "<table border=\"1\" class=\"dataframe\">\n",
              "  <thead>\n",
              "    <tr style=\"text-align: right;\">\n",
              "      <th></th>\n",
              "      <th>STATION</th>\n",
              "      <th>DATE</th>\n",
              "      <th>AWND</th>\n",
              "      <th>PRCP</th>\n",
              "      <th>SNOW</th>\n",
              "      <th>SNWD</th>\n",
              "      <th>TAVG</th>\n",
              "      <th>TMAX</th>\n",
              "      <th>TMIN</th>\n",
              "      <th>airport</th>\n",
              "      <th>MONTH</th>\n",
              "    </tr>\n",
              "  </thead>\n",
              "  <tbody>\n",
              "    <tr>\n",
              "      <th>0</th>\n",
              "      <td>USW00023174</td>\n",
              "      <td>2014-01-01</td>\n",
              "      <td>16</td>\n",
              "      <td>0</td>\n",
              "      <td>NaN</td>\n",
              "      <td>NaN</td>\n",
              "      <td>131.0</td>\n",
              "      <td>178.0</td>\n",
              "      <td>78.0</td>\n",
              "      <td>LAX</td>\n",
              "      <td>01</td>\n",
              "    </tr>\n",
              "    <tr>\n",
              "      <th>1</th>\n",
              "      <td>USW00023174</td>\n",
              "      <td>2014-01-02</td>\n",
              "      <td>22</td>\n",
              "      <td>0</td>\n",
              "      <td>NaN</td>\n",
              "      <td>NaN</td>\n",
              "      <td>159.0</td>\n",
              "      <td>256.0</td>\n",
              "      <td>100.0</td>\n",
              "      <td>LAX</td>\n",
              "      <td>01</td>\n",
              "    </tr>\n",
              "    <tr>\n",
              "      <th>2</th>\n",
              "      <td>USW00023174</td>\n",
              "      <td>2014-01-03</td>\n",
              "      <td>17</td>\n",
              "      <td>0</td>\n",
              "      <td>NaN</td>\n",
              "      <td>NaN</td>\n",
              "      <td>140.0</td>\n",
              "      <td>178.0</td>\n",
              "      <td>83.0</td>\n",
              "      <td>LAX</td>\n",
              "      <td>01</td>\n",
              "    </tr>\n",
              "    <tr>\n",
              "      <th>3</th>\n",
              "      <td>USW00023174</td>\n",
              "      <td>2014-01-04</td>\n",
              "      <td>18</td>\n",
              "      <td>0</td>\n",
              "      <td>NaN</td>\n",
              "      <td>NaN</td>\n",
              "      <td>136.0</td>\n",
              "      <td>183.0</td>\n",
              "      <td>100.0</td>\n",
              "      <td>LAX</td>\n",
              "      <td>01</td>\n",
              "    </tr>\n",
              "    <tr>\n",
              "      <th>4</th>\n",
              "      <td>USW00023174</td>\n",
              "      <td>2014-01-05</td>\n",
              "      <td>18</td>\n",
              "      <td>0</td>\n",
              "      <td>NaN</td>\n",
              "      <td>NaN</td>\n",
              "      <td>151.0</td>\n",
              "      <td>244.0</td>\n",
              "      <td>83.0</td>\n",
              "      <td>LAX</td>\n",
              "      <td>01</td>\n",
              "    </tr>\n",
              "  </tbody>\n",
              "</table>\n",
              "</div>\n",
              "    <div class=\"colab-df-buttons\">\n",
              "\n",
              "  <div class=\"colab-df-container\">\n",
<<<<<<< HEAD
              "    <button class=\"colab-df-convert\" onclick=\"convertToInteractive('df-f75255cb-6167-4fbc-af4f-d07e514d4de4')\"\n",
=======
              "    <button class=\"colab-df-convert\" onclick=\"convertToInteractive('df-35b83608-a692-4516-a2ad-12b289fa3d18')\"\n",
>>>>>>> 0ee1ced983769f85ddaa9156bf3fcfa73eaae5ed
              "            title=\"Convert this dataframe to an interactive table.\"\n",
              "            style=\"display:none;\">\n",
              "\n",
              "  <svg xmlns=\"http://www.w3.org/2000/svg\" height=\"24px\" viewBox=\"0 -960 960 960\">\n",
              "    <path d=\"M120-120v-720h720v720H120Zm60-500h600v-160H180v160Zm220 220h160v-160H400v160Zm0 220h160v-160H400v160ZM180-400h160v-160H180v160Zm440 0h160v-160H620v160ZM180-180h160v-160H180v160Zm440 0h160v-160H620v160Z\"/>\n",
              "  </svg>\n",
              "    </button>\n",
              "\n",
              "  <style>\n",
              "    .colab-df-container {\n",
              "      display:flex;\n",
              "      gap: 12px;\n",
              "    }\n",
              "\n",
              "    .colab-df-convert {\n",
              "      background-color: #E8F0FE;\n",
              "      border: none;\n",
              "      border-radius: 50%;\n",
              "      cursor: pointer;\n",
              "      display: none;\n",
              "      fill: #1967D2;\n",
              "      height: 32px;\n",
              "      padding: 0 0 0 0;\n",
              "      width: 32px;\n",
              "    }\n",
              "\n",
              "    .colab-df-convert:hover {\n",
              "      background-color: #E2EBFA;\n",
              "      box-shadow: 0px 1px 2px rgba(60, 64, 67, 0.3), 0px 1px 3px 1px rgba(60, 64, 67, 0.15);\n",
              "      fill: #174EA6;\n",
              "    }\n",
              "\n",
              "    .colab-df-buttons div {\n",
              "      margin-bottom: 4px;\n",
              "    }\n",
              "\n",
              "    [theme=dark] .colab-df-convert {\n",
              "      background-color: #3B4455;\n",
              "      fill: #D2E3FC;\n",
              "    }\n",
              "\n",
              "    [theme=dark] .colab-df-convert:hover {\n",
              "      background-color: #434B5C;\n",
              "      box-shadow: 0px 1px 3px 1px rgba(0, 0, 0, 0.15);\n",
              "      filter: drop-shadow(0px 1px 2px rgba(0, 0, 0, 0.3));\n",
              "      fill: #FFFFFF;\n",
              "    }\n",
              "  </style>\n",
              "\n",
              "    <script>\n",
              "      const buttonEl =\n",
<<<<<<< HEAD
              "        document.querySelector('#df-f75255cb-6167-4fbc-af4f-d07e514d4de4 button.colab-df-convert');\n",
=======
              "        document.querySelector('#df-35b83608-a692-4516-a2ad-12b289fa3d18 button.colab-df-convert');\n",
>>>>>>> 0ee1ced983769f85ddaa9156bf3fcfa73eaae5ed
              "      buttonEl.style.display =\n",
              "        google.colab.kernel.accessAllowed ? 'block' : 'none';\n",
              "\n",
              "      async function convertToInteractive(key) {\n",
<<<<<<< HEAD
              "        const element = document.querySelector('#df-f75255cb-6167-4fbc-af4f-d07e514d4de4');\n",
=======
              "        const element = document.querySelector('#df-35b83608-a692-4516-a2ad-12b289fa3d18');\n",
>>>>>>> 0ee1ced983769f85ddaa9156bf3fcfa73eaae5ed
              "        const dataTable =\n",
              "          await google.colab.kernel.invokeFunction('convertToInteractive',\n",
              "                                                    [key], {});\n",
              "        if (!dataTable) return;\n",
              "\n",
              "        const docLinkHtml = 'Like what you see? Visit the ' +\n",
              "          '<a target=\"_blank\" href=https://colab.research.google.com/notebooks/data_table.ipynb>data table notebook</a>'\n",
              "          + ' to learn more about interactive tables.';\n",
              "        element.innerHTML = '';\n",
              "        dataTable['output_type'] = 'display_data';\n",
              "        await google.colab.output.renderOutput(dataTable, element);\n",
              "        const docLink = document.createElement('div');\n",
              "        docLink.innerHTML = docLinkHtml;\n",
              "        element.appendChild(docLink);\n",
              "      }\n",
              "    </script>\n",
              "  </div>\n",
              "\n",
              "\n",
<<<<<<< HEAD
              "<div id=\"df-aa40b7e4-353e-45a8-bda3-5b757f9a6c4d\">\n",
              "  <button class=\"colab-df-quickchart\" onclick=\"quickchart('df-aa40b7e4-353e-45a8-bda3-5b757f9a6c4d')\"\n",
=======
              "<div id=\"df-8ef5208f-35bd-42cd-9d66-72c354329557\">\n",
              "  <button class=\"colab-df-quickchart\" onclick=\"quickchart('df-8ef5208f-35bd-42cd-9d66-72c354329557')\"\n",
>>>>>>> 0ee1ced983769f85ddaa9156bf3fcfa73eaae5ed
              "            title=\"Suggest charts.\"\n",
              "            style=\"display:none;\">\n",
              "\n",
              "<svg xmlns=\"http://www.w3.org/2000/svg\" height=\"24px\"viewBox=\"0 0 24 24\"\n",
              "     width=\"24px\">\n",
              "    <g>\n",
              "        <path d=\"M19 3H5c-1.1 0-2 .9-2 2v14c0 1.1.9 2 2 2h14c1.1 0 2-.9 2-2V5c0-1.1-.9-2-2-2zM9 17H7v-7h2v7zm4 0h-2V7h2v10zm4 0h-2v-4h2v4z\"/>\n",
              "    </g>\n",
              "</svg>\n",
              "  </button>\n",
              "\n",
              "<style>\n",
              "  .colab-df-quickchart {\n",
              "      --bg-color: #E8F0FE;\n",
              "      --fill-color: #1967D2;\n",
              "      --hover-bg-color: #E2EBFA;\n",
              "      --hover-fill-color: #174EA6;\n",
              "      --disabled-fill-color: #AAA;\n",
              "      --disabled-bg-color: #DDD;\n",
              "  }\n",
              "\n",
              "  [theme=dark] .colab-df-quickchart {\n",
              "      --bg-color: #3B4455;\n",
              "      --fill-color: #D2E3FC;\n",
              "      --hover-bg-color: #434B5C;\n",
              "      --hover-fill-color: #FFFFFF;\n",
              "      --disabled-bg-color: #3B4455;\n",
              "      --disabled-fill-color: #666;\n",
              "  }\n",
              "\n",
              "  .colab-df-quickchart {\n",
              "    background-color: var(--bg-color);\n",
              "    border: none;\n",
              "    border-radius: 50%;\n",
              "    cursor: pointer;\n",
              "    display: none;\n",
              "    fill: var(--fill-color);\n",
              "    height: 32px;\n",
              "    padding: 0;\n",
              "    width: 32px;\n",
              "  }\n",
              "\n",
              "  .colab-df-quickchart:hover {\n",
              "    background-color: var(--hover-bg-color);\n",
              "    box-shadow: 0 1px 2px rgba(60, 64, 67, 0.3), 0 1px 3px 1px rgba(60, 64, 67, 0.15);\n",
              "    fill: var(--button-hover-fill-color);\n",
              "  }\n",
              "\n",
              "  .colab-df-quickchart-complete:disabled,\n",
              "  .colab-df-quickchart-complete:disabled:hover {\n",
              "    background-color: var(--disabled-bg-color);\n",
              "    fill: var(--disabled-fill-color);\n",
              "    box-shadow: none;\n",
              "  }\n",
              "\n",
              "  .colab-df-spinner {\n",
              "    border: 2px solid var(--fill-color);\n",
              "    border-color: transparent;\n",
              "    border-bottom-color: var(--fill-color);\n",
              "    animation:\n",
              "      spin 1s steps(1) infinite;\n",
              "  }\n",
              "\n",
              "  @keyframes spin {\n",
              "    0% {\n",
              "      border-color: transparent;\n",
              "      border-bottom-color: var(--fill-color);\n",
              "      border-left-color: var(--fill-color);\n",
              "    }\n",
              "    20% {\n",
              "      border-color: transparent;\n",
              "      border-left-color: var(--fill-color);\n",
              "      border-top-color: var(--fill-color);\n",
              "    }\n",
              "    30% {\n",
              "      border-color: transparent;\n",
              "      border-left-color: var(--fill-color);\n",
              "      border-top-color: var(--fill-color);\n",
              "      border-right-color: var(--fill-color);\n",
              "    }\n",
              "    40% {\n",
              "      border-color: transparent;\n",
              "      border-right-color: var(--fill-color);\n",
              "      border-top-color: var(--fill-color);\n",
              "    }\n",
              "    60% {\n",
              "      border-color: transparent;\n",
              "      border-right-color: var(--fill-color);\n",
              "    }\n",
              "    80% {\n",
              "      border-color: transparent;\n",
              "      border-right-color: var(--fill-color);\n",
              "      border-bottom-color: var(--fill-color);\n",
              "    }\n",
              "    90% {\n",
              "      border-color: transparent;\n",
              "      border-bottom-color: var(--fill-color);\n",
              "    }\n",
              "  }\n",
              "</style>\n",
              "\n",
              "  <script>\n",
              "    async function quickchart(key) {\n",
              "      const quickchartButtonEl =\n",
              "        document.querySelector('#' + key + ' button');\n",
              "      quickchartButtonEl.disabled = true;  // To prevent multiple clicks.\n",
              "      quickchartButtonEl.classList.add('colab-df-spinner');\n",
              "      try {\n",
              "        const charts = await google.colab.kernel.invokeFunction(\n",
              "            'suggestCharts', [key], {});\n",
              "      } catch (error) {\n",
              "        console.error('Error during call to suggestCharts:', error);\n",
              "      }\n",
              "      quickchartButtonEl.classList.remove('colab-df-spinner');\n",
              "      quickchartButtonEl.classList.add('colab-df-quickchart-complete');\n",
              "    }\n",
              "    (() => {\n",
              "      let quickchartButtonEl =\n",
<<<<<<< HEAD
              "        document.querySelector('#df-aa40b7e4-353e-45a8-bda3-5b757f9a6c4d button');\n",
=======
              "        document.querySelector('#df-8ef5208f-35bd-42cd-9d66-72c354329557 button');\n",
>>>>>>> 0ee1ced983769f85ddaa9156bf3fcfa73eaae5ed
              "      quickchartButtonEl.style.display =\n",
              "        google.colab.kernel.accessAllowed ? 'block' : 'none';\n",
              "    })();\n",
              "  </script>\n",
              "</div>\n",
              "    </div>\n",
              "  </div>\n"
            ]
          },
          "metadata": {},
<<<<<<< HEAD
          "execution_count": 54
=======
          "execution_count": 49
>>>>>>> 0ee1ced983769f85ddaa9156bf3fcfa73eaae5ed
        }
      ],
      "source": [
        "weather['MONTH'] = weather['DATE'].apply(lambda x: x.split('-')[1])\n",
        "weather.head()\n"
      ]
    },
    {
      "cell_type": "markdown",
      "metadata": {
        "id": "4eRZwgw8Gceo"
      },
      "source": [
        "### Sample output\n",
        "```\n",
        "  STATION     DATE      AWND PRCP SNOW SNWD TAVG TMAX  TMIN airport MONTH\n",
        "0 USW00023174 2014-01-01 16   0   NaN  NaN 131.0 178.0 78.0  LAX    01\n",
        "1 USW00023174 2014-01-02 22   0   NaN  NaN 159.0 256.0 100.0 LAX    01\n",
        "2 USW00023174 2014-01-03 17   0   NaN  NaN 140.0 178.0 83.0  LAX    01\n",
        "3 USW00023174 2014-01-04 18   0   NaN  NaN 136.0 183.0 100.0 LAX    01\n",
        "4 USW00023174 2014-01-05 18   0   NaN  NaN 151.0 244.0 83.0  LAX    01\n",
        "```"
      ]
    },
    {
      "cell_type": "markdown",
      "metadata": {
        "id": "VfZxzm14Gceo"
      },
      "source": [
        "Analyze and handle the `SNOW` and `SNWD` columns for missing values using `fillna()`. Use the `isna()` function to check the missing values for all the columns."
      ]
    },
    {
      "cell_type": "code",
<<<<<<< HEAD
      "execution_count": 55,
=======
      "execution_count": null,
>>>>>>> 0ee1ced983769f85ddaa9156bf3fcfa73eaae5ed
      "metadata": {
        "scrolled": true,
        "id": "eTWhHxGgGceo",
        "colab": {
          "base_uri": "https://localhost:8080/"
        },
<<<<<<< HEAD
        "outputId": "68f89215-85b0-439d-9bae-3cd8ae4a4117"
=======
        "outputId": "b42279e1-e9ec-4686-ed1e-45858177d3b5"
>>>>>>> 0ee1ced983769f85ddaa9156bf3fcfa73eaae5ed
      },
      "outputs": [
        {
          "output_type": "execute_result",
          "data": {
            "text/plain": [
              "STATION     0\n",
              "DATE        0\n",
              "AWND        0\n",
              "PRCP        0\n",
              "SNOW        0\n",
              "SNWD        0\n",
              "TAVG       62\n",
              "TMAX       20\n",
              "TMIN       20\n",
              "airport     0\n",
              "MONTH       0\n",
              "dtype: int64"
            ]
          },
          "metadata": {},
<<<<<<< HEAD
          "execution_count": 55
=======
          "execution_count": 50
>>>>>>> 0ee1ced983769f85ddaa9156bf3fcfa73eaae5ed
        }
      ],
      "source": [
        "weather['SNOW'].fillna(0, inplace=True)\n",
        "weather['SNWD'].fillna(0, inplace=True)\n",
        "weather.isna().sum()\n"
      ]
    },
    {
      "cell_type": "markdown",
      "metadata": {
        "id": "qulDBKefGcep"
      },
      "source": [
        "**Question**: Print the index of the rows that have missing values for TAVG, TMAX, TMIN.\n",
        "\n",
        "**Hint**: Use the `isna()` function to find the rows that are missing, and then use the list on the idx variable to get the index."
      ]
    },
    {
      "cell_type": "code",
<<<<<<< HEAD
      "execution_count": 56,
=======
      "execution_count": null,
>>>>>>> 0ee1ced983769f85ddaa9156bf3fcfa73eaae5ed
      "metadata": {
        "id": "FO18w6b7Gcep",
        "colab": {
          "base_uri": "https://localhost:8080/"
        },
<<<<<<< HEAD
        "outputId": "f9b9d9e0-83df-4af5-e203-ec7bac638b40"
=======
        "outputId": "57b48ae6-accc-4d8b-8849-529922bf0c3a"
>>>>>>> 0ee1ced983769f85ddaa9156bf3fcfa73eaae5ed
      },
      "outputs": [
        {
          "output_type": "execute_result",
          "data": {
            "text/plain": [
              "(array([ 3956,  3957,  3958,  3959,  3960,  3961,  3962,  3963,  3964,\n",
              "         3965,  3966,  3967,  3968,  3969,  3970,  3971,  3972,  3973,\n",
              "         3974,  3975,  3976,  3977,  3978,  3979,  3980,  3981,  3982,\n",
              "         3983,  3984,  3985,  4017,  4018,  4019,  4020,  4021,  4022,\n",
              "         4023,  4024,  4025,  4026,  4027,  4028,  4029,  4030,  4031,\n",
              "         4032,  4033,  4034,  4035,  4036,  4037,  4038,  4039,  4040,\n",
              "         4041,  4042,  4043,  4044,  4045,  4046,  4047, 13420]),\n",
              " array([10763, 10764, 10765, 10766, 10767, 10768, 10769, 10770, 10771,\n",
              "        10772, 10773, 10774, 10775, 10776, 10777, 10778, 10779, 10780,\n",
              "        10781, 10782]),\n",
              " array([10763, 10764, 10765, 10766, 10767, 10768, 10769, 10770, 10771,\n",
              "        10772, 10773, 10774, 10775, 10776, 10777, 10778, 10779, 10780,\n",
              "        10781, 10782]))"
            ]
          },
          "metadata": {},
<<<<<<< HEAD
          "execution_count": 56
=======
          "execution_count": 51
>>>>>>> 0ee1ced983769f85ddaa9156bf3fcfa73eaae5ed
        }
      ],
      "source": [
        "idx = np.array([i for i in range(len(weather))])\n",
        "TAVG_idx = idx[weather['TAVG'].isna()]\n",
        "TMAX_idx = idx[weather['TMAX'].isna()]\n",
        "TMIN_idx = idx[weather['TMIN'].isna()]\n",
        "TAVG_idx,TMAX_idx,TMIN_idx"
      ]
    },
    {
      "cell_type": "markdown",
      "metadata": {
        "id": "rIDjXJ9SGcep"
      },
      "source": [
        "### Sample output\n",
        "\n",
        "```\n",
        "array([ 3956,  3957,  3958,  3959,  3960,  3961,  3962,  3963,  3964,\n",
        "        3965,  3966,  3967,  3968,  3969,  3970,  3971,  3972,  3973,\n",
        "        3974,  3975,  3976,  3977,  3978,  3979,  3980,  3981,  3982,\n",
        "        3983,  3984,  3985,  4017,  4018,  4019,  4020,  4021,  4022,\n",
        "        4023,  4024,  4025,  4026,  4027,  4028,  4029,  4030,  4031,\n",
        "        4032,  4033,  4034,  4035,  4036,  4037,  4038,  4039,  4040,\n",
        "        4041,  4042,  4043,  4044,  4045,  4046,  4047, 13420])\n",
        "```"
      ]
    },
    {
      "cell_type": "markdown",
      "metadata": {
        "id": "6xjnObrHGcep"
      },
      "source": [
        "You can replace the missing TAVG, TMAX, and TMIN with the average value for a particular station/airport. Because the consecutive rows of TAVG_idx are missing, replacing with a previous value would not be possible. Instead, replace it with the mean. Use the `groupby` function to aggregate the variables with a mean value."
      ]
    },
    {
      "cell_type": "code",
<<<<<<< HEAD
      "execution_count": 57,
=======
      "execution_count": null,
>>>>>>> 0ee1ced983769f85ddaa9156bf3fcfa73eaae5ed
      "metadata": {
        "id": "ZMLl2c1ZGceq",
        "colab": {
          "base_uri": "https://localhost:8080/",
          "height": 112
        },
<<<<<<< HEAD
        "outputId": "db2bd26a-b414-475f-bfca-fcadf4a38104"
=======
        "outputId": "f11d048e-ceca-466b-f77f-64f90d60c60c"
>>>>>>> 0ee1ced983769f85ddaa9156bf3fcfa73eaae5ed
      },
      "outputs": [
        {
          "output_type": "execute_result",
          "data": {
            "text/plain": [
              "       STATION MONTH       TAVG       TMAX       TMIN\n",
              "0  USW00003017    01  -2.741935  74.000000 -69.858065\n",
              "1  USW00003017    02  11.219858  88.553191 -65.035461"
            ],
            "text/html": [
              "\n",
<<<<<<< HEAD
              "  <div id=\"df-d8fc2a14-e5fb-48e7-85ab-b9a023ef7d3a\" class=\"colab-df-container\">\n",
=======
              "  <div id=\"df-95fd3801-b7f3-42a2-9e7b-8989582dffa6\" class=\"colab-df-container\">\n",
>>>>>>> 0ee1ced983769f85ddaa9156bf3fcfa73eaae5ed
              "    <div>\n",
              "<style scoped>\n",
              "    .dataframe tbody tr th:only-of-type {\n",
              "        vertical-align: middle;\n",
              "    }\n",
              "\n",
              "    .dataframe tbody tr th {\n",
              "        vertical-align: top;\n",
              "    }\n",
              "\n",
              "    .dataframe thead th {\n",
              "        text-align: right;\n",
              "    }\n",
              "</style>\n",
              "<table border=\"1\" class=\"dataframe\">\n",
              "  <thead>\n",
              "    <tr style=\"text-align: right;\">\n",
              "      <th></th>\n",
              "      <th>STATION</th>\n",
              "      <th>MONTH</th>\n",
              "      <th>TAVG</th>\n",
              "      <th>TMAX</th>\n",
              "      <th>TMIN</th>\n",
              "    </tr>\n",
              "  </thead>\n",
              "  <tbody>\n",
              "    <tr>\n",
              "      <th>0</th>\n",
              "      <td>USW00003017</td>\n",
              "      <td>01</td>\n",
              "      <td>-2.741935</td>\n",
              "      <td>74.000000</td>\n",
              "      <td>-69.858065</td>\n",
              "    </tr>\n",
              "    <tr>\n",
              "      <th>1</th>\n",
              "      <td>USW00003017</td>\n",
              "      <td>02</td>\n",
              "      <td>11.219858</td>\n",
              "      <td>88.553191</td>\n",
              "      <td>-65.035461</td>\n",
              "    </tr>\n",
              "  </tbody>\n",
              "</table>\n",
              "</div>\n",
              "    <div class=\"colab-df-buttons\">\n",
              "\n",
              "  <div class=\"colab-df-container\">\n",
<<<<<<< HEAD
              "    <button class=\"colab-df-convert\" onclick=\"convertToInteractive('df-d8fc2a14-e5fb-48e7-85ab-b9a023ef7d3a')\"\n",
=======
              "    <button class=\"colab-df-convert\" onclick=\"convertToInteractive('df-95fd3801-b7f3-42a2-9e7b-8989582dffa6')\"\n",
>>>>>>> 0ee1ced983769f85ddaa9156bf3fcfa73eaae5ed
              "            title=\"Convert this dataframe to an interactive table.\"\n",
              "            style=\"display:none;\">\n",
              "\n",
              "  <svg xmlns=\"http://www.w3.org/2000/svg\" height=\"24px\" viewBox=\"0 -960 960 960\">\n",
              "    <path d=\"M120-120v-720h720v720H120Zm60-500h600v-160H180v160Zm220 220h160v-160H400v160Zm0 220h160v-160H400v160ZM180-400h160v-160H180v160Zm440 0h160v-160H620v160ZM180-180h160v-160H180v160Zm440 0h160v-160H620v160Z\"/>\n",
              "  </svg>\n",
              "    </button>\n",
              "\n",
              "  <style>\n",
              "    .colab-df-container {\n",
              "      display:flex;\n",
              "      gap: 12px;\n",
              "    }\n",
              "\n",
              "    .colab-df-convert {\n",
              "      background-color: #E8F0FE;\n",
              "      border: none;\n",
              "      border-radius: 50%;\n",
              "      cursor: pointer;\n",
              "      display: none;\n",
              "      fill: #1967D2;\n",
              "      height: 32px;\n",
              "      padding: 0 0 0 0;\n",
              "      width: 32px;\n",
              "    }\n",
              "\n",
              "    .colab-df-convert:hover {\n",
              "      background-color: #E2EBFA;\n",
              "      box-shadow: 0px 1px 2px rgba(60, 64, 67, 0.3), 0px 1px 3px 1px rgba(60, 64, 67, 0.15);\n",
              "      fill: #174EA6;\n",
              "    }\n",
              "\n",
              "    .colab-df-buttons div {\n",
              "      margin-bottom: 4px;\n",
              "    }\n",
              "\n",
              "    [theme=dark] .colab-df-convert {\n",
              "      background-color: #3B4455;\n",
              "      fill: #D2E3FC;\n",
              "    }\n",
              "\n",
              "    [theme=dark] .colab-df-convert:hover {\n",
              "      background-color: #434B5C;\n",
              "      box-shadow: 0px 1px 3px 1px rgba(0, 0, 0, 0.15);\n",
              "      filter: drop-shadow(0px 1px 2px rgba(0, 0, 0, 0.3));\n",
              "      fill: #FFFFFF;\n",
              "    }\n",
              "  </style>\n",
              "\n",
              "    <script>\n",
              "      const buttonEl =\n",
<<<<<<< HEAD
              "        document.querySelector('#df-d8fc2a14-e5fb-48e7-85ab-b9a023ef7d3a button.colab-df-convert');\n",
=======
              "        document.querySelector('#df-95fd3801-b7f3-42a2-9e7b-8989582dffa6 button.colab-df-convert');\n",
>>>>>>> 0ee1ced983769f85ddaa9156bf3fcfa73eaae5ed
              "      buttonEl.style.display =\n",
              "        google.colab.kernel.accessAllowed ? 'block' : 'none';\n",
              "\n",
              "      async function convertToInteractive(key) {\n",
<<<<<<< HEAD
              "        const element = document.querySelector('#df-d8fc2a14-e5fb-48e7-85ab-b9a023ef7d3a');\n",
=======
              "        const element = document.querySelector('#df-95fd3801-b7f3-42a2-9e7b-8989582dffa6');\n",
>>>>>>> 0ee1ced983769f85ddaa9156bf3fcfa73eaae5ed
              "        const dataTable =\n",
              "          await google.colab.kernel.invokeFunction('convertToInteractive',\n",
              "                                                    [key], {});\n",
              "        if (!dataTable) return;\n",
              "\n",
              "        const docLinkHtml = 'Like what you see? Visit the ' +\n",
              "          '<a target=\"_blank\" href=https://colab.research.google.com/notebooks/data_table.ipynb>data table notebook</a>'\n",
              "          + ' to learn more about interactive tables.';\n",
              "        element.innerHTML = '';\n",
              "        dataTable['output_type'] = 'display_data';\n",
              "        await google.colab.output.renderOutput(dataTable, element);\n",
              "        const docLink = document.createElement('div');\n",
              "        docLink.innerHTML = docLinkHtml;\n",
              "        element.appendChild(docLink);\n",
              "      }\n",
              "    </script>\n",
              "  </div>\n",
              "\n",
              "\n",
<<<<<<< HEAD
              "<div id=\"df-4f86864f-61e6-4b69-9282-42ae80d80a9a\">\n",
              "  <button class=\"colab-df-quickchart\" onclick=\"quickchart('df-4f86864f-61e6-4b69-9282-42ae80d80a9a')\"\n",
=======
              "<div id=\"df-6dca42ed-2bbb-4246-93b8-70dc40f6785c\">\n",
              "  <button class=\"colab-df-quickchart\" onclick=\"quickchart('df-6dca42ed-2bbb-4246-93b8-70dc40f6785c')\"\n",
>>>>>>> 0ee1ced983769f85ddaa9156bf3fcfa73eaae5ed
              "            title=\"Suggest charts.\"\n",
              "            style=\"display:none;\">\n",
              "\n",
              "<svg xmlns=\"http://www.w3.org/2000/svg\" height=\"24px\"viewBox=\"0 0 24 24\"\n",
              "     width=\"24px\">\n",
              "    <g>\n",
              "        <path d=\"M19 3H5c-1.1 0-2 .9-2 2v14c0 1.1.9 2 2 2h14c1.1 0 2-.9 2-2V5c0-1.1-.9-2-2-2zM9 17H7v-7h2v7zm4 0h-2V7h2v10zm4 0h-2v-4h2v4z\"/>\n",
              "    </g>\n",
              "</svg>\n",
              "  </button>\n",
              "\n",
              "<style>\n",
              "  .colab-df-quickchart {\n",
              "      --bg-color: #E8F0FE;\n",
              "      --fill-color: #1967D2;\n",
              "      --hover-bg-color: #E2EBFA;\n",
              "      --hover-fill-color: #174EA6;\n",
              "      --disabled-fill-color: #AAA;\n",
              "      --disabled-bg-color: #DDD;\n",
              "  }\n",
              "\n",
              "  [theme=dark] .colab-df-quickchart {\n",
              "      --bg-color: #3B4455;\n",
              "      --fill-color: #D2E3FC;\n",
              "      --hover-bg-color: #434B5C;\n",
              "      --hover-fill-color: #FFFFFF;\n",
              "      --disabled-bg-color: #3B4455;\n",
              "      --disabled-fill-color: #666;\n",
              "  }\n",
              "\n",
              "  .colab-df-quickchart {\n",
              "    background-color: var(--bg-color);\n",
              "    border: none;\n",
              "    border-radius: 50%;\n",
              "    cursor: pointer;\n",
              "    display: none;\n",
              "    fill: var(--fill-color);\n",
              "    height: 32px;\n",
              "    padding: 0;\n",
              "    width: 32px;\n",
              "  }\n",
              "\n",
              "  .colab-df-quickchart:hover {\n",
              "    background-color: var(--hover-bg-color);\n",
              "    box-shadow: 0 1px 2px rgba(60, 64, 67, 0.3), 0 1px 3px 1px rgba(60, 64, 67, 0.15);\n",
              "    fill: var(--button-hover-fill-color);\n",
              "  }\n",
              "\n",
              "  .colab-df-quickchart-complete:disabled,\n",
              "  .colab-df-quickchart-complete:disabled:hover {\n",
              "    background-color: var(--disabled-bg-color);\n",
              "    fill: var(--disabled-fill-color);\n",
              "    box-shadow: none;\n",
              "  }\n",
              "\n",
              "  .colab-df-spinner {\n",
              "    border: 2px solid var(--fill-color);\n",
              "    border-color: transparent;\n",
              "    border-bottom-color: var(--fill-color);\n",
              "    animation:\n",
              "      spin 1s steps(1) infinite;\n",
              "  }\n",
              "\n",
              "  @keyframes spin {\n",
              "    0% {\n",
              "      border-color: transparent;\n",
              "      border-bottom-color: var(--fill-color);\n",
              "      border-left-color: var(--fill-color);\n",
              "    }\n",
              "    20% {\n",
              "      border-color: transparent;\n",
              "      border-left-color: var(--fill-color);\n",
              "      border-top-color: var(--fill-color);\n",
              "    }\n",
              "    30% {\n",
              "      border-color: transparent;\n",
              "      border-left-color: var(--fill-color);\n",
              "      border-top-color: var(--fill-color);\n",
              "      border-right-color: var(--fill-color);\n",
              "    }\n",
              "    40% {\n",
              "      border-color: transparent;\n",
              "      border-right-color: var(--fill-color);\n",
              "      border-top-color: var(--fill-color);\n",
              "    }\n",
              "    60% {\n",
              "      border-color: transparent;\n",
              "      border-right-color: var(--fill-color);\n",
              "    }\n",
              "    80% {\n",
              "      border-color: transparent;\n",
              "      border-right-color: var(--fill-color);\n",
              "      border-bottom-color: var(--fill-color);\n",
              "    }\n",
              "    90% {\n",
              "      border-color: transparent;\n",
              "      border-bottom-color: var(--fill-color);\n",
              "    }\n",
              "  }\n",
              "</style>\n",
              "\n",
              "  <script>\n",
              "    async function quickchart(key) {\n",
              "      const quickchartButtonEl =\n",
              "        document.querySelector('#' + key + ' button');\n",
              "      quickchartButtonEl.disabled = true;  // To prevent multiple clicks.\n",
              "      quickchartButtonEl.classList.add('colab-df-spinner');\n",
              "      try {\n",
              "        const charts = await google.colab.kernel.invokeFunction(\n",
              "            'suggestCharts', [key], {});\n",
              "      } catch (error) {\n",
              "        console.error('Error during call to suggestCharts:', error);\n",
              "      }\n",
              "      quickchartButtonEl.classList.remove('colab-df-spinner');\n",
              "      quickchartButtonEl.classList.add('colab-df-quickchart-complete');\n",
              "    }\n",
              "    (() => {\n",
              "      let quickchartButtonEl =\n",
<<<<<<< HEAD
              "        document.querySelector('#df-4f86864f-61e6-4b69-9282-42ae80d80a9a button');\n",
=======
              "        document.querySelector('#df-6dca42ed-2bbb-4246-93b8-70dc40f6785c button');\n",
>>>>>>> 0ee1ced983769f85ddaa9156bf3fcfa73eaae5ed
              "      quickchartButtonEl.style.display =\n",
              "        google.colab.kernel.accessAllowed ? 'block' : 'none';\n",
              "    })();\n",
              "  </script>\n",
              "</div>\n",
              "    </div>\n",
              "  </div>\n"
            ]
          },
          "metadata": {},
<<<<<<< HEAD
          "execution_count": 57
=======
          "execution_count": 52
>>>>>>> 0ee1ced983769f85ddaa9156bf3fcfa73eaae5ed
        }
      ],
      "source": [
        "weather_impute = weather.groupby(['STATION','MONTH']).agg({'TAVG':'mean','TMAX':'mean', 'TMIN':'mean' }).reset_index()# Enter your code here\n",
        "weather_impute.head(2)"
      ]
    },
    {
      "cell_type": "markdown",
      "metadata": {
        "id": "_UyJuCf-Gceq"
      },
      "source": [
        "Merge the mean data with the weather data."
      ]
    },
    {
      "cell_type": "code",
<<<<<<< HEAD
      "execution_count": 58,
=======
      "execution_count": null,
>>>>>>> 0ee1ced983769f85ddaa9156bf3fcfa73eaae5ed
      "metadata": {
        "id": "cF1awpSfGceq"
      },
      "outputs": [],
      "source": [
        "### get the yesterday's data\n",
        "weather = pd.merge(weather, weather_impute,  how='left', left_on=['MONTH','STATION'], right_on = ['MONTH','STATION'])\\\n",
        ".rename(columns = {'TAVG_y':'TAVG_AVG',\n",
        "                   'TMAX_y':'TMAX_AVG',\n",
        "                   'TMIN_y':'TMIN_AVG',\n",
        "                   'TAVG_x':'TAVG',\n",
        "                   'TMAX_x':'TMAX',\n",
        "                   'TMIN_x':'TMIN'})"
      ]
    },
    {
      "cell_type": "markdown",
      "metadata": {
        "id": "K9vCtOr-Gceq"
      },
      "source": [
        "Check for missing values again."
      ]
    },
    {
      "cell_type": "code",
<<<<<<< HEAD
      "execution_count": 59,
=======
      "execution_count": null,
>>>>>>> 0ee1ced983769f85ddaa9156bf3fcfa73eaae5ed
      "metadata": {
        "id": "wHfNw6TWGcer",
        "colab": {
          "base_uri": "https://localhost:8080/"
        },
<<<<<<< HEAD
        "outputId": "8d23ac98-f247-436f-faec-b4dfa4051c4f"
=======
        "outputId": "5a0b36f4-3815-43d9-9077-8df2771aadcd"
>>>>>>> 0ee1ced983769f85ddaa9156bf3fcfa73eaae5ed
      },
      "outputs": [
        {
          "output_type": "execute_result",
          "data": {
            "text/plain": [
              "STATION     0\n",
              "DATE        0\n",
              "AWND        0\n",
              "PRCP        0\n",
              "SNOW        0\n",
              "SNWD        0\n",
              "TAVG        0\n",
              "TMAX        0\n",
              "TMIN        0\n",
              "airport     0\n",
              "MONTH       0\n",
              "TAVG_AVG    0\n",
              "TMAX_AVG    0\n",
              "TMIN_AVG    0\n",
              "dtype: int64"
            ]
          },
          "metadata": {},
<<<<<<< HEAD
          "execution_count": 59
=======
          "execution_count": 54
>>>>>>> 0ee1ced983769f85ddaa9156bf3fcfa73eaae5ed
        }
      ],
      "source": [
        "weather.TAVG[TAVG_idx] = weather.TAVG_AVG[TAVG_idx]\n",
        "weather.TMAX[TMAX_idx] = weather.TMAX_AVG[TMAX_idx]\n",
        "weather.TMIN[TMIN_idx] = weather.TMIN_AVG[TMIN_idx]\n",
        "weather.isna().sum()"
      ]
    },
    {
      "cell_type": "markdown",
      "metadata": {
        "id": "ur9PThpFGcer"
      },
      "source": [
        "Drop `STATION,MONTH,TAVG_AVG,TMAX_AVG,TMIN_AVG,TMAX,TMIN,SNWD` from the dataset"
      ]
    },
    {
      "cell_type": "code",
<<<<<<< HEAD
      "execution_count": 60,
=======
      "execution_count": null,
>>>>>>> 0ee1ced983769f85ddaa9156bf3fcfa73eaae5ed
      "metadata": {
        "id": "M_sp5cXKGcer"
      },
      "outputs": [],
      "source": [
        "weather.drop(columns=['STATION','MONTH','TAVG_AVG', 'TMAX_AVG', 'TMIN_AVG', 'TMAX' ,'TMIN', 'SNWD'],inplace=True)"
      ]
    },
    {
      "cell_type": "markdown",
      "metadata": {
        "id": "i2G1OFUQGcer"
      },
      "source": [
        "Add the origin and destination weather conditions to the dataset."
      ]
    },
    {
      "cell_type": "code",
<<<<<<< HEAD
      "execution_count": 61,
=======
      "execution_count": null,
>>>>>>> 0ee1ced983769f85ddaa9156bf3fcfa73eaae5ed
      "metadata": {
        "id": "t2QlyGdHGces"
      },
      "outputs": [],
      "source": [
        "### Add origin weather conditions\n",
        "data_orig = pd.merge(data_orig, weather,  how='left', left_on=['FlightDate','Origin'], right_on = ['DATE','airport'])\\\n",
        ".rename(columns = {'AWND':'AWND_O','PRCP':'PRCP_O', 'TAVG':'TAVG_O', 'SNOW': 'SNOW_O'})\\\n",
        ".drop(columns=['DATE','airport'])\n",
        "\n",
        "### Add destination weather conditions\n",
        "data_orig = pd.merge(data_orig, weather,  how='left', left_on=['FlightDate','Dest'], right_on = ['DATE','airport'])\\\n",
        ".rename(columns = {'AWND':'AWND_D','PRCP':'PRCP_D', 'TAVG':'TAVG_D', 'SNOW': 'SNOW_D'})\\\n",
        ".drop(columns=['DATE','airport'])"
      ]
    },
    {
      "cell_type": "markdown",
      "metadata": {
        "id": "4bViu_KrGces"
      },
      "source": [
        "**Note**: It is always a good practice to check nulls/NAs after joins."
      ]
    },
    {
      "cell_type": "code",
<<<<<<< HEAD
      "execution_count": 62,
=======
      "execution_count": null,
>>>>>>> 0ee1ced983769f85ddaa9156bf3fcfa73eaae5ed
      "metadata": {
        "id": "CsYxvgTYGces",
        "colab": {
          "base_uri": "https://localhost:8080/"
        },
<<<<<<< HEAD
        "outputId": "dc3854fa-b652-4d89-ac13-0596eab73299"
=======
        "outputId": "c56e3951-e93b-4288-b1a7-d47000b862d4"
>>>>>>> 0ee1ced983769f85ddaa9156bf3fcfa73eaae5ed
      },
      "outputs": [
        {
          "output_type": "execute_result",
          "data": {
            "text/plain": [
              "0"
            ]
          },
          "metadata": {},
<<<<<<< HEAD
          "execution_count": 62
=======
          "execution_count": 57
>>>>>>> 0ee1ced983769f85ddaa9156bf3fcfa73eaae5ed
        }
      ],
      "source": [
        "sum(data.isna().any())"
      ]
    },
    {
      "cell_type": "code",
<<<<<<< HEAD
      "execution_count": 63,
=======
      "execution_count": null,
>>>>>>> 0ee1ced983769f85ddaa9156bf3fcfa73eaae5ed
      "metadata": {
        "id": "qF6yltbYGces",
        "colab": {
          "base_uri": "https://localhost:8080/"
        },
<<<<<<< HEAD
        "outputId": "f4cf9aff-8504-4e96-fbc4-f955d455545b"
=======
        "outputId": "a77f0c88-4393-4772-ade6-fcbf7f75e6c1"
>>>>>>> 0ee1ced983769f85ddaa9156bf3fcfa73eaae5ed
      },
      "outputs": [
        {
          "output_type": "execute_result",
          "data": {
            "text/plain": [
              "Index(['Year', 'Quarter', 'Month', 'DayofMonth', 'DayOfWeek', 'FlightDate',\n",
              "       'Reporting_Airline', 'Origin', 'OriginState', 'Dest', 'DestState',\n",
              "       'CRSDepTime', 'ArrDelay', 'ArrDelayMinutes', 'is_delay', 'Cancelled',\n",
              "       'Diverted', 'AirTime', 'Distance', 'DistanceGroup', 'DepHourofDay',\n",
              "       'is_holiday', 'AWND_O', 'PRCP_O', 'SNOW_O', 'TAVG_O', 'AWND_D',\n",
              "       'PRCP_D', 'SNOW_D', 'TAVG_D'],\n",
              "      dtype='object')"
            ]
          },
          "metadata": {},
<<<<<<< HEAD
          "execution_count": 63
=======
          "execution_count": 58
>>>>>>> 0ee1ced983769f85ddaa9156bf3fcfa73eaae5ed
        }
      ],
      "source": [
        "data_orig.columns"
      ]
    },
    {
      "cell_type": "markdown",
      "metadata": {
        "id": "l0cmCvvcGcet"
      },
      "source": [
        "Convert the categorical data into numerical data using one-hot encoding."
      ]
    },
    {
      "cell_type": "code",
<<<<<<< HEAD
      "execution_count": 64,
=======
      "execution_count": null,
>>>>>>> 0ee1ced983769f85ddaa9156bf3fcfa73eaae5ed
      "metadata": {
        "id": "aI5j3qXKGcet"
      },
      "outputs": [],
      "source": [
        "data = data_orig.copy()\n",
        "data = data[['is_delay', 'Year', 'Quarter', 'Month', 'DayofMonth', 'DayOfWeek',\n",
        "       'Reporting_Airline', 'Origin', 'Dest','Distance','DepHourofDay','is_holiday', 'AWND_O', 'PRCP_O',\n",
        "       'TAVG_O', 'AWND_D', 'PRCP_D', 'TAVG_D', 'SNOW_O', 'SNOW_D']]\n",
        "\n",
        "\n",
        "categorical_columns  = ['Year', 'Quarter', 'Month', 'DayofMonth', 'DayOfWeek',\n",
<<<<<<< HEAD
        "       'Reporting_Airline', 'Origin', 'Dest', 'is_holiday','DepHourofDay']\n",
=======
        "       'Reporting_Airline', 'Origin', 'Dest', 'is_holiday']\n",
>>>>>>> 0ee1ced983769f85ddaa9156bf3fcfa73eaae5ed
        "for c in categorical_columns:\n",
        "    data[c] = data[c].astype('category')"
      ]
    },
    {
      "cell_type": "code",
<<<<<<< HEAD
      "execution_count": 65,
=======
      "source": [
        "data.to_csv('Tableu_combined_csv_v2.csv', index=False)"
      ],
      "metadata": {
        "id": "WSlTAoVahUd8"
      },
      "execution_count": null,
      "outputs": []
    },
    {
      "cell_type": "code",
      "execution_count": null,
>>>>>>> 0ee1ced983769f85ddaa9156bf3fcfa73eaae5ed
      "metadata": {
        "id": "7hL7CZ3HGcet"
      },
      "outputs": [],
      "source": [
        "data_dummies = pd.get_dummies(data[categorical_columns], drop_first=True)\n",
        "data = pd.concat([data, data_dummies], axis = 1)\n",
        "#categorical_columns.remove('is_delay')\n",
        "data.drop(categorical_columns,axis=1, inplace=True)"
      ]
    },
    {
      "cell_type": "markdown",
      "metadata": {
        "id": "T59H1yLRGcet"
      },
      "source": [
        "### Sample code\n",
        "\n",
        "```\n",
        "data_dummies = pd.get_dummies(data[['Year', 'Quarter', 'Month', 'DayofMonth', 'DayOfWeek', 'Reporting_Airline', 'Origin', 'Dest', 'is_holiday']], drop_first=True)\n",
        "data = pd.concat([data, data_dummies], axis = 1)\n",
        "categorical_columns.remove('is_delay')\n",
        "data.drop(categorical_columns,axis=1, inplace=True)\n",
        "```"
      ]
    },
    {
      "cell_type": "markdown",
      "metadata": {
        "id": "3IvzaEHlGceu"
      },
      "source": [
        "Check the new columns."
      ]
    },
    {
      "cell_type": "code",
<<<<<<< HEAD
      "execution_count": 66,
=======
      "execution_count": null,
>>>>>>> 0ee1ced983769f85ddaa9156bf3fcfa73eaae5ed
      "metadata": {
        "id": "wZ1i6u0_Gceu",
        "colab": {
          "base_uri": "https://localhost:8080/"
        },
<<<<<<< HEAD
        "outputId": "4f9e05b7-d0ee-45c5-ec12-980177d86346"
=======
        "outputId": "59262f6d-12f9-44b5-9597-1a6bbd90ad07"
>>>>>>> 0ee1ced983769f85ddaa9156bf3fcfa73eaae5ed
      },
      "outputs": [
        {
          "output_type": "execute_result",
          "data": {
            "text/plain": [
<<<<<<< HEAD
              "Index(['is_delay', 'Distance', 'AWND_O', 'PRCP_O', 'TAVG_O', 'AWND_D',\n",
              "       'PRCP_D', 'TAVG_D', 'SNOW_O', 'SNOW_D',\n",
              "       ...\n",
              "       'DepHourofDay_14', 'DepHourofDay_15', 'DepHourofDay_16',\n",
              "       'DepHourofDay_17', 'DepHourofDay_18', 'DepHourofDay_19',\n",
              "       'DepHourofDay_20', 'DepHourofDay_21', 'DepHourofDay_22',\n",
              "       'DepHourofDay_23'],\n",
              "      dtype='object', length=107)"
            ]
          },
          "metadata": {},
          "execution_count": 66
=======
              "Index(['is_delay', 'Distance', 'DepHourofDay', 'AWND_O', 'PRCP_O', 'TAVG_O',\n",
              "       'AWND_D', 'PRCP_D', 'TAVG_D', 'SNOW_O', 'SNOW_D', 'Year_2015',\n",
              "       'Year_2016', 'Year_2017', 'Year_2018', 'Quarter_2', 'Quarter_3',\n",
              "       'Quarter_4', 'Month_2', 'Month_3', 'Month_4', 'Month_5', 'Month_6',\n",
              "       'Month_7', 'Month_8', 'Month_9', 'Month_10', 'Month_11', 'Month_12',\n",
              "       'DayofMonth_2', 'DayofMonth_3', 'DayofMonth_4', 'DayofMonth_5',\n",
              "       'DayofMonth_6', 'DayofMonth_7', 'DayofMonth_8', 'DayofMonth_9',\n",
              "       'DayofMonth_10', 'DayofMonth_11', 'DayofMonth_12', 'DayofMonth_13',\n",
              "       'DayofMonth_14', 'DayofMonth_15', 'DayofMonth_16', 'DayofMonth_17',\n",
              "       'DayofMonth_18', 'DayofMonth_19', 'DayofMonth_20', 'DayofMonth_21',\n",
              "       'DayofMonth_22', 'DayofMonth_23', 'DayofMonth_24', 'DayofMonth_25',\n",
              "       'DayofMonth_26', 'DayofMonth_27', 'DayofMonth_28', 'DayofMonth_29',\n",
              "       'DayofMonth_30', 'DayofMonth_31', 'DayOfWeek_2', 'DayOfWeek_3',\n",
              "       'DayOfWeek_4', 'DayOfWeek_5', 'DayOfWeek_6', 'DayOfWeek_7',\n",
              "       'Reporting_Airline_DL', 'Reporting_Airline_OO', 'Reporting_Airline_UA',\n",
              "       'Reporting_Airline_WN', 'Origin_CLT', 'Origin_DEN', 'Origin_DFW',\n",
              "       'Origin_IAH', 'Origin_LAX', 'Origin_ORD', 'Origin_PHX', 'Origin_SFO',\n",
              "       'Dest_CLT', 'Dest_DEN', 'Dest_DFW', 'Dest_IAH', 'Dest_LAX', 'Dest_ORD',\n",
              "       'Dest_PHX', 'Dest_SFO', 'is_holiday_1'],\n",
              "      dtype='object')"
            ]
          },
          "metadata": {},
          "execution_count": 62
>>>>>>> 0ee1ced983769f85ddaa9156bf3fcfa73eaae5ed
        }
      ],
      "source": [
        "data.columns"
      ]
    },
    {
      "cell_type": "markdown",
      "metadata": {
        "id": "-nZirofGGceu"
      },
      "source": [
        "### Sample output\n",
        "\n",
        "```\n",
        "Index(['Distance', 'DepHourofDay', 'is_delay', 'AWND_O', 'PRCP_O', 'TAVG_O',\n",
        "       'AWND_D', 'PRCP_D', 'TAVG_D', 'SNOW_O', 'SNOW_D', 'Year_2015',\n",
        "       'Year_2016', 'Year_2017', 'Year_2018', 'Quarter_2', 'Quarter_3',\n",
        "       'Quarter_4', 'Month_2', 'Month_3', 'Month_4', 'Month_5', 'Month_6',\n",
        "       'Month_7', 'Month_8', 'Month_9', 'Month_10', 'Month_11', 'Month_12',\n",
        "       'DayofMonth_2', 'DayofMonth_3', 'DayofMonth_4', 'DayofMonth_5',\n",
        "       'DayofMonth_6', 'DayofMonth_7', 'DayofMonth_8', 'DayofMonth_9',\n",
        "       'DayofMonth_10', 'DayofMonth_11', 'DayofMonth_12', 'DayofMonth_13',\n",
        "       'DayofMonth_14', 'DayofMonth_15', 'DayofMonth_16', 'DayofMonth_17',\n",
        "       'DayofMonth_18', 'DayofMonth_19', 'DayofMonth_20', 'DayofMonth_21',\n",
        "       'DayofMonth_22', 'DayofMonth_23', 'DayofMonth_24', 'DayofMonth_25',\n",
        "       'DayofMonth_26', 'DayofMonth_27', 'DayofMonth_28', 'DayofMonth_29',\n",
        "       'DayofMonth_30', 'DayofMonth_31', 'DayOfWeek_2', 'DayOfWeek_3',\n",
        "       'DayOfWeek_4', 'DayOfWeek_5', 'DayOfWeek_6', 'DayOfWeek_7',\n",
        "       'Reporting_Airline_DL', 'Reporting_Airline_OO', 'Reporting_Airline_UA',\n",
        "       'Reporting_Airline_WN', 'Origin_CLT', 'Origin_DEN', 'Origin_DFW',\n",
        "       'Origin_IAH', 'Origin_LAX', 'Origin_ORD', 'Origin_PHX', 'Origin_SFO',\n",
        "       'Dest_CLT', 'Dest_DEN', 'Dest_DFW', 'Dest_IAH', 'Dest_LAX', 'Dest_ORD',\n",
        "       'Dest_PHX', 'Dest_SFO', 'is_holiday_1'],\n",
        "      dtype='object')\n",
        "```"
      ]
    },
    {
      "cell_type": "markdown",
      "metadata": {
        "id": "swATGp7rGceu"
      },
      "source": [
        "Rename the `is_delay` column to `target` again. Use the same code as before."
      ]
    },
    {
      "cell_type": "code",
<<<<<<< HEAD
      "execution_count": 67,
=======
      "execution_count": null,
>>>>>>> 0ee1ced983769f85ddaa9156bf3fcfa73eaae5ed
      "metadata": {
        "id": "qXP1_XgZGceu"
      },
      "outputs": [],
      "source": [
        "data.rename(columns={'is_delay': 'target'}, inplace=True)"
      ]
    },
    {
      "cell_type": "code",
<<<<<<< HEAD
      "execution_count": 68,
=======
      "execution_count": null,
>>>>>>> 0ee1ced983769f85ddaa9156bf3fcfa73eaae5ed
      "metadata": {
        "id": "ETwbbPQLGcev"
      },
      "outputs": [],
      "source": [
        "# write code to Save the new combined csv file (combined_csv_v2.csv) to your local computer\n",
        "# note this combined file will be also used in part B\n",
        "# Save the new combined CSV file\n",
        "data.to_csv('combined_csv_v2.csv', index=False)"
      ]
    },
    {
      "cell_type": "markdown",
      "metadata": {
        "id": "3_TuIYmpGcev"
      },
      "source": [
        "Create the training and testing sets again."
      ]
    },
    {
      "cell_type": "code",
<<<<<<< HEAD
      "execution_count": 69,
=======
      "execution_count": null,
>>>>>>> 0ee1ced983769f85ddaa9156bf3fcfa73eaae5ed
      "metadata": {
        "id": "Sz36V088Gcev",
        "colab": {
          "base_uri": "https://localhost:8080/"
        },
<<<<<<< HEAD
        "outputId": "7766c7d2-4007-4732-96dd-516fde054b42"
=======
        "outputId": "0c493bbe-72ae-447c-caf1-030c12174b0e"
>>>>>>> 0ee1ced983769f85ddaa9156bf3fcfa73eaae5ed
      },
      "outputs": [
        {
          "output_type": "stream",
          "name": "stdout",
          "text": [
<<<<<<< HEAD
            "X_train shape: (1308472, 106)\n",
            "X_test shape: (327118, 106)\n",
=======
            "X_train shape: (1308472, 85)\n",
            "X_test shape: (327118, 85)\n",
>>>>>>> 0ee1ced983769f85ddaa9156bf3fcfa73eaae5ed
            "y_train shape: (1308472,)\n",
            "y_test shape: (327118,)\n"
          ]
        }
      ],
      "source": [
        "# Enter your code here\n",
        "# Define features (X) and target (y)\n",
        "X = data.drop(columns=['target'])\n",
        "y = data['target']\n",
        "\n",
        "# Split the data into training and testing sets (80% train, 20% test)\n",
        "X_train, X_test, y_train, y_test = train_test_split(X, y, test_size=0.2, random_state=42)\n",
        "\n",
        "# Print the shapes of the training and testing sets\n",
        "print(\"X_train shape:\", X_train.shape)\n",
        "print(\"X_test shape:\", X_test.shape)\n",
        "print(\"y_train shape:\", y_train.shape)\n",
        "print(\"y_test shape:\", y_test.shape)\n"
      ]
    },
    {
      "cell_type": "markdown",
      "metadata": {
        "id": "G5qXcd-sGcev"
      },
      "source": [
        "### New baseline classifier\n",
        "\n",
        "Now, see if these new features add any predictive power to the model."
      ]
    },
    {
      "cell_type": "code",
<<<<<<< HEAD
      "execution_count": 70,
=======
      "execution_count": null,
>>>>>>> 0ee1ced983769f85ddaa9156bf3fcfa73eaae5ed
      "metadata": {
        "id": "0sigctGhGcew",
        "colab": {
          "base_uri": "https://localhost:8080/"
        },
<<<<<<< HEAD
        "outputId": "3cc68c97-3286-4e44-8ff2-7e818b51f282"
=======
        "outputId": "29728f02-3f9e-4ea6-e458-db735804aef6"
>>>>>>> 0ee1ced983769f85ddaa9156bf3fcfa73eaae5ed
      },
      "outputs": [
        {
          "output_type": "stream",
          "name": "stdout",
          "text": [
            "Accuracy: 0.79\n",
            "Confusion Matrix:\n",
<<<<<<< HEAD
            " [[255795   2622]\n",
            " [ 65871   2830]]\n",
            "Classification Report:\n",
            "               precision    recall  f1-score   support\n",
            "\n",
            "         0.0       0.80      0.99      0.88    258417\n",
            "         1.0       0.52      0.04      0.08     68701\n",
            "\n",
            "    accuracy                           0.79    327118\n",
            "   macro avg       0.66      0.52      0.48    327118\n",
            "weighted avg       0.74      0.79      0.71    327118\n",
=======
            " [[255141   3276]\n",
            " [ 65942   2759]]\n",
            "Classification Report:\n",
            "               precision    recall  f1-score   support\n",
            "\n",
            "         0.0       0.79      0.99      0.88    258417\n",
            "         1.0       0.46      0.04      0.07     68701\n",
            "\n",
            "    accuracy                           0.79    327118\n",
            "   macro avg       0.63      0.51      0.48    327118\n",
            "weighted avg       0.72      0.79      0.71    327118\n",
>>>>>>> 0ee1ced983769f85ddaa9156bf3fcfa73eaae5ed
            "\n"
          ]
        }
      ],
      "source": [
        "# Instantiate another logistic regression model\n",
        "classifier2 = LogisticRegression()\n",
        "\n",
        "# Train the model on the training data\n",
        "classifier2.fit(X_train, y_train)\n",
        "\n",
        "# Make predictions on the test set\n",
        "y_pred = classifier2.predict(X_test)\n",
        "\n",
        "# Evaluate the model\n",
        "accuracy = accuracy_score(y_test, y_pred)\n",
        "conf_matrix = confusion_matrix(y_test, y_pred)\n",
        "class_report = classification_report(y_test, y_pred)\n",
        "\n",
        "# Print the results\n",
        "print(f\"Accuracy: {accuracy:.2f}\")\n",
        "print(\"Confusion Matrix:\\n\", conf_matrix)\n",
        "print(\"Classification Report:\\n\", class_report)"
      ]
    },
    {
      "cell_type": "markdown",
      "metadata": {
        "id": "4sYb1cYUGcew"
      },
      "source": [
        "Perform the evaluaion as you have done with the previous model and plot/show the same metrics"
      ]
    },
    {
      "cell_type": "code",
      "source": [
        "# Enter you code here\n",
        "plot_confusion_matrix(y_test, y_pred)\n"
      ],
      "metadata": {
        "colab": {
          "base_uri": "https://localhost:8080/",
          "height": 573
        },
        "id": "Hf6G0h3AVQ5N",
<<<<<<< HEAD
        "outputId": "2aa8c849-06a1-4d7f-d470-bc5ef75299ff"
      },
      "execution_count": 71,
=======
        "outputId": "b57dcd68-a647-4175-a70f-9b317ef95af7"
      },
      "execution_count": null,
>>>>>>> 0ee1ced983769f85ddaa9156bf3fcfa73eaae5ed
      "outputs": [
        {
          "output_type": "display_data",
          "data": {
            "text/plain": [
              "<Figure size 800x600 with 2 Axes>"
            ],
<<<<<<< HEAD
            "image/png": "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\n"
=======
            "image/png": "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\n"
>>>>>>> 0ee1ced983769f85ddaa9156bf3fcfa73eaae5ed
          },
          "metadata": {}
        }
      ]
    },
    {
      "cell_type": "code",
      "source": [
        "# Enter you code here\n",
        "plot_roc(y_test, y_pred)"
      ],
      "metadata": {
        "colab": {
          "base_uri": "https://localhost:8080/",
          "height": 573
        },
        "id": "g8-O4lKIVSyX",
<<<<<<< HEAD
        "outputId": "9f5f8258-33a6-485a-b218-ff4d945c294f"
      },
      "execution_count": 72,
=======
        "outputId": "5ee01273-0505-4ddf-9b14-f45b0197ad22"
      },
      "execution_count": null,
>>>>>>> 0ee1ced983769f85ddaa9156bf3fcfa73eaae5ed
      "outputs": [
        {
          "output_type": "display_data",
          "data": {
            "text/plain": [
              "<Figure size 800x600 with 1 Axes>"
            ],
<<<<<<< HEAD
            "image/png": "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\n"
=======
            "image/png": "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\n"
>>>>>>> 0ee1ced983769f85ddaa9156bf3fcfa73eaae5ed
          },
          "metadata": {}
        }
      ]
    },
    {
      "cell_type": "markdown",
      "metadata": {
        "id": "_tA3171GGcew"
      },
      "source": [
        "Question: did you notice a difference by adding the extra data on the results?"
      ]
    },
    {
      "cell_type": "markdown",
      "source": [
        "Yes, there are differences when adding the extra data:\n",
        "\n",
        "1. **True Positives (Class 1) Increased**: The number of correctly predicted class 1 instances increased from 2,273 to 2,759.\n",
        "2. **False Positives Increased**: The model made more incorrect predictions for class 0 as class 1, increasing from 2,689 to 3,276.\n",
        "3. **False Negatives (Class 1) Decreased**: The number of class 1 instances that were incorrectly predicted as class 0 decreased from 66,215 to 65,942.\n",
        "4. **Slight Improvement in Recall for Class 1**: Recall for class 1 increased from 3% to 4%.\n",
        "5. **F1-Score for Class 1 Increased Slightly**: The F1-score for class 1 went up from 0.06 to 0.07.\n",
        "\n",
        "In summary, with the extra data, the model slightly improved its performance in predicting class 1, but the overall impact is still modest."
      ],
      "metadata": {
        "id": "LpNWDfFYGcex"
      }
    },
    {
      "cell_type": "markdown",
      "metadata": {
        "id": "CluZZ4-XGcex"
      },
      "source": [
        "# Step 6: Using Tableau\n",
        "\n",
        "Use Tableau to load the combined_csv_v2.csv file and build a dashboard that show your understanding of the data and business problem.\n",
        "### what to do:\n",
        "1. Load the data into Tableau and build the dashboard\n",
        "2. Share the dashboard on your Tableau public account\n",
        "3. Copy the link of the shared dashboard below\n",
        "\n",
        "Note: The dashboard needs to be self explainable to others, so make it simple and add only the features that you feel heighlight the main question(s) of the prblem statement."
      ]
    },
    {
      "cell_type": "markdown",
      "source": [
        "https://public.tableau.com/app/profile/edwin.alais/viz/Book1_16985334158800/Dashboard1?publish=yes"
      ],
      "metadata": {
        "id": "ONjok74LGcex"
      }
    },
    {
      "cell_type": "markdown",
      "metadata": {
        "id": "fY_509D0Gcex"
      },
      "source": [
        "## Conclusion\n",
        "\n",
        "You've now gone through at least a couple iterations of training and evaluating your model. It's time to wrap up this project and reflect on what you've learned and what types of steps you might take moving forward (assuming you had more time). Use the cell below to answer some of these and other relevant questions:\n",
        "\n",
        "1. Does your model performance meet your business goal? If not, what are some things you'd like to do differently if you had more time for tuning?\n",
        "2. To what extent did your model improve as you made changes to your dataset? What types of techniques did you employ throughout this project that you felt yielded the greatest improvements in your model?\n",
        "3. What were some of the biggest challenges you encountered throughout this project?\n",
        "4. What were the three most important things you learned about machine learning while completing this project?"
      ]
    },
    {
      "cell_type": "markdown",
      "source": [
        "1. **Does your model performance meet your business goal?**\n",
        "   - The logistic regression model achieved an accuracy of roughly 79%, which might initially seem decent. However, considering the business goal of predicting flight delays to enhance the customer experience, the model's recall for detecting actual delays is considerably low. Therefore, in its current state, the model might not be sufficiently effective in predicting flight delays.\n",
        "   \n",
        "   **If not, what are some things you'd like to do differently if you had more time for tuning?**\n",
        "   - **Imbalanced Dataset Handling:** Given the class imbalance evident in the target variable, techniques like oversampling, undersampling, or using the Synthetic Minority Over-sampling Technique (SMOTE) could be employed.\n",
        "   - **Model Selection:** Beyond logistic regression, other models like decision trees, random forests, gradient boosting machines, or neural networks could be explored.\n",
        "   - **Hyperparameter Tuning:** A more exhaustive search of hyperparameters could potentially improve model performance.\n",
        "   - **Feature Selection:** Some features might be more influential than others. Feature importance or selection methods could be applied to refine the input feature set.\n",
        "\n",
        "2. **To what extent did your model improve as you made changes to your dataset?**\n",
        "   - The model saw a slight improvement in recall between the two iterations, suggesting that the incorporation of weather data had a positive yet limited effect.\n",
        "   \n",
        "   **What types of techniques did you employ throughout this project that you felt yielded the greatest improvements in your model?**\n",
        "   - **Feature Engineering:** The addition of features like departure hour and federal holidays, and especially the integration of weather data, were significant steps.\n",
        "   - **Data Cleaning:** Handling missing values and outliers ensured the model was trained on quality data.\n",
        "   - **One-Hot Encoding:** Converting categorical features to a format suitable for machine learning algorithms is essential.\n",
        "\n",
        "3. **What were some of the biggest challenges you encountered throughout this project?**\n",
        "   - **Data Size:** Managing and processing a large dataset spanning multiple CSV files was a challenge.\n",
        "   - **Missing Data:** Especially in the weather dataset, handling missing values required careful consideration.\n",
        "   - **Feature Engineering:** Integrating external data (like weather information) required careful preprocessing, mapping, and merging.\n",
        "\n",
        "4. **What were the three most important things you learned about machine learning while completing this project?**\n",
        "   - **Iterative Nature:** Machine learning is a continuous process of refining and improving. As new features are added or changes made, models need to be retrained and re-evaluated.\n",
        "   - **Importance of Domain Knowledge:** Understanding the travel and airline industry, along with the relevance of features like weather, is crucial for effective feature engineering.\n",
        "   - **Evaluation Beyond Accuracy:** In real-world projects, especially with imbalanced datasets, metrics beyond accuracy (like precision, recall, and F1-score) become essential to truly gauge model performance.\n",
        "\n",
        "These reflections capture the essence of the project and the machine learning process. Given more time and resources, there are always avenues to refine and enhance the model further."
      ],
      "metadata": {
        "id": "ncWdAfNSGcex"
      }
    },
    {
      "cell_type": "code",
      "source": [
        "from google.colab import drive\n",
        "drive.mount('/content/drive')\n",
        "#!mkdir -p \"/content/drive/My Drive/Project_outputs\"\n",
        "\n",
        "!cp /content/combined_csv_v1.csv \"/content/drive/My Drive/Project_outputs/combined_csv_v1.csv\"\n",
        "!cp /content/combined_csv_v2.csv \"/content/drive/My Drive/Project_outputs/combined_csv_v2.csv\"\n"
      ],
      "metadata": {
<<<<<<< HEAD
        "id": "vB33bpydyN3L",
        "colab": {
          "base_uri": "https://localhost:8080/"
        },
        "outputId": "41c3023f-9a41-49bd-c359-d58b7c7d6883"
      },
      "execution_count": 73,
      "outputs": [
        {
          "output_type": "stream",
          "name": "stdout",
          "text": [
            "Mounted at /content/drive\n"
          ]
        }
      ]
    },
    {
      "cell_type": "code",
      "source": [],
      "metadata": {
        "id": "AQPy60NFy3jp"
      },
      "execution_count": 73,
=======
        "id": "vB33bpydyN3L"
      },
      "execution_count": null,
>>>>>>> 0ee1ced983769f85ddaa9156bf3fcfa73eaae5ed
      "outputs": []
    }
  ],
  "metadata": {
    "kernelspec": {
      "display_name": "Python 3",
      "language": "python",
      "name": "python3"
    },
    "language_info": {
      "codemirror_mode": {
        "name": "ipython",
        "version": 3
      },
      "file_extension": ".py",
      "mimetype": "text/x-python",
      "name": "python",
      "nbconvert_exporter": "python",
      "pygments_lexer": "ipython3",
      "version": "3.8.8"
    },
    "colab": {
<<<<<<< HEAD
      "provenance": []
=======
      "provenance": [],
      "include_colab_link": true
>>>>>>> 0ee1ced983769f85ddaa9156bf3fcfa73eaae5ed
    }
  },
  "nbformat": 4,
  "nbformat_minor": 0
}