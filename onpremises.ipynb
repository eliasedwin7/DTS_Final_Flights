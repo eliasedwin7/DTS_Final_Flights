{
  "cells": [
    {
      "cell_type": "markdown",
      "metadata": {
        "id": "view-in-github",
        "colab_type": "text"
      },
      "source": [
        "<a href=\"https://colab.research.google.com/github/eliasedwin7/DTS_Final_Flights/blob/main/onpremises.ipynb\" target=\"_parent\"><img src=\"https://colab.research.google.com/assets/colab-badge.svg\" alt=\"Open In Colab\"/></a>"
      ]
    },
    {
      "cell_type": "markdown",
      "metadata": {
        "id": "BJalepKEGcd3"
      },
      "source": [
        "# Problem: Predicting Airplane Delays\n",
        "\n",
        "The goals of this notebook are:\n",
        "- Process and create a dataset from downloaded ZIP files\n",
        "- Exploratory data analysis (EDA)\n",
        "- Establish a baseline model and improve it\n",
        "\n",
        "## Introduction to business scenario\n",
        "You work for a travel booking website that is working to improve the customer experience for flights that were delayed. The company wants to create a feature to let customers know if the flight will be delayed due to weather when the customers are booking the flight to or from the busiest airports for domestic travel in the US.\n",
        "\n",
        "You are tasked with solving part of this problem by leveraging machine learning to identify whether the flight will be delayed due to weather. You have been given access to the a dataset of on-time performance of domestic flights operated by large air carriers. You can use this data to train a machine learning model to predict if the flight is going to be delayed for the busiest airports.\n",
        "\n",
        "### Dataset\n",
        "The provided dataset contains scheduled and actual departure and arrival times reported by certified US air carriers that account for at least 1 percent of domestic scheduled passenger revenues. The data was collected by the Office of Airline Information, Bureau of Transportation Statistics (BTS). The dataset contains date, time, origin, destination, airline, distance, and delay status of flights for flights between 2014 and 2018.\n",
        "The data are in 60 compressed files, where each file contains a CSV for the flight details in a month for the five years (from 2014 - 2018). The data can be downloaded from this link: [https://ucstaff-my.sharepoint.com/:f:/g/personal/ibrahim_radwan_canberra_edu_au/Er0nVreXmihEmtMz5qC5kVIB81-ugSusExPYdcyQTglfLg?e=bNO312]. Please download the data files and place them on a relative path. Dataset(s) used in this assignment were compiled by the Office of Airline Information, Bureau of Transportation Statistics (BTS), Airline On-Time Performance Data, available with the following link: [https://www.transtats.bts.gov/Fields.asp?gnoyr_VQ=FGJ]."
      ]
    },
    {
      "cell_type": "markdown",
      "metadata": {
        "id": "koMaWxsYGcd8"
      },
      "source": [
        "# Step 1: Problem formulation and data collection\n",
        "\n",
        "Start this project off by writing a few sentences below that summarize the business problem and the business goal you're trying to achieve in this scenario. Include a business metric you would like your team to aspire toward. With that information defined, clearly write out the machine learning problem statement. Finally, add a comment or two about the type of machine learning this represents.\n",
        "\n",
        "\n",
        "### 1. Determine if and why ML is an appropriate solution to deploy."
      ]
    },
    {
      "cell_type": "markdown",
      "source": [
        "Machine Learning (ML) is an appropriate solution for this problem for several reasons:\n",
        "\n",
        "- **Volume of Data:** Given the extensive amount of flight data available from 2014 to 2018, traditional analytical methods would be insufficient and time-consuming. ML can handle and learn from large datasets more effectively.\n",
        "- **Pattern Recognition:** Flight delays might be influenced by various factors, some of which might have complex interrelationships. ML can identify intricate patterns in data that might not be evident or even comprehensible to humans.\n",
        "- **Predictive Analysis:** The primary goal is to predict flight delays, which is inherently a forward-looking task. ML is suited for predictive tasks as it can generalize from past data to make future predictions.\n",
        "- **Improvement Over Time:** As more data becomes available, ML models can be retrained and improved, ensuring that the prediction remains relevant and accurate."
      ],
      "metadata": {
        "id": "fXGWDqJZGcd9"
      }
    },
    {
      "cell_type": "markdown",
      "metadata": {
        "id": "GMOTTTvfGcd_"
      },
      "source": [
        "### 2. Formulate the business problem, success metrics, and desired ML output."
      ]
    },
    {
      "cell_type": "markdown",
      "source": [
        "**Business Problem:**\n",
        "The travel booking website aims to enhance the customer experience by alerting them about potential flight delays due to weather conditions. This predictive insight will allow customers to make more informed decisions when booking flights.\n",
        "\n",
        "**Success Metrics:**\n",
        "- **Accuracy:** The percentage of flights for which the delay status (delayed or not delayed) is predicted correctly.\n",
        "- **False Positive Rate:** The percentage of flights that are predicted to be delayed but are not. This metric is crucial because falsely alerting a customer about a delay can lead to dissatisfaction.\n",
        "- **Customer Satisfaction:** A qualitative metric that can be gauged through feedback or surveys after implementing the prediction feature.\n",
        "\n",
        "**Desired ML Output:**\n",
        "The ML model should output the probability of a flight being delayed. Based on a chosen threshold this can be classified as \"Delayed\" or \"Not Delayed\".\n"
      ],
      "metadata": {
        "id": "Dii7wCF-Gcd_"
      }
    },
    {
      "cell_type": "markdown",
      "metadata": {
        "id": "Uc1v2i5qGceA"
      },
      "source": [
        "### 3. Identify the type of ML problem you’re dealing with."
      ]
    },
    {
      "cell_type": "markdown",
      "source": [
        "\n",
        "This is a **binary classification** problem. The objective is to classify flights into one of two categories: \"Delayed\" or \"Not Delayed\" based on various features, primarily focusing on weather conditions.\n"
      ],
      "metadata": {
        "id": "TFSToKtsGceA"
      }
    },
    {
      "cell_type": "markdown",
      "metadata": {
        "id": "LQdRycyQGceB"
      },
      "source": [
        "### Setup\n",
        "\n",
        "Now that we have decided where to focus our energy, let's set things up so you can start working on solving the problem."
      ]
    },
    {
      "cell_type": "code",
      "execution_count": 1,
      "metadata": {
        "id": "0lS5_mSHGceB"
      },
      "outputs": [],
      "source": [
        "import os\n",
        "from pathlib import Path\n",
        "from zipfile import ZipFile\n",
        "import time\n",
        "\n",
        "import pandas as pd\n",
        "import numpy as np\n",
        "import subprocess\n",
        "\n",
        "import matplotlib.pyplot as plt\n",
        "import seaborn as sns\n",
        "\n",
        "sns.set()\n",
        "\n",
        "import warnings\n",
        "warnings.filterwarnings('ignore')\n",
        "\n",
        "%matplotlib inline\n",
        "\n",
        "# <please add any other library or function you are aiming to import here>\n"
      ]
    },
    {
      "cell_type": "markdown",
      "metadata": {
        "id": "7__trWS4GceC"
      },
      "source": [
        "# Step 2: Data preprocessing and visualization  \n",
        "In this data preprocessing phase, you should take the opportunity to explore and visualize your data to better understand it. First, import the necessary libraries and read the data into a Pandas dataframe. After that, explore your data. Look for the shape of the dataset and explore your columns and the types of columns you're working with (numerical, categorical). Consider performing basic statistics on the features to get a sense of feature means and ranges. Take a close look at your target column and determine its distribution.\n",
        "\n",
        "### Specific questions to consider\n",
        "1. What can you deduce from the basic statistics you ran on the features?\n",
        "\n",
        "2. What can you deduce from the distributions of the target classes?\n",
        "\n",
        "3. Is there anything else you deduced from exploring the data?"
      ]
    },
    {
      "cell_type": "markdown",
      "metadata": {
        "id": "3gwQGIuiGceC"
      },
      "source": [
        "Start by bringing in the dataset from an Amazon S3 public bucket to this notebook environment."
      ]
    },
    {
      "cell_type": "code",
      "source": [
        "#!pip install gdown\n",
        "import gdown\n",
        "\n",
        "url = 'https://drive.google.com/uc?id=1QIG122Pb-h1Z2AFt4M-QHzecIxtgfLEt'\n",
        "output = 'data.zip'\n",
        "gdown.download(url, output, quiet=False)\n",
        "!unzip data.zip\n"
      ],
      "metadata": {
        "colab": {
          "base_uri": "https://localhost:8080/"
        },
        "id": "j6wbR6sfI4mJ",
        "outputId": "8d5dc4fa-c6bb-4785-e71e-c76b282701b8"
      },
      "execution_count": 2,
      "outputs": [
        {
          "output_type": "stream",
          "name": "stderr",
          "text": [
            "Downloading...\n",
            "From: https://drive.google.com/uc?id=1QIG122Pb-h1Z2AFt4M-QHzecIxtgfLEt\n",
            "To: /content/data.zip\n",
            "100%|██████████| 1.53G/1.53G [00:18<00:00, 80.9MB/s]\n"
          ]
        },
        {
          "output_type": "stream",
          "name": "stdout",
          "text": [
            "Archive:  data.zip\n",
            " extracting: data_compressed/On_Time_Reporting_Carrier_On_Time_Performance_1987_present_2014_1.zip  \n",
            " extracting: data_compressed/On_Time_Reporting_Carrier_On_Time_Performance_1987_present_2014_10.zip  \n",
            " extracting: data_compressed/On_Time_Reporting_Carrier_On_Time_Performance_1987_present_2014_11.zip  \n",
            " extracting: data_compressed/On_Time_Reporting_Carrier_On_Time_Performance_1987_present_2014_12.zip  \n",
            " extracting: data_compressed/On_Time_Reporting_Carrier_On_Time_Performance_1987_present_2014_2.zip  \n",
            " extracting: data_compressed/On_Time_Reporting_Carrier_On_Time_Performance_1987_present_2014_3.zip  \n",
            " extracting: data_compressed/On_Time_Reporting_Carrier_On_Time_Performance_1987_present_2014_4.zip  \n",
            " extracting: data_compressed/On_Time_Reporting_Carrier_On_Time_Performance_1987_present_2014_5.zip  \n",
            " extracting: data_compressed/On_Time_Reporting_Carrier_On_Time_Performance_1987_present_2014_6.zip  \n",
            " extracting: data_compressed/On_Time_Reporting_Carrier_On_Time_Performance_1987_present_2014_7.zip  \n",
            " extracting: data_compressed/On_Time_Reporting_Carrier_On_Time_Performance_1987_present_2014_8.zip  \n",
            " extracting: data_compressed/On_Time_Reporting_Carrier_On_Time_Performance_1987_present_2014_9.zip  \n",
            " extracting: data_compressed/On_Time_Reporting_Carrier_On_Time_Performance_1987_present_2015_1.zip  \n",
            " extracting: data_compressed/On_Time_Reporting_Carrier_On_Time_Performance_1987_present_2015_10.zip  \n",
            " extracting: data_compressed/On_Time_Reporting_Carrier_On_Time_Performance_1987_present_2015_11.zip  \n",
            " extracting: data_compressed/On_Time_Reporting_Carrier_On_Time_Performance_1987_present_2015_12.zip  \n",
            " extracting: data_compressed/On_Time_Reporting_Carrier_On_Time_Performance_1987_present_2015_2.zip  \n",
            " extracting: data_compressed/On_Time_Reporting_Carrier_On_Time_Performance_1987_present_2015_3.zip  \n",
            " extracting: data_compressed/On_Time_Reporting_Carrier_On_Time_Performance_1987_present_2015_4.zip  \n",
            " extracting: data_compressed/On_Time_Reporting_Carrier_On_Time_Performance_1987_present_2015_5.zip  \n",
            " extracting: data_compressed/On_Time_Reporting_Carrier_On_Time_Performance_1987_present_2015_6.zip  \n",
            " extracting: data_compressed/On_Time_Reporting_Carrier_On_Time_Performance_1987_present_2015_7.zip  \n",
            " extracting: data_compressed/On_Time_Reporting_Carrier_On_Time_Performance_1987_present_2015_8.zip  \n",
            " extracting: data_compressed/On_Time_Reporting_Carrier_On_Time_Performance_1987_present_2015_9.zip  \n",
            " extracting: data_compressed/On_Time_Reporting_Carrier_On_Time_Performance_1987_present_2016_1.zip  \n",
            " extracting: data_compressed/On_Time_Reporting_Carrier_On_Time_Performance_1987_present_2016_10.zip  \n",
            " extracting: data_compressed/On_Time_Reporting_Carrier_On_Time_Performance_1987_present_2016_11.zip  \n",
            " extracting: data_compressed/On_Time_Reporting_Carrier_On_Time_Performance_1987_present_2016_12.zip  \n",
            " extracting: data_compressed/On_Time_Reporting_Carrier_On_Time_Performance_1987_present_2016_2.zip  \n",
            " extracting: data_compressed/On_Time_Reporting_Carrier_On_Time_Performance_1987_present_2016_3.zip  \n",
            " extracting: data_compressed/On_Time_Reporting_Carrier_On_Time_Performance_1987_present_2016_4.zip  \n",
            " extracting: data_compressed/On_Time_Reporting_Carrier_On_Time_Performance_1987_present_2016_5.zip  \n",
            " extracting: data_compressed/On_Time_Reporting_Carrier_On_Time_Performance_1987_present_2016_6.zip  \n",
            " extracting: data_compressed/On_Time_Reporting_Carrier_On_Time_Performance_1987_present_2016_7.zip  \n",
            " extracting: data_compressed/On_Time_Reporting_Carrier_On_Time_Performance_1987_present_2016_8.zip  \n",
            " extracting: data_compressed/On_Time_Reporting_Carrier_On_Time_Performance_1987_present_2016_9.zip  \n",
            " extracting: data_compressed/On_Time_Reporting_Carrier_On_Time_Performance_1987_present_2017_1.zip  \n",
            " extracting: data_compressed/On_Time_Reporting_Carrier_On_Time_Performance_1987_present_2017_10.zip  \n",
            " extracting: data_compressed/On_Time_Reporting_Carrier_On_Time_Performance_1987_present_2017_11.zip  \n",
            " extracting: data_compressed/On_Time_Reporting_Carrier_On_Time_Performance_1987_present_2017_12.zip  \n",
            " extracting: data_compressed/On_Time_Reporting_Carrier_On_Time_Performance_1987_present_2017_2.zip  \n",
            " extracting: data_compressed/On_Time_Reporting_Carrier_On_Time_Performance_1987_present_2017_3.zip  \n",
            " extracting: data_compressed/On_Time_Reporting_Carrier_On_Time_Performance_1987_present_2017_4.zip  \n",
            " extracting: data_compressed/On_Time_Reporting_Carrier_On_Time_Performance_1987_present_2017_5.zip  \n",
            " extracting: data_compressed/On_Time_Reporting_Carrier_On_Time_Performance_1987_present_2017_6.zip  \n",
            " extracting: data_compressed/On_Time_Reporting_Carrier_On_Time_Performance_1987_present_2017_7.zip  \n",
            " extracting: data_compressed/On_Time_Reporting_Carrier_On_Time_Performance_1987_present_2017_8.zip  \n",
            " extracting: data_compressed/On_Time_Reporting_Carrier_On_Time_Performance_1987_present_2017_9.zip  \n",
            " extracting: data_compressed/On_Time_Reporting_Carrier_On_Time_Performance_1987_present_2018_1.zip  \n",
            " extracting: data_compressed/On_Time_Reporting_Carrier_On_Time_Performance_1987_present_2018_10.zip  \n",
            " extracting: data_compressed/On_Time_Reporting_Carrier_On_Time_Performance_1987_present_2018_11.zip  \n",
            " extracting: data_compressed/On_Time_Reporting_Carrier_On_Time_Performance_1987_present_2018_12.zip  \n",
            " extracting: data_compressed/On_Time_Reporting_Carrier_On_Time_Performance_1987_present_2018_2.zip  \n",
            " extracting: data_compressed/On_Time_Reporting_Carrier_On_Time_Performance_1987_present_2018_3.zip  \n",
            " extracting: data_compressed/On_Time_Reporting_Carrier_On_Time_Performance_1987_present_2018_4.zip  \n",
            " extracting: data_compressed/On_Time_Reporting_Carrier_On_Time_Performance_1987_present_2018_5.zip  \n",
            " extracting: data_compressed/On_Time_Reporting_Carrier_On_Time_Performance_1987_present_2018_6.zip  \n",
            " extracting: data_compressed/On_Time_Reporting_Carrier_On_Time_Performance_1987_present_2018_7.zip  \n",
            " extracting: data_compressed/On_Time_Reporting_Carrier_On_Time_Performance_1987_present_2018_8.zip  \n",
            " extracting: data_compressed/On_Time_Reporting_Carrier_On_Time_Performance_1987_present_2018_9.zip  \n"
          ]
        }
      ]
    },
    {
      "cell_type": "code",
      "execution_count": 3,
      "metadata": {
        "id": "R9_6Q0fQGceC"
      },
      "outputs": [],
      "source": [
        "# download the files\n",
        "\n",
        "# <note: make them all relative, absolute path is not accepted>\n",
        "zip_path = 'data_compressed'\n",
        "base_path = ''\n",
        "csv_base_path = 'csv_base_path'\n",
        "\n",
        "!mkdir -p {csv_base_path}"
      ]
    },
    {
      "cell_type": "code",
      "execution_count": 4,
      "metadata": {
        "colab": {
          "base_uri": "https://localhost:8080/"
        },
        "id": "G9LYnoH7GceD",
        "outputId": "572b258c-45e5-4e97-9732-d280bdd8d5b2"
      },
      "outputs": [
        {
          "output_type": "execute_result",
          "data": {
            "text/plain": [
              "60"
            ]
          },
          "metadata": {},
          "execution_count": 4
        }
      ],
      "source": [
        "# How many zip files do we have? write a code to answer it.\n",
        "import os\n",
        "\n",
        "# List all files in the specified directory\n",
        "all_files = os.listdir(zip_path)\n",
        "\n",
        "# Filter the list to only include files with a .zip extension\n",
        "zip_files = [file for file in all_files if file.endswith('.zip')]\n",
        "\n",
        "# Count the number of ZIP files\n",
        "num_zip_files = len(zip_files)\n",
        "\n",
        "num_zip_files\n"
      ]
    },
    {
      "cell_type": "markdown",
      "metadata": {
        "id": "cXFe31L9GceD"
      },
      "source": [
        "#### Extract CSV files from ZIP files"
      ]
    },
    {
      "cell_type": "code",
      "execution_count": 5,
      "metadata": {
        "scrolled": true,
        "colab": {
          "base_uri": "https://localhost:8080/"
        },
        "id": "e5L8SufGGceD",
        "outputId": "ed0d1fc7-2e18-4427-9c36-de9bcd807470"
      },
      "outputs": [
        {
          "output_type": "stream",
          "name": "stdout",
          "text": [
            "Extracting On_Time_Reporting_Carrier_On_Time_Performance_1987_present_2016_10.zip ...\n",
            "Extracting On_Time_Reporting_Carrier_On_Time_Performance_1987_present_2015_7.zip ...\n",
            "Extracting On_Time_Reporting_Carrier_On_Time_Performance_1987_present_2014_7.zip ...\n",
            "Extracting On_Time_Reporting_Carrier_On_Time_Performance_1987_present_2016_8.zip ...\n",
            "Extracting On_Time_Reporting_Carrier_On_Time_Performance_1987_present_2017_4.zip ...\n",
            "Extracting On_Time_Reporting_Carrier_On_Time_Performance_1987_present_2015_1.zip ...\n",
            "Extracting On_Time_Reporting_Carrier_On_Time_Performance_1987_present_2017_9.zip ...\n",
            "Extracting On_Time_Reporting_Carrier_On_Time_Performance_1987_present_2016_9.zip ...\n",
            "Extracting On_Time_Reporting_Carrier_On_Time_Performance_1987_present_2015_6.zip ...\n",
            "Extracting On_Time_Reporting_Carrier_On_Time_Performance_1987_present_2018_8.zip ...\n",
            "Extracting On_Time_Reporting_Carrier_On_Time_Performance_1987_present_2017_7.zip ...\n",
            "Extracting On_Time_Reporting_Carrier_On_Time_Performance_1987_present_2014_5.zip ...\n",
            "Extracting On_Time_Reporting_Carrier_On_Time_Performance_1987_present_2014_4.zip ...\n",
            "Extracting On_Time_Reporting_Carrier_On_Time_Performance_1987_present_2016_7.zip ...\n",
            "Extracting On_Time_Reporting_Carrier_On_Time_Performance_1987_present_2018_3.zip ...\n",
            "Extracting On_Time_Reporting_Carrier_On_Time_Performance_1987_present_2014_11.zip ...\n",
            "Extracting On_Time_Reporting_Carrier_On_Time_Performance_1987_present_2016_11.zip ...\n",
            "Extracting On_Time_Reporting_Carrier_On_Time_Performance_1987_present_2015_3.zip ...\n",
            "Extracting On_Time_Reporting_Carrier_On_Time_Performance_1987_present_2016_1.zip ...\n",
            "Extracting On_Time_Reporting_Carrier_On_Time_Performance_1987_present_2015_10.zip ...\n",
            "Extracting On_Time_Reporting_Carrier_On_Time_Performance_1987_present_2017_2.zip ...\n",
            "Extracting On_Time_Reporting_Carrier_On_Time_Performance_1987_present_2018_2.zip ...\n",
            "Extracting On_Time_Reporting_Carrier_On_Time_Performance_1987_present_2017_8.zip ...\n",
            "Extracting On_Time_Reporting_Carrier_On_Time_Performance_1987_present_2015_5.zip ...\n",
            "Extracting On_Time_Reporting_Carrier_On_Time_Performance_1987_present_2018_12.zip ...\n",
            "Extracting On_Time_Reporting_Carrier_On_Time_Performance_1987_present_2016_6.zip ...\n",
            "Extracting On_Time_Reporting_Carrier_On_Time_Performance_1987_present_2017_3.zip ...\n",
            "Extracting On_Time_Reporting_Carrier_On_Time_Performance_1987_present_2016_2.zip ...\n",
            "Extracting On_Time_Reporting_Carrier_On_Time_Performance_1987_present_2017_10.zip ...\n",
            "Extracting On_Time_Reporting_Carrier_On_Time_Performance_1987_present_2017_11.zip ...\n",
            "Extracting On_Time_Reporting_Carrier_On_Time_Performance_1987_present_2015_8.zip ...\n",
            "Extracting On_Time_Reporting_Carrier_On_Time_Performance_1987_present_2017_6.zip ...\n",
            "Extracting On_Time_Reporting_Carrier_On_Time_Performance_1987_present_2018_5.zip ...\n",
            "Extracting On_Time_Reporting_Carrier_On_Time_Performance_1987_present_2018_9.zip ...\n",
            "Extracting On_Time_Reporting_Carrier_On_Time_Performance_1987_present_2014_2.zip ...\n",
            "Extracting On_Time_Reporting_Carrier_On_Time_Performance_1987_present_2015_11.zip ...\n",
            "Extracting On_Time_Reporting_Carrier_On_Time_Performance_1987_present_2014_1.zip ...\n",
            "Extracting On_Time_Reporting_Carrier_On_Time_Performance_1987_present_2014_8.zip ...\n",
            "Extracting On_Time_Reporting_Carrier_On_Time_Performance_1987_present_2016_4.zip ...\n",
            "Extracting On_Time_Reporting_Carrier_On_Time_Performance_1987_present_2018_1.zip ...\n",
            "Extracting On_Time_Reporting_Carrier_On_Time_Performance_1987_present_2014_6.zip ...\n",
            "Extracting On_Time_Reporting_Carrier_On_Time_Performance_1987_present_2018_4.zip ...\n",
            "Extracting On_Time_Reporting_Carrier_On_Time_Performance_1987_present_2015_2.zip ...\n",
            "Extracting On_Time_Reporting_Carrier_On_Time_Performance_1987_present_2014_12.zip ...\n",
            "Extracting On_Time_Reporting_Carrier_On_Time_Performance_1987_present_2017_5.zip ...\n",
            "Extracting On_Time_Reporting_Carrier_On_Time_Performance_1987_present_2015_9.zip ...\n",
            "Extracting On_Time_Reporting_Carrier_On_Time_Performance_1987_present_2018_7.zip ...\n",
            "Extracting On_Time_Reporting_Carrier_On_Time_Performance_1987_present_2014_9.zip ...\n",
            "Extracting On_Time_Reporting_Carrier_On_Time_Performance_1987_present_2014_3.zip ...\n",
            "Extracting On_Time_Reporting_Carrier_On_Time_Performance_1987_present_2018_10.zip ...\n",
            "Extracting On_Time_Reporting_Carrier_On_Time_Performance_1987_present_2016_5.zip ...\n",
            "Extracting On_Time_Reporting_Carrier_On_Time_Performance_1987_present_2016_12.zip ...\n",
            "Extracting On_Time_Reporting_Carrier_On_Time_Performance_1987_present_2017_12.zip ...\n",
            "Extracting On_Time_Reporting_Carrier_On_Time_Performance_1987_present_2015_12.zip ...\n",
            "Extracting On_Time_Reporting_Carrier_On_Time_Performance_1987_present_2018_11.zip ...\n",
            "Extracting On_Time_Reporting_Carrier_On_Time_Performance_1987_present_2018_6.zip ...\n",
            "Extracting On_Time_Reporting_Carrier_On_Time_Performance_1987_present_2015_4.zip ...\n",
            "Extracting On_Time_Reporting_Carrier_On_Time_Performance_1987_present_2014_10.zip ...\n",
            "Extracting On_Time_Reporting_Carrier_On_Time_Performance_1987_present_2016_3.zip ...\n",
            "Extracting On_Time_Reporting_Carrier_On_Time_Performance_1987_present_2017_1.zip ...\n",
            "Files Extracted\n"
          ]
        }
      ],
      "source": [
        "from zipfile import ZipFile\n",
        "\n",
        "def zip2csv(zipFile_name, file_path, base_path):\n",
        "    \"\"\"\n",
        "    Extract csv from zip files\n",
        "    zipFile_name: name of the zip file\n",
        "    file_path : name of the folder to store csv\n",
        "    base_path : path where the zip files are stored\n",
        "    \"\"\"\n",
        "    full_zip_path = os.path.join(base_path, zipFile_name)\n",
        "\n",
        "    try:\n",
        "        with ZipFile(full_zip_path, 'r') as z:\n",
        "            print(f'Extracting {zipFile_name} ...')\n",
        "            z.extractall(path=file_path)\n",
        "    except:\n",
        "        print(f'zip2csv failed for {zipFile_name}')\n",
        "\n",
        "# Ensure the zip_files list is populated\n",
        "all_files = os.listdir(zip_path)\n",
        "zip_files = [file for file in all_files if file.endswith('.zip')]\n",
        "\n",
        "for file in zip_files:\n",
        "    zip2csv(file, csv_base_path, zip_path)\n",
        "\n",
        "print(\"Files Extracted\")\n",
        "\n"
      ]
    },
    {
      "cell_type": "code",
      "execution_count": 6,
      "metadata": {
        "colab": {
          "base_uri": "https://localhost:8080/"
        },
        "id": "Y7GLcVKbGceE",
        "outputId": "6f55630b-699b-434e-8754-d950cb82a101"
      },
      "outputs": [
        {
          "output_type": "execute_result",
          "data": {
            "text/plain": [
              "60"
            ]
          },
          "metadata": {},
          "execution_count": 6
        }
      ],
      "source": [
        "# How many csv files have we extracted? write a code to answer it.\n",
        "# List all files in the specified directory\n",
        "all_csv_files = os.listdir(csv_base_path)\n",
        "\n",
        "# Filter the list to only include files with a .csv extension\n",
        "csv_files = [file for file in all_csv_files if file.endswith('.csv')]\n",
        "\n",
        "# Count the number of CSV files\n",
        "num_csv_files = len(csv_files)\n",
        "\n",
        "num_csv_files\n"
      ]
    },
    {
      "cell_type": "markdown",
      "metadata": {
        "id": "CvyYlF7yGceE"
      },
      "source": [
        "Before loading the CSV file, read the HTML file from the extracted folder. This HTML file includes the background and more information on the features included in the dataset."
      ]
    },
    {
      "cell_type": "code",
      "execution_count": 7,
      "metadata": {
        "colab": {
          "base_uri": "https://localhost:8080/",
          "height": 1000
        },
        "id": "4fBlQ0OaGceE",
        "outputId": "22c808d7-afc8-40a1-c604-30c363410e0a"
      },
      "outputs": [
        {
          "output_type": "display_data",
          "data": {
            "text/plain": [
              "<IPython.core.display.HTML object>"
            ],
            "text/html": [
              "<HTML>\n",
              "<HEAD>\n",
              "\t<TITLE> readme.html </TITLE>\n",
              "</HEAD>\n",
              "<BODY>\n",
              "\t<TABLE><TR><TD COLSPAN=2><H4>BACKGROUND</H4></TD></TR>\n",
              "\t<TR><TD COLSPAN=2>The data contained in the compressed file has been extracted from the \n",
              "\tReporting Carrier On-Time Performance (1987-present) data table of the \"On-Time\" database from the TranStats data library. \n",
              "\tThe time period is indicated in the name of the compressed file; \n",
              "\tfor example, XXX_XXXXX_2001_1 contains data of the first month of the year 2001. </TD></TR>\n",
              "\t<TR><TD COLSPAN=2>&nbsp;</TD></TR>\n",
              "\t<TR><TD COLSPAN=2><H4>RECORD LAYOUT</H4></TD></TR>\n",
              "\t<TR><TD COLSPAN=2>Below are fields in the order that they appear on the records:</TD></TR>\n",
              "\t<TR><TD>Year</TD><TD>Year</TD></TR>\n",
              "\t<TR><TD>Quarter</TD><TD>Quarter (1-4)</TD></TR>\n",
              "\t<TR><TD>Month</TD><TD>Month</TD></TR>\n",
              "\t<TR><TD>DayofMonth</TD><TD>Day of Month</TD></TR>\n",
              "\t<TR><TD>DayOfWeek</TD><TD>Day of Week</TD></TR>\n",
              "\t<TR><TD>FlightDate</TD><TD>Flight Date (yyyymmdd)</TD></TR>\n",
              "\t<TR><TD>Reporting_Airline</TD><TD>Unique Carrier Code. When the same code has been used by multiple carriers, a numeric suffix is used for earlier users, for example, PA, PA(1), PA(2). Use this field for analysis across a range of years.</TD></TR>\n",
              "\t<TR><TD>DOT_ID_Reporting_Airline</TD><TD>An identification number assigned by US DOT to identify a unique airline (carrier). A unique airline (carrier) is defined as one holding and reporting under the same DOT certificate regardless of its Code, Name, or holding company/corporation.</TD></TR>\n",
              "\t<TR><TD>IATA_CODE_Reporting_Airline</TD><TD>Code assigned by IATA and commonly used to identify a carrier. As the same code may have been assigned to different carriers over time, the code is not always unique. For analysis, use the Unique Carrier Code.</TD></TR>\n",
              "\t<TR><TD>Tail_Number</TD><TD>Tail Number</TD></TR>\n",
              "\t<TR><TD>Flight_Number_Reporting_Airline</TD><TD>Flight Number</TD></TR>\n",
              "\t<TR><TD>OriginAirportID</TD><TD>Origin Airport, Airport ID. An identification number assigned by US DOT to identify a unique airport.  Use this field for airport analysis across a range of years because an airport can change its airport code and airport codes can be reused.</TD></TR>\n",
              "\t<TR><TD>OriginAirportSeqID</TD><TD>Origin Airport, Airport Sequence ID. An identification number assigned by US DOT to identify a unique airport at a given point of time.  Airport attributes, such as airport name or coordinates, may change over time.</TD></TR>\n",
              "\t<TR><TD>OriginCityMarketID</TD><TD>Origin Airport, City Market ID. City Market ID is an identification number assigned by US DOT to identify a city market.  Use this field to consolidate airports serving the same city market.</TD></TR>\n",
              "\t<TR><TD>Origin</TD><TD>Origin Airport</TD></TR>\n",
              "\t<TR><TD>OriginCityName</TD><TD>Origin Airport, City Name</TD></TR>\n",
              "\t<TR><TD>OriginState</TD><TD>Origin Airport, State Code</TD></TR>\n",
              "\t<TR><TD>OriginStateFips</TD><TD>Origin Airport, State Fips</TD></TR>\n",
              "\t<TR><TD>OriginStateName</TD><TD>Origin Airport, State Name</TD></TR>\n",
              "\t<TR><TD>OriginWac</TD><TD>Origin Airport, World Area Code</TD></TR>\n",
              "\t<TR><TD>DestAirportID</TD><TD>Destination Airport, Airport ID. An identification number assigned by US DOT to identify a unique airport.  Use this field for airport analysis across a range of years because an airport can change its airport code and airport codes can be reused.</TD></TR>\n",
              "\t<TR><TD>DestAirportSeqID</TD><TD>Destination Airport, Airport Sequence ID. An identification number assigned by US DOT to identify a unique airport at a given point of time.  Airport attributes, such as airport name or coordinates, may change over time.</TD></TR>\n",
              "\t<TR><TD>DestCityMarketID</TD><TD>Destination Airport, City Market ID. City Market ID is an identification number assigned by US DOT to identify a city market.  Use this field to consolidate airports serving the same city market.</TD></TR>\n",
              "\t<TR><TD>Dest</TD><TD>Destination Airport</TD></TR>\n",
              "\t<TR><TD>DestCityName</TD><TD>Destination Airport, City Name</TD></TR>\n",
              "\t<TR><TD>DestState</TD><TD>Destination Airport, State Code</TD></TR>\n",
              "\t<TR><TD>DestStateFips</TD><TD>Destination Airport, State Fips</TD></TR>\n",
              "\t<TR><TD>DestStateName</TD><TD>Destination Airport, State Name</TD></TR>\n",
              "\t<TR><TD>DestWac</TD><TD>Destination Airport, World Area Code</TD></TR>\n",
              "\t<TR><TD>CRSDepTime</TD><TD>CRS Departure Time (local time: hhmm)</TD></TR>\n",
              "\t<TR><TD>DepTime</TD><TD>Actual Departure Time (local time: hhmm)</TD></TR>\n",
              "\t<TR><TD>DepDelay</TD><TD>Difference in minutes between scheduled and actual departure time. Early departures show negative numbers.</TD></TR>\n",
              "\t<TR><TD>DepDelayMinutes</TD><TD>Difference in minutes between scheduled and actual departure time. Early departures set to 0.</TD></TR>\n",
              "\t<TR><TD>DepDel15</TD><TD>Departure Delay Indicator, 15 Minutes or More (1=Yes)</TD></TR>\n",
              "\t<TR><TD>DepartureDelayGroups</TD><TD>Departure Delay intervals, every (15 minutes from <-15 to >180)</TD></TR>\n",
              "\t<TR><TD>DepTimeBlk</TD><TD>CRS Departure Time Block, Hourly Intervals</TD></TR>\n",
              "\t<TR><TD>TaxiOut</TD><TD>Taxi Out Time, in Minutes</TD></TR>\n",
              "\t<TR><TD>WheelsOff</TD><TD>Wheels Off Time (local time: hhmm)</TD></TR>\n",
              "\t<TR><TD>WheelsOn</TD><TD>Wheels On Time (local time: hhmm)</TD></TR>\n",
              "\t<TR><TD>TaxiIn</TD><TD>Taxi In Time, in Minutes</TD></TR>\n",
              "\t<TR><TD>CRSArrTime</TD><TD>CRS Arrival Time (local time: hhmm)</TD></TR>\n",
              "\t<TR><TD>ArrTime</TD><TD>Actual Arrival Time (local time: hhmm)</TD></TR>\n",
              "\t<TR><TD>ArrDelay</TD><TD>Difference in minutes between scheduled and actual arrival time. Early arrivals show negative numbers.</TD></TR>\n",
              "\t<TR><TD>ArrDelayMinutes</TD><TD>Difference in minutes between scheduled and actual arrival time. Early arrivals set to 0.</TD></TR>\n",
              "\t<TR><TD>ArrDel15</TD><TD>Arrival Delay Indicator, 15 Minutes or More (1=Yes)</TD></TR>\n",
              "\t<TR><TD>ArrivalDelayGroups</TD><TD>Arrival Delay intervals, every (15-minutes from <-15 to >180)</TD></TR>\n",
              "\t<TR><TD>ArrTimeBlk</TD><TD>CRS Arrival Time Block, Hourly Intervals</TD></TR>\n",
              "\t<TR><TD>Cancelled</TD><TD>Cancelled Flight Indicator (1=Yes)</TD></TR>\n",
              "\t<TR><TD>CancellationCode</TD><TD>Specifies The Reason For Cancellation</TD></TR>\n",
              "\t<TR><TD>Diverted</TD><TD>Diverted Flight Indicator (1=Yes)</TD></TR>\n",
              "\t<TR><TD>CRSElapsedTime</TD><TD>CRS Elapsed Time of Flight, in Minutes</TD></TR>\n",
              "\t<TR><TD>ActualElapsedTime</TD><TD>Elapsed Time of Flight, in Minutes</TD></TR>\n",
              "\t<TR><TD>AirTime</TD><TD>Flight Time, in Minutes</TD></TR>\n",
              "\t<TR><TD>Flights</TD><TD>Number of Flights</TD></TR>\n",
              "\t<TR><TD>Distance</TD><TD>Distance between airports (miles)</TD></TR>\n",
              "\t<TR><TD>DistanceGroup</TD><TD>Distance Intervals, every 250 Miles, for Flight Segment</TD></TR>\n",
              "\t<TR><TD>CarrierDelay</TD><TD>Carrier Delay, in Minutes</TD></TR>\n",
              "\t<TR><TD>WeatherDelay</TD><TD>Weather Delay, in Minutes</TD></TR>\n",
              "\t<TR><TD>NASDelay</TD><TD>National Air System Delay, in Minutes</TD></TR>\n",
              "\t<TR><TD>SecurityDelay</TD><TD>Security Delay, in Minutes</TD></TR>\n",
              "\t<TR><TD>LateAircraftDelay</TD><TD>Late Aircraft Delay, in Minutes</TD></TR>\n",
              "\t<TR><TD>FirstDepTime</TD><TD>First Gate Departure Time at Origin Airport</TD></TR>\n",
              "\t<TR><TD>TotalAddGTime</TD><TD>Total Ground Time Away from Gate for Gate Return or Cancelled Flight</TD></TR>\n",
              "\t<TR><TD>LongestAddGTime</TD><TD>Longest Time Away from Gate for Gate Return or Cancelled Flight</TD></TR>\n",
              "\t<TR><TD>DivAirportLandings</TD><TD>Number of Diverted Airport Landings</TD></TR>\n",
              "\t<TR><TD>DivReachedDest</TD><TD>Diverted Flight Reaching Scheduled Destination Indicator (1=Yes)</TD></TR>\n",
              "\t<TR><TD>DivActualElapsedTime</TD><TD>Elapsed Time of Diverted Flight Reaching Scheduled Destination, in Minutes.  The ActualElapsedTime column remains NULL for all diverted flights.</TD></TR>\n",
              "\t<TR><TD>DivArrDelay</TD><TD>Difference in minutes between scheduled and actual arrival time for a diverted flight reaching scheduled destination.  The ArrDelay column remains NULL for all diverted flights.</TD></TR>\n",
              "\t<TR><TD>DivDistance</TD><TD>Distance between scheduled destination and final diverted airport (miles).  Value will be 0 for diverted flight reaching scheduled destination.</TD></TR>\n",
              "\t<TR><TD>Div1Airport</TD><TD>Diverted Airport Code1</TD></TR>\n",
              "\t<TR><TD>Div1AirportID</TD><TD>Airport ID of Diverted Airport 1. Airport ID is a Unique Key for an Airport</TD></TR>\n",
              "\t<TR><TD>Div1AirportSeqID</TD><TD>Airport Sequence ID of Diverted Airport 1. Unique Key for Time Specific Information for an Airport</TD></TR>\n",
              "\t<TR><TD>Div1WheelsOn</TD><TD>Wheels On Time (local time: hhmm) at Diverted Airport Code1</TD></TR>\n",
              "\t<TR><TD>Div1TotalGTime</TD><TD>Total Ground Time Away from Gate at Diverted Airport Code1</TD></TR>\n",
              "\t<TR><TD>Div1LongestGTime</TD><TD>Longest Ground Time Away from Gate at Diverted Airport Code1</TD></TR>\n",
              "\t<TR><TD>Div1WheelsOff</TD><TD>Wheels Off Time (local time: hhmm) at Diverted Airport Code1</TD></TR>\n",
              "\t<TR><TD>Div1TailNum</TD><TD>Aircraft Tail Number for Diverted Airport Code1</TD></TR>\n",
              "\t<TR><TD>Div2Airport</TD><TD>Diverted Airport Code2</TD></TR>\n",
              "\t<TR><TD>Div2AirportID</TD><TD>Airport ID of Diverted Airport 2. Airport ID is a Unique Key for an Airport</TD></TR>\n",
              "\t<TR><TD>Div2AirportSeqID</TD><TD>Airport Sequence ID of Diverted Airport 2. Unique Key for Time Specific Information for an Airport</TD></TR>\n",
              "\t<TR><TD>Div2WheelsOn</TD><TD>Wheels On Time (local time: hhmm) at Diverted Airport Code2</TD></TR>\n",
              "\t<TR><TD>Div2TotalGTime</TD><TD>Total Ground Time Away from Gate at Diverted Airport Code2</TD></TR>\n",
              "\t<TR><TD>Div2LongestGTime</TD><TD>Longest Ground Time Away from Gate at Diverted Airport Code2</TD></TR>\n",
              "\t<TR><TD>Div2WheelsOff</TD><TD>Wheels Off Time (local time: hhmm) at Diverted Airport Code2</TD></TR>\n",
              "\t<TR><TD>Div2TailNum</TD><TD>Aircraft Tail Number for Diverted Airport Code2</TD></TR>\n",
              "\t<TR><TD>Div3Airport</TD><TD>Diverted Airport Code3</TD></TR>\n",
              "\t<TR><TD>Div3AirportID</TD><TD>Airport ID of Diverted Airport 3. Airport ID is a Unique Key for an Airport</TD></TR>\n",
              "\t<TR><TD>Div3AirportSeqID</TD><TD>Airport Sequence ID of Diverted Airport 3. Unique Key for Time Specific Information for an Airport</TD></TR>\n",
              "\t<TR><TD>Div3WheelsOn</TD><TD>Wheels On Time (local time: hhmm) at Diverted Airport Code3</TD></TR>\n",
              "\t<TR><TD>Div3TotalGTime</TD><TD>Total Ground Time Away from Gate at Diverted Airport Code3</TD></TR>\n",
              "\t<TR><TD>Div3LongestGTime</TD><TD>Longest Ground Time Away from Gate at Diverted Airport Code3</TD></TR>\n",
              "\t<TR><TD>Div3WheelsOff</TD><TD>Wheels Off Time (local time: hhmm) at Diverted Airport Code3</TD></TR>\n",
              "\t<TR><TD>Div3TailNum</TD><TD>Aircraft Tail Number for Diverted Airport Code3</TD></TR>\n",
              "\t<TR><TD>Div4Airport</TD><TD>Diverted Airport Code4</TD></TR>\n",
              "\t<TR><TD>Div4AirportID</TD><TD>Airport ID of Diverted Airport 4. Airport ID is a Unique Key for an Airport</TD></TR>\n",
              "\t<TR><TD>Div4AirportSeqID</TD><TD>Airport Sequence ID of Diverted Airport 4. Unique Key for Time Specific Information for an Airport</TD></TR>\n",
              "\t<TR><TD>Div4WheelsOn</TD><TD>Wheels On Time (local time: hhmm) at Diverted Airport Code4</TD></TR>\n",
              "\t<TR><TD>Div4TotalGTime</TD><TD>Total Ground Time Away from Gate at Diverted Airport Code4</TD></TR>\n",
              "\t<TR><TD>Div4LongestGTime</TD><TD>Longest Ground Time Away from Gate at Diverted Airport Code4</TD></TR>\n",
              "\t<TR><TD>Div4WheelsOff</TD><TD>Wheels Off Time (local time: hhmm) at Diverted Airport Code4</TD></TR>\n",
              "\t<TR><TD>Div4TailNum</TD><TD>Aircraft Tail Number for Diverted Airport Code4</TD></TR>\n",
              "\t<TR><TD>Div5Airport</TD><TD>Diverted Airport Code5</TD></TR>\n",
              "\t<TR><TD>Div5AirportID</TD><TD>Airport ID of Diverted Airport 5. Airport ID is a Unique Key for an Airport</TD></TR>\n",
              "\t<TR><TD>Div5AirportSeqID</TD><TD>Airport Sequence ID of Diverted Airport 5. Unique Key for Time Specific Information for an Airport</TD></TR>\n",
              "\t<TR><TD>Div5WheelsOn</TD><TD>Wheels On Time (local time: hhmm) at Diverted Airport Code5</TD></TR>\n",
              "\t<TR><TD>Div5TotalGTime</TD><TD>Total Ground Time Away from Gate at Diverted Airport Code5</TD></TR>\n",
              "\t<TR><TD>Div5LongestGTime</TD><TD>Longest Ground Time Away from Gate at Diverted Airport Code5</TD></TR>\n",
              "\t<TR><TD>Div5WheelsOff</TD><TD>Wheels Off Time (local time: hhmm) at Diverted Airport Code5</TD></TR>\n",
              "\t<TR><TD>Div5TailNum</TD><TD>Aircraft Tail Number for Diverted Airport Code5</TD></TR>\n",
              "\t</TABLE>\n",
              "</BODY>\n",
              "</HTML>\n"
            ]
          },
          "metadata": {}
        }
      ],
      "source": [
        "#from IPython.display import IFrame\n",
        "#IFrame(src=os.path.relpath(f\"{csv_base_path}readme.html\"), width=1000, height=600)\n",
        "\n",
        "from IPython.core.display import display, HTML\n",
        "\n",
        "# Read the content of the HTML file\n",
        "with open(f\"{csv_base_path}/readme.html\", 'r') as file:\n",
        "    content = file.read()\n",
        "\n",
        "# Display the HTML content in the notebook\n",
        "display(HTML(content))\n"
      ]
    },
    {
      "cell_type": "markdown",
      "metadata": {
        "id": "RQjtKX97GceE"
      },
      "source": [
        "#### Load sample CSV\n",
        "\n",
        "Before combining all the CSV files, get a sense of the data from a single CSV file. Using Pandas, read the `On_Time_Reporting_Carrier_On_Time_Performance_(1987_present)_2018_9.csv` file first. You can use the Python built-in `read_csv` function ([documentation](https://pandas.pydata.org/pandas-docs/stable/reference/api/pandas.read_csv.html))."
      ]
    },
    {
      "cell_type": "code",
      "execution_count": 8,
      "metadata": {
        "colab": {
          "base_uri": "https://localhost:8080/",
          "height": 273
        },
        "id": "jTVeRh2PGceE",
        "outputId": "fd8a5140-401c-4162-9169-e5e0b1c5c021"
      },
      "outputs": [
        {
          "output_type": "execute_result",
          "data": {
            "text/plain": [
              "   Year  Quarter  Month  DayofMonth  DayOfWeek  FlightDate Reporting_Airline  \\\n",
              "0  2018        3      9           3          1  2018-09-03                9E   \n",
              "1  2018        3      9           9          7  2018-09-09                9E   \n",
              "2  2018        3      9          10          1  2018-09-10                9E   \n",
              "3  2018        3      9          13          4  2018-09-13                9E   \n",
              "4  2018        3      9          14          5  2018-09-14                9E   \n",
              "\n",
              "   DOT_ID_Reporting_Airline IATA_CODE_Reporting_Airline Tail_Number  ...  \\\n",
              "0                     20363                          9E      N908XJ  ...   \n",
              "1                     20363                          9E      N315PQ  ...   \n",
              "2                     20363                          9E      N582CA  ...   \n",
              "3                     20363                          9E      N292PQ  ...   \n",
              "4                     20363                          9E      N600LR  ...   \n",
              "\n",
              "   Div4TailNum  Div5Airport  Div5AirportID  Div5AirportSeqID Div5WheelsOn  \\\n",
              "0          NaN          NaN            NaN               NaN          NaN   \n",
              "1          NaN          NaN            NaN               NaN          NaN   \n",
              "2          NaN          NaN            NaN               NaN          NaN   \n",
              "3          NaN          NaN            NaN               NaN          NaN   \n",
              "4          NaN          NaN            NaN               NaN          NaN   \n",
              "\n",
              "  Div5TotalGTime Div5LongestGTime  Div5WheelsOff Div5TailNum  Unnamed: 109  \n",
              "0            NaN              NaN            NaN         NaN           NaN  \n",
              "1            NaN              NaN            NaN         NaN           NaN  \n",
              "2            NaN              NaN            NaN         NaN           NaN  \n",
              "3            NaN              NaN            NaN         NaN           NaN  \n",
              "4            NaN              NaN            NaN         NaN           NaN  \n",
              "\n",
              "[5 rows x 110 columns]"
            ],
            "text/html": [
              "\n",
              "  <div id=\"df-e874c7a6-2e10-4534-93fa-3344633b414f\" class=\"colab-df-container\">\n",
              "    <div>\n",
              "<style scoped>\n",
              "    .dataframe tbody tr th:only-of-type {\n",
              "        vertical-align: middle;\n",
              "    }\n",
              "\n",
              "    .dataframe tbody tr th {\n",
              "        vertical-align: top;\n",
              "    }\n",
              "\n",
              "    .dataframe thead th {\n",
              "        text-align: right;\n",
              "    }\n",
              "</style>\n",
              "<table border=\"1\" class=\"dataframe\">\n",
              "  <thead>\n",
              "    <tr style=\"text-align: right;\">\n",
              "      <th></th>\n",
              "      <th>Year</th>\n",
              "      <th>Quarter</th>\n",
              "      <th>Month</th>\n",
              "      <th>DayofMonth</th>\n",
              "      <th>DayOfWeek</th>\n",
              "      <th>FlightDate</th>\n",
              "      <th>Reporting_Airline</th>\n",
              "      <th>DOT_ID_Reporting_Airline</th>\n",
              "      <th>IATA_CODE_Reporting_Airline</th>\n",
              "      <th>Tail_Number</th>\n",
              "      <th>...</th>\n",
              "      <th>Div4TailNum</th>\n",
              "      <th>Div5Airport</th>\n",
              "      <th>Div5AirportID</th>\n",
              "      <th>Div5AirportSeqID</th>\n",
              "      <th>Div5WheelsOn</th>\n",
              "      <th>Div5TotalGTime</th>\n",
              "      <th>Div5LongestGTime</th>\n",
              "      <th>Div5WheelsOff</th>\n",
              "      <th>Div5TailNum</th>\n",
              "      <th>Unnamed: 109</th>\n",
              "    </tr>\n",
              "  </thead>\n",
              "  <tbody>\n",
              "    <tr>\n",
              "      <th>0</th>\n",
              "      <td>2018</td>\n",
              "      <td>3</td>\n",
              "      <td>9</td>\n",
              "      <td>3</td>\n",
              "      <td>1</td>\n",
              "      <td>2018-09-03</td>\n",
              "      <td>9E</td>\n",
              "      <td>20363</td>\n",
              "      <td>9E</td>\n",
              "      <td>N908XJ</td>\n",
              "      <td>...</td>\n",
              "      <td>NaN</td>\n",
              "      <td>NaN</td>\n",
              "      <td>NaN</td>\n",
              "      <td>NaN</td>\n",
              "      <td>NaN</td>\n",
              "      <td>NaN</td>\n",
              "      <td>NaN</td>\n",
              "      <td>NaN</td>\n",
              "      <td>NaN</td>\n",
              "      <td>NaN</td>\n",
              "    </tr>\n",
              "    <tr>\n",
              "      <th>1</th>\n",
              "      <td>2018</td>\n",
              "      <td>3</td>\n",
              "      <td>9</td>\n",
              "      <td>9</td>\n",
              "      <td>7</td>\n",
              "      <td>2018-09-09</td>\n",
              "      <td>9E</td>\n",
              "      <td>20363</td>\n",
              "      <td>9E</td>\n",
              "      <td>N315PQ</td>\n",
              "      <td>...</td>\n",
              "      <td>NaN</td>\n",
              "      <td>NaN</td>\n",
              "      <td>NaN</td>\n",
              "      <td>NaN</td>\n",
              "      <td>NaN</td>\n",
              "      <td>NaN</td>\n",
              "      <td>NaN</td>\n",
              "      <td>NaN</td>\n",
              "      <td>NaN</td>\n",
              "      <td>NaN</td>\n",
              "    </tr>\n",
              "    <tr>\n",
              "      <th>2</th>\n",
              "      <td>2018</td>\n",
              "      <td>3</td>\n",
              "      <td>9</td>\n",
              "      <td>10</td>\n",
              "      <td>1</td>\n",
              "      <td>2018-09-10</td>\n",
              "      <td>9E</td>\n",
              "      <td>20363</td>\n",
              "      <td>9E</td>\n",
              "      <td>N582CA</td>\n",
              "      <td>...</td>\n",
              "      <td>NaN</td>\n",
              "      <td>NaN</td>\n",
              "      <td>NaN</td>\n",
              "      <td>NaN</td>\n",
              "      <td>NaN</td>\n",
              "      <td>NaN</td>\n",
              "      <td>NaN</td>\n",
              "      <td>NaN</td>\n",
              "      <td>NaN</td>\n",
              "      <td>NaN</td>\n",
              "    </tr>\n",
              "    <tr>\n",
              "      <th>3</th>\n",
              "      <td>2018</td>\n",
              "      <td>3</td>\n",
              "      <td>9</td>\n",
              "      <td>13</td>\n",
              "      <td>4</td>\n",
              "      <td>2018-09-13</td>\n",
              "      <td>9E</td>\n",
              "      <td>20363</td>\n",
              "      <td>9E</td>\n",
              "      <td>N292PQ</td>\n",
              "      <td>...</td>\n",
              "      <td>NaN</td>\n",
              "      <td>NaN</td>\n",
              "      <td>NaN</td>\n",
              "      <td>NaN</td>\n",
              "      <td>NaN</td>\n",
              "      <td>NaN</td>\n",
              "      <td>NaN</td>\n",
              "      <td>NaN</td>\n",
              "      <td>NaN</td>\n",
              "      <td>NaN</td>\n",
              "    </tr>\n",
              "    <tr>\n",
              "      <th>4</th>\n",
              "      <td>2018</td>\n",
              "      <td>3</td>\n",
              "      <td>9</td>\n",
              "      <td>14</td>\n",
              "      <td>5</td>\n",
              "      <td>2018-09-14</td>\n",
              "      <td>9E</td>\n",
              "      <td>20363</td>\n",
              "      <td>9E</td>\n",
              "      <td>N600LR</td>\n",
              "      <td>...</td>\n",
              "      <td>NaN</td>\n",
              "      <td>NaN</td>\n",
              "      <td>NaN</td>\n",
              "      <td>NaN</td>\n",
              "      <td>NaN</td>\n",
              "      <td>NaN</td>\n",
              "      <td>NaN</td>\n",
              "      <td>NaN</td>\n",
              "      <td>NaN</td>\n",
              "      <td>NaN</td>\n",
              "    </tr>\n",
              "  </tbody>\n",
              "</table>\n",
              "<p>5 rows × 110 columns</p>\n",
              "</div>\n",
              "    <div class=\"colab-df-buttons\">\n",
              "\n",
              "  <div class=\"colab-df-container\">\n",
              "    <button class=\"colab-df-convert\" onclick=\"convertToInteractive('df-e874c7a6-2e10-4534-93fa-3344633b414f')\"\n",
              "            title=\"Convert this dataframe to an interactive table.\"\n",
              "            style=\"display:none;\">\n",
              "\n",
              "  <svg xmlns=\"http://www.w3.org/2000/svg\" height=\"24px\" viewBox=\"0 -960 960 960\">\n",
              "    <path d=\"M120-120v-720h720v720H120Zm60-500h600v-160H180v160Zm220 220h160v-160H400v160Zm0 220h160v-160H400v160ZM180-400h160v-160H180v160Zm440 0h160v-160H620v160ZM180-180h160v-160H180v160Zm440 0h160v-160H620v160Z\"/>\n",
              "  </svg>\n",
              "    </button>\n",
              "\n",
              "  <style>\n",
              "    .colab-df-container {\n",
              "      display:flex;\n",
              "      gap: 12px;\n",
              "    }\n",
              "\n",
              "    .colab-df-convert {\n",
              "      background-color: #E8F0FE;\n",
              "      border: none;\n",
              "      border-radius: 50%;\n",
              "      cursor: pointer;\n",
              "      display: none;\n",
              "      fill: #1967D2;\n",
              "      height: 32px;\n",
              "      padding: 0 0 0 0;\n",
              "      width: 32px;\n",
              "    }\n",
              "\n",
              "    .colab-df-convert:hover {\n",
              "      background-color: #E2EBFA;\n",
              "      box-shadow: 0px 1px 2px rgba(60, 64, 67, 0.3), 0px 1px 3px 1px rgba(60, 64, 67, 0.15);\n",
              "      fill: #174EA6;\n",
              "    }\n",
              "\n",
              "    .colab-df-buttons div {\n",
              "      margin-bottom: 4px;\n",
              "    }\n",
              "\n",
              "    [theme=dark] .colab-df-convert {\n",
              "      background-color: #3B4455;\n",
              "      fill: #D2E3FC;\n",
              "    }\n",
              "\n",
              "    [theme=dark] .colab-df-convert:hover {\n",
              "      background-color: #434B5C;\n",
              "      box-shadow: 0px 1px 3px 1px rgba(0, 0, 0, 0.15);\n",
              "      filter: drop-shadow(0px 1px 2px rgba(0, 0, 0, 0.3));\n",
              "      fill: #FFFFFF;\n",
              "    }\n",
              "  </style>\n",
              "\n",
              "    <script>\n",
              "      const buttonEl =\n",
              "        document.querySelector('#df-e874c7a6-2e10-4534-93fa-3344633b414f button.colab-df-convert');\n",
              "      buttonEl.style.display =\n",
              "        google.colab.kernel.accessAllowed ? 'block' : 'none';\n",
              "\n",
              "      async function convertToInteractive(key) {\n",
              "        const element = document.querySelector('#df-e874c7a6-2e10-4534-93fa-3344633b414f');\n",
              "        const dataTable =\n",
              "          await google.colab.kernel.invokeFunction('convertToInteractive',\n",
              "                                                    [key], {});\n",
              "        if (!dataTable) return;\n",
              "\n",
              "        const docLinkHtml = 'Like what you see? Visit the ' +\n",
              "          '<a target=\"_blank\" href=https://colab.research.google.com/notebooks/data_table.ipynb>data table notebook</a>'\n",
              "          + ' to learn more about interactive tables.';\n",
              "        element.innerHTML = '';\n",
              "        dataTable['output_type'] = 'display_data';\n",
              "        await google.colab.output.renderOutput(dataTable, element);\n",
              "        const docLink = document.createElement('div');\n",
              "        docLink.innerHTML = docLinkHtml;\n",
              "        element.appendChild(docLink);\n",
              "      }\n",
              "    </script>\n",
              "  </div>\n",
              "\n",
              "\n",
              "<div id=\"df-cf54897f-82e1-42db-b2ae-0f4f6a19cf5a\">\n",
              "  <button class=\"colab-df-quickchart\" onclick=\"quickchart('df-cf54897f-82e1-42db-b2ae-0f4f6a19cf5a')\"\n",
              "            title=\"Suggest charts.\"\n",
              "            style=\"display:none;\">\n",
              "\n",
              "<svg xmlns=\"http://www.w3.org/2000/svg\" height=\"24px\"viewBox=\"0 0 24 24\"\n",
              "     width=\"24px\">\n",
              "    <g>\n",
              "        <path d=\"M19 3H5c-1.1 0-2 .9-2 2v14c0 1.1.9 2 2 2h14c1.1 0 2-.9 2-2V5c0-1.1-.9-2-2-2zM9 17H7v-7h2v7zm4 0h-2V7h2v10zm4 0h-2v-4h2v4z\"/>\n",
              "    </g>\n",
              "</svg>\n",
              "  </button>\n",
              "\n",
              "<style>\n",
              "  .colab-df-quickchart {\n",
              "      --bg-color: #E8F0FE;\n",
              "      --fill-color: #1967D2;\n",
              "      --hover-bg-color: #E2EBFA;\n",
              "      --hover-fill-color: #174EA6;\n",
              "      --disabled-fill-color: #AAA;\n",
              "      --disabled-bg-color: #DDD;\n",
              "  }\n",
              "\n",
              "  [theme=dark] .colab-df-quickchart {\n",
              "      --bg-color: #3B4455;\n",
              "      --fill-color: #D2E3FC;\n",
              "      --hover-bg-color: #434B5C;\n",
              "      --hover-fill-color: #FFFFFF;\n",
              "      --disabled-bg-color: #3B4455;\n",
              "      --disabled-fill-color: #666;\n",
              "  }\n",
              "\n",
              "  .colab-df-quickchart {\n",
              "    background-color: var(--bg-color);\n",
              "    border: none;\n",
              "    border-radius: 50%;\n",
              "    cursor: pointer;\n",
              "    display: none;\n",
              "    fill: var(--fill-color);\n",
              "    height: 32px;\n",
              "    padding: 0;\n",
              "    width: 32px;\n",
              "  }\n",
              "\n",
              "  .colab-df-quickchart:hover {\n",
              "    background-color: var(--hover-bg-color);\n",
              "    box-shadow: 0 1px 2px rgba(60, 64, 67, 0.3), 0 1px 3px 1px rgba(60, 64, 67, 0.15);\n",
              "    fill: var(--button-hover-fill-color);\n",
              "  }\n",
              "\n",
              "  .colab-df-quickchart-complete:disabled,\n",
              "  .colab-df-quickchart-complete:disabled:hover {\n",
              "    background-color: var(--disabled-bg-color);\n",
              "    fill: var(--disabled-fill-color);\n",
              "    box-shadow: none;\n",
              "  }\n",
              "\n",
              "  .colab-df-spinner {\n",
              "    border: 2px solid var(--fill-color);\n",
              "    border-color: transparent;\n",
              "    border-bottom-color: var(--fill-color);\n",
              "    animation:\n",
              "      spin 1s steps(1) infinite;\n",
              "  }\n",
              "\n",
              "  @keyframes spin {\n",
              "    0% {\n",
              "      border-color: transparent;\n",
              "      border-bottom-color: var(--fill-color);\n",
              "      border-left-color: var(--fill-color);\n",
              "    }\n",
              "    20% {\n",
              "      border-color: transparent;\n",
              "      border-left-color: var(--fill-color);\n",
              "      border-top-color: var(--fill-color);\n",
              "    }\n",
              "    30% {\n",
              "      border-color: transparent;\n",
              "      border-left-color: var(--fill-color);\n",
              "      border-top-color: var(--fill-color);\n",
              "      border-right-color: var(--fill-color);\n",
              "    }\n",
              "    40% {\n",
              "      border-color: transparent;\n",
              "      border-right-color: var(--fill-color);\n",
              "      border-top-color: var(--fill-color);\n",
              "    }\n",
              "    60% {\n",
              "      border-color: transparent;\n",
              "      border-right-color: var(--fill-color);\n",
              "    }\n",
              "    80% {\n",
              "      border-color: transparent;\n",
              "      border-right-color: var(--fill-color);\n",
              "      border-bottom-color: var(--fill-color);\n",
              "    }\n",
              "    90% {\n",
              "      border-color: transparent;\n",
              "      border-bottom-color: var(--fill-color);\n",
              "    }\n",
              "  }\n",
              "</style>\n",
              "\n",
              "  <script>\n",
              "    async function quickchart(key) {\n",
              "      const quickchartButtonEl =\n",
              "        document.querySelector('#' + key + ' button');\n",
              "      quickchartButtonEl.disabled = true;  // To prevent multiple clicks.\n",
              "      quickchartButtonEl.classList.add('colab-df-spinner');\n",
              "      try {\n",
              "        const charts = await google.colab.kernel.invokeFunction(\n",
              "            'suggestCharts', [key], {});\n",
              "      } catch (error) {\n",
              "        console.error('Error during call to suggestCharts:', error);\n",
              "      }\n",
              "      quickchartButtonEl.classList.remove('colab-df-spinner');\n",
              "      quickchartButtonEl.classList.add('colab-df-quickchart-complete');\n",
              "    }\n",
              "    (() => {\n",
              "      let quickchartButtonEl =\n",
              "        document.querySelector('#df-cf54897f-82e1-42db-b2ae-0f4f6a19cf5a button');\n",
              "      quickchartButtonEl.style.display =\n",
              "        google.colab.kernel.accessAllowed ? 'block' : 'none';\n",
              "    })();\n",
              "  </script>\n",
              "</div>\n",
              "    </div>\n",
              "  </div>\n"
            ]
          },
          "metadata": {},
          "execution_count": 8
        }
      ],
      "source": [
        "import pandas as pd\n",
        "\n",
        "# Construct the full path to the sample CSV file\n",
        "sample_csv_path = os.path.join(csv_base_path, \"On_Time_Reporting_Carrier_On_Time_Performance_(1987_present)_2018_9.csv\")\n",
        "\n",
        "# Read the sample CSV file into a Pandas DataFrame\n",
        "df_temp = pd.read_csv(sample_csv_path)\n",
        "\n",
        "# Display the first few rows of the DataFrame to get a sense of the data\n",
        "df_temp.head()"
      ]
    },
    {
      "cell_type": "markdown",
      "metadata": {
        "id": "PDSSLbaAGceF"
      },
      "source": [
        "**Question**: Print the row and column length in the dataset, and print the column names."
      ]
    },
    {
      "cell_type": "code",
      "execution_count": 9,
      "metadata": {
        "colab": {
          "base_uri": "https://localhost:8080/"
        },
        "id": "Dgevufx6GceF",
        "outputId": "bab6645b-a4ad-42b7-9ce1-95791ab0c6dc"
      },
      "outputs": [
        {
          "output_type": "stream",
          "name": "stdout",
          "text": [
            "Rows and columns in one csv file is (585749, 110)\n"
          ]
        }
      ],
      "source": [
        "df_shape = df_temp.shape\n",
        "print(f'Rows and columns in one csv file is {df_shape}')"
      ]
    },
    {
      "cell_type": "markdown",
      "metadata": {
        "id": "gLfH4pdbGceF"
      },
      "source": [
        "**Question**: Print the first 10 rows of the dataset.  "
      ]
    },
    {
      "cell_type": "code",
      "execution_count": 10,
      "metadata": {
        "colab": {
          "base_uri": "https://localhost:8080/",
          "height": 429
        },
        "id": "kol77PzBGceF",
        "outputId": "d9e2cb86-00a5-40a5-a8da-28a8f19aff6d"
      },
      "outputs": [
        {
          "output_type": "execute_result",
          "data": {
            "text/plain": [
              "   Year  Quarter  Month  DayofMonth  DayOfWeek  FlightDate Reporting_Airline  \\\n",
              "0  2018        3      9           3          1  2018-09-03                9E   \n",
              "1  2018        3      9           9          7  2018-09-09                9E   \n",
              "2  2018        3      9          10          1  2018-09-10                9E   \n",
              "3  2018        3      9          13          4  2018-09-13                9E   \n",
              "4  2018        3      9          14          5  2018-09-14                9E   \n",
              "5  2018        3      9          16          7  2018-09-16                9E   \n",
              "6  2018        3      9          17          1  2018-09-17                9E   \n",
              "7  2018        3      9          20          4  2018-09-20                9E   \n",
              "8  2018        3      9          21          5  2018-09-21                9E   \n",
              "9  2018        3      9          23          7  2018-09-23                9E   \n",
              "\n",
              "   DOT_ID_Reporting_Airline IATA_CODE_Reporting_Airline Tail_Number  ...  \\\n",
              "0                     20363                          9E      N908XJ  ...   \n",
              "1                     20363                          9E      N315PQ  ...   \n",
              "2                     20363                          9E      N582CA  ...   \n",
              "3                     20363                          9E      N292PQ  ...   \n",
              "4                     20363                          9E      N600LR  ...   \n",
              "5                     20363                          9E      N316PQ  ...   \n",
              "6                     20363                          9E      N916XJ  ...   \n",
              "7                     20363                          9E      N371CA  ...   \n",
              "8                     20363                          9E      N601LR  ...   \n",
              "9                     20363                          9E      N906XJ  ...   \n",
              "\n",
              "   Div4TailNum  Div5Airport  Div5AirportID  Div5AirportSeqID Div5WheelsOn  \\\n",
              "0          NaN          NaN            NaN               NaN          NaN   \n",
              "1          NaN          NaN            NaN               NaN          NaN   \n",
              "2          NaN          NaN            NaN               NaN          NaN   \n",
              "3          NaN          NaN            NaN               NaN          NaN   \n",
              "4          NaN          NaN            NaN               NaN          NaN   \n",
              "5          NaN          NaN            NaN               NaN          NaN   \n",
              "6          NaN          NaN            NaN               NaN          NaN   \n",
              "7          NaN          NaN            NaN               NaN          NaN   \n",
              "8          NaN          NaN            NaN               NaN          NaN   \n",
              "9          NaN          NaN            NaN               NaN          NaN   \n",
              "\n",
              "  Div5TotalGTime Div5LongestGTime  Div5WheelsOff Div5TailNum  Unnamed: 109  \n",
              "0            NaN              NaN            NaN         NaN           NaN  \n",
              "1            NaN              NaN            NaN         NaN           NaN  \n",
              "2            NaN              NaN            NaN         NaN           NaN  \n",
              "3            NaN              NaN            NaN         NaN           NaN  \n",
              "4            NaN              NaN            NaN         NaN           NaN  \n",
              "5            NaN              NaN            NaN         NaN           NaN  \n",
              "6            NaN              NaN            NaN         NaN           NaN  \n",
              "7            NaN              NaN            NaN         NaN           NaN  \n",
              "8            NaN              NaN            NaN         NaN           NaN  \n",
              "9            NaN              NaN            NaN         NaN           NaN  \n",
              "\n",
              "[10 rows x 110 columns]"
            ],
            "text/html": [
              "\n",
              "  <div id=\"df-b553eb0a-4a22-4364-909e-f70b0fdc16b3\" class=\"colab-df-container\">\n",
              "    <div>\n",
              "<style scoped>\n",
              "    .dataframe tbody tr th:only-of-type {\n",
              "        vertical-align: middle;\n",
              "    }\n",
              "\n",
              "    .dataframe tbody tr th {\n",
              "        vertical-align: top;\n",
              "    }\n",
              "\n",
              "    .dataframe thead th {\n",
              "        text-align: right;\n",
              "    }\n",
              "</style>\n",
              "<table border=\"1\" class=\"dataframe\">\n",
              "  <thead>\n",
              "    <tr style=\"text-align: right;\">\n",
              "      <th></th>\n",
              "      <th>Year</th>\n",
              "      <th>Quarter</th>\n",
              "      <th>Month</th>\n",
              "      <th>DayofMonth</th>\n",
              "      <th>DayOfWeek</th>\n",
              "      <th>FlightDate</th>\n",
              "      <th>Reporting_Airline</th>\n",
              "      <th>DOT_ID_Reporting_Airline</th>\n",
              "      <th>IATA_CODE_Reporting_Airline</th>\n",
              "      <th>Tail_Number</th>\n",
              "      <th>...</th>\n",
              "      <th>Div4TailNum</th>\n",
              "      <th>Div5Airport</th>\n",
              "      <th>Div5AirportID</th>\n",
              "      <th>Div5AirportSeqID</th>\n",
              "      <th>Div5WheelsOn</th>\n",
              "      <th>Div5TotalGTime</th>\n",
              "      <th>Div5LongestGTime</th>\n",
              "      <th>Div5WheelsOff</th>\n",
              "      <th>Div5TailNum</th>\n",
              "      <th>Unnamed: 109</th>\n",
              "    </tr>\n",
              "  </thead>\n",
              "  <tbody>\n",
              "    <tr>\n",
              "      <th>0</th>\n",
              "      <td>2018</td>\n",
              "      <td>3</td>\n",
              "      <td>9</td>\n",
              "      <td>3</td>\n",
              "      <td>1</td>\n",
              "      <td>2018-09-03</td>\n",
              "      <td>9E</td>\n",
              "      <td>20363</td>\n",
              "      <td>9E</td>\n",
              "      <td>N908XJ</td>\n",
              "      <td>...</td>\n",
              "      <td>NaN</td>\n",
              "      <td>NaN</td>\n",
              "      <td>NaN</td>\n",
              "      <td>NaN</td>\n",
              "      <td>NaN</td>\n",
              "      <td>NaN</td>\n",
              "      <td>NaN</td>\n",
              "      <td>NaN</td>\n",
              "      <td>NaN</td>\n",
              "      <td>NaN</td>\n",
              "    </tr>\n",
              "    <tr>\n",
              "      <th>1</th>\n",
              "      <td>2018</td>\n",
              "      <td>3</td>\n",
              "      <td>9</td>\n",
              "      <td>9</td>\n",
              "      <td>7</td>\n",
              "      <td>2018-09-09</td>\n",
              "      <td>9E</td>\n",
              "      <td>20363</td>\n",
              "      <td>9E</td>\n",
              "      <td>N315PQ</td>\n",
              "      <td>...</td>\n",
              "      <td>NaN</td>\n",
              "      <td>NaN</td>\n",
              "      <td>NaN</td>\n",
              "      <td>NaN</td>\n",
              "      <td>NaN</td>\n",
              "      <td>NaN</td>\n",
              "      <td>NaN</td>\n",
              "      <td>NaN</td>\n",
              "      <td>NaN</td>\n",
              "      <td>NaN</td>\n",
              "    </tr>\n",
              "    <tr>\n",
              "      <th>2</th>\n",
              "      <td>2018</td>\n",
              "      <td>3</td>\n",
              "      <td>9</td>\n",
              "      <td>10</td>\n",
              "      <td>1</td>\n",
              "      <td>2018-09-10</td>\n",
              "      <td>9E</td>\n",
              "      <td>20363</td>\n",
              "      <td>9E</td>\n",
              "      <td>N582CA</td>\n",
              "      <td>...</td>\n",
              "      <td>NaN</td>\n",
              "      <td>NaN</td>\n",
              "      <td>NaN</td>\n",
              "      <td>NaN</td>\n",
              "      <td>NaN</td>\n",
              "      <td>NaN</td>\n",
              "      <td>NaN</td>\n",
              "      <td>NaN</td>\n",
              "      <td>NaN</td>\n",
              "      <td>NaN</td>\n",
              "    </tr>\n",
              "    <tr>\n",
              "      <th>3</th>\n",
              "      <td>2018</td>\n",
              "      <td>3</td>\n",
              "      <td>9</td>\n",
              "      <td>13</td>\n",
              "      <td>4</td>\n",
              "      <td>2018-09-13</td>\n",
              "      <td>9E</td>\n",
              "      <td>20363</td>\n",
              "      <td>9E</td>\n",
              "      <td>N292PQ</td>\n",
              "      <td>...</td>\n",
              "      <td>NaN</td>\n",
              "      <td>NaN</td>\n",
              "      <td>NaN</td>\n",
              "      <td>NaN</td>\n",
              "      <td>NaN</td>\n",
              "      <td>NaN</td>\n",
              "      <td>NaN</td>\n",
              "      <td>NaN</td>\n",
              "      <td>NaN</td>\n",
              "      <td>NaN</td>\n",
              "    </tr>\n",
              "    <tr>\n",
              "      <th>4</th>\n",
              "      <td>2018</td>\n",
              "      <td>3</td>\n",
              "      <td>9</td>\n",
              "      <td>14</td>\n",
              "      <td>5</td>\n",
              "      <td>2018-09-14</td>\n",
              "      <td>9E</td>\n",
              "      <td>20363</td>\n",
              "      <td>9E</td>\n",
              "      <td>N600LR</td>\n",
              "      <td>...</td>\n",
              "      <td>NaN</td>\n",
              "      <td>NaN</td>\n",
              "      <td>NaN</td>\n",
              "      <td>NaN</td>\n",
              "      <td>NaN</td>\n",
              "      <td>NaN</td>\n",
              "      <td>NaN</td>\n",
              "      <td>NaN</td>\n",
              "      <td>NaN</td>\n",
              "      <td>NaN</td>\n",
              "    </tr>\n",
              "    <tr>\n",
              "      <th>5</th>\n",
              "      <td>2018</td>\n",
              "      <td>3</td>\n",
              "      <td>9</td>\n",
              "      <td>16</td>\n",
              "      <td>7</td>\n",
              "      <td>2018-09-16</td>\n",
              "      <td>9E</td>\n",
              "      <td>20363</td>\n",
              "      <td>9E</td>\n",
              "      <td>N316PQ</td>\n",
              "      <td>...</td>\n",
              "      <td>NaN</td>\n",
              "      <td>NaN</td>\n",
              "      <td>NaN</td>\n",
              "      <td>NaN</td>\n",
              "      <td>NaN</td>\n",
              "      <td>NaN</td>\n",
              "      <td>NaN</td>\n",
              "      <td>NaN</td>\n",
              "      <td>NaN</td>\n",
              "      <td>NaN</td>\n",
              "    </tr>\n",
              "    <tr>\n",
              "      <th>6</th>\n",
              "      <td>2018</td>\n",
              "      <td>3</td>\n",
              "      <td>9</td>\n",
              "      <td>17</td>\n",
              "      <td>1</td>\n",
              "      <td>2018-09-17</td>\n",
              "      <td>9E</td>\n",
              "      <td>20363</td>\n",
              "      <td>9E</td>\n",
              "      <td>N916XJ</td>\n",
              "      <td>...</td>\n",
              "      <td>NaN</td>\n",
              "      <td>NaN</td>\n",
              "      <td>NaN</td>\n",
              "      <td>NaN</td>\n",
              "      <td>NaN</td>\n",
              "      <td>NaN</td>\n",
              "      <td>NaN</td>\n",
              "      <td>NaN</td>\n",
              "      <td>NaN</td>\n",
              "      <td>NaN</td>\n",
              "    </tr>\n",
              "    <tr>\n",
              "      <th>7</th>\n",
              "      <td>2018</td>\n",
              "      <td>3</td>\n",
              "      <td>9</td>\n",
              "      <td>20</td>\n",
              "      <td>4</td>\n",
              "      <td>2018-09-20</td>\n",
              "      <td>9E</td>\n",
              "      <td>20363</td>\n",
              "      <td>9E</td>\n",
              "      <td>N371CA</td>\n",
              "      <td>...</td>\n",
              "      <td>NaN</td>\n",
              "      <td>NaN</td>\n",
              "      <td>NaN</td>\n",
              "      <td>NaN</td>\n",
              "      <td>NaN</td>\n",
              "      <td>NaN</td>\n",
              "      <td>NaN</td>\n",
              "      <td>NaN</td>\n",
              "      <td>NaN</td>\n",
              "      <td>NaN</td>\n",
              "    </tr>\n",
              "    <tr>\n",
              "      <th>8</th>\n",
              "      <td>2018</td>\n",
              "      <td>3</td>\n",
              "      <td>9</td>\n",
              "      <td>21</td>\n",
              "      <td>5</td>\n",
              "      <td>2018-09-21</td>\n",
              "      <td>9E</td>\n",
              "      <td>20363</td>\n",
              "      <td>9E</td>\n",
              "      <td>N601LR</td>\n",
              "      <td>...</td>\n",
              "      <td>NaN</td>\n",
              "      <td>NaN</td>\n",
              "      <td>NaN</td>\n",
              "      <td>NaN</td>\n",
              "      <td>NaN</td>\n",
              "      <td>NaN</td>\n",
              "      <td>NaN</td>\n",
              "      <td>NaN</td>\n",
              "      <td>NaN</td>\n",
              "      <td>NaN</td>\n",
              "    </tr>\n",
              "    <tr>\n",
              "      <th>9</th>\n",
              "      <td>2018</td>\n",
              "      <td>3</td>\n",
              "      <td>9</td>\n",
              "      <td>23</td>\n",
              "      <td>7</td>\n",
              "      <td>2018-09-23</td>\n",
              "      <td>9E</td>\n",
              "      <td>20363</td>\n",
              "      <td>9E</td>\n",
              "      <td>N906XJ</td>\n",
              "      <td>...</td>\n",
              "      <td>NaN</td>\n",
              "      <td>NaN</td>\n",
              "      <td>NaN</td>\n",
              "      <td>NaN</td>\n",
              "      <td>NaN</td>\n",
              "      <td>NaN</td>\n",
              "      <td>NaN</td>\n",
              "      <td>NaN</td>\n",
              "      <td>NaN</td>\n",
              "      <td>NaN</td>\n",
              "    </tr>\n",
              "  </tbody>\n",
              "</table>\n",
              "<p>10 rows × 110 columns</p>\n",
              "</div>\n",
              "    <div class=\"colab-df-buttons\">\n",
              "\n",
              "  <div class=\"colab-df-container\">\n",
              "    <button class=\"colab-df-convert\" onclick=\"convertToInteractive('df-b553eb0a-4a22-4364-909e-f70b0fdc16b3')\"\n",
              "            title=\"Convert this dataframe to an interactive table.\"\n",
              "            style=\"display:none;\">\n",
              "\n",
              "  <svg xmlns=\"http://www.w3.org/2000/svg\" height=\"24px\" viewBox=\"0 -960 960 960\">\n",
              "    <path d=\"M120-120v-720h720v720H120Zm60-500h600v-160H180v160Zm220 220h160v-160H400v160Zm0 220h160v-160H400v160ZM180-400h160v-160H180v160Zm440 0h160v-160H620v160ZM180-180h160v-160H180v160Zm440 0h160v-160H620v160Z\"/>\n",
              "  </svg>\n",
              "    </button>\n",
              "\n",
              "  <style>\n",
              "    .colab-df-container {\n",
              "      display:flex;\n",
              "      gap: 12px;\n",
              "    }\n",
              "\n",
              "    .colab-df-convert {\n",
              "      background-color: #E8F0FE;\n",
              "      border: none;\n",
              "      border-radius: 50%;\n",
              "      cursor: pointer;\n",
              "      display: none;\n",
              "      fill: #1967D2;\n",
              "      height: 32px;\n",
              "      padding: 0 0 0 0;\n",
              "      width: 32px;\n",
              "    }\n",
              "\n",
              "    .colab-df-convert:hover {\n",
              "      background-color: #E2EBFA;\n",
              "      box-shadow: 0px 1px 2px rgba(60, 64, 67, 0.3), 0px 1px 3px 1px rgba(60, 64, 67, 0.15);\n",
              "      fill: #174EA6;\n",
              "    }\n",
              "\n",
              "    .colab-df-buttons div {\n",
              "      margin-bottom: 4px;\n",
              "    }\n",
              "\n",
              "    [theme=dark] .colab-df-convert {\n",
              "      background-color: #3B4455;\n",
              "      fill: #D2E3FC;\n",
              "    }\n",
              "\n",
              "    [theme=dark] .colab-df-convert:hover {\n",
              "      background-color: #434B5C;\n",
              "      box-shadow: 0px 1px 3px 1px rgba(0, 0, 0, 0.15);\n",
              "      filter: drop-shadow(0px 1px 2px rgba(0, 0, 0, 0.3));\n",
              "      fill: #FFFFFF;\n",
              "    }\n",
              "  </style>\n",
              "\n",
              "    <script>\n",
              "      const buttonEl =\n",
              "        document.querySelector('#df-b553eb0a-4a22-4364-909e-f70b0fdc16b3 button.colab-df-convert');\n",
              "      buttonEl.style.display =\n",
              "        google.colab.kernel.accessAllowed ? 'block' : 'none';\n",
              "\n",
              "      async function convertToInteractive(key) {\n",
              "        const element = document.querySelector('#df-b553eb0a-4a22-4364-909e-f70b0fdc16b3');\n",
              "        const dataTable =\n",
              "          await google.colab.kernel.invokeFunction('convertToInteractive',\n",
              "                                                    [key], {});\n",
              "        if (!dataTable) return;\n",
              "\n",
              "        const docLinkHtml = 'Like what you see? Visit the ' +\n",
              "          '<a target=\"_blank\" href=https://colab.research.google.com/notebooks/data_table.ipynb>data table notebook</a>'\n",
              "          + ' to learn more about interactive tables.';\n",
              "        element.innerHTML = '';\n",
              "        dataTable['output_type'] = 'display_data';\n",
              "        await google.colab.output.renderOutput(dataTable, element);\n",
              "        const docLink = document.createElement('div');\n",
              "        docLink.innerHTML = docLinkHtml;\n",
              "        element.appendChild(docLink);\n",
              "      }\n",
              "    </script>\n",
              "  </div>\n",
              "\n",
              "\n",
              "<div id=\"df-615f0392-3648-473c-a607-d441552a870c\">\n",
              "  <button class=\"colab-df-quickchart\" onclick=\"quickchart('df-615f0392-3648-473c-a607-d441552a870c')\"\n",
              "            title=\"Suggest charts.\"\n",
              "            style=\"display:none;\">\n",
              "\n",
              "<svg xmlns=\"http://www.w3.org/2000/svg\" height=\"24px\"viewBox=\"0 0 24 24\"\n",
              "     width=\"24px\">\n",
              "    <g>\n",
              "        <path d=\"M19 3H5c-1.1 0-2 .9-2 2v14c0 1.1.9 2 2 2h14c1.1 0 2-.9 2-2V5c0-1.1-.9-2-2-2zM9 17H7v-7h2v7zm4 0h-2V7h2v10zm4 0h-2v-4h2v4z\"/>\n",
              "    </g>\n",
              "</svg>\n",
              "  </button>\n",
              "\n",
              "<style>\n",
              "  .colab-df-quickchart {\n",
              "      --bg-color: #E8F0FE;\n",
              "      --fill-color: #1967D2;\n",
              "      --hover-bg-color: #E2EBFA;\n",
              "      --hover-fill-color: #174EA6;\n",
              "      --disabled-fill-color: #AAA;\n",
              "      --disabled-bg-color: #DDD;\n",
              "  }\n",
              "\n",
              "  [theme=dark] .colab-df-quickchart {\n",
              "      --bg-color: #3B4455;\n",
              "      --fill-color: #D2E3FC;\n",
              "      --hover-bg-color: #434B5C;\n",
              "      --hover-fill-color: #FFFFFF;\n",
              "      --disabled-bg-color: #3B4455;\n",
              "      --disabled-fill-color: #666;\n",
              "  }\n",
              "\n",
              "  .colab-df-quickchart {\n",
              "    background-color: var(--bg-color);\n",
              "    border: none;\n",
              "    border-radius: 50%;\n",
              "    cursor: pointer;\n",
              "    display: none;\n",
              "    fill: var(--fill-color);\n",
              "    height: 32px;\n",
              "    padding: 0;\n",
              "    width: 32px;\n",
              "  }\n",
              "\n",
              "  .colab-df-quickchart:hover {\n",
              "    background-color: var(--hover-bg-color);\n",
              "    box-shadow: 0 1px 2px rgba(60, 64, 67, 0.3), 0 1px 3px 1px rgba(60, 64, 67, 0.15);\n",
              "    fill: var(--button-hover-fill-color);\n",
              "  }\n",
              "\n",
              "  .colab-df-quickchart-complete:disabled,\n",
              "  .colab-df-quickchart-complete:disabled:hover {\n",
              "    background-color: var(--disabled-bg-color);\n",
              "    fill: var(--disabled-fill-color);\n",
              "    box-shadow: none;\n",
              "  }\n",
              "\n",
              "  .colab-df-spinner {\n",
              "    border: 2px solid var(--fill-color);\n",
              "    border-color: transparent;\n",
              "    border-bottom-color: var(--fill-color);\n",
              "    animation:\n",
              "      spin 1s steps(1) infinite;\n",
              "  }\n",
              "\n",
              "  @keyframes spin {\n",
              "    0% {\n",
              "      border-color: transparent;\n",
              "      border-bottom-color: var(--fill-color);\n",
              "      border-left-color: var(--fill-color);\n",
              "    }\n",
              "    20% {\n",
              "      border-color: transparent;\n",
              "      border-left-color: var(--fill-color);\n",
              "      border-top-color: var(--fill-color);\n",
              "    }\n",
              "    30% {\n",
              "      border-color: transparent;\n",
              "      border-left-color: var(--fill-color);\n",
              "      border-top-color: var(--fill-color);\n",
              "      border-right-color: var(--fill-color);\n",
              "    }\n",
              "    40% {\n",
              "      border-color: transparent;\n",
              "      border-right-color: var(--fill-color);\n",
              "      border-top-color: var(--fill-color);\n",
              "    }\n",
              "    60% {\n",
              "      border-color: transparent;\n",
              "      border-right-color: var(--fill-color);\n",
              "    }\n",
              "    80% {\n",
              "      border-color: transparent;\n",
              "      border-right-color: var(--fill-color);\n",
              "      border-bottom-color: var(--fill-color);\n",
              "    }\n",
              "    90% {\n",
              "      border-color: transparent;\n",
              "      border-bottom-color: var(--fill-color);\n",
              "    }\n",
              "  }\n",
              "</style>\n",
              "\n",
              "  <script>\n",
              "    async function quickchart(key) {\n",
              "      const quickchartButtonEl =\n",
              "        document.querySelector('#' + key + ' button');\n",
              "      quickchartButtonEl.disabled = true;  // To prevent multiple clicks.\n",
              "      quickchartButtonEl.classList.add('colab-df-spinner');\n",
              "      try {\n",
              "        const charts = await google.colab.kernel.invokeFunction(\n",
              "            'suggestCharts', [key], {});\n",
              "      } catch (error) {\n",
              "        console.error('Error during call to suggestCharts:', error);\n",
              "      }\n",
              "      quickchartButtonEl.classList.remove('colab-df-spinner');\n",
              "      quickchartButtonEl.classList.add('colab-df-quickchart-complete');\n",
              "    }\n",
              "    (() => {\n",
              "      let quickchartButtonEl =\n",
              "        document.querySelector('#df-615f0392-3648-473c-a607-d441552a870c button');\n",
              "      quickchartButtonEl.style.display =\n",
              "        google.colab.kernel.accessAllowed ? 'block' : 'none';\n",
              "    })();\n",
              "  </script>\n",
              "</div>\n",
              "    </div>\n",
              "  </div>\n"
            ]
          },
          "metadata": {},
          "execution_count": 10
        }
      ],
      "source": [
        "df_temp.head(10)"
      ]
    },
    {
      "cell_type": "markdown",
      "metadata": {
        "id": "gXM_A_yiGceG"
      },
      "source": [
        "**Question**: Print all the columns in the dataset. Use `<dataframe>.columns` to view the column names."
      ]
    },
    {
      "cell_type": "code",
      "execution_count": 11,
      "metadata": {
        "colab": {
          "base_uri": "https://localhost:8080/"
        },
        "id": "0PYoX0cvGceG",
        "outputId": "0417a318-b9ab-4856-e418-28418581f7be"
      },
      "outputs": [
        {
          "output_type": "stream",
          "name": "stdout",
          "text": [
            "The column names are :\n",
            "#########\n",
            "Year\n",
            "Quarter\n",
            "Month\n",
            "DayofMonth\n",
            "DayOfWeek\n",
            "FlightDate\n",
            "Reporting_Airline\n",
            "DOT_ID_Reporting_Airline\n",
            "IATA_CODE_Reporting_Airline\n",
            "Tail_Number\n",
            "Flight_Number_Reporting_Airline\n",
            "OriginAirportID\n",
            "OriginAirportSeqID\n",
            "OriginCityMarketID\n",
            "Origin\n",
            "OriginCityName\n",
            "OriginState\n",
            "OriginStateFips\n",
            "OriginStateName\n",
            "OriginWac\n",
            "DestAirportID\n",
            "DestAirportSeqID\n",
            "DestCityMarketID\n",
            "Dest\n",
            "DestCityName\n",
            "DestState\n",
            "DestStateFips\n",
            "DestStateName\n",
            "DestWac\n",
            "CRSDepTime\n",
            "DepTime\n",
            "DepDelay\n",
            "DepDelayMinutes\n",
            "DepDel15\n",
            "DepartureDelayGroups\n",
            "DepTimeBlk\n",
            "TaxiOut\n",
            "WheelsOff\n",
            "WheelsOn\n",
            "TaxiIn\n",
            "CRSArrTime\n",
            "ArrTime\n",
            "ArrDelay\n",
            "ArrDelayMinutes\n",
            "ArrDel15\n",
            "ArrivalDelayGroups\n",
            "ArrTimeBlk\n",
            "Cancelled\n",
            "CancellationCode\n",
            "Diverted\n",
            "CRSElapsedTime\n",
            "ActualElapsedTime\n",
            "AirTime\n",
            "Flights\n",
            "Distance\n",
            "DistanceGroup\n",
            "CarrierDelay\n",
            "WeatherDelay\n",
            "NASDelay\n",
            "SecurityDelay\n",
            "LateAircraftDelay\n",
            "FirstDepTime\n",
            "TotalAddGTime\n",
            "LongestAddGTime\n",
            "DivAirportLandings\n",
            "DivReachedDest\n",
            "DivActualElapsedTime\n",
            "DivArrDelay\n",
            "DivDistance\n",
            "Div1Airport\n",
            "Div1AirportID\n",
            "Div1AirportSeqID\n",
            "Div1WheelsOn\n",
            "Div1TotalGTime\n",
            "Div1LongestGTime\n",
            "Div1WheelsOff\n",
            "Div1TailNum\n",
            "Div2Airport\n",
            "Div2AirportID\n",
            "Div2AirportSeqID\n",
            "Div2WheelsOn\n",
            "Div2TotalGTime\n",
            "Div2LongestGTime\n",
            "Div2WheelsOff\n",
            "Div2TailNum\n",
            "Div3Airport\n",
            "Div3AirportID\n",
            "Div3AirportSeqID\n",
            "Div3WheelsOn\n",
            "Div3TotalGTime\n",
            "Div3LongestGTime\n",
            "Div3WheelsOff\n",
            "Div3TailNum\n",
            "Div4Airport\n",
            "Div4AirportID\n",
            "Div4AirportSeqID\n",
            "Div4WheelsOn\n",
            "Div4TotalGTime\n",
            "Div4LongestGTime\n",
            "Div4WheelsOff\n",
            "Div4TailNum\n",
            "Div5Airport\n",
            "Div5AirportID\n",
            "Div5AirportSeqID\n",
            "Div5WheelsOn\n",
            "Div5TotalGTime\n",
            "Div5LongestGTime\n",
            "Div5WheelsOff\n",
            "Div5TailNum\n",
            "Unnamed: 109\n"
          ]
        }
      ],
      "source": [
        "print(f'The column names are :')\n",
        "print('#########')\n",
        "for col in df_temp.columns:# **ENTER YOUR CODE HERE**\n",
        "    print(col)"
      ]
    },
    {
      "cell_type": "markdown",
      "metadata": {
        "id": "3sjFhMgWGceG"
      },
      "source": [
        "**Question**: Print all the columns in the dataset that contain the word 'Del'. This will help you see how many columns have delay data in them.\n",
        "\n",
        "**Hint**: You can use a Python list comprehension to include values that pass certain `if` statement criteria.\n",
        "\n",
        "For example: `[x for x in [1,2,3,4,5] if x > 2]`  \n",
        "\n",
        "**Hint**: You can use the `in` keyword ([documentation](https://www.w3schools.com/python/ref_keyword_in.asp)) to check if the value is in a list or not.\n",
        "\n",
        "For example: `5 in [1,2,3,4,5]`"
      ]
    },
    {
      "cell_type": "code",
      "execution_count": 12,
      "metadata": {
        "colab": {
          "base_uri": "https://localhost:8080/"
        },
        "id": "yZTB1iamGceG",
        "outputId": "de57ba8b-0bee-44b2-c067-af8e03d8584b"
      },
      "outputs": [
        {
          "output_type": "stream",
          "name": "stdout",
          "text": [
            "['DepDelay', 'DepDelayMinutes', 'DepDel15', 'DepartureDelayGroups', 'ArrDelay', 'ArrDelayMinutes', 'ArrDel15', 'ArrivalDelayGroups', 'CarrierDelay', 'WeatherDelay', 'NASDelay', 'SecurityDelay', 'LateAircraftDelay', 'DivArrDelay']\n"
          ]
        }
      ],
      "source": [
        "# Extract columns that contain the word 'Del'\n",
        "delay_columns = [col for col in df_temp.columns if 'Del' in col]\n",
        "\n",
        "print(delay_columns)\n"
      ]
    },
    {
      "cell_type": "markdown",
      "metadata": {
        "id": "1dxag-XGGceG"
      },
      "source": [
        "Here are some more questions to help you find out more about your dataset.\n",
        "\n",
        "**Questions**   \n",
        "1. How many rows and columns does the dataset have?   \n",
        "2. How many years are included in the dataset?   \n",
        "3. What is the date range for the dataset?   \n",
        "4. Which airlines are included in the dataset?   \n",
        "5. Which origin and destination airports are covered?"
      ]
    },
    {
      "cell_type": "code",
      "execution_count": 13,
      "metadata": {
        "colab": {
          "base_uri": "https://localhost:8080/"
        },
        "id": "hwh0XgVEGceG",
        "outputId": "ec4e5bfc-18b1-43ed-db33-a67aa99afdf5"
      },
      "outputs": [
        {
          "output_type": "stream",
          "name": "stdout",
          "text": [
            "The #rows and #columns are  585749  and  110\n",
            "The years in this dataset are:  [2018]\n",
            "The months covered in this dataset are:  [9]\n",
            "The date range for data is : 2018-09-01  to  2018-09-30\n",
            "The airlines covered in this dataset are:  ['9E', 'B6', 'WN', 'YV', 'YX', 'EV', 'AA', 'AS', 'DL', 'HA', 'UA', 'F9', 'G4', 'MQ', 'NK', 'OH', 'OO']\n",
            "The Origin airports covered are:  ['DFW', 'LGA', 'MSN', 'MSP', 'ATL', 'BDL', 'VLD', 'JFK', 'RDU', 'CHS', 'DTW', 'GRB', 'PVD', 'SHV', 'FNT', 'PIT', 'RIC', 'RST', 'RSW', 'CVG', 'LIT', 'ORD', 'JAX', 'TRI', 'BOS', 'CWA', 'DCA', 'CHO', 'AVP', 'IND', 'GRR', 'BTR', 'MEM', 'TUL', 'CLE', 'STL', 'BTV', 'OMA', 'MGM', 'TVC', 'SAV', 'GSP', 'EWR', 'OAJ', 'BNA', 'MCI', 'TLH', 'ROC', 'LEX', 'PWM', 'BUF', 'AGS', 'CLT', 'GSO', 'BWI', 'SAT', 'PHL', 'TYS', 'ACK', 'DSM', 'GNV', 'AVL', 'BGR', 'MHT', 'ILM', 'MOT', 'IAH', 'SBN', 'SYR', 'ORF', 'MKE', 'XNA', 'MSY', 'PBI', 'ABE', 'HPN', 'EVV', 'ALB', 'LNK', 'AUS', 'PHF', 'CHA', 'GTR', 'BMI', 'BQK', 'CID', 'CAK', 'ATW', 'ABY', 'CAE', 'SRQ', 'MLI', 'BHM', 'IAD', 'CSG', 'CMH', 'MCO', 'MBS', 'FLL', 'SDF', 'TPA', 'MVY', 'LAS', 'LGB', 'SFO', 'SAN', 'LAX', 'RNO', 'PDX', 'ANC', 'ABQ', 'SLC', 'DEN', 'PHX', 'OAK', 'SMF', 'SJU', 'SEA', 'HOU', 'STX', 'BUR', 'SWF', 'SJC', 'DAB', 'BQN', 'PSE', 'ORH', 'HYA', 'STT', 'ONT', 'HRL', 'ICT', 'ISP', 'LBB', 'MAF', 'MDW', 'OKC', 'PNS', 'SNA', 'TUS', 'AMA', 'BOI', 'CRP', 'DAL', 'ECP', 'ELP', 'GEG', 'LFT', 'MFE', 'MDT', 'JAN', 'COS', 'MOB', 'VPS', 'MTJ', 'DRO', 'GPT', 'BFL', 'MRY', 'SBA', 'PSP', 'FSD', 'BRO', 'RAP', 'COU', 'STS', 'PIA', 'FAT', 'SBP', 'FSM', 'HSV', 'BIS', 'DAY', 'BZN', 'MIA', 'EYW', 'MYR', 'HHH', 'GJT', 'FAR', 'SGF', 'HOB', 'CLL', 'LRD', 'AEX', 'ERI', 'MLU', 'LCH', 'ROA', 'LAW', 'MHK', 'GRK', 'SAF', 'GRI', 'JLN', 'ROW', 'FWA', 'CRW', 'LAN', 'OGG', 'HNL', 'KOA', 'EGE', 'LIH', 'MLB', 'JAC', 'FAI', 'RDM', 'ADQ', 'BET', 'BRW', 'SCC', 'KTN', 'YAK', 'CDV', 'JNU', 'SIT', 'PSG', 'WRG', 'OME', 'OTZ', 'ADK', 'FCA', 'FAY', 'PSC', 'BIL', 'MSO', 'ITO', 'PPG', 'MFR', 'EUG', 'GUM', 'SPN', 'DLH', 'TTN', 'BKG', 'SFB', 'PIE', 'PGD', 'AZA', 'SMX', 'RFD', 'SCK', 'OWB', 'HTS', 'BLV', 'IAG', 'USA', 'GFK', 'BLI', 'ELM', 'PBG', 'LCK', 'GTF', 'OGD', 'IDA', 'PVU', 'TOL', 'PSM', 'CKB', 'HGR', 'SPI', 'STC', 'ACT', 'TYR', 'ABI', 'AZO', 'CMI', 'BPT', 'GCK', 'MQT', 'ALO', 'TXK', 'SPS', 'SWO', 'DBQ', 'SUX', 'SJT', 'GGG', 'LSE', 'LBE', 'ACY', 'LYH', 'PGV', 'HVN', 'EWN', 'DHN', 'PIH', 'IMT', 'WYS', 'CPR', 'SCE', 'HLN', 'SUN', 'ISN', 'CMX', 'EAU', 'LWB', 'SHD', 'LBF', 'HYS', 'SLN', 'EAR', 'VEL', 'CNY', 'GCC', 'RKS', 'PUB', 'LBL', 'MKG', 'PAH', 'CGI', 'UIN', 'BFF', 'DVL', 'JMS', 'LAR', 'SGU', 'PRC', 'ASE', 'RDD', 'ACV', 'OTH', 'COD', 'LWS', 'ABR', 'APN', 'ESC', 'PLN', 'BJI', 'BRD', 'BTM', 'CDC', 'CIU', 'EKO', 'TWF', 'HIB', 'BGM', 'RHI', 'ITH', 'INL', 'FLG', 'YUM', 'MEI', 'PIB', 'HDN']\n",
            "The Destination airports covered are:  ['CVG', 'PWM', 'RDU', 'MSP', 'MSN', 'SHV', 'CLT', 'PIT', 'RIC', 'IAH', 'ATL', 'JFK', 'DCA', 'DTW', 'LGA', 'TYS', 'PVD', 'FNT', 'LIT', 'BUF', 'ORD', 'TRI', 'IND', 'BGR', 'AVP', 'BWI', 'LEX', 'BDL', 'GRR', 'CWA', 'TUL', 'MEM', 'AGS', 'EWR', 'MGM', 'PHL', 'SYR', 'OMA', 'STL', 'TVC', 'ORF', 'CLE', 'ABY', 'BOS', 'OAJ', 'TLH', 'BTR', 'SAT', 'JAX', 'BNA', 'CHO', 'VLD', 'ROC', 'DFW', 'GNV', 'ACK', 'PBI', 'CHS', 'GRB', 'MOT', 'MKE', 'DSM', 'ILM', 'GSO', 'MCI', 'SBN', 'BTV', 'MVY', 'XNA', 'RST', 'EVV', 'HPN', 'RSW', 'MDT', 'ROA', 'GSP', 'MCO', 'CSG', 'SAV', 'PHF', 'ALB', 'CHA', 'ABE', 'BMI', 'MSY', 'IAD', 'GTR', 'CID', 'CAK', 'ATW', 'AUS', 'BQK', 'MLI', 'CAE', 'CMH', 'AVL', 'MBS', 'FLL', 'SDF', 'TPA', 'LNK', 'SRQ', 'MHT', 'BHM', 'LAS', 'SFO', 'SAN', 'RNO', 'LGB', 'ANC', 'PDX', 'SJU', 'ABQ', 'SLC', 'DEN', 'LAX', 'PHX', 'OAK', 'SMF', 'SEA', 'STX', 'BUR', 'DAB', 'SJC', 'SWF', 'HOU', 'BQN', 'PSE', 'ORH', 'HYA', 'STT', 'ONT', 'DAL', 'ECP', 'ELP', 'HRL', 'MAF', 'MDW', 'OKC', 'PNS', 'SNA', 'AMA', 'BOI', 'GEG', 'ICT', 'LBB', 'TUS', 'ISP', 'CRP', 'MFE', 'LFT', 'VPS', 'JAN', 'COS', 'MOB', 'DRO', 'GPT', 'BFL', 'COU', 'SBP', 'MTJ', 'SBA', 'PSP', 'FSD', 'FSM', 'BRO', 'PIA', 'STS', 'FAT', 'RAP', 'MRY', 'HSV', 'BIS', 'DAY', 'BZN', 'MIA', 'EYW', 'MYR', 'HHH', 'GJT', 'FAR', 'MLU', 'LRD', 'CLL', 'LCH', 'FWA', 'GRK', 'SGF', 'HOB', 'LAW', 'MHK', 'SAF', 'JLN', 'ROW', 'GRI', 'AEX', 'CRW', 'LAN', 'ERI', 'HNL', 'KOA', 'OGG', 'EGE', 'LIH', 'JAC', 'MLB', 'RDM', 'BET', 'ADQ', 'BRW', 'SCC', 'FAI', 'JNU', 'CDV', 'YAK', 'SIT', 'KTN', 'WRG', 'PSG', 'OME', 'OTZ', 'ADK', 'FCA', 'BIL', 'PSC', 'FAY', 'MSO', 'ITO', 'PPG', 'MFR', 'DLH', 'EUG', 'GUM', 'SPN', 'TTN', 'BKG', 'AZA', 'SFB', 'LCK', 'BLI', 'SCK', 'PIE', 'RFD', 'PVU', 'PBG', 'BLV', 'PGD', 'SPI', 'USA', 'TOL', 'IDA', 'ELM', 'HTS', 'HGR', 'SMX', 'OGD', 'GFK', 'STC', 'GTF', 'IAG', 'CKB', 'OWB', 'PSM', 'ABI', 'TYR', 'ALO', 'SUX', 'AZO', 'ACT', 'CMI', 'BPT', 'TXK', 'SWO', 'SPS', 'DBQ', 'SJT', 'GGG', 'LSE', 'MQT', 'GCK', 'LBE', 'ACY', 'LYH', 'PGV', 'HVN', 'EWN', 'DHN', 'PIH', 'WYS', 'SCE', 'IMT', 'HLN', 'ASE', 'SUN', 'ISN', 'EAR', 'SGU', 'VEL', 'SHD', 'LWB', 'MKG', 'SLN', 'HYS', 'BFF', 'PUB', 'LBL', 'CMX', 'EAU', 'PAH', 'UIN', 'RKS', 'CGI', 'CNY', 'JMS', 'DVL', 'LAR', 'GCC', 'LBF', 'PRC', 'RDD', 'ACV', 'OTH', 'COD', 'LWS', 'ABR', 'APN', 'PLN', 'BJI', 'CPR', 'BRD', 'BTM', 'CDC', 'CIU', 'ESC', 'EKO', 'ITH', 'HIB', 'BGM', 'TWF', 'RHI', 'INL', 'FLG', 'YUM', 'MEI', 'PIB', 'HDN']\n"
          ]
        }
      ],
      "source": [
        "# to answer above questions, complete the following code\n",
        "print(\"The #rows and #columns are \", df_temp.shape[0], \" and \", df_temp.shape[1])\n",
        "print(\"The years in this dataset are: \", df_temp['Year'].unique())\n",
        "print(\"The months covered in this dataset are: \", df_temp['Month'].unique())\n",
        "print(\"The date range for data is :\" , df_temp['FlightDate'].min(), \" to \", df_temp['FlightDate'].max())\n",
        "print(\"The airlines covered in this dataset are: \", df_temp['Reporting_Airline'].unique().tolist())\n",
        "print(\"The Origin airports covered are: \", df_temp['Origin'].unique().tolist())\n",
        "print(\"The Destination airports covered are: \", df_temp['Dest'].unique().tolist())\n"
      ]
    },
    {
      "cell_type": "markdown",
      "metadata": {
        "id": "5Ym3rF8PGceH"
      },
      "source": [
        "**Question**: What is the count of all the origin and destination airports?\n",
        "\n",
        "**Hint**: You can use the Pandas `values_count` function ([documentation](https://pandas.pydata.org/pandas-docs/stable/reference/api/pandas.Series.value_counts.html)) to find out the values for each airport using the columns `Origin` and `Dest`."
      ]
    },
    {
      "cell_type": "code",
      "execution_count": 14,
      "metadata": {
        "colab": {
          "base_uri": "https://localhost:8080/",
          "height": 423
        },
        "id": "xILUxZzIGceH",
        "outputId": "498cfdc9-40ea-4660-93c1-c9304cd3f6c9"
      },
      "outputs": [
        {
          "output_type": "execute_result",
          "data": {
            "text/plain": [
              "     Origin  Destination\n",
              "ABE     303          303\n",
              "ABI     169          169\n",
              "ABQ    2077         2076\n",
              "ABR      60           60\n",
              "ABY      79           79\n",
              "..      ...          ...\n",
              "WRG      60           60\n",
              "WYS      52           52\n",
              "XNA    1004         1004\n",
              "YAK      60           60\n",
              "YUM      96           96\n",
              "\n",
              "[346 rows x 2 columns]"
            ],
            "text/html": [
              "\n",
              "  <div id=\"df-9ab32deb-b965-4d66-b277-11aa9caccbba\" class=\"colab-df-container\">\n",
              "    <div>\n",
              "<style scoped>\n",
              "    .dataframe tbody tr th:only-of-type {\n",
              "        vertical-align: middle;\n",
              "    }\n",
              "\n",
              "    .dataframe tbody tr th {\n",
              "        vertical-align: top;\n",
              "    }\n",
              "\n",
              "    .dataframe thead th {\n",
              "        text-align: right;\n",
              "    }\n",
              "</style>\n",
              "<table border=\"1\" class=\"dataframe\">\n",
              "  <thead>\n",
              "    <tr style=\"text-align: right;\">\n",
              "      <th></th>\n",
              "      <th>Origin</th>\n",
              "      <th>Destination</th>\n",
              "    </tr>\n",
              "  </thead>\n",
              "  <tbody>\n",
              "    <tr>\n",
              "      <th>ABE</th>\n",
              "      <td>303</td>\n",
              "      <td>303</td>\n",
              "    </tr>\n",
              "    <tr>\n",
              "      <th>ABI</th>\n",
              "      <td>169</td>\n",
              "      <td>169</td>\n",
              "    </tr>\n",
              "    <tr>\n",
              "      <th>ABQ</th>\n",
              "      <td>2077</td>\n",
              "      <td>2076</td>\n",
              "    </tr>\n",
              "    <tr>\n",
              "      <th>ABR</th>\n",
              "      <td>60</td>\n",
              "      <td>60</td>\n",
              "    </tr>\n",
              "    <tr>\n",
              "      <th>ABY</th>\n",
              "      <td>79</td>\n",
              "      <td>79</td>\n",
              "    </tr>\n",
              "    <tr>\n",
              "      <th>...</th>\n",
              "      <td>...</td>\n",
              "      <td>...</td>\n",
              "    </tr>\n",
              "    <tr>\n",
              "      <th>WRG</th>\n",
              "      <td>60</td>\n",
              "      <td>60</td>\n",
              "    </tr>\n",
              "    <tr>\n",
              "      <th>WYS</th>\n",
              "      <td>52</td>\n",
              "      <td>52</td>\n",
              "    </tr>\n",
              "    <tr>\n",
              "      <th>XNA</th>\n",
              "      <td>1004</td>\n",
              "      <td>1004</td>\n",
              "    </tr>\n",
              "    <tr>\n",
              "      <th>YAK</th>\n",
              "      <td>60</td>\n",
              "      <td>60</td>\n",
              "    </tr>\n",
              "    <tr>\n",
              "      <th>YUM</th>\n",
              "      <td>96</td>\n",
              "      <td>96</td>\n",
              "    </tr>\n",
              "  </tbody>\n",
              "</table>\n",
              "<p>346 rows × 2 columns</p>\n",
              "</div>\n",
              "    <div class=\"colab-df-buttons\">\n",
              "\n",
              "  <div class=\"colab-df-container\">\n",
              "    <button class=\"colab-df-convert\" onclick=\"convertToInteractive('df-9ab32deb-b965-4d66-b277-11aa9caccbba')\"\n",
              "            title=\"Convert this dataframe to an interactive table.\"\n",
              "            style=\"display:none;\">\n",
              "\n",
              "  <svg xmlns=\"http://www.w3.org/2000/svg\" height=\"24px\" viewBox=\"0 -960 960 960\">\n",
              "    <path d=\"M120-120v-720h720v720H120Zm60-500h600v-160H180v160Zm220 220h160v-160H400v160Zm0 220h160v-160H400v160ZM180-400h160v-160H180v160Zm440 0h160v-160H620v160ZM180-180h160v-160H180v160Zm440 0h160v-160H620v160Z\"/>\n",
              "  </svg>\n",
              "    </button>\n",
              "\n",
              "  <style>\n",
              "    .colab-df-container {\n",
              "      display:flex;\n",
              "      gap: 12px;\n",
              "    }\n",
              "\n",
              "    .colab-df-convert {\n",
              "      background-color: #E8F0FE;\n",
              "      border: none;\n",
              "      border-radius: 50%;\n",
              "      cursor: pointer;\n",
              "      display: none;\n",
              "      fill: #1967D2;\n",
              "      height: 32px;\n",
              "      padding: 0 0 0 0;\n",
              "      width: 32px;\n",
              "    }\n",
              "\n",
              "    .colab-df-convert:hover {\n",
              "      background-color: #E2EBFA;\n",
              "      box-shadow: 0px 1px 2px rgba(60, 64, 67, 0.3), 0px 1px 3px 1px rgba(60, 64, 67, 0.15);\n",
              "      fill: #174EA6;\n",
              "    }\n",
              "\n",
              "    .colab-df-buttons div {\n",
              "      margin-bottom: 4px;\n",
              "    }\n",
              "\n",
              "    [theme=dark] .colab-df-convert {\n",
              "      background-color: #3B4455;\n",
              "      fill: #D2E3FC;\n",
              "    }\n",
              "\n",
              "    [theme=dark] .colab-df-convert:hover {\n",
              "      background-color: #434B5C;\n",
              "      box-shadow: 0px 1px 3px 1px rgba(0, 0, 0, 0.15);\n",
              "      filter: drop-shadow(0px 1px 2px rgba(0, 0, 0, 0.3));\n",
              "      fill: #FFFFFF;\n",
              "    }\n",
              "  </style>\n",
              "\n",
              "    <script>\n",
              "      const buttonEl =\n",
              "        document.querySelector('#df-9ab32deb-b965-4d66-b277-11aa9caccbba button.colab-df-convert');\n",
              "      buttonEl.style.display =\n",
              "        google.colab.kernel.accessAllowed ? 'block' : 'none';\n",
              "\n",
              "      async function convertToInteractive(key) {\n",
              "        const element = document.querySelector('#df-9ab32deb-b965-4d66-b277-11aa9caccbba');\n",
              "        const dataTable =\n",
              "          await google.colab.kernel.invokeFunction('convertToInteractive',\n",
              "                                                    [key], {});\n",
              "        if (!dataTable) return;\n",
              "\n",
              "        const docLinkHtml = 'Like what you see? Visit the ' +\n",
              "          '<a target=\"_blank\" href=https://colab.research.google.com/notebooks/data_table.ipynb>data table notebook</a>'\n",
              "          + ' to learn more about interactive tables.';\n",
              "        element.innerHTML = '';\n",
              "        dataTable['output_type'] = 'display_data';\n",
              "        await google.colab.output.renderOutput(dataTable, element);\n",
              "        const docLink = document.createElement('div');\n",
              "        docLink.innerHTML = docLinkHtml;\n",
              "        element.appendChild(docLink);\n",
              "      }\n",
              "    </script>\n",
              "  </div>\n",
              "\n",
              "\n",
              "<div id=\"df-65af2935-085a-4e0e-b8e2-e9da4e6f6680\">\n",
              "  <button class=\"colab-df-quickchart\" onclick=\"quickchart('df-65af2935-085a-4e0e-b8e2-e9da4e6f6680')\"\n",
              "            title=\"Suggest charts.\"\n",
              "            style=\"display:none;\">\n",
              "\n",
              "<svg xmlns=\"http://www.w3.org/2000/svg\" height=\"24px\"viewBox=\"0 0 24 24\"\n",
              "     width=\"24px\">\n",
              "    <g>\n",
              "        <path d=\"M19 3H5c-1.1 0-2 .9-2 2v14c0 1.1.9 2 2 2h14c1.1 0 2-.9 2-2V5c0-1.1-.9-2-2-2zM9 17H7v-7h2v7zm4 0h-2V7h2v10zm4 0h-2v-4h2v4z\"/>\n",
              "    </g>\n",
              "</svg>\n",
              "  </button>\n",
              "\n",
              "<style>\n",
              "  .colab-df-quickchart {\n",
              "      --bg-color: #E8F0FE;\n",
              "      --fill-color: #1967D2;\n",
              "      --hover-bg-color: #E2EBFA;\n",
              "      --hover-fill-color: #174EA6;\n",
              "      --disabled-fill-color: #AAA;\n",
              "      --disabled-bg-color: #DDD;\n",
              "  }\n",
              "\n",
              "  [theme=dark] .colab-df-quickchart {\n",
              "      --bg-color: #3B4455;\n",
              "      --fill-color: #D2E3FC;\n",
              "      --hover-bg-color: #434B5C;\n",
              "      --hover-fill-color: #FFFFFF;\n",
              "      --disabled-bg-color: #3B4455;\n",
              "      --disabled-fill-color: #666;\n",
              "  }\n",
              "\n",
              "  .colab-df-quickchart {\n",
              "    background-color: var(--bg-color);\n",
              "    border: none;\n",
              "    border-radius: 50%;\n",
              "    cursor: pointer;\n",
              "    display: none;\n",
              "    fill: var(--fill-color);\n",
              "    height: 32px;\n",
              "    padding: 0;\n",
              "    width: 32px;\n",
              "  }\n",
              "\n",
              "  .colab-df-quickchart:hover {\n",
              "    background-color: var(--hover-bg-color);\n",
              "    box-shadow: 0 1px 2px rgba(60, 64, 67, 0.3), 0 1px 3px 1px rgba(60, 64, 67, 0.15);\n",
              "    fill: var(--button-hover-fill-color);\n",
              "  }\n",
              "\n",
              "  .colab-df-quickchart-complete:disabled,\n",
              "  .colab-df-quickchart-complete:disabled:hover {\n",
              "    background-color: var(--disabled-bg-color);\n",
              "    fill: var(--disabled-fill-color);\n",
              "    box-shadow: none;\n",
              "  }\n",
              "\n",
              "  .colab-df-spinner {\n",
              "    border: 2px solid var(--fill-color);\n",
              "    border-color: transparent;\n",
              "    border-bottom-color: var(--fill-color);\n",
              "    animation:\n",
              "      spin 1s steps(1) infinite;\n",
              "  }\n",
              "\n",
              "  @keyframes spin {\n",
              "    0% {\n",
              "      border-color: transparent;\n",
              "      border-bottom-color: var(--fill-color);\n",
              "      border-left-color: var(--fill-color);\n",
              "    }\n",
              "    20% {\n",
              "      border-color: transparent;\n",
              "      border-left-color: var(--fill-color);\n",
              "      border-top-color: var(--fill-color);\n",
              "    }\n",
              "    30% {\n",
              "      border-color: transparent;\n",
              "      border-left-color: var(--fill-color);\n",
              "      border-top-color: var(--fill-color);\n",
              "      border-right-color: var(--fill-color);\n",
              "    }\n",
              "    40% {\n",
              "      border-color: transparent;\n",
              "      border-right-color: var(--fill-color);\n",
              "      border-top-color: var(--fill-color);\n",
              "    }\n",
              "    60% {\n",
              "      border-color: transparent;\n",
              "      border-right-color: var(--fill-color);\n",
              "    }\n",
              "    80% {\n",
              "      border-color: transparent;\n",
              "      border-right-color: var(--fill-color);\n",
              "      border-bottom-color: var(--fill-color);\n",
              "    }\n",
              "    90% {\n",
              "      border-color: transparent;\n",
              "      border-bottom-color: var(--fill-color);\n",
              "    }\n",
              "  }\n",
              "</style>\n",
              "\n",
              "  <script>\n",
              "    async function quickchart(key) {\n",
              "      const quickchartButtonEl =\n",
              "        document.querySelector('#' + key + ' button');\n",
              "      quickchartButtonEl.disabled = true;  // To prevent multiple clicks.\n",
              "      quickchartButtonEl.classList.add('colab-df-spinner');\n",
              "      try {\n",
              "        const charts = await google.colab.kernel.invokeFunction(\n",
              "            'suggestCharts', [key], {});\n",
              "      } catch (error) {\n",
              "        console.error('Error during call to suggestCharts:', error);\n",
              "      }\n",
              "      quickchartButtonEl.classList.remove('colab-df-spinner');\n",
              "      quickchartButtonEl.classList.add('colab-df-quickchart-complete');\n",
              "    }\n",
              "    (() => {\n",
              "      let quickchartButtonEl =\n",
              "        document.querySelector('#df-65af2935-085a-4e0e-b8e2-e9da4e6f6680 button');\n",
              "      quickchartButtonEl.style.display =\n",
              "        google.colab.kernel.accessAllowed ? 'block' : 'none';\n",
              "    })();\n",
              "  </script>\n",
              "</div>\n",
              "    </div>\n",
              "  </div>\n"
            ]
          },
          "metadata": {},
          "execution_count": 14
        }
      ],
      "source": [
        "# Get counts for each origin and destination airport\n",
        "origin_counts = df_temp['Origin'].value_counts()\n",
        "dest_counts = df_temp['Dest'].value_counts()\n",
        "\n",
        "# Store the counts in a DataFrame\n",
        "counts = pd.DataFrame({'Origin': origin_counts, 'Destination': dest_counts})\n",
        "\n",
        "counts\n"
      ]
    },
    {
      "cell_type": "markdown",
      "metadata": {
        "id": "y-C28DTYGceH"
      },
      "source": [
        "**Question**: Print the top 15 origin and destination airports based on number of flights in the dataset.\n",
        "\n",
        "**Hint**: You can use the Pandas `sort_values` function ([documentation](https://pandas.pydata.org/pandas-docs/stable/reference/api/pandas.DataFrame.sort_values.html))."
      ]
    },
    {
      "cell_type": "code",
      "execution_count": 15,
      "metadata": {
        "colab": {
          "base_uri": "https://localhost:8080/"
        },
        "id": "MK_2EYQUGceH",
        "outputId": "f5cad58c-c153-4a12-d5f6-f0da52a6b946"
      },
      "outputs": [
        {
          "output_type": "stream",
          "name": "stdout",
          "text": [
            " top 15 origin airports:\n",
            "      Origin  Destination\n",
            "ATL   31525        31521\n",
            "ORD   28257        28250\n",
            "DFW   22802        22795\n",
            "DEN   19807        19807\n",
            "CLT   19655        19654\n",
            "LAX   17875        17873\n",
            "SFO   14332        14348\n",
            "IAH   14210        14203\n",
            "LGA   13850        13850\n",
            "MSP   13349        13347\n",
            "LAS   13318        13322\n",
            "PHX   13126        13128\n",
            "DTW   12725        12724\n",
            "BOS   12223        12227\n",
            "SEA   11872        11877\n",
            "\n",
            "top 15 destination airports :\n",
            "      Origin  Destination\n",
            "ATL   31525        31521\n",
            "ORD   28257        28250\n",
            "DFW   22802        22795\n",
            "DEN   19807        19807\n",
            "CLT   19655        19654\n",
            "LAX   17875        17873\n",
            "SFO   14332        14348\n",
            "IAH   14210        14203\n",
            "LGA   13850        13850\n",
            "MSP   13349        13347\n",
            "LAS   13318        13322\n",
            "PHX   13126        13128\n",
            "DTW   12725        12724\n",
            "BOS   12223        12227\n",
            "SEA   11872        11877\n"
          ]
        }
      ],
      "source": [
        "# top 15 origin airports\n",
        "print(\" top 15 origin airports:\\n\",counts.sort_values(by='Origin', ascending=False).head(15))\n",
        "# top 15 destinaton airports\n",
        "print(\"\\ntop 15 destination airports :\\n\",counts.sort_values(by='Destination', ascending=False).head(15))\n"
      ]
    },
    {
      "cell_type": "markdown",
      "metadata": {
        "id": "vYJ3i6PuGceI"
      },
      "source": [
        "**Question**: Given all the information about a flight trip, can you predict if it would be delayed?"
      ]
    },
    {
      "cell_type": "markdown",
      "source": [
        "Yes, given the right features and a sufficiently large dataset, you can predict if a flight would be delayed using machine learning models. Flight delays can be influenced by a number of factors, including but not limited to weather conditions, air traffic, technical issues with the aircraft, and issues at either the departure or arrival airports. By training a model on historical data that includes these factors, the model can learn patterns and correlations that lead to delays, allowing it to make predictions on future flights.\n"
      ],
      "metadata": {
        "id": "IQ-QxIzmGceI"
      }
    },
    {
      "cell_type": "markdown",
      "metadata": {
        "id": "ptCLFy8zGceI"
      },
      "source": [
        "Now, assume you are traveling from San Francisco to Los Angeles on a work trip. You want to have an ideas if your flight will be delayed, given a set of features, so that you can manage your reservations in Los Angeles better. How many features from this dataset would you know before your flight?\n",
        "\n",
        "Columns such as `DepDelay`, `ArrDelay`, `CarrierDelay`, `WeatherDelay`, `NASDelay`, `SecurityDelay`, `LateAircraftDelay`, and `DivArrDelay` contain information about a delay. But this delay could have occured at the origin or destination. If there were a sudden weather delay 10 minutes before landing, this data would not be helpful in managing your Los Angeles reservations.\n",
        "\n",
        "So to simplify the problem statement, consider the following columns to predict an arrival delay:<br>\n",
        "\n",
        "`Year`, `Quarter`, `Month`, `DayofMonth`, `DayOfWeek`, `FlightDate`, `Reporting_Airline`, `Origin`, `OriginState`, `Dest`, `DestState`, `CRSDepTime`, `DepDelayMinutes`, `DepartureDelayGroups`, `Cancelled`, `Diverted`, `Distance`, `DistanceGroup`, `ArrDelay`, `ArrDelayMinutes`, `ArrDel15`, `AirTime`\n",
        "\n",
        "You will also filter the source and destination airports to be:\n",
        "- Top airports: ATL, ORD, DFW, DEN, CLT, LAX, IAH, PHX, SFO\n",
        "- Top 5 airlines: UA, OO, WN, AA, DL\n",
        "\n",
        "This should help in reducing the size of data across the CSV files to be combined."
      ]
    },
    {
      "cell_type": "markdown",
      "metadata": {
        "id": "7-qq-XmwGceI"
      },
      "source": [
        "#### Combine all CSV files\n",
        "\n",
        "**Hint**:  \n",
        "First, create an empy dataframe that you will use to copy your individual dataframes from each file. Then, for each file in the `csv_files` list:\n",
        "\n",
        "1. Read the CSV file into a dataframe  \n",
        "2. Filter the columns based on the `filter_cols` variable\n",
        "\n",
        "```\n",
        "        columns = ['col1', 'col2']\n",
        "        df_filter = df[columns]\n",
        "```\n",
        "\n",
        "3. Keep only the subset_vals in each of the subset_cols. Use the `isin` Pandas function ([documentation](https://pandas.pydata.org/pandas-docs/stable/reference/api/pandas.DataFrame.isin.html)) to check if the `val` is in the dataframe column and then choose the rows that include it.\n",
        "\n",
        "```\n",
        "        df_eg[df_eg['col1'].isin('5')]\n",
        "```\n",
        "\n",
        "4. Concatenate the dataframe with the empty dataframe"
      ]
    },
    {
      "cell_type": "code",
      "source": [
        "from tqdm import tqdm\n",
        "import pandas as pd\n",
        "\n",
        "def combine_csv(csv_files, filter_cols, subset_cols, subset_vals, file_name):\n",
        "    \"\"\"\n",
        "    Combine csv files into one Data Frame\n",
        "    csv_files: list of csv file paths\n",
        "    filter_cols: list of columns to filter\n",
        "    subset_cols: list of columns to subset rows\n",
        "    subset_vals: list of list of values to subset rows\n",
        "    \"\"\"\n",
        "    # Create an empty list to store DataFrames\n",
        "    dfs = []\n",
        "\n",
        "    # Iterate over each CSV file using tqdm for progress bar\n",
        "    for file in tqdm(csv_files, desc=\"Processing CSVs\", unit=\"file\"):\n",
        "        # Read the CSV file into a dataframe\n",
        "        df_temp = pd.read_csv(f\"{csv_base_path}/{file}\", usecols=filter_cols)\n",
        "\n",
        "        # Filter rows based on subset_vals and subset_cols\n",
        "        for col, vals in zip(subset_cols, subset_vals):\n",
        "            df_temp = df_temp[df_temp[col].isin(vals)]\n",
        "\n",
        "        # Append the DataFrame to the list\n",
        "        dfs.append(df_temp)\n",
        "\n",
        "    # Concatenate all DataFrames in the list\n",
        "    df_combined = pd.concat(dfs, axis=0, ignore_index=True)\n",
        "\n",
        "    # Optionally save the combined dataframe to a new CSV file\n",
        "    #df_combined.to_csv(file_name, index=False)\n",
        "\n",
        "    return df_combined\n"
      ],
      "metadata": {
        "id": "F-ku7h3wrEDg"
      },
      "execution_count": 17,
      "outputs": []
    },
    {
      "cell_type": "code",
      "execution_count": 18,
      "metadata": {
        "id": "pnPnOV1nGceX"
      },
      "outputs": [],
      "source": [
        "#cols is the list of columns to predict Arrival Delay\n",
        "cols = ['Year','Quarter','Month','DayofMonth','DayOfWeek','FlightDate',\n",
        "        'Reporting_Airline','Origin','OriginState','Dest','DestState',\n",
        "        'CRSDepTime','Cancelled','Diverted','Distance','DistanceGroup',\n",
        "        'ArrDelay','ArrDelayMinutes','ArrDel15','AirTime']\n",
        "\n",
        "subset_cols = ['Origin', 'Dest', 'Reporting_Airline']\n",
        "\n",
        "# subset_vals is a list collection of the top origin and destination airports and top 5 airlines\n",
        "subset_vals = [['ATL', 'ORD', 'DFW', 'DEN', 'CLT', 'LAX', 'IAH', 'PHX', 'SFO'],\n",
        "               ['ATL', 'ORD', 'DFW', 'DEN', 'CLT', 'LAX', 'IAH', 'PHX', 'SFO'],\n",
        "               ['UA', 'OO', 'WN', 'AA', 'DL']]"
      ]
    },
    {
      "cell_type": "markdown",
      "metadata": {
        "id": "Sqit0Pl6GceX"
      },
      "source": [
        "Use the function above to merge all the different files into a single file that you can read easily.\n",
        "\n",
        "**Note**: This will take 5-7 minutes to complete."
      ]
    },
    {
      "cell_type": "code",
      "execution_count": 19,
      "metadata": {
        "id": "ZN1GJQZfGceY",
        "colab": {
          "base_uri": "https://localhost:8080/"
        },
        "outputId": "a16283ff-ee13-46f3-fd41-812b3e11c05b"
      },
      "outputs": [
        {
          "output_type": "stream",
          "name": "stderr",
          "text": [
            "Processing CSVs: 100%|██████████| 60/60 [03:00<00:00,  3.00s/file]\n"
          ]
        },
        {
          "output_type": "stream",
          "name": "stdout",
          "text": [
            "csv's merged in 3.01 minutes\n"
          ]
        }
      ],
      "source": [
        "start = time.time()\n",
        "\n",
        "# Define the file name for the combined CSV\n",
        "combined_csv_filename = f\"{base_path}/combined_files.csv\"\n",
        "\n",
        "# Call the combine_csv function\n",
        "combined_df = combine_csv(csv_files, cols, subset_cols, subset_vals, combined_csv_filename)\n",
        "\n",
        "\n",
        "print(f'csv\\'s merged in {round((time.time() - start)/60,2)} minutes')"
      ]
    },
    {
      "cell_type": "markdown",
      "metadata": {
        "id": "o7vqu2IMGceY"
      },
      "source": [
        "#### Load dataset\n",
        "\n",
        "Load the combined dataset."
      ]
    },
    {
      "cell_type": "code",
      "execution_count": 20,
      "metadata": {
        "id": "3UFEbduKGceY"
      },
      "outputs": [],
      "source": [
        "data = combined_df# Enter your code here to read the combined csv file."
      ]
    },
    {
      "cell_type": "markdown",
      "metadata": {
        "id": "oDoMCYu_GceY"
      },
      "source": [
        "Print the first 5 records."
      ]
    },
    {
      "cell_type": "code",
      "execution_count": 21,
      "metadata": {
        "id": "PY0GVqNBGceY",
        "colab": {
          "base_uri": "https://localhost:8080/",
          "height": 226
        },
        "outputId": "5c449f06-99cc-4e2f-fa81-e7582d6b7725"
      },
      "outputs": [
        {
          "output_type": "execute_result",
          "data": {
            "text/plain": [
              "   Year  Quarter  Month  DayofMonth  DayOfWeek  FlightDate Reporting_Airline  \\\n",
              "0  2015        4     10           1          4  2015-10-01                AA   \n",
              "1  2015        4     10           2          5  2015-10-02                AA   \n",
              "2  2015        4     10           3          6  2015-10-03                AA   \n",
              "3  2015        4     10           4          7  2015-10-04                AA   \n",
              "4  2015        4     10           5          1  2015-10-05                AA   \n",
              "\n",
              "  Origin OriginState Dest DestState  CRSDepTime  ArrDelay  ArrDelayMinutes  \\\n",
              "0    ORD          IL  CLT        NC        2149      -8.0              0.0   \n",
              "1    ORD          IL  CLT        NC        2149      -6.0              0.0   \n",
              "2    ORD          IL  CLT        NC        2149     -18.0              0.0   \n",
              "3    ORD          IL  CLT        NC        2149     -15.0              0.0   \n",
              "4    ORD          IL  CLT        NC        2145     -36.0              0.0   \n",
              "\n",
              "   ArrDel15  Cancelled  Diverted  AirTime  Distance  DistanceGroup  \n",
              "0       0.0        0.0       0.0     89.0     599.0              3  \n",
              "1       0.0        0.0       0.0     98.0     599.0              3  \n",
              "2       0.0        0.0       0.0     93.0     599.0              3  \n",
              "3       0.0        0.0       0.0     88.0     599.0              3  \n",
              "4       0.0        0.0       0.0     76.0     599.0              3  "
            ],
            "text/html": [
              "\n",
              "  <div id=\"df-e06e75f7-9cbf-4f16-9a54-a9dd835a9b75\" class=\"colab-df-container\">\n",
              "    <div>\n",
              "<style scoped>\n",
              "    .dataframe tbody tr th:only-of-type {\n",
              "        vertical-align: middle;\n",
              "    }\n",
              "\n",
              "    .dataframe tbody tr th {\n",
              "        vertical-align: top;\n",
              "    }\n",
              "\n",
              "    .dataframe thead th {\n",
              "        text-align: right;\n",
              "    }\n",
              "</style>\n",
              "<table border=\"1\" class=\"dataframe\">\n",
              "  <thead>\n",
              "    <tr style=\"text-align: right;\">\n",
              "      <th></th>\n",
              "      <th>Year</th>\n",
              "      <th>Quarter</th>\n",
              "      <th>Month</th>\n",
              "      <th>DayofMonth</th>\n",
              "      <th>DayOfWeek</th>\n",
              "      <th>FlightDate</th>\n",
              "      <th>Reporting_Airline</th>\n",
              "      <th>Origin</th>\n",
              "      <th>OriginState</th>\n",
              "      <th>Dest</th>\n",
              "      <th>DestState</th>\n",
              "      <th>CRSDepTime</th>\n",
              "      <th>ArrDelay</th>\n",
              "      <th>ArrDelayMinutes</th>\n",
              "      <th>ArrDel15</th>\n",
              "      <th>Cancelled</th>\n",
              "      <th>Diverted</th>\n",
              "      <th>AirTime</th>\n",
              "      <th>Distance</th>\n",
              "      <th>DistanceGroup</th>\n",
              "    </tr>\n",
              "  </thead>\n",
              "  <tbody>\n",
              "    <tr>\n",
              "      <th>0</th>\n",
              "      <td>2015</td>\n",
              "      <td>4</td>\n",
              "      <td>10</td>\n",
              "      <td>1</td>\n",
              "      <td>4</td>\n",
              "      <td>2015-10-01</td>\n",
              "      <td>AA</td>\n",
              "      <td>ORD</td>\n",
              "      <td>IL</td>\n",
              "      <td>CLT</td>\n",
              "      <td>NC</td>\n",
              "      <td>2149</td>\n",
              "      <td>-8.0</td>\n",
              "      <td>0.0</td>\n",
              "      <td>0.0</td>\n",
              "      <td>0.0</td>\n",
              "      <td>0.0</td>\n",
              "      <td>89.0</td>\n",
              "      <td>599.0</td>\n",
              "      <td>3</td>\n",
              "    </tr>\n",
              "    <tr>\n",
              "      <th>1</th>\n",
              "      <td>2015</td>\n",
              "      <td>4</td>\n",
              "      <td>10</td>\n",
              "      <td>2</td>\n",
              "      <td>5</td>\n",
              "      <td>2015-10-02</td>\n",
              "      <td>AA</td>\n",
              "      <td>ORD</td>\n",
              "      <td>IL</td>\n",
              "      <td>CLT</td>\n",
              "      <td>NC</td>\n",
              "      <td>2149</td>\n",
              "      <td>-6.0</td>\n",
              "      <td>0.0</td>\n",
              "      <td>0.0</td>\n",
              "      <td>0.0</td>\n",
              "      <td>0.0</td>\n",
              "      <td>98.0</td>\n",
              "      <td>599.0</td>\n",
              "      <td>3</td>\n",
              "    </tr>\n",
              "    <tr>\n",
              "      <th>2</th>\n",
              "      <td>2015</td>\n",
              "      <td>4</td>\n",
              "      <td>10</td>\n",
              "      <td>3</td>\n",
              "      <td>6</td>\n",
              "      <td>2015-10-03</td>\n",
              "      <td>AA</td>\n",
              "      <td>ORD</td>\n",
              "      <td>IL</td>\n",
              "      <td>CLT</td>\n",
              "      <td>NC</td>\n",
              "      <td>2149</td>\n",
              "      <td>-18.0</td>\n",
              "      <td>0.0</td>\n",
              "      <td>0.0</td>\n",
              "      <td>0.0</td>\n",
              "      <td>0.0</td>\n",
              "      <td>93.0</td>\n",
              "      <td>599.0</td>\n",
              "      <td>3</td>\n",
              "    </tr>\n",
              "    <tr>\n",
              "      <th>3</th>\n",
              "      <td>2015</td>\n",
              "      <td>4</td>\n",
              "      <td>10</td>\n",
              "      <td>4</td>\n",
              "      <td>7</td>\n",
              "      <td>2015-10-04</td>\n",
              "      <td>AA</td>\n",
              "      <td>ORD</td>\n",
              "      <td>IL</td>\n",
              "      <td>CLT</td>\n",
              "      <td>NC</td>\n",
              "      <td>2149</td>\n",
              "      <td>-15.0</td>\n",
              "      <td>0.0</td>\n",
              "      <td>0.0</td>\n",
              "      <td>0.0</td>\n",
              "      <td>0.0</td>\n",
              "      <td>88.0</td>\n",
              "      <td>599.0</td>\n",
              "      <td>3</td>\n",
              "    </tr>\n",
              "    <tr>\n",
              "      <th>4</th>\n",
              "      <td>2015</td>\n",
              "      <td>4</td>\n",
              "      <td>10</td>\n",
              "      <td>5</td>\n",
              "      <td>1</td>\n",
              "      <td>2015-10-05</td>\n",
              "      <td>AA</td>\n",
              "      <td>ORD</td>\n",
              "      <td>IL</td>\n",
              "      <td>CLT</td>\n",
              "      <td>NC</td>\n",
              "      <td>2145</td>\n",
              "      <td>-36.0</td>\n",
              "      <td>0.0</td>\n",
              "      <td>0.0</td>\n",
              "      <td>0.0</td>\n",
              "      <td>0.0</td>\n",
              "      <td>76.0</td>\n",
              "      <td>599.0</td>\n",
              "      <td>3</td>\n",
              "    </tr>\n",
              "  </tbody>\n",
              "</table>\n",
              "</div>\n",
              "    <div class=\"colab-df-buttons\">\n",
              "\n",
              "  <div class=\"colab-df-container\">\n",
              "    <button class=\"colab-df-convert\" onclick=\"convertToInteractive('df-e06e75f7-9cbf-4f16-9a54-a9dd835a9b75')\"\n",
              "            title=\"Convert this dataframe to an interactive table.\"\n",
              "            style=\"display:none;\">\n",
              "\n",
              "  <svg xmlns=\"http://www.w3.org/2000/svg\" height=\"24px\" viewBox=\"0 -960 960 960\">\n",
              "    <path d=\"M120-120v-720h720v720H120Zm60-500h600v-160H180v160Zm220 220h160v-160H400v160Zm0 220h160v-160H400v160ZM180-400h160v-160H180v160Zm440 0h160v-160H620v160ZM180-180h160v-160H180v160Zm440 0h160v-160H620v160Z\"/>\n",
              "  </svg>\n",
              "    </button>\n",
              "\n",
              "  <style>\n",
              "    .colab-df-container {\n",
              "      display:flex;\n",
              "      gap: 12px;\n",
              "    }\n",
              "\n",
              "    .colab-df-convert {\n",
              "      background-color: #E8F0FE;\n",
              "      border: none;\n",
              "      border-radius: 50%;\n",
              "      cursor: pointer;\n",
              "      display: none;\n",
              "      fill: #1967D2;\n",
              "      height: 32px;\n",
              "      padding: 0 0 0 0;\n",
              "      width: 32px;\n",
              "    }\n",
              "\n",
              "    .colab-df-convert:hover {\n",
              "      background-color: #E2EBFA;\n",
              "      box-shadow: 0px 1px 2px rgba(60, 64, 67, 0.3), 0px 1px 3px 1px rgba(60, 64, 67, 0.15);\n",
              "      fill: #174EA6;\n",
              "    }\n",
              "\n",
              "    .colab-df-buttons div {\n",
              "      margin-bottom: 4px;\n",
              "    }\n",
              "\n",
              "    [theme=dark] .colab-df-convert {\n",
              "      background-color: #3B4455;\n",
              "      fill: #D2E3FC;\n",
              "    }\n",
              "\n",
              "    [theme=dark] .colab-df-convert:hover {\n",
              "      background-color: #434B5C;\n",
              "      box-shadow: 0px 1px 3px 1px rgba(0, 0, 0, 0.15);\n",
              "      filter: drop-shadow(0px 1px 2px rgba(0, 0, 0, 0.3));\n",
              "      fill: #FFFFFF;\n",
              "    }\n",
              "  </style>\n",
              "\n",
              "    <script>\n",
              "      const buttonEl =\n",
              "        document.querySelector('#df-e06e75f7-9cbf-4f16-9a54-a9dd835a9b75 button.colab-df-convert');\n",
              "      buttonEl.style.display =\n",
              "        google.colab.kernel.accessAllowed ? 'block' : 'none';\n",
              "\n",
              "      async function convertToInteractive(key) {\n",
              "        const element = document.querySelector('#df-e06e75f7-9cbf-4f16-9a54-a9dd835a9b75');\n",
              "        const dataTable =\n",
              "          await google.colab.kernel.invokeFunction('convertToInteractive',\n",
              "                                                    [key], {});\n",
              "        if (!dataTable) return;\n",
              "\n",
              "        const docLinkHtml = 'Like what you see? Visit the ' +\n",
              "          '<a target=\"_blank\" href=https://colab.research.google.com/notebooks/data_table.ipynb>data table notebook</a>'\n",
              "          + ' to learn more about interactive tables.';\n",
              "        element.innerHTML = '';\n",
              "        dataTable['output_type'] = 'display_data';\n",
              "        await google.colab.output.renderOutput(dataTable, element);\n",
              "        const docLink = document.createElement('div');\n",
              "        docLink.innerHTML = docLinkHtml;\n",
              "        element.appendChild(docLink);\n",
              "      }\n",
              "    </script>\n",
              "  </div>\n",
              "\n",
              "\n",
              "<div id=\"df-c0d86683-1ed4-42eb-8875-62fdd346f1a4\">\n",
              "  <button class=\"colab-df-quickchart\" onclick=\"quickchart('df-c0d86683-1ed4-42eb-8875-62fdd346f1a4')\"\n",
              "            title=\"Suggest charts.\"\n",
              "            style=\"display:none;\">\n",
              "\n",
              "<svg xmlns=\"http://www.w3.org/2000/svg\" height=\"24px\"viewBox=\"0 0 24 24\"\n",
              "     width=\"24px\">\n",
              "    <g>\n",
              "        <path d=\"M19 3H5c-1.1 0-2 .9-2 2v14c0 1.1.9 2 2 2h14c1.1 0 2-.9 2-2V5c0-1.1-.9-2-2-2zM9 17H7v-7h2v7zm4 0h-2V7h2v10zm4 0h-2v-4h2v4z\"/>\n",
              "    </g>\n",
              "</svg>\n",
              "  </button>\n",
              "\n",
              "<style>\n",
              "  .colab-df-quickchart {\n",
              "      --bg-color: #E8F0FE;\n",
              "      --fill-color: #1967D2;\n",
              "      --hover-bg-color: #E2EBFA;\n",
              "      --hover-fill-color: #174EA6;\n",
              "      --disabled-fill-color: #AAA;\n",
              "      --disabled-bg-color: #DDD;\n",
              "  }\n",
              "\n",
              "  [theme=dark] .colab-df-quickchart {\n",
              "      --bg-color: #3B4455;\n",
              "      --fill-color: #D2E3FC;\n",
              "      --hover-bg-color: #434B5C;\n",
              "      --hover-fill-color: #FFFFFF;\n",
              "      --disabled-bg-color: #3B4455;\n",
              "      --disabled-fill-color: #666;\n",
              "  }\n",
              "\n",
              "  .colab-df-quickchart {\n",
              "    background-color: var(--bg-color);\n",
              "    border: none;\n",
              "    border-radius: 50%;\n",
              "    cursor: pointer;\n",
              "    display: none;\n",
              "    fill: var(--fill-color);\n",
              "    height: 32px;\n",
              "    padding: 0;\n",
              "    width: 32px;\n",
              "  }\n",
              "\n",
              "  .colab-df-quickchart:hover {\n",
              "    background-color: var(--hover-bg-color);\n",
              "    box-shadow: 0 1px 2px rgba(60, 64, 67, 0.3), 0 1px 3px 1px rgba(60, 64, 67, 0.15);\n",
              "    fill: var(--button-hover-fill-color);\n",
              "  }\n",
              "\n",
              "  .colab-df-quickchart-complete:disabled,\n",
              "  .colab-df-quickchart-complete:disabled:hover {\n",
              "    background-color: var(--disabled-bg-color);\n",
              "    fill: var(--disabled-fill-color);\n",
              "    box-shadow: none;\n",
              "  }\n",
              "\n",
              "  .colab-df-spinner {\n",
              "    border: 2px solid var(--fill-color);\n",
              "    border-color: transparent;\n",
              "    border-bottom-color: var(--fill-color);\n",
              "    animation:\n",
              "      spin 1s steps(1) infinite;\n",
              "  }\n",
              "\n",
              "  @keyframes spin {\n",
              "    0% {\n",
              "      border-color: transparent;\n",
              "      border-bottom-color: var(--fill-color);\n",
              "      border-left-color: var(--fill-color);\n",
              "    }\n",
              "    20% {\n",
              "      border-color: transparent;\n",
              "      border-left-color: var(--fill-color);\n",
              "      border-top-color: var(--fill-color);\n",
              "    }\n",
              "    30% {\n",
              "      border-color: transparent;\n",
              "      border-left-color: var(--fill-color);\n",
              "      border-top-color: var(--fill-color);\n",
              "      border-right-color: var(--fill-color);\n",
              "    }\n",
              "    40% {\n",
              "      border-color: transparent;\n",
              "      border-right-color: var(--fill-color);\n",
              "      border-top-color: var(--fill-color);\n",
              "    }\n",
              "    60% {\n",
              "      border-color: transparent;\n",
              "      border-right-color: var(--fill-color);\n",
              "    }\n",
              "    80% {\n",
              "      border-color: transparent;\n",
              "      border-right-color: var(--fill-color);\n",
              "      border-bottom-color: var(--fill-color);\n",
              "    }\n",
              "    90% {\n",
              "      border-color: transparent;\n",
              "      border-bottom-color: var(--fill-color);\n",
              "    }\n",
              "  }\n",
              "</style>\n",
              "\n",
              "  <script>\n",
              "    async function quickchart(key) {\n",
              "      const quickchartButtonEl =\n",
              "        document.querySelector('#' + key + ' button');\n",
              "      quickchartButtonEl.disabled = true;  // To prevent multiple clicks.\n",
              "      quickchartButtonEl.classList.add('colab-df-spinner');\n",
              "      try {\n",
              "        const charts = await google.colab.kernel.invokeFunction(\n",
              "            'suggestCharts', [key], {});\n",
              "      } catch (error) {\n",
              "        console.error('Error during call to suggestCharts:', error);\n",
              "      }\n",
              "      quickchartButtonEl.classList.remove('colab-df-spinner');\n",
              "      quickchartButtonEl.classList.add('colab-df-quickchart-complete');\n",
              "    }\n",
              "    (() => {\n",
              "      let quickchartButtonEl =\n",
              "        document.querySelector('#df-c0d86683-1ed4-42eb-8875-62fdd346f1a4 button');\n",
              "      quickchartButtonEl.style.display =\n",
              "        google.colab.kernel.accessAllowed ? 'block' : 'none';\n",
              "    })();\n",
              "  </script>\n",
              "</div>\n",
              "    </div>\n",
              "  </div>\n"
            ]
          },
          "metadata": {},
          "execution_count": 21
        }
      ],
      "source": [
        "# Enter your code here\n",
        "data.head(5)"
      ]
    },
    {
      "cell_type": "markdown",
      "metadata": {
        "id": "rd9C6GmwGceZ"
      },
      "source": [
        "Here are some more questions to help you find out more about your dataset.\n",
        "\n",
        "**Questions**   \n",
        "1. How many rows and columns does the dataset have?   \n",
        "2. How many years are included in the dataset?   \n",
        "3. What is the date range for the dataset?   \n",
        "4. Which airlines are included in the dataset?   \n",
        "5. Which origin and destination airports are covered?"
      ]
    },
    {
      "cell_type": "code",
      "execution_count": 22,
      "metadata": {
        "id": "InlY5PZdGceZ",
        "colab": {
          "base_uri": "https://localhost:8080/"
        },
        "outputId": "dccab23f-01d3-46de-d3ab-6783550be8a8"
      },
      "outputs": [
        {
          "output_type": "stream",
          "name": "stdout",
          "text": [
            "The #rows and #columns are  1658130  and  20\n",
            "The years in this dataset are:  [2015 2017 2016 2014 2018]\n",
            "The months covered in this dataset are:  [10  7  6  5  3  4 12  2  9  8 11  1]\n",
            "The date range for data is : 2014-01-01  to  2018-12-31\n",
            "The airlines covered in this dataset are:  ['AA', 'DL', 'UA', 'OO', 'WN']\n",
            "The Origin airports covered are:  ['ORD', 'SFO', 'DFW', 'LAX', 'PHX', 'IAH', 'DEN', 'ATL', 'CLT']\n",
            "The Destination airports covered are:  ['CLT', 'DFW', 'SFO', 'ORD', 'PHX', 'LAX', 'ATL', 'DEN', 'IAH']\n"
          ]
        }
      ],
      "source": [
        "# to answer above questions, complete the following code\n",
        "print(\"The #rows and #columns are \", data.shape[0], \" and \", data.shape[1])\n",
        "print(\"The years in this dataset are: \", data['Year'].unique())\n",
        "print(\"The months covered in this dataset are: \", data['Month'].unique())\n",
        "print(\"The date range for data is :\" , data['FlightDate'].min(), \" to \", data['FlightDate'].max())\n",
        "print(\"The airlines covered in this dataset are: \", data['Reporting_Airline'].unique().tolist())\n",
        "print(\"The Origin airports covered are: \", data['Origin'].unique().tolist())\n",
        "print(\"The Destination airports covered are: \", data['Dest'].unique().tolist())\n"
      ]
    },
    {
      "cell_type": "markdown",
      "metadata": {
        "id": "LacG5BQZGceZ"
      },
      "source": [
        "Let's define our **target column : is_delay** (1 - if arrival time delayed more than 15 minutes, 0 - otherwise). Use the `rename` method to rename the column from `ArrDel15` to `is_delay`.\n",
        "\n",
        "**Hint**: You can use the Pandas `rename` function ([documentation](https://pandas.pydata.org/pandas-docs/stable/reference/api/pandas.DataFrame.rename.html)).\n",
        "\n",
        "For example:\n",
        "```\n",
        "df.rename(columns={'col1':'column1'}, inplace=True)\n",
        "```"
      ]
    },
    {
      "cell_type": "code",
      "execution_count": 23,
      "metadata": {
        "id": "DGKs9A0rGceZ"
      },
      "outputs": [],
      "source": [
        "# Rename the 'ArrDel15' column to 'is_delay'\n",
        "data.rename(columns={'ArrDel15': 'is_delay'}, inplace=True)"
      ]
    },
    {
      "cell_type": "markdown",
      "metadata": {
        "id": "d_p9L9CzGcea"
      },
      "source": [
        "Look for nulls across columns. You can use the `isnull()` function ([documentation](https://pandas.pydata.org/pandas-docs/version/0.17.0/generated/pandas.isnull.html)).\n",
        "\n",
        "**Hint**: `isnull()` detects whether the particular value is null or not and gives you a boolean (True or False) in its place. Use the `sum(axis=0)` function to sum up the number of columns."
      ]
    },
    {
      "cell_type": "code",
      "execution_count": 24,
      "metadata": {
        "id": "HbsShxa4Gcea",
        "colab": {
          "base_uri": "https://localhost:8080/"
        },
        "outputId": "ab6f07a5-365a-4541-edab-2c66a1f8d011"
      },
      "outputs": [
        {
          "output_type": "stream",
          "name": "stdout",
          "text": [
            "Year                     0\n",
            "Quarter                  0\n",
            "Month                    0\n",
            "DayofMonth               0\n",
            "DayOfWeek                0\n",
            "FlightDate               0\n",
            "Reporting_Airline        0\n",
            "Origin                   0\n",
            "OriginState              0\n",
            "Dest                     0\n",
            "DestState                0\n",
            "CRSDepTime               0\n",
            "ArrDelay             22540\n",
            "ArrDelayMinutes      22540\n",
            "is_delay             22540\n",
            "Cancelled                0\n",
            "Diverted                 0\n",
            "AirTime              22540\n",
            "Distance                 0\n",
            "DistanceGroup            0\n",
            "dtype: int64\n"
          ]
        }
      ],
      "source": [
        "# Enter your code here\n",
        "# Check for null values in each column\n",
        "null_counts = data.isnull().sum(axis=0)\n",
        "\n",
        "# Print the number of null values in each column\n",
        "print(null_counts)\n"
      ]
    },
    {
      "cell_type": "markdown",
      "metadata": {
        "id": "1J_AluMzGcea"
      },
      "source": [
        "The arrival delay details and airtime are missing for 22540 out of 1658130 rows, which is 1.3%. You can either remove or impute these rows. The documentation does not mention anything about missing rows.\n",
        "\n",
        "**Hint**: Use the `~` operator to choose the values that aren't null from the `isnull()` output.\n",
        "\n",
        "For example:\n",
        "```\n",
        "null_eg = df_eg[~df_eg['column_name'].isnull()]\n",
        "```"
      ]
    },
    {
      "cell_type": "code",
      "execution_count": 25,
      "metadata": {
        "id": "ZgVM0zJbGceb"
      },
      "outputs": [],
      "source": [
        "### Remove null columns\n",
        "# Remove rows with missing 'ArrDelay' and 'AirTime'\n",
        "data = data.dropna(subset=['ArrDelay', 'AirTime'])\n",
        "\n",
        "# Reset the index after removing rows\n",
        "data.reset_index(drop=True, inplace=True)\n"
      ]
    },
    {
      "cell_type": "markdown",
      "metadata": {
        "id": "p6J7LoGMGceb"
      },
      "source": [
        "Get the hour of the day in 24-hour time format from CRSDepTime."
      ]
    },
    {
      "cell_type": "code",
      "execution_count": 26,
      "metadata": {
        "id": "wVeIrcYkGceb"
      },
      "outputs": [],
      "source": [
        "# Convert 'CRSDepTime' to a string and slice the first 2 characters to get the hour\n",
        "data['DepHourofDay'] = data['CRSDepTime'].astype(str).str.zfill(4).str[:2].astype(int)"
      ]
    },
    {
      "cell_type": "markdown",
      "metadata": {
        "id": "if60N27iGceb"
      },
      "source": [
        "## **The ML problem statement**\n",
        "- Given a set of features, can you predict if a flight is going to be delayed more than 15 minutes?\n",
        "- Because the target variable takes only 0/1 value, you could use a classification algorithm."
      ]
    },
    {
      "cell_type": "markdown",
      "metadata": {
        "id": "jquWQa1gGcec"
      },
      "source": [
        "### Data exploration\n",
        "\n",
        "#### Check class delay vs. no delay\n",
        "\n",
        "**Hint**: Use a `groupby` plot ([documentation](https://pandas.pydata.org/pandas-docs/stable/reference/api/pandas.DataFrame.groupby.html)) with a `bar` plot ([documentation](https://matplotlib.org/tutorials/introductory/pyplot.html)) to plot the frequency vs. distribution of the class."
      ]
    },
    {
      "cell_type": "code",
      "execution_count": 27,
      "metadata": {
        "id": "E5LIdrw2Gcec",
        "colab": {
          "base_uri": "https://localhost:8080/",
          "height": 490
        },
        "outputId": "f9c572c4-5147-4ad8-a41d-a54037aa9107"
      },
      "outputs": [
        {
          "output_type": "display_data",
          "data": {
            "text/plain": [
              "<Figure size 640x480 with 1 Axes>"
            ],
            "image/png": "[encoded data removed]"
          },
          "metadata": {}
        }
      ],
      "source": [
        "# Group the data by the 'is_delay' column and calculate the frequency\n",
        "delay_distribution = (data.groupby('is_delay').size() / len(data)).plot(kind='bar')\n",
        "\n",
        "# Add labels and title\n",
        "plt.ylabel('Frequency')\n",
        "plt.title('Distribution of classes')\n",
        "\n",
        "# Show the plot\n",
        "plt.show()"
      ]
    },
    {
      "cell_type": "markdown",
      "metadata": {
        "id": "mMvWfstdGcec"
      },
      "source": [
        "**Question**: What can you deduce from the bar plot about the ratio of delay vs. no delay?"
      ]
    },
    {
      "cell_type": "markdown",
      "source": [
        " From the bar plot about the ratio of delay vs. no delay it is understood that the frequency of flight being delayed is less. We can deduce that in the given dataset there is around 20% records with delayed flight records and almost 80% on time flight reords."
      ],
      "metadata": {
        "id": "7fCenjVHGcec"
      }
    },
    {
      "cell_type": "markdown",
      "metadata": {
        "id": "OndMF-xUGced"
      },
      "source": [
        "**Questions**:\n",
        "\n",
        "- Which months have the most delays?\n",
        "- What time of the day has the most delays?\n",
        "- What day of the week has the most delays?\n",
        "- Which airline has the most delays?\n",
        "- Which origin and destination airports have the most delays?\n",
        "- Is flight distance a factor in the delays?"
      ]
    },
    {
      "cell_type": "code",
      "execution_count": 28,
      "metadata": {
        "id": "Q0Kdx9LrGced",
        "colab": {
          "base_uri": "https://localhost:8080/",
          "height": 1000
        },
        "outputId": "9ce5db5d-dea2-45bf-da8f-2b190f47bf15"
      },
      "outputs": [
        {
          "output_type": "display_data",
          "data": {
            "text/plain": [
              "<Figure size 2000x2000 with 6 Axes>"
            ],
            "image/png": "[encoded data removed]"
          },
          "metadata": {}
        }
      ],
      "source": [
        "viz_columns = ['Month', 'DepHourofDay', 'DayOfWeek', 'Reporting_Airline', 'Origin', 'Dest']\n",
        "fig, axes = plt.subplots(3, 2, figsize=(20,20), squeeze=False)\n",
        "# fig.autofmt_xdate(rotation=90)\n",
        "\n",
        "for idx, column in enumerate(viz_columns):\n",
        "    ax = axes[idx//2, idx%2]\n",
        "    temp = data.groupby(column)['is_delay'].value_counts(normalize=True).rename('percentage').\\\n",
        "    mul(100).reset_index().sort_values(column)\n",
        "    sns.barplot(x=column, y=\"percentage\", hue=\"is_delay\", data=temp, ax=ax)\n",
        "    plt.ylabel('% delay/no-delay')\n",
        "\n",
        "\n",
        "plt.show()"
      ]
    },
    {
      "cell_type": "code",
      "execution_count": 29,
      "metadata": {
        "id": "kupkRQNKGced",
        "colab": {
          "base_uri": "https://localhost:8080/",
          "height": 501
        },
        "outputId": "3686bcdb-6b57-4521-be91-72d0f967eaf4"
      },
      "outputs": [
        {
          "output_type": "display_data",
          "data": {
            "text/plain": [
              "<Figure size 500x500 with 1 Axes>"
            ],
            "image/png": "[encoded data removed]"
          },
          "metadata": {}
        }
      ],
      "source": [
        "sns.lmplot( x=\"is_delay\", y=\"Distance\", data=data, fit_reg=False, hue='is_delay', legend=False)\n",
        "plt.legend(loc='center')\n",
        "plt.xlabel('is_delay')\n",
        "plt.ylabel('Distance')\n",
        "plt.show()"
      ]
    },
    {
      "cell_type": "markdown",
      "source": [
        "- Which months have the most delays?\n",
        "  \n",
        "  From the graph it is understood that the 6th month ,ie June has the most delays\n",
        "\n",
        "- What time of the day has the most delays?\n",
        "\n",
        "  From the graph we can deduct  that the 20th hour has the most delays\n",
        "\n",
        "- What day of the week has the most delays?\n",
        "\n",
        "  4th Day has the most delays\n",
        "\n",
        "- Which airline has the most delays?\n",
        "\n",
        "  The airline with code OO faced most delays\n",
        "\n",
        "\n",
        "- Which origin and destination airports have the most delays?\n",
        "  Origin : ORD\n",
        "  Destination:SFO\n",
        "\n",
        "- Is flight distance a factor in the delays?\n",
        "There is a small negative trend ie , when flight distance decrease probabilty of getting a flight delay is more."
      ],
      "metadata": {
        "id": "-9aJe1-XGced"
      }
    },
    {
      "cell_type": "markdown",
      "metadata": {
        "id": "oZOhMMO3Gcee"
      },
      "source": [
        "### Features\n",
        "\n",
        "Look at all the columns and what their specific types are."
      ]
    },
    {
      "cell_type": "code",
      "execution_count": 30,
      "metadata": {
        "id": "8YAU7bjSGcee",
        "colab": {
          "base_uri": "https://localhost:8080/"
        },
        "outputId": "cb554e8a-cf27-4df9-b819-072b1fe6728a"
      },
      "outputs": [
        {
          "output_type": "execute_result",
          "data": {
            "text/plain": [
              "Index(['Year', 'Quarter', 'Month', 'DayofMonth', 'DayOfWeek', 'FlightDate',\n",
              "       'Reporting_Airline', 'Origin', 'OriginState', 'Dest', 'DestState',\n",
              "       'CRSDepTime', 'ArrDelay', 'ArrDelayMinutes', 'is_delay', 'Cancelled',\n",
              "       'Diverted', 'AirTime', 'Distance', 'DistanceGroup', 'DepHourofDay'],\n",
              "      dtype='object')"
            ]
          },
          "metadata": {},
          "execution_count": 30
        }
      ],
      "source": [
        "data.columns"
      ]
    },
    {
      "cell_type": "code",
      "execution_count": 31,
      "metadata": {
        "id": "PIGS99F4Gcee",
        "colab": {
          "base_uri": "https://localhost:8080/"
        },
        "outputId": "00f7ed2d-8eca-4cb1-c4c5-f3091bd8da65"
      },
      "outputs": [
        {
          "output_type": "execute_result",
          "data": {
            "text/plain": [
              "Year                   int64\n",
              "Quarter                int64\n",
              "Month                  int64\n",
              "DayofMonth             int64\n",
              "DayOfWeek              int64\n",
              "FlightDate            object\n",
              "Reporting_Airline     object\n",
              "Origin                object\n",
              "OriginState           object\n",
              "Dest                  object\n",
              "DestState             object\n",
              "CRSDepTime             int64\n",
              "ArrDelay             float64\n",
              "ArrDelayMinutes      float64\n",
              "is_delay             float64\n",
              "Cancelled            float64\n",
              "Diverted             float64\n",
              "AirTime              float64\n",
              "Distance             float64\n",
              "DistanceGroup          int64\n",
              "DepHourofDay           int64\n",
              "dtype: object"
            ]
          },
          "metadata": {},
          "execution_count": 31
        }
      ],
      "source": [
        "data.dtypes"
      ]
    },
    {
      "cell_type": "markdown",
      "metadata": {
        "id": "-18nVQ_ZGcee"
      },
      "source": [
        "Filtering the required columns:\n",
        "- Date is redundant, because you have Year, Quarter, Month, DayofMonth, and DayOfWeek to describe the date.\n",
        "- Use Origin and Dest codes instead of OriginState and DestState.\n",
        "- Because you are just classifying whether the flight is delayed or not, you don't need TotalDelayMinutes, DepDelayMinutes, and ArrDelayMinutes.\n",
        "\n",
        "Treat DepHourofDay as a categorical variable because it doesn't have any quantitative relation with the target.\n",
        "- If you had to do a one-hot encoding of it, it would result in 23 more columns.\n",
        "- Other alternatives to handling categorical variables include hash encoding, regularized mean encoding, and bucketizing the values, among others.\n",
        "- Just split into buckets here.\n",
        "\n",
        "**Hint**: To change a column type to category, use the `astype` function ([documentation](https://pandas.pydata.org/pandas-docs/stable/reference/api/pandas.DataFrame.astype.html))."
      ]
    },
    {
      "cell_type": "code",
      "execution_count": 32,
      "metadata": {
        "id": "Zb4lFhcqGcee"
      },
      "outputs": [],
      "source": [
        "data_orig = data.copy()\n",
        "data = data[[ 'is_delay', 'Quarter', 'Month', 'DayofMonth', 'DayOfWeek',\n",
        "       'Reporting_Airline', 'Origin', 'Dest','Distance','DepHourofDay']]\n",
        "categorical_columns  = ['Quarter', 'Month', 'DayofMonth', 'DayOfWeek',\n",
        "       'Reporting_Airline', 'Origin', 'Dest'] #'DepHourofDay'\n",
        "for c in categorical_columns:\n",
        "    data[c] = data[c].astype('category')# Enter your code here"
      ]
    },
    {
      "cell_type": "markdown",
      "metadata": {
        "id": "A07CLz-HGcef"
      },
      "source": [
        "To use one-hot encoding, use the Pandas `get_dummies` function for the categorical columns that you selected above. Then, you can concatenate those generated features to your original dataset using the Pandas `concat` function. For encoding categorical variables, you can also use *dummy encoding* by using a keyword `drop_first=True`. For more information on dummy encoding, see https://en.wikiversity.org/wiki/Dummy_variable_(statistics).\n",
        "\n",
        "For example:\n",
        "```\n",
        "pd.get_dummies(df[['column1','columns2']], drop_first=True)\n",
        "```"
      ]
    },
    {
      "cell_type": "code",
      "execution_count": 33,
      "metadata": {
        "id": "rR1n9NO3Gcef"
      },
      "outputs": [],
      "source": [
        "# Perform one-hot encoding on categorical columns\n",
        "data_dummies = pd.get_dummies(data[categorical_columns], drop_first=True)\n",
        "\n",
        "# Concatenate the one-hot encoded features to the original dataset\n",
        "data = pd.concat([data, data_dummies], axis=1)\n",
        "# Drop the original categorical columns\n",
        "data.drop(categorical_columns + ['DepHourofDay'], axis=1, inplace=True)\n"
      ]
    },
    {
      "cell_type": "markdown",
      "metadata": {
        "id": "RNLP0_WiGcef"
      },
      "source": [
        "Check the length of the dataset and the new columnms."
      ]
    },
    {
      "cell_type": "code",
      "execution_count": 34,
      "metadata": {
        "id": "mJzVOnIyGceg",
        "colab": {
          "base_uri": "https://localhost:8080/"
        },
        "outputId": "dc9c6f9a-6b8b-4039-9d62-4a8414578fe7"
      },
      "outputs": [
        {
          "output_type": "execute_result",
          "data": {
            "text/plain": [
              "1635590"
            ]
          },
          "metadata": {},
          "execution_count": 34
        }
      ],
      "source": [
        "# Check the length of the dataset\n",
        "data_length = len(data)\n",
        "data_length"
      ]
    },
    {
      "cell_type": "code",
      "execution_count": 35,
      "metadata": {
        "id": "afHakSl4Gceg",
        "colab": {
          "base_uri": "https://localhost:8080/"
        },
        "outputId": "f85bdd56-3db2-4731-97db-b5643eaff6cf"
      },
      "outputs": [
        {
          "output_type": "execute_result",
          "data": {
            "text/plain": [
              "Index(['is_delay', 'Distance', 'Quarter_2', 'Quarter_3', 'Quarter_4',\n",
              "       'Month_2', 'Month_3', 'Month_4', 'Month_5', 'Month_6', 'Month_7',\n",
              "       'Month_8', 'Month_9', 'Month_10', 'Month_11', 'Month_12',\n",
              "       'DayofMonth_2', 'DayofMonth_3', 'DayofMonth_4', 'DayofMonth_5',\n",
              "       'DayofMonth_6', 'DayofMonth_7', 'DayofMonth_8', 'DayofMonth_9',\n",
              "       'DayofMonth_10', 'DayofMonth_11', 'DayofMonth_12', 'DayofMonth_13',\n",
              "       'DayofMonth_14', 'DayofMonth_15', 'DayofMonth_16', 'DayofMonth_17',\n",
              "       'DayofMonth_18', 'DayofMonth_19', 'DayofMonth_20', 'DayofMonth_21',\n",
              "       'DayofMonth_22', 'DayofMonth_23', 'DayofMonth_24', 'DayofMonth_25',\n",
              "       'DayofMonth_26', 'DayofMonth_27', 'DayofMonth_28', 'DayofMonth_29',\n",
              "       'DayofMonth_30', 'DayofMonth_31', 'DayOfWeek_2', 'DayOfWeek_3',\n",
              "       'DayOfWeek_4', 'DayOfWeek_5', 'DayOfWeek_6', 'DayOfWeek_7',\n",
              "       'Reporting_Airline_DL', 'Reporting_Airline_OO', 'Reporting_Airline_UA',\n",
              "       'Reporting_Airline_WN', 'Origin_CLT', 'Origin_DEN', 'Origin_DFW',\n",
              "       'Origin_IAH', 'Origin_LAX', 'Origin_ORD', 'Origin_PHX', 'Origin_SFO',\n",
              "       'Dest_CLT', 'Dest_DEN', 'Dest_DFW', 'Dest_IAH', 'Dest_LAX', 'Dest_ORD',\n",
              "       'Dest_PHX', 'Dest_SFO'],\n",
              "      dtype='object')"
            ]
          },
          "metadata": {},
          "execution_count": 35
        }
      ],
      "source": [
        "# Set the display option to show all columns\n",
        "#pd.set_option('display.max_columns', None)\n",
        "\n",
        "# Check the number of columns\n",
        "columns = data.columns\n",
        "columns"
      ]
    },
    {
      "cell_type": "markdown",
      "metadata": {
        "id": "IlFnuMAWGceg"
      },
      "source": [
        "**Sample Answer:**\n",
        "```\n",
        "Index(['Distance', 'is_delay', 'Quarter_2', 'Quarter_3', 'Quarter_4',\n",
        "       'Month_2', 'Month_3', 'Month_4', 'Month_5', 'Month_6', 'Month_7',\n",
        "       'Month_8', 'Month_9', 'Month_10', 'Month_11', 'Month_12',\n",
        "       'DayofMonth_2', 'DayofMonth_3', 'DayofMonth_4', 'DayofMonth_5',\n",
        "       'DayofMonth_6', 'DayofMonth_7', 'DayofMonth_8', 'DayofMonth_9',\n",
        "       'DayofMonth_10', 'DayofMonth_11', 'DayofMonth_12', 'DayofMonth_13',\n",
        "       'DayofMonth_14', 'DayofMonth_15', 'DayofMonth_16', 'DayofMonth_17',\n",
        "       'DayofMonth_18', 'DayofMonth_19', 'DayofMonth_20', 'DayofMonth_21',\n",
        "       'DayofMonth_22', 'DayofMonth_23', 'DayofMonth_24', 'DayofMonth_25',\n",
        "       'DayofMonth_26', 'DayofMonth_27', 'DayofMonth_28', 'DayofMonth_29',\n",
        "       'DayofMonth_30', 'DayofMonth_31', 'DayOfWeek_2', 'DayOfWeek_3',\n",
        "       'DayOfWeek_4', 'DayOfWeek_5', 'DayOfWeek_6', 'DayOfWeek_7',\n",
        "       'Reporting_Airline_DL', 'Reporting_Airline_OO', 'Reporting_Airline_UA',\n",
        "       'Reporting_Airline_WN', 'Origin_CLT', 'Origin_DEN', 'Origin_DFW',\n",
        "       'Origin_IAH', 'Origin_LAX', 'Origin_ORD', 'Origin_PHX', 'Origin_SFO',\n",
        "       'Dest_CLT', 'Dest_DEN', 'Dest_DFW', 'Dest_IAH', 'Dest_LAX', 'Dest_ORD',\n",
        "       'Dest_PHX', 'Dest_SFO'],\n",
        "      dtype='object')\n",
        "```"
      ]
    },
    {
      "cell_type": "markdown",
      "metadata": {
        "id": "7_KXBS37Gceg"
      },
      "source": [
        "Now you are ready to do model training. Before splitting the data, rename the column `is_delay` to `target`.\n",
        "\n",
        "**Hint**: You can use the Pandas `rename` function ([documentation](https://pandas.pydata.org/pandas-docs/stable/reference/api/pandas.DataFrame.rename.html))."
      ]
    },
    {
      "cell_type": "code",
      "execution_count": 36,
      "metadata": {
        "id": "NgB8DrBpGceh",
        "colab": {
          "base_uri": "https://localhost:8080/"
        },
        "outputId": "25ee3b06-188d-4fb5-b532-ff2e12e9e8ef"
      },
      "outputs": [
        {
          "output_type": "execute_result",
          "data": {
            "text/plain": [
              "Index(['target', 'Distance', 'Quarter_2', 'Quarter_3', 'Quarter_4', 'Month_2',\n",
              "       'Month_3', 'Month_4', 'Month_5', 'Month_6', 'Month_7', 'Month_8',\n",
              "       'Month_9', 'Month_10', 'Month_11', 'Month_12', 'DayofMonth_2',\n",
              "       'DayofMonth_3', 'DayofMonth_4', 'DayofMonth_5', 'DayofMonth_6',\n",
              "       'DayofMonth_7', 'DayofMonth_8', 'DayofMonth_9', 'DayofMonth_10',\n",
              "       'DayofMonth_11', 'DayofMonth_12', 'DayofMonth_13', 'DayofMonth_14',\n",
              "       'DayofMonth_15', 'DayofMonth_16', 'DayofMonth_17', 'DayofMonth_18',\n",
              "       'DayofMonth_19', 'DayofMonth_20', 'DayofMonth_21', 'DayofMonth_22',\n",
              "       'DayofMonth_23', 'DayofMonth_24', 'DayofMonth_25', 'DayofMonth_26',\n",
              "       'DayofMonth_27', 'DayofMonth_28', 'DayofMonth_29', 'DayofMonth_30',\n",
              "       'DayofMonth_31', 'DayOfWeek_2', 'DayOfWeek_3', 'DayOfWeek_4',\n",
              "       'DayOfWeek_5', 'DayOfWeek_6', 'DayOfWeek_7', 'Reporting_Airline_DL',\n",
              "       'Reporting_Airline_OO', 'Reporting_Airline_UA', 'Reporting_Airline_WN',\n",
              "       'Origin_CLT', 'Origin_DEN', 'Origin_DFW', 'Origin_IAH', 'Origin_LAX',\n",
              "       'Origin_ORD', 'Origin_PHX', 'Origin_SFO', 'Dest_CLT', 'Dest_DEN',\n",
              "       'Dest_DFW', 'Dest_IAH', 'Dest_LAX', 'Dest_ORD', 'Dest_PHX', 'Dest_SFO'],\n",
              "      dtype='object')"
            ]
          },
          "metadata": {},
          "execution_count": 36
        }
      ],
      "source": [
        "# Rename the column \"is_delay\" to \"target\"\n",
        "data.rename(columns={'is_delay': 'target'}, inplace=True)\n",
        "data.columns"
      ]
    },
    {
      "cell_type": "code",
      "execution_count": 37,
      "metadata": {
        "id": "zfOhb2P6Gceh"
      },
      "outputs": [],
      "source": [
        "# write code to Save the combined csv file (combined_csv_v1.csv) to your local computer\n",
        "# note this combined file will be used in part B\n",
        "\n",
        "# Save the combined CSV file to your local computer\n",
        "combined_csv_filename_v1 = 'combined_csv_v1.csv'\n",
        "data.to_csv(combined_csv_filename_v1, index=False)"
      ]
    },
    {
      "cell_type": "markdown",
      "metadata": {
        "id": "0ZdIDUd-Gceh"
      },
      "source": [
        "# Step 3: Model training and evaluation\n",
        "\n",
        "1. Split the data into `train_data`, and `test_data` using `sklearn.model_selection.train_test_split`.  \n",
        "2. Build a logistic regression model for the data, where training data is 80%, and test data is 20%.\n",
        "\n",
        "Use the following cells to complete these steps. Insert and delete cells where needed.\n"
      ]
    },
    {
      "cell_type": "markdown",
      "metadata": {
        "id": "euXp-zwzGceh"
      },
      "source": [
        "### Train test split"
      ]
    },
    {
      "cell_type": "code",
      "execution_count": 71,
      "metadata": {
        "id": "ZR9yRth3Gceh",
        "colab": {
          "base_uri": "https://localhost:8080/"
        },
        "outputId": "390523d8-a754-49a6-c9d9-cd3328f7498d"
      },
      "outputs": [
        {
          "output_type": "stream",
          "name": "stdout",
          "text": [
            "Training data shape: (1308472, 85) (1308472,)\n",
            "Testing data shape: (327118, 85) (327118,)\n"
          ]
        }
      ],
      "source": [
        "from sklearn.model_selection import train_test_split\n",
        "\n",
        "# Define the feature columns (X) and target column (y)\n",
        "X = data.drop(columns=['target'])\n",
        "y = data['target']\n",
        "\n",
        "# Splitting the data with a different random state\n",
        "X_train, X_test, y_train, y_test = train_test_split(X, y, test_size=0.2, random_state=100)\n",
        "\n",
        "\n",
        "# Check the shapes of the resulting sets\n",
        "print(\"Training data shape:\", X_train.shape, y_train.shape)\n",
        "print(\"Testing data shape:\", X_test.shape, y_test.shape)\n"
      ]
    },
    {
      "cell_type": "markdown",
      "metadata": {
        "id": "osP_glXUGcei"
      },
      "source": [
        "### Baseline classification model"
      ]
    },
    {
      "cell_type": "code",
      "execution_count": 72,
      "metadata": {
        "id": "O_nV60vPGcei",
        "colab": {
          "base_uri": "https://localhost:8080/"
        },
        "outputId": "8af9b018-fd8c-4ec4-f948-ff8c89122854"
      },
      "outputs": [
        {
          "output_type": "stream",
          "name": "stdout",
          "text": [
            "Accuracy: 0.79\n",
            "Confusion Matrix:\n",
            " [[255941   2689]\n",
            " [ 66215   2273]]\n",
            "Classification Report:\n",
            "               precision    recall  f1-score   support\n",
            "\n",
            "         0.0       0.79      0.99      0.88    258630\n",
            "         1.0       0.46      0.03      0.06     68488\n",
            "\n",
            "    accuracy                           0.79    327118\n",
            "   macro avg       0.63      0.51      0.47    327118\n",
            "weighted avg       0.72      0.79      0.71    327118\n",
            "\n"
          ]
        }
      ],
      "source": [
        "from sklearn.linear_model import LogisticRegression\n",
        "from sklearn.metrics import accuracy_score, classification_report, confusion_matrix\n",
        "\n",
        "# Initialize and train the logistic regression model\n",
        "model = LogisticRegression()\n",
        "model.fit(X_train, y_train)\n",
        "\n",
        "# Make predictions on the test set\n",
        "y_pred = model.predict(X_test)\n",
        "\n",
        "# Evaluate the model\n",
        "accuracy = accuracy_score(y_test, y_pred)\n",
        "conf_matrix = confusion_matrix(y_test, y_pred)\n",
        "class_report = classification_report(y_test, y_pred)\n",
        "\n",
        "# Print the results\n",
        "print(f\"Accuracy: {accuracy:.2f}\")\n",
        "print(\"Confusion Matrix:\\n\", conf_matrix)\n",
        "print(\"Classification Report:\\n\", class_report)\n"
      ]
    },
    {
      "cell_type": "markdown",
      "metadata": {
        "id": "-mZwrt5RGcei"
      },
      "source": [
        "## Model evaluation\n",
        "In this section, you'll evaluate your trained model on test data and report on the following metrics:\n",
        "* Confusion Matrix plot\n",
        "* Plot the ROC\n",
        "* Report statistics such as Accuracy, Percision, Recall, Sensitivity and Specificity"
      ]
    },
    {
      "cell_type": "markdown",
      "metadata": {
        "id": "kOvPS6E6Gcei"
      },
      "source": [
        "To view a plot of the confusion matrix, and various scoring metrics, create a couple of functions:"
      ]
    },
    {
      "cell_type": "code",
      "execution_count": 73,
      "metadata": {
        "id": "HcXgykQyGcej"
      },
      "outputs": [],
      "source": [
        "from sklearn.metrics import confusion_matrix\n",
        "\n",
        "def plot_confusion_matrix(test_labels, target_predicted):\n",
        "    cm = confusion_matrix(test_labels, target_predicted)\n",
        "    plt.figure(figsize=(8, 6))\n",
        "    sns.heatmap(cm, annot=True, fmt=\"d\", cmap=\"Blues\", xticklabels=['Not Delayed', 'Delayed'], yticklabels=['Not Delayed', 'Delayed'])\n",
        "    plt.xlabel('Predicted')\n",
        "    plt.ylabel('True')\n",
        "    plt.title('Confusion Matrix')\n",
        "    plt.show()\n"
      ]
    },
    {
      "cell_type": "code",
      "execution_count": 74,
      "metadata": {
        "id": "jqQMPDK2Gcej"
      },
      "outputs": [],
      "source": [
        "from sklearn.metrics import roc_curve, roc_auc_score\n",
        "\n",
        "def plot_roc(test_labels, target_predicted):\n",
        "    fpr, tpr, thresholds = roc_curve(test_labels, target_predicted)\n",
        "    auc = roc_auc_score(test_labels, target_predicted)\n",
        "\n",
        "    plt.figure(figsize=(8, 6))\n",
        "    plt.plot(fpr, tpr, color='darkorange', lw=2, label=f'ROC Curve (AUC = {auc:.2f})')\n",
        "    plt.plot([0, 1], [0, 1], color='navy', lw=2, linestyle='--')\n",
        "    plt.xlim([0.0, 1.0])\n",
        "    plt.ylim([0.0, 1.05])\n",
        "    plt.xlabel('False Positive Rate')\n",
        "    plt.ylabel('True Positive Rate')\n",
        "    plt.title('Receiver Operating Characteristic (ROC)')\n",
        "    plt.legend(loc='lower right')\n",
        "    plt.show()\n"
      ]
    },
    {
      "cell_type": "markdown",
      "metadata": {
        "id": "0Uff7ZHtGcej"
      },
      "source": [
        "To plot the confusion matrix, call the `plot_confusion_matrix` function on the `test_labels` and `target_predicted` data from your batch job:"
      ]
    },
    {
      "cell_type": "code",
      "execution_count": 75,
      "metadata": {
        "id": "uG8Qfvf1Gcej",
        "colab": {
          "base_uri": "https://localhost:8080/",
          "height": 573
        },
        "outputId": "9f9cb553-9c41-47da-9d2c-4e64966e226d"
      },
      "outputs": [
        {
          "output_type": "display_data",
          "data": {
            "text/plain": [
              "<Figure size 800x600 with 2 Axes>"
            ],
            "image/png": "[encoded data removed]"
          },
          "metadata": {}
        }
      ],
      "source": [
        "# Enter you code here\n",
        "plot_confusion_matrix(y_test, y_pred)\n",
        "\n",
        "\n",
        "\n"
      ]
    },
    {
      "cell_type": "markdown",
      "metadata": {
        "id": "e1whs4wHGcej"
      },
      "source": [
        "To print statistics and plot an ROC curve, call the `plot_roc` function on the `test_labels` and `target_predicted` data from your batch job:"
      ]
    },
    {
      "cell_type": "code",
      "execution_count": 76,
      "metadata": {
        "id": "eW-KfTeTGcek",
        "colab": {
          "base_uri": "https://localhost:8080/",
          "height": 573
        },
        "outputId": "995fa08e-a451-4223-a38d-3c43cb2329a6"
      },
      "outputs": [
        {
          "output_type": "display_data",
          "data": {
            "text/plain": [
              "<Figure size 800x600 with 1 Axes>"
            ],
            "image/png": "[encoded data removed]"
          },
          "metadata": {}
        }
      ],
      "source": [
        "# Enter you code here\n",
        "plot_roc(y_test, y_pred)"
      ]
    },
    {
      "cell_type": "markdown",
      "metadata": {
        "id": "VXrcYb6xGcek"
      },
      "source": [
        "### Key questions to consider:\n",
        "1. How does your model's performance on the test set compare to the training set? What can you deduce from this comparison?\n",
        "\n",
        "2. Are there obvious differences between the outcomes of metrics like accuracy, precision, and recall? If so, why might you be seeing those differences?\n",
        "\n",
        "3. Is the outcome for the metric(s) you consider most important sufficient for what you need from a business standpoint? If not, what are some things you might change in your next iteration (in the feature engineering section, which is coming up next)?\n",
        "\n",
        "Use the cells below to answer these and other questions. Insert and delete cells where needed."
      ]
    },
    {
      "cell_type": "markdown",
      "metadata": {
        "id": "BUN6qIuPGcek"
      },
      "source": [
        "\n",
        "**Question**: What can you summarize from the confusion matrix?\n"
      ]
    },
    {
      "cell_type": "markdown",
      "source": [
        "From the confusion matrix:\n",
        "\n",
        "- The model excels at correctly identifying class 0, with very few false positives (2,689).\n",
        "- However, it struggles with class 1, often misclassifying them as class 0, leading to a high number of false negatives (66,215).\n",
        "- Actual positive instances (class 1) are rarely predicted correctly, with only 2,273 true positives.\n",
        "\n",
        "In essence, the model is heavily biased towards predicting class 0 and struggles to recognize class 1."
      ],
      "metadata": {
        "id": "fNr8yORWGcek"
      }
    },
    {
      "cell_type": "markdown",
      "metadata": {
        "id": "L9ImI1vyGcek"
      },
      "source": [
        "# Step 4: Deployment\n",
        "\n",
        "1. In this step you are required to push your source code and requirements file to a GitLab repository without the data files. Please use the Git commands to complete this task\n",
        "2- Create a “readme.md” markdown file that describes the code of this repository and how to run it and what the user would expect if got the code running.\n",
        "\n",
        "In the cell below provide the link of the pushed repository on your GitLab account.\n"
      ]
    },
    {
      "cell_type": "code",
      "execution_count": 45,
      "metadata": {
        "id": "NqZhm_GMGcel"
      },
      "outputs": [],
      "source": [
        "### Provide a link for your Gitlab repository here"
      ]
    },
    {
      "cell_type": "markdown",
      "metadata": {
        "id": "rR-RmYolGcel"
      },
      "source": [
        "# Iteration II"
      ]
    },
    {
      "cell_type": "markdown",
      "metadata": {
        "id": "8-b95dxRGcel"
      },
      "source": [
        "# Step 5: Feature engineering\n",
        "\n",
        "You've now gone through one iteration of training and evaluating your model. Given that the outcome you reached for your model the first time probably wasn't sufficient for solving your business problem, what are some things you could change about your data to possibly improve model performance?\n",
        "\n",
        "### Key questions to consider:\n",
        "1. How might the balance of your two main classes (delay and no delay) impact model performance?\n",
        "2. Do you have any features that are correlated?\n",
        "3. Are there feature reduction techniques you could perform at this stage that might have a positive impact on model performance?\n",
        "4. Can you think of adding some more data/datasets?\n",
        "4. After performing some feature engineering, how does your model performance compare to the first iteration?\n",
        "\n",
        "Use the cells below to perform specific feature engineering techniques (per the questions above) that you think could improve your model performance. Insert and delete cells where needed.\n",
        "\n",
        "\n",
        "Before you start, think about why the precision and recall are around 80% while the accuracy is 99%."
      ]
    },
    {
      "cell_type": "markdown",
      "metadata": {
        "id": "gl19iWVNGcem"
      },
      "source": [
        "#### Add more features\n",
        "\n",
        "1. Holidays\n",
        "2. Weather"
      ]
    },
    {
      "cell_type": "markdown",
      "metadata": {
        "id": "e-ios6ouGcem"
      },
      "source": [
        "Because the list of holidays from 2014 to 2018 is known, you can create an indicator variable **is_holiday** to mark these.\n",
        "The hypothesis is that airplane delays could be higher during holidays compared to the rest of the days. Add a boolean variable `is_holiday` that includes the holidays for the years 2014-2018."
      ]
    },
    {
      "cell_type": "code",
      "execution_count": 46,
      "metadata": {
        "id": "-25VbGe8Gcem"
      },
      "outputs": [],
      "source": [
        "# Source: http://www.calendarpedia.com/holidays/federal-holidays-2014.html\n",
        "\n",
        "holidays_14 = ['2014-01-01',  '2014-01-20', '2014-02-17', '2014-05-26', '2014-07-04', '2014-09-01', '2014-10-13', '2014-11-11', '2014-11-27', '2014-12-25' ]\n",
        "holidays_15 = ['2015-01-01',  '2015-01-19', '2015-02-16', '2015-05-25', '2015-06-03', '2015-07-04', '2015-09-07', '2015-10-12', '2015-11-11', '2015-11-26', '2015-12-25']\n",
        "holidays_16 = ['2016-01-01',  '2016-01-18', '2016-02-15', '2016-05-30', '2016-07-04', '2016-09-05', '2016-10-10', '2016-11-11', '2016-11-24', '2016-12-25', '2016-12-26']\n",
        "holidays_17 = ['2017-01-02', '2017-01-16', '2017-02-20', '2017-05-29' , '2017-07-04', '2017-09-04' ,'2017-10-09', '2017-11-10', '2017-11-23', '2017-12-25']\n",
        "holidays_18 = ['2018-01-01', '2018-01-15', '2018-02-19', '2018-05-28' , '2018-07-04', '2018-09-03' ,'2018-10-08', '2018-11-12','2018-11-22', '2018-12-25']\n",
        "holidays = holidays_14+ holidays_15+ holidays_16 + holidays_17+ holidays_18\n",
        "\n",
        "### Add indicator variable for holidays\n",
        "data_orig['is_holiday'] = data_orig['FlightDate'].isin(holidays).astype(int)\n"
      ]
    },
    {
      "cell_type": "markdown",
      "metadata": {
        "id": "1duXSAitGcem"
      },
      "source": [
        "Weather data was fetched from https://www.ncei.noaa.gov/access/services/data/v1?dataset=daily-summaries&stations=USW00023174,USW00012960,USW00003017,USW00094846,USW00013874,USW00023234,USW00003927,USW00023183,USW00013881&dataTypes=AWND,PRCP,SNOW,SNWD,TAVG,TMIN,TMAX&startDate=2014-01-01&endDate=2018-12-31.\n",
        "<br>\n",
        "\n",
        "This dataset has information on wind speed, precipitation, snow, and temperature for cities by their airport codes.\n",
        "\n",
        "**Question**: Could bad weather due to rains, heavy winds, or snow lead to airplane delay? Let's check!"
      ]
    },
    {
      "cell_type": "code",
      "execution_count": 47,
      "metadata": {
        "scrolled": true,
        "id": "kbyTOmqaGcen",
        "colab": {
          "base_uri": "https://localhost:8080/"
        },
        "outputId": "10ac21bf-99b8-49c1-8828-c6be7d8a8d5c"
      },
      "outputs": [
        {
          "output_type": "stream",
          "name": "stdout",
          "text": [
            "Weather data downloaded and saved as weather_data.csv.\n"
          ]
        }
      ],
      "source": [
        "# download data from the link above and place it into the data folder\n",
        "import requests\n",
        "\n",
        "# Define the URL to download the weather data\n",
        "url = \"https://www.ncei.noaa.gov/access/services/data/v1?dataset=daily-summaries&stations=USW00023174,USW00012960,USW00003017,USW00094846,USW00013874,USW00023234,USW00003927,USW00023183,USW00013881&dataTypes=AWND,PRCP,SNOW,SNWD,TAVG,TMIN,TMAX&startDate=2014-01-01&endDate=2018-12-31\"\n",
        "\n",
        "# Send an HTTP GET request to the URL\n",
        "response = requests.get(url)\n",
        "\n",
        "# Check if the request was successful\n",
        "if response.status_code == 200:\n",
        "    # Get the content (data) from the response\n",
        "    weather_data = response.text\n",
        "\n",
        "    # Save the weather data to a file in the Colab environment\n",
        "    with open(\"daily-summaries.csv\", \"w\") as file:\n",
        "        file.write(weather_data)\n",
        "\n",
        "    print(\"Weather data downloaded and saved as weather_data.csv.\")\n",
        "else:\n",
        "    print(\"Failed to download weather data. Check the URL and try again.\")\n"
      ]
    },
    {
      "cell_type": "markdown",
      "metadata": {
        "id": "ya-9Bue_Gcen"
      },
      "source": [
        "Import weather data prepared for the airport codes in our dataset. Use the stations and airports below for the analysis, and create a new column called `airport` that maps the weather station to the airport name."
      ]
    },
    {
      "cell_type": "code",
      "execution_count": 48,
      "metadata": {
        "id": "bcN5eLZgGcen",
        "colab": {
          "base_uri": "https://localhost:8080/",
          "height": 206
        },
        "outputId": "24154d3b-137b-4a44-869a-59d5bbdde801"
      },
      "outputs": [
        {
          "output_type": "execute_result",
          "data": {
            "text/plain": [
              "       STATION        DATE  AWND  PRCP  SNOW  SNWD   TAVG   TMAX   TMIN  \\\n",
              "0  USW00023174  2014-01-01    16     0   NaN   NaN  131.0  178.0   78.0   \n",
              "1  USW00023174  2014-01-02    22     0   NaN   NaN  159.0  256.0  100.0   \n",
              "2  USW00023174  2014-01-03    17     0   NaN   NaN  140.0  178.0   83.0   \n",
              "3  USW00023174  2014-01-04    18     0   NaN   NaN  136.0  183.0  100.0   \n",
              "4  USW00023174  2014-01-05    18     0   NaN   NaN  151.0  244.0   83.0   \n",
              "\n",
              "  airport  \n",
              "0     LAX  \n",
              "1     LAX  \n",
              "2     LAX  \n",
              "3     LAX  \n",
              "4     LAX  "
            ],
            "text/html": [
              "\n",
              "  <div id=\"df-24110b22-47fe-4363-a211-1c143839385e\" class=\"colab-df-container\">\n",
              "    <div>\n",
              "<style scoped>\n",
              "    .dataframe tbody tr th:only-of-type {\n",
              "        vertical-align: middle;\n",
              "    }\n",
              "\n",
              "    .dataframe tbody tr th {\n",
              "        vertical-align: top;\n",
              "    }\n",
              "\n",
              "    .dataframe thead th {\n",
              "        text-align: right;\n",
              "    }\n",
              "</style>\n",
              "<table border=\"1\" class=\"dataframe\">\n",
              "  <thead>\n",
              "    <tr style=\"text-align: right;\">\n",
              "      <th></th>\n",
              "      <th>STATION</th>\n",
              "      <th>DATE</th>\n",
              "      <th>AWND</th>\n",
              "      <th>PRCP</th>\n",
              "      <th>SNOW</th>\n",
              "      <th>SNWD</th>\n",
              "      <th>TAVG</th>\n",
              "      <th>TMAX</th>\n",
              "      <th>TMIN</th>\n",
              "      <th>airport</th>\n",
              "    </tr>\n",
              "  </thead>\n",
              "  <tbody>\n",
              "    <tr>\n",
              "      <th>0</th>\n",
              "      <td>USW00023174</td>\n",
              "      <td>2014-01-01</td>\n",
              "      <td>16</td>\n",
              "      <td>0</td>\n",
              "      <td>NaN</td>\n",
              "      <td>NaN</td>\n",
              "      <td>131.0</td>\n",
              "      <td>178.0</td>\n",
              "      <td>78.0</td>\n",
              "      <td>LAX</td>\n",
              "    </tr>\n",
              "    <tr>\n",
              "      <th>1</th>\n",
              "      <td>USW00023174</td>\n",
              "      <td>2014-01-02</td>\n",
              "      <td>22</td>\n",
              "      <td>0</td>\n",
              "      <td>NaN</td>\n",
              "      <td>NaN</td>\n",
              "      <td>159.0</td>\n",
              "      <td>256.0</td>\n",
              "      <td>100.0</td>\n",
              "      <td>LAX</td>\n",
              "    </tr>\n",
              "    <tr>\n",
              "      <th>2</th>\n",
              "      <td>USW00023174</td>\n",
              "      <td>2014-01-03</td>\n",
              "      <td>17</td>\n",
              "      <td>0</td>\n",
              "      <td>NaN</td>\n",
              "      <td>NaN</td>\n",
              "      <td>140.0</td>\n",
              "      <td>178.0</td>\n",
              "      <td>83.0</td>\n",
              "      <td>LAX</td>\n",
              "    </tr>\n",
              "    <tr>\n",
              "      <th>3</th>\n",
              "      <td>USW00023174</td>\n",
              "      <td>2014-01-04</td>\n",
              "      <td>18</td>\n",
              "      <td>0</td>\n",
              "      <td>NaN</td>\n",
              "      <td>NaN</td>\n",
              "      <td>136.0</td>\n",
              "      <td>183.0</td>\n",
              "      <td>100.0</td>\n",
              "      <td>LAX</td>\n",
              "    </tr>\n",
              "    <tr>\n",
              "      <th>4</th>\n",
              "      <td>USW00023174</td>\n",
              "      <td>2014-01-05</td>\n",
              "      <td>18</td>\n",
              "      <td>0</td>\n",
              "      <td>NaN</td>\n",
              "      <td>NaN</td>\n",
              "      <td>151.0</td>\n",
              "      <td>244.0</td>\n",
              "      <td>83.0</td>\n",
              "      <td>LAX</td>\n",
              "    </tr>\n",
              "  </tbody>\n",
              "</table>\n",
              "</div>\n",
              "    <div class=\"colab-df-buttons\">\n",
              "\n",
              "  <div class=\"colab-df-container\">\n",
              "    <button class=\"colab-df-convert\" onclick=\"convertToInteractive('df-24110b22-47fe-4363-a211-1c143839385e')\"\n",
              "            title=\"Convert this dataframe to an interactive table.\"\n",
              "            style=\"display:none;\">\n",
              "\n",
              "  <svg xmlns=\"http://www.w3.org/2000/svg\" height=\"24px\" viewBox=\"0 -960 960 960\">\n",
              "    <path d=\"M120-120v-720h720v720H120Zm60-500h600v-160H180v160Zm220 220h160v-160H400v160Zm0 220h160v-160H400v160ZM180-400h160v-160H180v160Zm440 0h160v-160H620v160ZM180-180h160v-160H180v160Zm440 0h160v-160H620v160Z\"/>\n",
              "  </svg>\n",
              "    </button>\n",
              "\n",
              "  <style>\n",
              "    .colab-df-container {\n",
              "      display:flex;\n",
              "      gap: 12px;\n",
              "    }\n",
              "\n",
              "    .colab-df-convert {\n",
              "      background-color: #E8F0FE;\n",
              "      border: none;\n",
              "      border-radius: 50%;\n",
              "      cursor: pointer;\n",
              "      display: none;\n",
              "      fill: #1967D2;\n",
              "      height: 32px;\n",
              "      padding: 0 0 0 0;\n",
              "      width: 32px;\n",
              "    }\n",
              "\n",
              "    .colab-df-convert:hover {\n",
              "      background-color: #E2EBFA;\n",
              "      box-shadow: 0px 1px 2px rgba(60, 64, 67, 0.3), 0px 1px 3px 1px rgba(60, 64, 67, 0.15);\n",
              "      fill: #174EA6;\n",
              "    }\n",
              "\n",
              "    .colab-df-buttons div {\n",
              "      margin-bottom: 4px;\n",
              "    }\n",
              "\n",
              "    [theme=dark] .colab-df-convert {\n",
              "      background-color: #3B4455;\n",
              "      fill: #D2E3FC;\n",
              "    }\n",
              "\n",
              "    [theme=dark] .colab-df-convert:hover {\n",
              "      background-color: #434B5C;\n",
              "      box-shadow: 0px 1px 3px 1px rgba(0, 0, 0, 0.15);\n",
              "      filter: drop-shadow(0px 1px 2px rgba(0, 0, 0, 0.3));\n",
              "      fill: #FFFFFF;\n",
              "    }\n",
              "  </style>\n",
              "\n",
              "    <script>\n",
              "      const buttonEl =\n",
              "        document.querySelector('#df-24110b22-47fe-4363-a211-1c143839385e button.colab-df-convert');\n",
              "      buttonEl.style.display =\n",
              "        google.colab.kernel.accessAllowed ? 'block' : 'none';\n",
              "\n",
              "      async function convertToInteractive(key) {\n",
              "        const element = document.querySelector('#df-24110b22-47fe-4363-a211-1c143839385e');\n",
              "        const dataTable =\n",
              "          await google.colab.kernel.invokeFunction('convertToInteractive',\n",
              "                                                    [key], {});\n",
              "        if (!dataTable) return;\n",
              "\n",
              "        const docLinkHtml = 'Like what you see? Visit the ' +\n",
              "          '<a target=\"_blank\" href=https://colab.research.google.com/notebooks/data_table.ipynb>data table notebook</a>'\n",
              "          + ' to learn more about interactive tables.';\n",
              "        element.innerHTML = '';\n",
              "        dataTable['output_type'] = 'display_data';\n",
              "        await google.colab.output.renderOutput(dataTable, element);\n",
              "        const docLink = document.createElement('div');\n",
              "        docLink.innerHTML = docLinkHtml;\n",
              "        element.appendChild(docLink);\n",
              "      }\n",
              "    </script>\n",
              "  </div>\n",
              "\n",
              "\n",
              "<div id=\"df-3dcab9ac-cb07-4313-9445-7b84e75e90b7\">\n",
              "  <button class=\"colab-df-quickchart\" onclick=\"quickchart('df-3dcab9ac-cb07-4313-9445-7b84e75e90b7')\"\n",
              "            title=\"Suggest charts.\"\n",
              "            style=\"display:none;\">\n",
              "\n",
              "<svg xmlns=\"http://www.w3.org/2000/svg\" height=\"24px\"viewBox=\"0 0 24 24\"\n",
              "     width=\"24px\">\n",
              "    <g>\n",
              "        <path d=\"M19 3H5c-1.1 0-2 .9-2 2v14c0 1.1.9 2 2 2h14c1.1 0 2-.9 2-2V5c0-1.1-.9-2-2-2zM9 17H7v-7h2v7zm4 0h-2V7h2v10zm4 0h-2v-4h2v4z\"/>\n",
              "    </g>\n",
              "</svg>\n",
              "  </button>\n",
              "\n",
              "<style>\n",
              "  .colab-df-quickchart {\n",
              "      --bg-color: #E8F0FE;\n",
              "      --fill-color: #1967D2;\n",
              "      --hover-bg-color: #E2EBFA;\n",
              "      --hover-fill-color: #174EA6;\n",
              "      --disabled-fill-color: #AAA;\n",
              "      --disabled-bg-color: #DDD;\n",
              "  }\n",
              "\n",
              "  [theme=dark] .colab-df-quickchart {\n",
              "      --bg-color: #3B4455;\n",
              "      --fill-color: #D2E3FC;\n",
              "      --hover-bg-color: #434B5C;\n",
              "      --hover-fill-color: #FFFFFF;\n",
              "      --disabled-bg-color: #3B4455;\n",
              "      --disabled-fill-color: #666;\n",
              "  }\n",
              "\n",
              "  .colab-df-quickchart {\n",
              "    background-color: var(--bg-color);\n",
              "    border: none;\n",
              "    border-radius: 50%;\n",
              "    cursor: pointer;\n",
              "    display: none;\n",
              "    fill: var(--fill-color);\n",
              "    height: 32px;\n",
              "    padding: 0;\n",
              "    width: 32px;\n",
              "  }\n",
              "\n",
              "  .colab-df-quickchart:hover {\n",
              "    background-color: var(--hover-bg-color);\n",
              "    box-shadow: 0 1px 2px rgba(60, 64, 67, 0.3), 0 1px 3px 1px rgba(60, 64, 67, 0.15);\n",
              "    fill: var(--button-hover-fill-color);\n",
              "  }\n",
              "\n",
              "  .colab-df-quickchart-complete:disabled,\n",
              "  .colab-df-quickchart-complete:disabled:hover {\n",
              "    background-color: var(--disabled-bg-color);\n",
              "    fill: var(--disabled-fill-color);\n",
              "    box-shadow: none;\n",
              "  }\n",
              "\n",
              "  .colab-df-spinner {\n",
              "    border: 2px solid var(--fill-color);\n",
              "    border-color: transparent;\n",
              "    border-bottom-color: var(--fill-color);\n",
              "    animation:\n",
              "      spin 1s steps(1) infinite;\n",
              "  }\n",
              "\n",
              "  @keyframes spin {\n",
              "    0% {\n",
              "      border-color: transparent;\n",
              "      border-bottom-color: var(--fill-color);\n",
              "      border-left-color: var(--fill-color);\n",
              "    }\n",
              "    20% {\n",
              "      border-color: transparent;\n",
              "      border-left-color: var(--fill-color);\n",
              "      border-top-color: var(--fill-color);\n",
              "    }\n",
              "    30% {\n",
              "      border-color: transparent;\n",
              "      border-left-color: var(--fill-color);\n",
              "      border-top-color: var(--fill-color);\n",
              "      border-right-color: var(--fill-color);\n",
              "    }\n",
              "    40% {\n",
              "      border-color: transparent;\n",
              "      border-right-color: var(--fill-color);\n",
              "      border-top-color: var(--fill-color);\n",
              "    }\n",
              "    60% {\n",
              "      border-color: transparent;\n",
              "      border-right-color: var(--fill-color);\n",
              "    }\n",
              "    80% {\n",
              "      border-color: transparent;\n",
              "      border-right-color: var(--fill-color);\n",
              "      border-bottom-color: var(--fill-color);\n",
              "    }\n",
              "    90% {\n",
              "      border-color: transparent;\n",
              "      border-bottom-color: var(--fill-color);\n",
              "    }\n",
              "  }\n",
              "</style>\n",
              "\n",
              "  <script>\n",
              "    async function quickchart(key) {\n",
              "      const quickchartButtonEl =\n",
              "        document.querySelector('#' + key + ' button');\n",
              "      quickchartButtonEl.disabled = true;  // To prevent multiple clicks.\n",
              "      quickchartButtonEl.classList.add('colab-df-spinner');\n",
              "      try {\n",
              "        const charts = await google.colab.kernel.invokeFunction(\n",
              "            'suggestCharts', [key], {});\n",
              "      } catch (error) {\n",
              "        console.error('Error during call to suggestCharts:', error);\n",
              "      }\n",
              "      quickchartButtonEl.classList.remove('colab-df-spinner');\n",
              "      quickchartButtonEl.classList.add('colab-df-quickchart-complete');\n",
              "    }\n",
              "    (() => {\n",
              "      let quickchartButtonEl =\n",
              "        document.querySelector('#df-3dcab9ac-cb07-4313-9445-7b84e75e90b7 button');\n",
              "      quickchartButtonEl.style.display =\n",
              "        google.colab.kernel.accessAllowed ? 'block' : 'none';\n",
              "    })();\n",
              "  </script>\n",
              "</div>\n",
              "    </div>\n",
              "  </div>\n"
            ]
          },
          "metadata": {},
          "execution_count": 48
        }
      ],
      "source": [
        "# Read the 'daily-summaries.csv' file\n",
        "weather = pd.read_csv('daily-summaries.csv')\n",
        "\n",
        "# Define the station and airport mappings\n",
        "station = ['USW00023174', 'USW00012960', 'USW00003017', 'USW00094846', 'USW00013874', 'USW00023234', 'USW00003927', 'USW00023183', 'USW00013881']\n",
        "airports = ['LAX', 'IAH', 'DEN', 'ORD', 'ATL', 'SFO', 'DFW', 'PHX', 'CLT']\n",
        "\n",
        "# Create a dictionary to map weather stations to airports\n",
        "station_map = dict(zip(station, airports))\n",
        "\n",
        "# Map weather stations to airport codes\n",
        "weather['airport'] = weather['STATION'].map(station_map)\n",
        "\n",
        "# Display the first few rows of the weather data\n",
        "weather.head()"
      ]
    },
    {
      "cell_type": "markdown",
      "metadata": {
        "id": "-OpvTK68Gcen"
      },
      "source": [
        "Create another column called `MONTH` from the `DATE` column."
      ]
    },
    {
      "cell_type": "code",
      "execution_count": 49,
      "metadata": {
        "scrolled": true,
        "id": "EDoZAekOGceo",
        "colab": {
          "base_uri": "https://localhost:8080/",
          "height": 206
        },
        "outputId": "27877a47-c906-422c-d0b8-853298b51a15"
      },
      "outputs": [
        {
          "output_type": "execute_result",
          "data": {
            "text/plain": [
              "       STATION        DATE  AWND  PRCP  SNOW  SNWD   TAVG   TMAX   TMIN  \\\n",
              "0  USW00023174  2014-01-01    16     0   NaN   NaN  131.0  178.0   78.0   \n",
              "1  USW00023174  2014-01-02    22     0   NaN   NaN  159.0  256.0  100.0   \n",
              "2  USW00023174  2014-01-03    17     0   NaN   NaN  140.0  178.0   83.0   \n",
              "3  USW00023174  2014-01-04    18     0   NaN   NaN  136.0  183.0  100.0   \n",
              "4  USW00023174  2014-01-05    18     0   NaN   NaN  151.0  244.0   83.0   \n",
              "\n",
              "  airport MONTH  \n",
              "0     LAX    01  \n",
              "1     LAX    01  \n",
              "2     LAX    01  \n",
              "3     LAX    01  \n",
              "4     LAX    01  "
            ],
            "text/html": [
              "\n",
              "  <div id=\"df-35b83608-a692-4516-a2ad-12b289fa3d18\" class=\"colab-df-container\">\n",
              "    <div>\n",
              "<style scoped>\n",
              "    .dataframe tbody tr th:only-of-type {\n",
              "        vertical-align: middle;\n",
              "    }\n",
              "\n",
              "    .dataframe tbody tr th {\n",
              "        vertical-align: top;\n",
              "    }\n",
              "\n",
              "    .dataframe thead th {\n",
              "        text-align: right;\n",
              "    }\n",
              "</style>\n",
              "<table border=\"1\" class=\"dataframe\">\n",
              "  <thead>\n",
              "    <tr style=\"text-align: right;\">\n",
              "      <th></th>\n",
              "      <th>STATION</th>\n",
              "      <th>DATE</th>\n",
              "      <th>AWND</th>\n",
              "      <th>PRCP</th>\n",
              "      <th>SNOW</th>\n",
              "      <th>SNWD</th>\n",
              "      <th>TAVG</th>\n",
              "      <th>TMAX</th>\n",
              "      <th>TMIN</th>\n",
              "      <th>airport</th>\n",
              "      <th>MONTH</th>\n",
              "    </tr>\n",
              "  </thead>\n",
              "  <tbody>\n",
              "    <tr>\n",
              "      <th>0</th>\n",
              "      <td>USW00023174</td>\n",
              "      <td>2014-01-01</td>\n",
              "      <td>16</td>\n",
              "      <td>0</td>\n",
              "      <td>NaN</td>\n",
              "      <td>NaN</td>\n",
              "      <td>131.0</td>\n",
              "      <td>178.0</td>\n",
              "      <td>78.0</td>\n",
              "      <td>LAX</td>\n",
              "      <td>01</td>\n",
              "    </tr>\n",
              "    <tr>\n",
              "      <th>1</th>\n",
              "      <td>USW00023174</td>\n",
              "      <td>2014-01-02</td>\n",
              "      <td>22</td>\n",
              "      <td>0</td>\n",
              "      <td>NaN</td>\n",
              "      <td>NaN</td>\n",
              "      <td>159.0</td>\n",
              "      <td>256.0</td>\n",
              "      <td>100.0</td>\n",
              "      <td>LAX</td>\n",
              "      <td>01</td>\n",
              "    </tr>\n",
              "    <tr>\n",
              "      <th>2</th>\n",
              "      <td>USW00023174</td>\n",
              "      <td>2014-01-03</td>\n",
              "      <td>17</td>\n",
              "      <td>0</td>\n",
              "      <td>NaN</td>\n",
              "      <td>NaN</td>\n",
              "      <td>140.0</td>\n",
              "      <td>178.0</td>\n",
              "      <td>83.0</td>\n",
              "      <td>LAX</td>\n",
              "      <td>01</td>\n",
              "    </tr>\n",
              "    <tr>\n",
              "      <th>3</th>\n",
              "      <td>USW00023174</td>\n",
              "      <td>2014-01-04</td>\n",
              "      <td>18</td>\n",
              "      <td>0</td>\n",
              "      <td>NaN</td>\n",
              "      <td>NaN</td>\n",
              "      <td>136.0</td>\n",
              "      <td>183.0</td>\n",
              "      <td>100.0</td>\n",
              "      <td>LAX</td>\n",
              "      <td>01</td>\n",
              "    </tr>\n",
              "    <tr>\n",
              "      <th>4</th>\n",
              "      <td>USW00023174</td>\n",
              "      <td>2014-01-05</td>\n",
              "      <td>18</td>\n",
              "      <td>0</td>\n",
              "      <td>NaN</td>\n",
              "      <td>NaN</td>\n",
              "      <td>151.0</td>\n",
              "      <td>244.0</td>\n",
              "      <td>83.0</td>\n",
              "      <td>LAX</td>\n",
              "      <td>01</td>\n",
              "    </tr>\n",
              "  </tbody>\n",
              "</table>\n",
              "</div>\n",
              "    <div class=\"colab-df-buttons\">\n",
              "\n",
              "  <div class=\"colab-df-container\">\n",
              "    <button class=\"colab-df-convert\" onclick=\"convertToInteractive('df-35b83608-a692-4516-a2ad-12b289fa3d18')\"\n",
              "            title=\"Convert this dataframe to an interactive table.\"\n",
              "            style=\"display:none;\">\n",
              "\n",
              "  <svg xmlns=\"http://www.w3.org/2000/svg\" height=\"24px\" viewBox=\"0 -960 960 960\">\n",
              "    <path d=\"M120-120v-720h720v720H120Zm60-500h600v-160H180v160Zm220 220h160v-160H400v160Zm0 220h160v-160H400v160ZM180-400h160v-160H180v160Zm440 0h160v-160H620v160ZM180-180h160v-160H180v160Zm440 0h160v-160H620v160Z\"/>\n",
              "  </svg>\n",
              "    </button>\n",
              "\n",
              "  <style>\n",
              "    .colab-df-container {\n",
              "      display:flex;\n",
              "      gap: 12px;\n",
              "    }\n",
              "\n",
              "    .colab-df-convert {\n",
              "      background-color: #E8F0FE;\n",
              "      border: none;\n",
              "      border-radius: 50%;\n",
              "      cursor: pointer;\n",
              "      display: none;\n",
              "      fill: #1967D2;\n",
              "      height: 32px;\n",
              "      padding: 0 0 0 0;\n",
              "      width: 32px;\n",
              "    }\n",
              "\n",
              "    .colab-df-convert:hover {\n",
              "      background-color: #E2EBFA;\n",
              "      box-shadow: 0px 1px 2px rgba(60, 64, 67, 0.3), 0px 1px 3px 1px rgba(60, 64, 67, 0.15);\n",
              "      fill: #174EA6;\n",
              "    }\n",
              "\n",
              "    .colab-df-buttons div {\n",
              "      margin-bottom: 4px;\n",
              "    }\n",
              "\n",
              "    [theme=dark] .colab-df-convert {\n",
              "      background-color: #3B4455;\n",
              "      fill: #D2E3FC;\n",
              "    }\n",
              "\n",
              "    [theme=dark] .colab-df-convert:hover {\n",
              "      background-color: #434B5C;\n",
              "      box-shadow: 0px 1px 3px 1px rgba(0, 0, 0, 0.15);\n",
              "      filter: drop-shadow(0px 1px 2px rgba(0, 0, 0, 0.3));\n",
              "      fill: #FFFFFF;\n",
              "    }\n",
              "  </style>\n",
              "\n",
              "    <script>\n",
              "      const buttonEl =\n",
              "        document.querySelector('#df-35b83608-a692-4516-a2ad-12b289fa3d18 button.colab-df-convert');\n",
              "      buttonEl.style.display =\n",
              "        google.colab.kernel.accessAllowed ? 'block' : 'none';\n",
              "\n",
              "      async function convertToInteractive(key) {\n",
              "        const element = document.querySelector('#df-35b83608-a692-4516-a2ad-12b289fa3d18');\n",
              "        const dataTable =\n",
              "          await google.colab.kernel.invokeFunction('convertToInteractive',\n",
              "                                                    [key], {});\n",
              "        if (!dataTable) return;\n",
              "\n",
              "        const docLinkHtml = 'Like what you see? Visit the ' +\n",
              "          '<a target=\"_blank\" href=https://colab.research.google.com/notebooks/data_table.ipynb>data table notebook</a>'\n",
              "          + ' to learn more about interactive tables.';\n",
              "        element.innerHTML = '';\n",
              "        dataTable['output_type'] = 'display_data';\n",
              "        await google.colab.output.renderOutput(dataTable, element);\n",
              "        const docLink = document.createElement('div');\n",
              "        docLink.innerHTML = docLinkHtml;\n",
              "        element.appendChild(docLink);\n",
              "      }\n",
              "    </script>\n",
              "  </div>\n",
              "\n",
              "\n",
              "<div id=\"df-8ef5208f-35bd-42cd-9d66-72c354329557\">\n",
              "  <button class=\"colab-df-quickchart\" onclick=\"quickchart('df-8ef5208f-35bd-42cd-9d66-72c354329557')\"\n",
              "            title=\"Suggest charts.\"\n",
              "            style=\"display:none;\">\n",
              "\n",
              "<svg xmlns=\"http://www.w3.org/2000/svg\" height=\"24px\"viewBox=\"0 0 24 24\"\n",
              "     width=\"24px\">\n",
              "    <g>\n",
              "        <path d=\"M19 3H5c-1.1 0-2 .9-2 2v14c0 1.1.9 2 2 2h14c1.1 0 2-.9 2-2V5c0-1.1-.9-2-2-2zM9 17H7v-7h2v7zm4 0h-2V7h2v10zm4 0h-2v-4h2v4z\"/>\n",
              "    </g>\n",
              "</svg>\n",
              "  </button>\n",
              "\n",
              "<style>\n",
              "  .colab-df-quickchart {\n",
              "      --bg-color: #E8F0FE;\n",
              "      --fill-color: #1967D2;\n",
              "      --hover-bg-color: #E2EBFA;\n",
              "      --hover-fill-color: #174EA6;\n",
              "      --disabled-fill-color: #AAA;\n",
              "      --disabled-bg-color: #DDD;\n",
              "  }\n",
              "\n",
              "  [theme=dark] .colab-df-quickchart {\n",
              "      --bg-color: #3B4455;\n",
              "      --fill-color: #D2E3FC;\n",
              "      --hover-bg-color: #434B5C;\n",
              "      --hover-fill-color: #FFFFFF;\n",
              "      --disabled-bg-color: #3B4455;\n",
              "      --disabled-fill-color: #666;\n",
              "  }\n",
              "\n",
              "  .colab-df-quickchart {\n",
              "    background-color: var(--bg-color);\n",
              "    border: none;\n",
              "    border-radius: 50%;\n",
              "    cursor: pointer;\n",
              "    display: none;\n",
              "    fill: var(--fill-color);\n",
              "    height: 32px;\n",
              "    padding: 0;\n",
              "    width: 32px;\n",
              "  }\n",
              "\n",
              "  .colab-df-quickchart:hover {\n",
              "    background-color: var(--hover-bg-color);\n",
              "    box-shadow: 0 1px 2px rgba(60, 64, 67, 0.3), 0 1px 3px 1px rgba(60, 64, 67, 0.15);\n",
              "    fill: var(--button-hover-fill-color);\n",
              "  }\n",
              "\n",
              "  .colab-df-quickchart-complete:disabled,\n",
              "  .colab-df-quickchart-complete:disabled:hover {\n",
              "    background-color: var(--disabled-bg-color);\n",
              "    fill: var(--disabled-fill-color);\n",
              "    box-shadow: none;\n",
              "  }\n",
              "\n",
              "  .colab-df-spinner {\n",
              "    border: 2px solid var(--fill-color);\n",
              "    border-color: transparent;\n",
              "    border-bottom-color: var(--fill-color);\n",
              "    animation:\n",
              "      spin 1s steps(1) infinite;\n",
              "  }\n",
              "\n",
              "  @keyframes spin {\n",
              "    0% {\n",
              "      border-color: transparent;\n",
              "      border-bottom-color: var(--fill-color);\n",
              "      border-left-color: var(--fill-color);\n",
              "    }\n",
              "    20% {\n",
              "      border-color: transparent;\n",
              "      border-left-color: var(--fill-color);\n",
              "      border-top-color: var(--fill-color);\n",
              "    }\n",
              "    30% {\n",
              "      border-color: transparent;\n",
              "      border-left-color: var(--fill-color);\n",
              "      border-top-color: var(--fill-color);\n",
              "      border-right-color: var(--fill-color);\n",
              "    }\n",
              "    40% {\n",
              "      border-color: transparent;\n",
              "      border-right-color: var(--fill-color);\n",
              "      border-top-color: var(--fill-color);\n",
              "    }\n",
              "    60% {\n",
              "      border-color: transparent;\n",
              "      border-right-color: var(--fill-color);\n",
              "    }\n",
              "    80% {\n",
              "      border-color: transparent;\n",
              "      border-right-color: var(--fill-color);\n",
              "      border-bottom-color: var(--fill-color);\n",
              "    }\n",
              "    90% {\n",
              "      border-color: transparent;\n",
              "      border-bottom-color: var(--fill-color);\n",
              "    }\n",
              "  }\n",
              "</style>\n",
              "\n",
              "  <script>\n",
              "    async function quickchart(key) {\n",
              "      const quickchartButtonEl =\n",
              "        document.querySelector('#' + key + ' button');\n",
              "      quickchartButtonEl.disabled = true;  // To prevent multiple clicks.\n",
              "      quickchartButtonEl.classList.add('colab-df-spinner');\n",
              "      try {\n",
              "        const charts = await google.colab.kernel.invokeFunction(\n",
              "            'suggestCharts', [key], {});\n",
              "      } catch (error) {\n",
              "        console.error('Error during call to suggestCharts:', error);\n",
              "      }\n",
              "      quickchartButtonEl.classList.remove('colab-df-spinner');\n",
              "      quickchartButtonEl.classList.add('colab-df-quickchart-complete');\n",
              "    }\n",
              "    (() => {\n",
              "      let quickchartButtonEl =\n",
              "        document.querySelector('#df-8ef5208f-35bd-42cd-9d66-72c354329557 button');\n",
              "      quickchartButtonEl.style.display =\n",
              "        google.colab.kernel.accessAllowed ? 'block' : 'none';\n",
              "    })();\n",
              "  </script>\n",
              "</div>\n",
              "    </div>\n",
              "  </div>\n"
            ]
          },
          "metadata": {},
          "execution_count": 49
        }
      ],
      "source": [
        "weather['MONTH'] = weather['DATE'].apply(lambda x: x.split('-')[1])\n",
        "weather.head()\n"
      ]
    },
    {
      "cell_type": "markdown",
      "metadata": {
        "id": "4eRZwgw8Gceo"
      },
      "source": [
        "### Sample output\n",
        "```\n",
        "  STATION     DATE      AWND PRCP SNOW SNWD TAVG TMAX  TMIN airport MONTH\n",
        "0 USW00023174 2014-01-01 16   0   NaN  NaN 131.0 178.0 78.0  LAX    01\n",
        "1 USW00023174 2014-01-02 22   0   NaN  NaN 159.0 256.0 100.0 LAX    01\n",
        "2 USW00023174 2014-01-03 17   0   NaN  NaN 140.0 178.0 83.0  LAX    01\n",
        "3 USW00023174 2014-01-04 18   0   NaN  NaN 136.0 183.0 100.0 LAX    01\n",
        "4 USW00023174 2014-01-05 18   0   NaN  NaN 151.0 244.0 83.0  LAX    01\n",
        "```"
      ]
    },
    {
      "cell_type": "markdown",
      "metadata": {
        "id": "VfZxzm14Gceo"
      },
      "source": [
        "Analyze and handle the `SNOW` and `SNWD` columns for missing values using `fillna()`. Use the `isna()` function to check the missing values for all the columns."
      ]
    },
    {
      "cell_type": "code",
      "execution_count": 50,
      "metadata": {
        "scrolled": true,
        "id": "eTWhHxGgGceo",
        "colab": {
          "base_uri": "https://localhost:8080/"
        },
        "outputId": "b42279e1-e9ec-4686-ed1e-45858177d3b5"
      },
      "outputs": [
        {
          "output_type": "execute_result",
          "data": {
            "text/plain": [
              "STATION     0\n",
              "DATE        0\n",
              "AWND        0\n",
              "PRCP        0\n",
              "SNOW        0\n",
              "SNWD        0\n",
              "TAVG       62\n",
              "TMAX       20\n",
              "TMIN       20\n",
              "airport     0\n",
              "MONTH       0\n",
              "dtype: int64"
            ]
          },
          "metadata": {},
          "execution_count": 50
        }
      ],
      "source": [
        "weather['SNOW'].fillna(0, inplace=True)\n",
        "weather['SNWD'].fillna(0, inplace=True)\n",
        "weather.isna().sum()\n"
      ]
    },
    {
      "cell_type": "markdown",
      "metadata": {
        "id": "qulDBKefGcep"
      },
      "source": [
        "**Question**: Print the index of the rows that have missing values for TAVG, TMAX, TMIN.\n",
        "\n",
        "**Hint**: Use the `isna()` function to find the rows that are missing, and then use the list on the idx variable to get the index."
      ]
    },
    {
      "cell_type": "code",
      "execution_count": 51,
      "metadata": {
        "id": "FO18w6b7Gcep",
        "colab": {
          "base_uri": "https://localhost:8080/"
        },
        "outputId": "57b48ae6-accc-4d8b-8849-529922bf0c3a"
      },
      "outputs": [
        {
          "output_type": "execute_result",
          "data": {
            "text/plain": [
              "(array([ 3956,  3957,  3958,  3959,  3960,  3961,  3962,  3963,  3964,\n",
              "         3965,  3966,  3967,  3968,  3969,  3970,  3971,  3972,  3973,\n",
              "         3974,  3975,  3976,  3977,  3978,  3979,  3980,  3981,  3982,\n",
              "         3983,  3984,  3985,  4017,  4018,  4019,  4020,  4021,  4022,\n",
              "         4023,  4024,  4025,  4026,  4027,  4028,  4029,  4030,  4031,\n",
              "         4032,  4033,  4034,  4035,  4036,  4037,  4038,  4039,  4040,\n",
              "         4041,  4042,  4043,  4044,  4045,  4046,  4047, 13420]),\n",
              " array([10763, 10764, 10765, 10766, 10767, 10768, 10769, 10770, 10771,\n",
              "        10772, 10773, 10774, 10775, 10776, 10777, 10778, 10779, 10780,\n",
              "        10781, 10782]),\n",
              " array([10763, 10764, 10765, 10766, 10767, 10768, 10769, 10770, 10771,\n",
              "        10772, 10773, 10774, 10775, 10776, 10777, 10778, 10779, 10780,\n",
              "        10781, 10782]))"
            ]
          },
          "metadata": {},
          "execution_count": 51
        }
      ],
      "source": [
        "idx = np.array([i for i in range(len(weather))])\n",
        "TAVG_idx = idx[weather['TAVG'].isna()]\n",
        "TMAX_idx = idx[weather['TMAX'].isna()]\n",
        "TMIN_idx = idx[weather['TMIN'].isna()]\n",
        "TAVG_idx,TMAX_idx,TMIN_idx"
      ]
    },
    {
      "cell_type": "markdown",
      "metadata": {
        "id": "rIDjXJ9SGcep"
      },
      "source": [
        "### Sample output\n",
        "\n",
        "```\n",
        "array([ 3956,  3957,  3958,  3959,  3960,  3961,  3962,  3963,  3964,\n",
        "        3965,  3966,  3967,  3968,  3969,  3970,  3971,  3972,  3973,\n",
        "        3974,  3975,  3976,  3977,  3978,  3979,  3980,  3981,  3982,\n",
        "        3983,  3984,  3985,  4017,  4018,  4019,  4020,  4021,  4022,\n",
        "        4023,  4024,  4025,  4026,  4027,  4028,  4029,  4030,  4031,\n",
        "        4032,  4033,  4034,  4035,  4036,  4037,  4038,  4039,  4040,\n",
        "        4041,  4042,  4043,  4044,  4045,  4046,  4047, 13420])\n",
        "```"
      ]
    },
    {
      "cell_type": "markdown",
      "metadata": {
        "id": "6xjnObrHGcep"
      },
      "source": [
        "You can replace the missing TAVG, TMAX, and TMIN with the average value for a particular station/airport. Because the consecutive rows of TAVG_idx are missing, replacing with a previous value would not be possible. Instead, replace it with the mean. Use the `groupby` function to aggregate the variables with a mean value."
      ]
    },
    {
      "cell_type": "code",
      "execution_count": 52,
      "metadata": {
        "id": "ZMLl2c1ZGceq",
        "colab": {
          "base_uri": "https://localhost:8080/",
          "height": 112
        },
        "outputId": "f11d048e-ceca-466b-f77f-64f90d60c60c"
      },
      "outputs": [
        {
          "output_type": "execute_result",
          "data": {
            "text/plain": [
              "       STATION MONTH       TAVG       TMAX       TMIN\n",
              "0  USW00003017    01  -2.741935  74.000000 -69.858065\n",
              "1  USW00003017    02  11.219858  88.553191 -65.035461"
            ],
            "text/html": [
              "\n",
              "  <div id=\"df-95fd3801-b7f3-42a2-9e7b-8989582dffa6\" class=\"colab-df-container\">\n",
              "    <div>\n",
              "<style scoped>\n",
              "    .dataframe tbody tr th:only-of-type {\n",
              "        vertical-align: middle;\n",
              "    }\n",
              "\n",
              "    .dataframe tbody tr th {\n",
              "        vertical-align: top;\n",
              "    }\n",
              "\n",
              "    .dataframe thead th {\n",
              "        text-align: right;\n",
              "    }\n",
              "</style>\n",
              "<table border=\"1\" class=\"dataframe\">\n",
              "  <thead>\n",
              "    <tr style=\"text-align: right;\">\n",
              "      <th></th>\n",
              "      <th>STATION</th>\n",
              "      <th>MONTH</th>\n",
              "      <th>TAVG</th>\n",
              "      <th>TMAX</th>\n",
              "      <th>TMIN</th>\n",
              "    </tr>\n",
              "  </thead>\n",
              "  <tbody>\n",
              "    <tr>\n",
              "      <th>0</th>\n",
              "      <td>USW00003017</td>\n",
              "      <td>01</td>\n",
              "      <td>-2.741935</td>\n",
              "      <td>74.000000</td>\n",
              "      <td>-69.858065</td>\n",
              "    </tr>\n",
              "    <tr>\n",
              "      <th>1</th>\n",
              "      <td>USW00003017</td>\n",
              "      <td>02</td>\n",
              "      <td>11.219858</td>\n",
              "      <td>88.553191</td>\n",
              "      <td>-65.035461</td>\n",
              "    </tr>\n",
              "  </tbody>\n",
              "</table>\n",
              "</div>\n",
              "    <div class=\"colab-df-buttons\">\n",
              "\n",
              "  <div class=\"colab-df-container\">\n",
              "    <button class=\"colab-df-convert\" onclick=\"convertToInteractive('df-95fd3801-b7f3-42a2-9e7b-8989582dffa6')\"\n",
              "            title=\"Convert this dataframe to an interactive table.\"\n",
              "            style=\"display:none;\">\n",
              "\n",
              "  <svg xmlns=\"http://www.w3.org/2000/svg\" height=\"24px\" viewBox=\"0 -960 960 960\">\n",
              "    <path d=\"M120-120v-720h720v720H120Zm60-500h600v-160H180v160Zm220 220h160v-160H400v160Zm0 220h160v-160H400v160ZM180-400h160v-160H180v160Zm440 0h160v-160H620v160ZM180-180h160v-160H180v160Zm440 0h160v-160H620v160Z\"/>\n",
              "  </svg>\n",
              "    </button>\n",
              "\n",
              "  <style>\n",
              "    .colab-df-container {\n",
              "      display:flex;\n",
              "      gap: 12px;\n",
              "    }\n",
              "\n",
              "    .colab-df-convert {\n",
              "      background-color: #E8F0FE;\n",
              "      border: none;\n",
              "      border-radius: 50%;\n",
              "      cursor: pointer;\n",
              "      display: none;\n",
              "      fill: #1967D2;\n",
              "      height: 32px;\n",
              "      padding: 0 0 0 0;\n",
              "      width: 32px;\n",
              "    }\n",
              "\n",
              "    .colab-df-convert:hover {\n",
              "      background-color: #E2EBFA;\n",
              "      box-shadow: 0px 1px 2px rgba(60, 64, 67, 0.3), 0px 1px 3px 1px rgba(60, 64, 67, 0.15);\n",
              "      fill: #174EA6;\n",
              "    }\n",
              "\n",
              "    .colab-df-buttons div {\n",
              "      margin-bottom: 4px;\n",
              "    }\n",
              "\n",
              "    [theme=dark] .colab-df-convert {\n",
              "      background-color: #3B4455;\n",
              "      fill: #D2E3FC;\n",
              "    }\n",
              "\n",
              "    [theme=dark] .colab-df-convert:hover {\n",
              "      background-color: #434B5C;\n",
              "      box-shadow: 0px 1px 3px 1px rgba(0, 0, 0, 0.15);\n",
              "      filter: drop-shadow(0px 1px 2px rgba(0, 0, 0, 0.3));\n",
              "      fill: #FFFFFF;\n",
              "    }\n",
              "  </style>\n",
              "\n",
              "    <script>\n",
              "      const buttonEl =\n",
              "        document.querySelector('#df-95fd3801-b7f3-42a2-9e7b-8989582dffa6 button.colab-df-convert');\n",
              "      buttonEl.style.display =\n",
              "        google.colab.kernel.accessAllowed ? 'block' : 'none';\n",
              "\n",
              "      async function convertToInteractive(key) {\n",
              "        const element = document.querySelector('#df-95fd3801-b7f3-42a2-9e7b-8989582dffa6');\n",
              "        const dataTable =\n",
              "          await google.colab.kernel.invokeFunction('convertToInteractive',\n",
              "                                                    [key], {});\n",
              "        if (!dataTable) return;\n",
              "\n",
              "        const docLinkHtml = 'Like what you see? Visit the ' +\n",
              "          '<a target=\"_blank\" href=https://colab.research.google.com/notebooks/data_table.ipynb>data table notebook</a>'\n",
              "          + ' to learn more about interactive tables.';\n",
              "        element.innerHTML = '';\n",
              "        dataTable['output_type'] = 'display_data';\n",
              "        await google.colab.output.renderOutput(dataTable, element);\n",
              "        const docLink = document.createElement('div');\n",
              "        docLink.innerHTML = docLinkHtml;\n",
              "        element.appendChild(docLink);\n",
              "      }\n",
              "    </script>\n",
              "  </div>\n",
              "\n",
              "\n",
              "<div id=\"df-6dca42ed-2bbb-4246-93b8-70dc40f6785c\">\n",
              "  <button class=\"colab-df-quickchart\" onclick=\"quickchart('df-6dca42ed-2bbb-4246-93b8-70dc40f6785c')\"\n",
              "            title=\"Suggest charts.\"\n",
              "            style=\"display:none;\">\n",
              "\n",
              "<svg xmlns=\"http://www.w3.org/2000/svg\" height=\"24px\"viewBox=\"0 0 24 24\"\n",
              "     width=\"24px\">\n",
              "    <g>\n",
              "        <path d=\"M19 3H5c-1.1 0-2 .9-2 2v14c0 1.1.9 2 2 2h14c1.1 0 2-.9 2-2V5c0-1.1-.9-2-2-2zM9 17H7v-7h2v7zm4 0h-2V7h2v10zm4 0h-2v-4h2v4z\"/>\n",
              "    </g>\n",
              "</svg>\n",
              "  </button>\n",
              "\n",
              "<style>\n",
              "  .colab-df-quickchart {\n",
              "      --bg-color: #E8F0FE;\n",
              "      --fill-color: #1967D2;\n",
              "      --hover-bg-color: #E2EBFA;\n",
              "      --hover-fill-color: #174EA6;\n",
              "      --disabled-fill-color: #AAA;\n",
              "      --disabled-bg-color: #DDD;\n",
              "  }\n",
              "\n",
              "  [theme=dark] .colab-df-quickchart {\n",
              "      --bg-color: #3B4455;\n",
              "      --fill-color: #D2E3FC;\n",
              "      --hover-bg-color: #434B5C;\n",
              "      --hover-fill-color: #FFFFFF;\n",
              "      --disabled-bg-color: #3B4455;\n",
              "      --disabled-fill-color: #666;\n",
              "  }\n",
              "\n",
              "  .colab-df-quickchart {\n",
              "    background-color: var(--bg-color);\n",
              "    border: none;\n",
              "    border-radius: 50%;\n",
              "    cursor: pointer;\n",
              "    display: none;\n",
              "    fill: var(--fill-color);\n",
              "    height: 32px;\n",
              "    padding: 0;\n",
              "    width: 32px;\n",
              "  }\n",
              "\n",
              "  .colab-df-quickchart:hover {\n",
              "    background-color: var(--hover-bg-color);\n",
              "    box-shadow: 0 1px 2px rgba(60, 64, 67, 0.3), 0 1px 3px 1px rgba(60, 64, 67, 0.15);\n",
              "    fill: var(--button-hover-fill-color);\n",
              "  }\n",
              "\n",
              "  .colab-df-quickchart-complete:disabled,\n",
              "  .colab-df-quickchart-complete:disabled:hover {\n",
              "    background-color: var(--disabled-bg-color);\n",
              "    fill: var(--disabled-fill-color);\n",
              "    box-shadow: none;\n",
              "  }\n",
              "\n",
              "  .colab-df-spinner {\n",
              "    border: 2px solid var(--fill-color);\n",
              "    border-color: transparent;\n",
              "    border-bottom-color: var(--fill-color);\n",
              "    animation:\n",
              "      spin 1s steps(1) infinite;\n",
              "  }\n",
              "\n",
              "  @keyframes spin {\n",
              "    0% {\n",
              "      border-color: transparent;\n",
              "      border-bottom-color: var(--fill-color);\n",
              "      border-left-color: var(--fill-color);\n",
              "    }\n",
              "    20% {\n",
              "      border-color: transparent;\n",
              "      border-left-color: var(--fill-color);\n",
              "      border-top-color: var(--fill-color);\n",
              "    }\n",
              "    30% {\n",
              "      border-color: transparent;\n",
              "      border-left-color: var(--fill-color);\n",
              "      border-top-color: var(--fill-color);\n",
              "      border-right-color: var(--fill-color);\n",
              "    }\n",
              "    40% {\n",
              "      border-color: transparent;\n",
              "      border-right-color: var(--fill-color);\n",
              "      border-top-color: var(--fill-color);\n",
              "    }\n",
              "    60% {\n",
              "      border-color: transparent;\n",
              "      border-right-color: var(--fill-color);\n",
              "    }\n",
              "    80% {\n",
              "      border-color: transparent;\n",
              "      border-right-color: var(--fill-color);\n",
              "      border-bottom-color: var(--fill-color);\n",
              "    }\n",
              "    90% {\n",
              "      border-color: transparent;\n",
              "      border-bottom-color: var(--fill-color);\n",
              "    }\n",
              "  }\n",
              "</style>\n",
              "\n",
              "  <script>\n",
              "    async function quickchart(key) {\n",
              "      const quickchartButtonEl =\n",
              "        document.querySelector('#' + key + ' button');\n",
              "      quickchartButtonEl.disabled = true;  // To prevent multiple clicks.\n",
              "      quickchartButtonEl.classList.add('colab-df-spinner');\n",
              "      try {\n",
              "        const charts = await google.colab.kernel.invokeFunction(\n",
              "            'suggestCharts', [key], {});\n",
              "      } catch (error) {\n",
              "        console.error('Error during call to suggestCharts:', error);\n",
              "      }\n",
              "      quickchartButtonEl.classList.remove('colab-df-spinner');\n",
              "      quickchartButtonEl.classList.add('colab-df-quickchart-complete');\n",
              "    }\n",
              "    (() => {\n",
              "      let quickchartButtonEl =\n",
              "        document.querySelector('#df-6dca42ed-2bbb-4246-93b8-70dc40f6785c button');\n",
              "      quickchartButtonEl.style.display =\n",
              "        google.colab.kernel.accessAllowed ? 'block' : 'none';\n",
              "    })();\n",
              "  </script>\n",
              "</div>\n",
              "    </div>\n",
              "  </div>\n"
            ]
          },
          "metadata": {},
          "execution_count": 52
        }
      ],
      "source": [
        "weather_impute = weather.groupby(['STATION','MONTH']).agg({'TAVG':'mean','TMAX':'mean', 'TMIN':'mean' }).reset_index()# Enter your code here\n",
        "weather_impute.head(2)"
      ]
    },
    {
      "cell_type": "markdown",
      "metadata": {
        "id": "_UyJuCf-Gceq"
      },
      "source": [
        "Merge the mean data with the weather data."
      ]
    },
    {
      "cell_type": "code",
      "execution_count": 53,
      "metadata": {
        "id": "cF1awpSfGceq"
      },
      "outputs": [],
      "source": [
        "### get the yesterday's data\n",
        "weather = pd.merge(weather, weather_impute,  how='left', left_on=['MONTH','STATION'], right_on = ['MONTH','STATION'])\\\n",
        ".rename(columns = {'TAVG_y':'TAVG_AVG',\n",
        "                   'TMAX_y':'TMAX_AVG',\n",
        "                   'TMIN_y':'TMIN_AVG',\n",
        "                   'TAVG_x':'TAVG',\n",
        "                   'TMAX_x':'TMAX',\n",
        "                   'TMIN_x':'TMIN'})"
      ]
    },
    {
      "cell_type": "markdown",
      "metadata": {
        "id": "K9vCtOr-Gceq"
      },
      "source": [
        "Check for missing values again."
      ]
    },
    {
      "cell_type": "code",
      "execution_count": 54,
      "metadata": {
        "id": "wHfNw6TWGcer",
        "colab": {
          "base_uri": "https://localhost:8080/"
        },
        "outputId": "5a0b36f4-3815-43d9-9077-8df2771aadcd"
      },
      "outputs": [
        {
          "output_type": "execute_result",
          "data": {
            "text/plain": [
              "STATION     0\n",
              "DATE        0\n",
              "AWND        0\n",
              "PRCP        0\n",
              "SNOW        0\n",
              "SNWD        0\n",
              "TAVG        0\n",
              "TMAX        0\n",
              "TMIN        0\n",
              "airport     0\n",
              "MONTH       0\n",
              "TAVG_AVG    0\n",
              "TMAX_AVG    0\n",
              "TMIN_AVG    0\n",
              "dtype: int64"
            ]
          },
          "metadata": {},
          "execution_count": 54
        }
      ],
      "source": [
        "weather.TAVG[TAVG_idx] = weather.TAVG_AVG[TAVG_idx]\n",
        "weather.TMAX[TMAX_idx] = weather.TMAX_AVG[TMAX_idx]\n",
        "weather.TMIN[TMIN_idx] = weather.TMIN_AVG[TMIN_idx]\n",
        "weather.isna().sum()"
      ]
    },
    {
      "cell_type": "markdown",
      "metadata": {
        "id": "ur9PThpFGcer"
      },
      "source": [
        "Drop `STATION,MONTH,TAVG_AVG,TMAX_AVG,TMIN_AVG,TMAX,TMIN,SNWD` from the dataset"
      ]
    },
    {
      "cell_type": "code",
      "execution_count": 55,
      "metadata": {
        "id": "M_sp5cXKGcer"
      },
      "outputs": [],
      "source": [
        "weather.drop(columns=['STATION','MONTH','TAVG_AVG', 'TMAX_AVG', 'TMIN_AVG', 'TMAX' ,'TMIN', 'SNWD'],inplace=True)"
      ]
    },
    {
      "cell_type": "markdown",
      "metadata": {
        "id": "i2G1OFUQGcer"
      },
      "source": [
        "Add the origin and destination weather conditions to the dataset."
      ]
    },
    {
      "cell_type": "code",
      "execution_count": 56,
      "metadata": {
        "id": "t2QlyGdHGces"
      },
      "outputs": [],
      "source": [
        "### Add origin weather conditions\n",
        "data_orig = pd.merge(data_orig, weather,  how='left', left_on=['FlightDate','Origin'], right_on = ['DATE','airport'])\\\n",
        ".rename(columns = {'AWND':'AWND_O','PRCP':'PRCP_O', 'TAVG':'TAVG_O', 'SNOW': 'SNOW_O'})\\\n",
        ".drop(columns=['DATE','airport'])\n",
        "\n",
        "### Add destination weather conditions\n",
        "data_orig = pd.merge(data_orig, weather,  how='left', left_on=['FlightDate','Dest'], right_on = ['DATE','airport'])\\\n",
        ".rename(columns = {'AWND':'AWND_D','PRCP':'PRCP_D', 'TAVG':'TAVG_D', 'SNOW': 'SNOW_D'})\\\n",
        ".drop(columns=['DATE','airport'])"
      ]
    },
    {
      "cell_type": "markdown",
      "metadata": {
        "id": "4bViu_KrGces"
      },
      "source": [
        "**Note**: It is always a good practice to check nulls/NAs after joins."
      ]
    },
    {
      "cell_type": "code",
      "execution_count": 57,
      "metadata": {
        "id": "CsYxvgTYGces",
        "colab": {
          "base_uri": "https://localhost:8080/"
        },
        "outputId": "c56e3951-e93b-4288-b1a7-d47000b862d4"
      },
      "outputs": [
        {
          "output_type": "execute_result",
          "data": {
            "text/plain": [
              "0"
            ]
          },
          "metadata": {},
          "execution_count": 57
        }
      ],
      "source": [
        "sum(data.isna().any())"
      ]
    },
    {
      "cell_type": "code",
      "execution_count": 58,
      "metadata": {
        "id": "qF6yltbYGces",
        "colab": {
          "base_uri": "https://localhost:8080/"
        },
        "outputId": "a77f0c88-4393-4772-ade6-fcbf7f75e6c1"
      },
      "outputs": [
        {
          "output_type": "execute_result",
          "data": {
            "text/plain": [
              "Index(['Year', 'Quarter', 'Month', 'DayofMonth', 'DayOfWeek', 'FlightDate',\n",
              "       'Reporting_Airline', 'Origin', 'OriginState', 'Dest', 'DestState',\n",
              "       'CRSDepTime', 'ArrDelay', 'ArrDelayMinutes', 'is_delay', 'Cancelled',\n",
              "       'Diverted', 'AirTime', 'Distance', 'DistanceGroup', 'DepHourofDay',\n",
              "       'is_holiday', 'AWND_O', 'PRCP_O', 'SNOW_O', 'TAVG_O', 'AWND_D',\n",
              "       'PRCP_D', 'SNOW_D', 'TAVG_D'],\n",
              "      dtype='object')"
            ]
          },
          "metadata": {},
          "execution_count": 58
        }
      ],
      "source": [
        "data_orig.columns"
      ]
    },
    {
      "cell_type": "markdown",
      "metadata": {
        "id": "l0cmCvvcGcet"
      },
      "source": [
        "Convert the categorical data into numerical data using one-hot encoding."
      ]
    },
    {
      "cell_type": "code",
      "execution_count": 59,
      "metadata": {
        "id": "aI5j3qXKGcet"
      },
      "outputs": [],
      "source": [
        "data = data_orig.copy()\n",
        "data = data[['is_delay', 'Year', 'Quarter', 'Month', 'DayofMonth', 'DayOfWeek',\n",
        "       'Reporting_Airline', 'Origin', 'Dest','Distance','DepHourofDay','is_holiday', 'AWND_O', 'PRCP_O',\n",
        "       'TAVG_O', 'AWND_D', 'PRCP_D', 'TAVG_D', 'SNOW_O', 'SNOW_D']]\n",
        "\n",
        "\n",
        "categorical_columns  = ['Year', 'Quarter', 'Month', 'DayofMonth', 'DayOfWeek',\n",
        "       'Reporting_Airline', 'Origin', 'Dest', 'is_holiday']\n",
        "for c in categorical_columns:\n",
        "    data[c] = data[c].astype('category')"
      ]
    },
    {
      "cell_type": "code",
      "source": [
        "data.to_csv('Tableu_combined_csv_v2.csv', index=False)"
      ],
      "metadata": {
        "id": "WSlTAoVahUd8"
      },
      "execution_count": 60,
      "outputs": []
    },
    {
      "cell_type": "code",
      "execution_count": 61,
      "metadata": {
        "id": "7hL7CZ3HGcet"
      },
      "outputs": [],
      "source": [
        "data_dummies = pd.get_dummies(data[categorical_columns], drop_first=True)\n",
        "data = pd.concat([data, data_dummies], axis = 1)\n",
        "#categorical_columns.remove('is_delay')\n",
        "data.drop(categorical_columns,axis=1, inplace=True)"
      ]
    },
    {
      "cell_type": "markdown",
      "metadata": {
        "id": "T59H1yLRGcet"
      },
      "source": [
        "### Sample code\n",
        "\n",
        "```\n",
        "data_dummies = pd.get_dummies(data[['Year', 'Quarter', 'Month', 'DayofMonth', 'DayOfWeek', 'Reporting_Airline', 'Origin', 'Dest', 'is_holiday']], drop_first=True)\n",
        "data = pd.concat([data, data_dummies], axis = 1)\n",
        "categorical_columns.remove('is_delay')\n",
        "data.drop(categorical_columns,axis=1, inplace=True)\n",
        "```"
      ]
    },
    {
      "cell_type": "markdown",
      "metadata": {
        "id": "3IvzaEHlGceu"
      },
      "source": [
        "Check the new columns."
      ]
    },
    {
      "cell_type": "code",
      "execution_count": 62,
      "metadata": {
        "id": "wZ1i6u0_Gceu",
        "colab": {
          "base_uri": "https://localhost:8080/"
        },
        "outputId": "59262f6d-12f9-44b5-9597-1a6bbd90ad07"
      },
      "outputs": [
        {
          "output_type": "execute_result",
          "data": {
            "text/plain": [
              "Index(['is_delay', 'Distance', 'DepHourofDay', 'AWND_O', 'PRCP_O', 'TAVG_O',\n",
              "       'AWND_D', 'PRCP_D', 'TAVG_D', 'SNOW_O', 'SNOW_D', 'Year_2015',\n",
              "       'Year_2016', 'Year_2017', 'Year_2018', 'Quarter_2', 'Quarter_3',\n",
              "       'Quarter_4', 'Month_2', 'Month_3', 'Month_4', 'Month_5', 'Month_6',\n",
              "       'Month_7', 'Month_8', 'Month_9', 'Month_10', 'Month_11', 'Month_12',\n",
              "       'DayofMonth_2', 'DayofMonth_3', 'DayofMonth_4', 'DayofMonth_5',\n",
              "       'DayofMonth_6', 'DayofMonth_7', 'DayofMonth_8', 'DayofMonth_9',\n",
              "       'DayofMonth_10', 'DayofMonth_11', 'DayofMonth_12', 'DayofMonth_13',\n",
              "       'DayofMonth_14', 'DayofMonth_15', 'DayofMonth_16', 'DayofMonth_17',\n",
              "       'DayofMonth_18', 'DayofMonth_19', 'DayofMonth_20', 'DayofMonth_21',\n",
              "       'DayofMonth_22', 'DayofMonth_23', 'DayofMonth_24', 'DayofMonth_25',\n",
              "       'DayofMonth_26', 'DayofMonth_27', 'DayofMonth_28', 'DayofMonth_29',\n",
              "       'DayofMonth_30', 'DayofMonth_31', 'DayOfWeek_2', 'DayOfWeek_3',\n",
              "       'DayOfWeek_4', 'DayOfWeek_5', 'DayOfWeek_6', 'DayOfWeek_7',\n",
              "       'Reporting_Airline_DL', 'Reporting_Airline_OO', 'Reporting_Airline_UA',\n",
              "       'Reporting_Airline_WN', 'Origin_CLT', 'Origin_DEN', 'Origin_DFW',\n",
              "       'Origin_IAH', 'Origin_LAX', 'Origin_ORD', 'Origin_PHX', 'Origin_SFO',\n",
              "       'Dest_CLT', 'Dest_DEN', 'Dest_DFW', 'Dest_IAH', 'Dest_LAX', 'Dest_ORD',\n",
              "       'Dest_PHX', 'Dest_SFO', 'is_holiday_1'],\n",
              "      dtype='object')"
            ]
          },
          "metadata": {},
          "execution_count": 62
        }
      ],
      "source": [
        "data.columns"
      ]
    },
    {
      "cell_type": "markdown",
      "metadata": {
        "id": "-nZirofGGceu"
      },
      "source": [
        "### Sample output\n",
        "\n",
        "```\n",
        "Index(['Distance', 'DepHourofDay', 'is_delay', 'AWND_O', 'PRCP_O', 'TAVG_O',\n",
        "       'AWND_D', 'PRCP_D', 'TAVG_D', 'SNOW_O', 'SNOW_D', 'Year_2015',\n",
        "       'Year_2016', 'Year_2017', 'Year_2018', 'Quarter_2', 'Quarter_3',\n",
        "       'Quarter_4', 'Month_2', 'Month_3', 'Month_4', 'Month_5', 'Month_6',\n",
        "       'Month_7', 'Month_8', 'Month_9', 'Month_10', 'Month_11', 'Month_12',\n",
        "       'DayofMonth_2', 'DayofMonth_3', 'DayofMonth_4', 'DayofMonth_5',\n",
        "       'DayofMonth_6', 'DayofMonth_7', 'DayofMonth_8', 'DayofMonth_9',\n",
        "       'DayofMonth_10', 'DayofMonth_11', 'DayofMonth_12', 'DayofMonth_13',\n",
        "       'DayofMonth_14', 'DayofMonth_15', 'DayofMonth_16', 'DayofMonth_17',\n",
        "       'DayofMonth_18', 'DayofMonth_19', 'DayofMonth_20', 'DayofMonth_21',\n",
        "       'DayofMonth_22', 'DayofMonth_23', 'DayofMonth_24', 'DayofMonth_25',\n",
        "       'DayofMonth_26', 'DayofMonth_27', 'DayofMonth_28', 'DayofMonth_29',\n",
        "       'DayofMonth_30', 'DayofMonth_31', 'DayOfWeek_2', 'DayOfWeek_3',\n",
        "       'DayOfWeek_4', 'DayOfWeek_5', 'DayOfWeek_6', 'DayOfWeek_7',\n",
        "       'Reporting_Airline_DL', 'Reporting_Airline_OO', 'Reporting_Airline_UA',\n",
        "       'Reporting_Airline_WN', 'Origin_CLT', 'Origin_DEN', 'Origin_DFW',\n",
        "       'Origin_IAH', 'Origin_LAX', 'Origin_ORD', 'Origin_PHX', 'Origin_SFO',\n",
        "       'Dest_CLT', 'Dest_DEN', 'Dest_DFW', 'Dest_IAH', 'Dest_LAX', 'Dest_ORD',\n",
        "       'Dest_PHX', 'Dest_SFO', 'is_holiday_1'],\n",
        "      dtype='object')\n",
        "```"
      ]
    },
    {
      "cell_type": "markdown",
      "metadata": {
        "id": "swATGp7rGceu"
      },
      "source": [
        "Rename the `is_delay` column to `target` again. Use the same code as before."
      ]
    },
    {
      "cell_type": "code",
      "execution_count": 63,
      "metadata": {
        "id": "qXP1_XgZGceu"
      },
      "outputs": [],
      "source": [
        "data.rename(columns={'is_delay': 'target'}, inplace=True)"
      ]
    },
    {
      "cell_type": "code",
      "execution_count": 64,
      "metadata": {
        "id": "ETwbbPQLGcev"
      },
      "outputs": [],
      "source": [
        "# write code to Save the new combined csv file (combined_csv_v2.csv) to your local computer\n",
        "# note this combined file will be also used in part B\n",
        "# Save the new combined CSV file\n",
        "data.to_csv('combined_csv_v2.csv', index=False)"
      ]
    },
    {
      "cell_type": "markdown",
      "metadata": {
        "id": "3_TuIYmpGcev"
      },
      "source": [
        "Create the training and testing sets again."
      ]
    },
    {
      "cell_type": "code",
      "execution_count": 65,
      "metadata": {
        "id": "Sz36V088Gcev",
        "colab": {
          "base_uri": "https://localhost:8080/"
        },
        "outputId": "0c493bbe-72ae-447c-caf1-030c12174b0e"
      },
      "outputs": [
        {
          "output_type": "stream",
          "name": "stdout",
          "text": [
            "X_train shape: (1308472, 85)\n",
            "X_test shape: (327118, 85)\n",
            "y_train shape: (1308472,)\n",
            "y_test shape: (327118,)\n"
          ]
        }
      ],
      "source": [
        "# Enter your code here\n",
        "# Define features (X) and target (y)\n",
        "X = data.drop(columns=['target'])\n",
        "y = data['target']\n",
        "\n",
        "# Split the data into training and testing sets (80% train, 20% test)\n",
        "X_train, X_test, y_train, y_test = train_test_split(X, y, test_size=0.2, random_state=42)\n",
        "\n",
        "# Print the shapes of the training and testing sets\n",
        "print(\"X_train shape:\", X_train.shape)\n",
        "print(\"X_test shape:\", X_test.shape)\n",
        "print(\"y_train shape:\", y_train.shape)\n",
        "print(\"y_test shape:\", y_test.shape)\n"
      ]
    },
    {
      "cell_type": "markdown",
      "metadata": {
        "id": "G5qXcd-sGcev"
      },
      "source": [
        "### New baseline classifier\n",
        "\n",
        "Now, see if these new features add any predictive power to the model."
      ]
    },
    {
      "cell_type": "code",
      "execution_count": 66,
      "metadata": {
        "id": "0sigctGhGcew",
        "colab": {
          "base_uri": "https://localhost:8080/"
        },
        "outputId": "29728f02-3f9e-4ea6-e458-db735804aef6"
      },
      "outputs": [
        {
          "output_type": "stream",
          "name": "stdout",
          "text": [
            "Accuracy: 0.79\n",
            "Confusion Matrix:\n",
            " [[255141   3276]\n",
            " [ 65942   2759]]\n",
            "Classification Report:\n",
            "               precision    recall  f1-score   support\n",
            "\n",
            "         0.0       0.79      0.99      0.88    258417\n",
            "         1.0       0.46      0.04      0.07     68701\n",
            "\n",
            "    accuracy                           0.79    327118\n",
            "   macro avg       0.63      0.51      0.48    327118\n",
            "weighted avg       0.72      0.79      0.71    327118\n",
            "\n"
          ]
        }
      ],
      "source": [
        "# Instantiate another logistic regression model\n",
        "classifier2 = LogisticRegression()\n",
        "\n",
        "# Train the model on the training data\n",
        "classifier2.fit(X_train, y_train)\n",
        "\n",
        "# Make predictions on the test set\n",
        "y_pred = classifier2.predict(X_test)\n",
        "\n",
        "# Evaluate the model\n",
        "accuracy = accuracy_score(y_test, y_pred)\n",
        "conf_matrix = confusion_matrix(y_test, y_pred)\n",
        "class_report = classification_report(y_test, y_pred)\n",
        "\n",
        "# Print the results\n",
        "print(f\"Accuracy: {accuracy:.2f}\")\n",
        "print(\"Confusion Matrix:\\n\", conf_matrix)\n",
        "print(\"Classification Report:\\n\", class_report)"
      ]
    },
    {
      "cell_type": "markdown",
      "metadata": {
        "id": "4sYb1cYUGcew"
      },
      "source": [
        "Perform the evaluaion as you have done with the previous model and plot/show the same metrics"
      ]
    },
    {
      "cell_type": "code",
      "source": [
        "# Enter you code here\n",
        "plot_confusion_matrix(y_test, y_pred)\n"
      ],
      "metadata": {
        "colab": {
          "base_uri": "https://localhost:8080/",
          "height": 573
        },
        "id": "Hf6G0h3AVQ5N",
        "outputId": "b57dcd68-a647-4175-a70f-9b317ef95af7"
      },
      "execution_count": 67,
      "outputs": [
        {
          "output_type": "display_data",
          "data": {
            "text/plain": [
              "<Figure size 800x600 with 2 Axes>"
            ],
            "image/png": "[encoded data removed]"
          },
          "metadata": {}
        }
      ]
    },
    {
      "cell_type": "code",
      "source": [
        "# Enter you code here\n",
        "plot_roc(y_test, y_pred)"
      ],
      "metadata": {
        "colab": {
          "base_uri": "https://localhost:8080/",
          "height": 573
        },
        "id": "g8-O4lKIVSyX",
        "outputId": "5ee01273-0505-4ddf-9b14-f45b0197ad22"
      },
      "execution_count": 68,
      "outputs": [
        {
          "output_type": "display_data",
          "data": {
            "text/plain": [
              "<Figure size 800x600 with 1 Axes>"
            ],
            "image/png": "[encoded data removed]"
          },
          "metadata": {}
        }
      ]
    },
    {
      "cell_type": "markdown",
      "metadata": {
        "id": "_tA3171GGcew"
      },
      "source": [
        "Question: did you notice a difference by adding the extra data on the results?"
      ]
    },
    {
      "cell_type": "code",
      "execution_count": 69,
      "metadata": {
        "id": "LpNWDfFYGcex"
      },
      "outputs": [],
      "source": [
        "# Enter answer here and turn the cell type into markdown\n"
      ]
    },
    {
      "cell_type": "markdown",
      "metadata": {
        "id": "CluZZ4-XGcex"
      },
      "source": [
        "# Step 6: Using Tableau\n",
        "\n",
        "Use Tableau to load the combined_csv_v2.csv file and build a dashboard that show your understanding of the data and business problem.\n",
        "### what to do:\n",
        "1. Load the data into Tableau and build the dashboard\n",
        "2. Share the dashboard on your Tableau public account\n",
        "3. Copy the link of the shared dashboard below\n",
        "\n",
        "Note: The dashboard needs to be self explainable to others, so make it simple and add only the features that you feel heighlight the main question(s) of the prblem statement."
      ]
    },
    {
      "cell_type": "markdown",
      "source": [
        "https://public.tableau.com/app/profile/edwin.alais/viz/Book1_16985334158800/Dashboard1?publish=yes"
      ],
      "metadata": {
        "id": "ONjok74LGcex"
      }
    },
    {
      "cell_type": "markdown",
      "metadata": {
        "id": "fY_509D0Gcex"
      },
      "source": [
        "## Conclusion\n",
        "\n",
        "You've now gone through at least a couple iterations of training and evaluating your model. It's time to wrap up this project and reflect on what you've learned and what types of steps you might take moving forward (assuming you had more time). Use the cell below to answer some of these and other relevant questions:\n",
        "\n",
        "1. Does your model performance meet your business goal? If not, what are some things you'd like to do differently if you had more time for tuning?\n",
        "2. To what extent did your model improve as you made changes to your dataset? What types of techniques did you employ throughout this project that you felt yielded the greatest improvements in your model?\n",
        "3. What were some of the biggest challenges you encountered throughout this project?\n",
        "4. What were the three most important things you learned about machine learning while completing this project?"
      ]
    },
    {
      "cell_type": "code",
      "execution_count": null,
      "metadata": {
        "id": "ncWdAfNSGcex"
      },
      "outputs": [],
      "source": [
        "# write your answers here"
      ]
    },
    {
      "cell_type": "code",
      "source": [
        "from google.colab import drive\n",
        "drive.mount('/content/drive')\n",
        "#!mkdir -p \"/content/drive/My Drive/Project_outputs\"\n",
        "\n",
        "!cp /content/combined_csv_v1.csv \"/content/drive/My Drive/Project_outputs/combined_csv_v1.csv\"\n",
        "!cp /content/combined_csv_v2.csv \"/content/drive/My Drive/Project_outputs/combined_csv_v2.csv\"\n"
      ],
      "metadata": {
        "id": "vB33bpydyN3L"
      },
      "execution_count": null,
      "outputs": []
    }
  ],
  "metadata": {
    "kernelspec": {
      "display_name": "Python 3",
      "language": "python",
      "name": "python3"
    },
    "language_info": {
      "codemirror_mode": {
        "name": "ipython",
        "version": 3
      },
      "file_extension": ".py",
      "mimetype": "text/x-python",
      "name": "python",
      "nbconvert_exporter": "python",
      "pygments_lexer": "ipython3",
      "version": "3.8.8"
    },
    "colab": {
      "provenance": [],
      "include_colab_link": true
    }
  },
  "nbformat": 4,
  "nbformat_minor": 0
}